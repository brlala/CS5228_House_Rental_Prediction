{
 "cells": [
  {
   "cell_type": "code",
   "execution_count": 7,
   "id": "initial_id",
   "metadata": {
    "collapsed": true,
    "ExecuteTime": {
     "end_time": "2023-11-05T08:12:11.730196400Z",
     "start_time": "2023-11-05T08:12:11.634913900Z"
    }
   },
   "outputs": [
    {
     "data": {
      "text/plain": "(26117    1800\n 13197    1700\n 15160    3150\n 6057     2100\n 53323    2800\n Name: monthly_rent, dtype: int64,\n 5113     3150\n 51038    2600\n 37451    3900\n 58678    2750\n 40762    1600\n Name: monthly_rent, dtype: int64)"
     },
     "execution_count": 7,
     "metadata": {},
     "output_type": "execute_result"
    }
   ],
   "source": [
    "import pandas as pd\n",
    "from sklearn.model_selection import train_test_split\n",
    "\n",
    "# Load the dataset\n",
    "train_set = pd.read_csv('./Datasets/train_cleaned_110523.csv')\n",
    "\n",
    "# Create a categorical variable for stratification by dividing the 'monthly_rent' into quartiles\n",
    "train_set['rent_quartile'] = pd.qcut(train_set['monthly_rent'], q=4, labels=False)\n",
    "\n",
    "# Define the features and target variable for modeling\n",
    "X = train_set.drop(['monthly_rent', 'rent_quartile'],\n",
    "                   axis=1)  # Drop 'rent_quartile' here to avoid including it in the features\n",
    "y = train_set['monthly_rent']\n",
    "\n",
    "# Split the data into training and testing sets with stratification\n",
    "X_train, X_test, y_train, y_test = train_test_split(\n",
    "    X, y,\n",
    "    train_size=0.80,\n",
    "    test_size=0.20,\n",
    "    stratify=train_set['rent_quartile']\n",
    ")\n",
    "\n",
    "# Check if the stratification is as expected\n",
    "y_train.head(), y_test.head()"
   ]
  },
  {
   "cell_type": "code",
   "execution_count": 8,
   "outputs": [
    {
     "data": {
      "text/plain": "               Full Data  Training Set  Testing Set\nrent_quartile                                      \n0               0.317633      0.317625     0.317667\n1               0.185767      0.185771     0.185750\n2               0.246783      0.246792     0.246750\n3               0.249817      0.249812     0.249833",
      "text/html": "<div>\n<style scoped>\n    .dataframe tbody tr th:only-of-type {\n        vertical-align: middle;\n    }\n\n    .dataframe tbody tr th {\n        vertical-align: top;\n    }\n\n    .dataframe thead th {\n        text-align: right;\n    }\n</style>\n<table border=\"1\" class=\"dataframe\">\n  <thead>\n    <tr style=\"text-align: right;\">\n      <th></th>\n      <th>Full Data</th>\n      <th>Training Set</th>\n      <th>Testing Set</th>\n    </tr>\n    <tr>\n      <th>rent_quartile</th>\n      <th></th>\n      <th></th>\n      <th></th>\n    </tr>\n  </thead>\n  <tbody>\n    <tr>\n      <th>0</th>\n      <td>0.317633</td>\n      <td>0.317625</td>\n      <td>0.317667</td>\n    </tr>\n    <tr>\n      <th>1</th>\n      <td>0.185767</td>\n      <td>0.185771</td>\n      <td>0.185750</td>\n    </tr>\n    <tr>\n      <th>2</th>\n      <td>0.246783</td>\n      <td>0.246792</td>\n      <td>0.246750</td>\n    </tr>\n    <tr>\n      <th>3</th>\n      <td>0.249817</td>\n      <td>0.249812</td>\n      <td>0.249833</td>\n    </tr>\n  </tbody>\n</table>\n</div>"
     },
     "execution_count": 8,
     "metadata": {},
     "output_type": "execute_result"
    }
   ],
   "source": [
    "# Check the distribution of 'monthly_rent' in the full dataset\n",
    "full_quartile_distribution = train_set['rent_quartile'].value_counts(normalize=True).sort_index()\n",
    "\n",
    "# Check the distribution of 'monthly_rent' in the training set\n",
    "train_quartile_distribution = y_train.to_frame().join(train_set['rent_quartile'], how='left')[\n",
    "    'rent_quartile'].value_counts(normalize=True).sort_index()\n",
    "\n",
    "# Check the distribution of 'monthly_rent' in the testing set\n",
    "test_quartile_distribution = y_test.to_frame().join(train_set['rent_quartile'], how='left')[\n",
    "    'rent_quartile'].value_counts(normalize=True).sort_index()\n",
    "\n",
    "# Compile the distributions into a DataFrame for comparison\n",
    "quartile_distributions_comparison = pd.DataFrame({\n",
    "    'Full Data': full_quartile_distribution,\n",
    "    'Training Set': train_quartile_distribution,\n",
    "    'Testing Set': test_quartile_distribution\n",
    "})\n",
    "\n",
    "quartile_distributions_comparison"
   ],
   "metadata": {
    "collapsed": false,
    "ExecuteTime": {
     "end_time": "2023-11-05T08:12:11.784195100Z",
     "start_time": "2023-11-05T08:12:11.735195400Z"
    }
   },
   "id": "c5255b5a17ceed47"
  },
  {
   "cell_type": "code",
   "execution_count": 3,
   "outputs": [
    {
     "data": {
      "text/plain": "Optimization Progress:   0%|          | 0/300 [00:00<?, ?pipeline/s]",
      "application/vnd.jupyter.widget-view+json": {
       "version_major": 2,
       "version_minor": 0,
       "model_id": "50a4831184e049fa91836c43db8e8354"
      }
     },
     "metadata": {},
     "output_type": "display_data"
    },
    {
     "name": "stdout",
     "output_type": "stream",
     "text": [
      "\n",
      "Generation 1 - Current best internal CV score: -241150.33359955723\n",
      "\n",
      "Generation 2 - Current best internal CV score: -241150.33359955723\n",
      "\n",
      "Generation 3 - Current best internal CV score: -240638.72273303958\n",
      "\n",
      "Generation 4 - Current best internal CV score: -240628.86399177145\n",
      "\n",
      "Generation 5 - Current best internal CV score: -240613.66858386635\n",
      "\n",
      "Best pipeline: RandomForestRegressor(ZeroCount(input_matrix), bootstrap=True, max_features=0.4, min_samples_leaf=16, min_samples_split=16, n_estimators=100)\n",
      "Pipeline(steps=[('zerocount', ZeroCount()),\n",
      "                ('randomforestregressor',\n",
      "                 RandomForestRegressor(max_features=0.4, min_samples_leaf=16,\n",
      "                                       min_samples_split=16,\n",
      "                                       random_state=42))])\n",
      "-243593.78255556637\n"
     ]
    }
   ],
   "source": [
    "from tpot import TPOTRegressor\n",
    "# 0.75/0.25 split\n",
    "# Instantiate and train a TPOT auto-ML regressor\n",
    "tpot = TPOTRegressor(generations=5, population_size=50, verbosity=2, random_state=42)\n",
    "tpot.fit(X_train, y_train)\n",
    "\n",
    "# Print the best pipeline found by TPOT\n",
    "print(tpot.fitted_pipeline_)\n",
    "\n",
    "# Evaluate the final model on the test data\n",
    "print(tpot.score(X_test, y_test))\n",
    "\n",
    "# Export the pipeline to a Python file for future use\n",
    "tpot.export('best_pipeline_110523.py')"
   ],
   "metadata": {
    "collapsed": false,
    "ExecuteTime": {
     "end_time": "2023-11-05T07:42:25.257396800Z",
     "start_time": "2023-11-05T05:40:38.651671400Z"
    }
   },
   "id": "26fd7ca99343c59d"
  },
  {
   "cell_type": "code",
   "execution_count": 9,
   "outputs": [
    {
     "data": {
      "text/plain": "Optimization Progress:   0%|          | 0/630 [00:00<?, ?pipeline/s]",
      "application/vnd.jupyter.widget-view+json": {
       "version_major": 2,
       "version_minor": 0,
       "model_id": "c8e9969afaee40a99980f8832b69a571"
      }
     },
     "metadata": {},
     "output_type": "display_data"
    },
    {
     "name": "stdout",
     "output_type": "stream",
     "text": [
      "\n",
      "\n",
      "TPOT closed during evaluation in one generation.\n",
      "WARNING: TPOT may not provide a good pipeline if TPOT is stopped/interrupted in a early generation.\n",
      "\n",
      "\n",
      "TPOT closed prematurely. Will use the current best pipeline.\n"
     ]
    },
    {
     "ename": "RuntimeError",
     "evalue": "There was an error in the TPOT optimization process. This could be because the data was not formatted properly, or because data for a regression problem was provided to the TPOTClassifier object. Please make sure you passed the data to TPOT correctly. If you enabled PyTorch estimators, please check the data requirements in the online documentation: https://epistasislab.github.io/tpot/using/",
     "output_type": "error",
     "traceback": [
      "\u001B[1;31m---------------------------------------------------------------------------\u001B[0m",
      "\u001B[1;31mRuntimeError\u001B[0m                              Traceback (most recent call last)",
      "Cell \u001B[1;32mIn[9], line 24\u001B[0m\n\u001B[0;32m     14\u001B[0m \u001B[38;5;66;03m# trying xgbbooster and 0.8/0.2 split\u001B[39;00m\n\u001B[0;32m     15\u001B[0m \u001B[38;5;66;03m# Instantiate and train a TPOT auto-ML regressor\u001B[39;00m\n\u001B[0;32m     16\u001B[0m tpot \u001B[38;5;241m=\u001B[39m TPOTRegressor(generations\u001B[38;5;241m=\u001B[39m\u001B[38;5;241m20\u001B[39m,\n\u001B[0;32m     17\u001B[0m                      population_size\u001B[38;5;241m=\u001B[39m\u001B[38;5;241m30\u001B[39m,\n\u001B[0;32m     18\u001B[0m                      verbosity\u001B[38;5;241m=\u001B[39m\u001B[38;5;241m2\u001B[39m,\n\u001B[1;32m   (...)\u001B[0m\n\u001B[0;32m     22\u001B[0m                      warm_start\u001B[38;5;241m=\u001B[39m\u001B[38;5;28;01mTrue\u001B[39;00m\n\u001B[0;32m     23\u001B[0m                      )\n\u001B[1;32m---> 24\u001B[0m \u001B[43mtpot\u001B[49m\u001B[38;5;241;43m.\u001B[39;49m\u001B[43mfit\u001B[49m\u001B[43m(\u001B[49m\u001B[43mX_train\u001B[49m\u001B[43m,\u001B[49m\u001B[43m \u001B[49m\u001B[43my_train\u001B[49m\u001B[43m)\u001B[49m\n\u001B[0;32m     26\u001B[0m \u001B[38;5;66;03m# Print the best pipeline found by TPOT\u001B[39;00m\n\u001B[0;32m     27\u001B[0m \u001B[38;5;28mprint\u001B[39m(tpot\u001B[38;5;241m.\u001B[39mfitted_pipeline_)\n",
      "File \u001B[1;32m~\\.conda\\envs\\project-tpot-38\\lib\\site-packages\\tpot\\base.py:864\u001B[0m, in \u001B[0;36mTPOTBase.fit\u001B[1;34m(self, features, target, sample_weight, groups)\u001B[0m\n\u001B[0;32m    861\u001B[0m     \u001B[38;5;28;01mexcept\u001B[39;00m (\u001B[38;5;167;01mKeyboardInterrupt\u001B[39;00m, \u001B[38;5;167;01mSystemExit\u001B[39;00m, \u001B[38;5;167;01mException\u001B[39;00m) \u001B[38;5;28;01mas\u001B[39;00m e:\n\u001B[0;32m    862\u001B[0m         \u001B[38;5;66;03m# raise the exception if it's our last attempt\u001B[39;00m\n\u001B[0;32m    863\u001B[0m         \u001B[38;5;28;01mif\u001B[39;00m attempt \u001B[38;5;241m==\u001B[39m (attempts \u001B[38;5;241m-\u001B[39m \u001B[38;5;241m1\u001B[39m):\n\u001B[1;32m--> 864\u001B[0m             \u001B[38;5;28;01mraise\u001B[39;00m e\n\u001B[0;32m    865\u001B[0m \u001B[38;5;28;01mreturn\u001B[39;00m \u001B[38;5;28mself\u001B[39m\n",
      "File \u001B[1;32m~\\.conda\\envs\\project-tpot-38\\lib\\site-packages\\tpot\\base.py:855\u001B[0m, in \u001B[0;36mTPOTBase.fit\u001B[1;34m(self, features, target, sample_weight, groups)\u001B[0m\n\u001B[0;32m    852\u001B[0m \u001B[38;5;28;01mif\u001B[39;00m \u001B[38;5;129;01mnot\u001B[39;00m \u001B[38;5;28misinstance\u001B[39m(\u001B[38;5;28mself\u001B[39m\u001B[38;5;241m.\u001B[39m_pbar, \u001B[38;5;28mtype\u001B[39m(\u001B[38;5;28;01mNone\u001B[39;00m)):\n\u001B[0;32m    853\u001B[0m     \u001B[38;5;28mself\u001B[39m\u001B[38;5;241m.\u001B[39m_pbar\u001B[38;5;241m.\u001B[39mclose()\n\u001B[1;32m--> 855\u001B[0m \u001B[38;5;28;43mself\u001B[39;49m\u001B[38;5;241;43m.\u001B[39;49m\u001B[43m_update_top_pipeline\u001B[49m\u001B[43m(\u001B[49m\u001B[43m)\u001B[49m\n\u001B[0;32m    856\u001B[0m \u001B[38;5;28mself\u001B[39m\u001B[38;5;241m.\u001B[39m_summary_of_best_pipeline(features, target)\n\u001B[0;32m    857\u001B[0m \u001B[38;5;66;03m# Delete the temporary cache before exiting\u001B[39;00m\n",
      "File \u001B[1;32m~\\.conda\\envs\\project-tpot-38\\lib\\site-packages\\tpot\\base.py:935\u001B[0m, in \u001B[0;36mTPOTBase._update_top_pipeline\u001B[1;34m(self)\u001B[0m\n\u001B[0;32m    925\u001B[0m             cv_scores \u001B[38;5;241m=\u001B[39m cross_val_score(\n\u001B[0;32m    926\u001B[0m                 sklearn_pipeline,\n\u001B[0;32m    927\u001B[0m                 \u001B[38;5;28mself\u001B[39m\u001B[38;5;241m.\u001B[39mpretest_X,\n\u001B[1;32m   (...)\u001B[0m\n\u001B[0;32m    932\u001B[0m                 error_score\u001B[38;5;241m=\u001B[39m\u001B[38;5;124m\"\u001B[39m\u001B[38;5;124mraise\u001B[39m\u001B[38;5;124m\"\u001B[39m,\n\u001B[0;32m    933\u001B[0m             )\n\u001B[0;32m    934\u001B[0m             \u001B[38;5;28;01mbreak\u001B[39;00m\n\u001B[1;32m--> 935\u001B[0m     \u001B[38;5;28;01mraise\u001B[39;00m \u001B[38;5;167;01mRuntimeError\u001B[39;00m(\n\u001B[0;32m    936\u001B[0m         \u001B[38;5;124m\"\u001B[39m\u001B[38;5;124mThere was an error in the TPOT optimization \u001B[39m\u001B[38;5;124m\"\u001B[39m\n\u001B[0;32m    937\u001B[0m         \u001B[38;5;124m\"\u001B[39m\u001B[38;5;124mprocess. This could be because the data was \u001B[39m\u001B[38;5;124m\"\u001B[39m\n\u001B[0;32m    938\u001B[0m         \u001B[38;5;124m\"\u001B[39m\u001B[38;5;124mnot formatted properly, or because data for \u001B[39m\u001B[38;5;124m\"\u001B[39m\n\u001B[0;32m    939\u001B[0m         \u001B[38;5;124m\"\u001B[39m\u001B[38;5;124ma regression problem was provided to the \u001B[39m\u001B[38;5;124m\"\u001B[39m\n\u001B[0;32m    940\u001B[0m         \u001B[38;5;124m\"\u001B[39m\u001B[38;5;124mTPOTClassifier object. Please make sure you \u001B[39m\u001B[38;5;124m\"\u001B[39m\n\u001B[0;32m    941\u001B[0m         \u001B[38;5;124m\"\u001B[39m\u001B[38;5;124mpassed the data to TPOT correctly. If you \u001B[39m\u001B[38;5;124m\"\u001B[39m\n\u001B[0;32m    942\u001B[0m         \u001B[38;5;124m\"\u001B[39m\u001B[38;5;124menabled PyTorch estimators, please check \u001B[39m\u001B[38;5;124m\"\u001B[39m\n\u001B[0;32m    943\u001B[0m         \u001B[38;5;124m\"\u001B[39m\u001B[38;5;124mthe data requirements in the online \u001B[39m\u001B[38;5;124m\"\u001B[39m\n\u001B[0;32m    944\u001B[0m         \u001B[38;5;124m\"\u001B[39m\u001B[38;5;124mdocumentation: \u001B[39m\u001B[38;5;124m\"\u001B[39m\n\u001B[0;32m    945\u001B[0m         \u001B[38;5;124m\"\u001B[39m\u001B[38;5;124mhttps://epistasislab.github.io/tpot/using/\u001B[39m\u001B[38;5;124m\"\u001B[39m\n\u001B[0;32m    946\u001B[0m     )\n\u001B[0;32m    947\u001B[0m \u001B[38;5;28;01melse\u001B[39;00m:\n\u001B[0;32m    948\u001B[0m     pareto_front_wvalues \u001B[38;5;241m=\u001B[39m [\n\u001B[0;32m    949\u001B[0m         pipeline_scores\u001B[38;5;241m.\u001B[39mwvalues[\u001B[38;5;241m1\u001B[39m]\n\u001B[0;32m    950\u001B[0m         \u001B[38;5;28;01mfor\u001B[39;00m pipeline_scores \u001B[38;5;129;01min\u001B[39;00m \u001B[38;5;28mself\u001B[39m\u001B[38;5;241m.\u001B[39m_pareto_front\u001B[38;5;241m.\u001B[39mkeys\n\u001B[0;32m    951\u001B[0m     ]\n",
      "\u001B[1;31mRuntimeError\u001B[0m: There was an error in the TPOT optimization process. This could be because the data was not formatted properly, or because data for a regression problem was provided to the TPOTClassifier object. Please make sure you passed the data to TPOT correctly. If you enabled PyTorch estimators, please check the data requirements in the online documentation: https://epistasislab.github.io/tpot/using/"
     ]
    }
   ],
   "source": [
    "from tpot import TPOTRegressor\n",
    "from numpy import sqrt\n",
    "\n",
    "config_dict = {\n",
    "    'xgboost.XGBRegressor': {\n",
    "        'n_estimators': [400, 500, 600, 700, 1000],\n",
    "        'max_depth': [4, 5, 6, 9],\n",
    "        'learning_rate': [0.01, 0.015, 0.02, 0.025, 0.05, 0.1, 0.5, 1],\n",
    "        'subsample': [0.8, 0.9, 1.0, 1.1, 1.2, 1.3,1.5],\n",
    "        'min_child_weight': [4, 5, 6, 7, 8],\n",
    "        'n_jobs': [1]  # TPOT is already parallelized, so set n_jobs to 1 for XGBoost\n",
    "    }\n",
    "}\n",
    "# trying xgbbooster and 0.8/0.2 split\n",
    "# Instantiate and train a TPOT auto-ML regressor\n",
    "tpot = TPOTRegressor(generations=20,\n",
    "                     population_size=30,\n",
    "                     verbosity=2,\n",
    "                     random_state=42,\n",
    "                     scoring='neg_mean_squared_error',\n",
    "                     config_dict=config_dict,  # Custom configuration\n",
    "                     warm_start=True\n",
    "                     )\n",
    "tpot.fit(X_train, y_train)\n",
    "\n",
    "# Print the best pipeline found by TPOT\n",
    "print(tpot.fitted_pipeline_)\n",
    "\n",
    "# Score on the test set using RMSE\n",
    "neg_mse = tpot.score(X_test, y_test)\n",
    "rmse = sqrt(-neg_mse)\n",
    "print(\"Test RMSE: \", rmse)\n",
    "\n",
    "# Export the pipeline to a Python file for future use\n",
    "tpot.export('best_pipeline_110523_8020split.py')"
   ],
   "metadata": {
    "collapsed": false,
    "ExecuteTime": {
     "end_time": "2023-11-05T08:27:09.416918700Z",
     "start_time": "2023-11-05T08:21:30.457275500Z"
    }
   },
   "id": "5c0358b9f9e98426"
  },
  {
   "cell_type": "code",
   "execution_count": 12,
   "outputs": [
    {
     "name": "stdout",
     "output_type": "stream",
     "text": [
      "Checking whether there is an H2O instance running at http://localhost:54321..... not found.\n",
      "Attempting to start a local H2O server...\n",
      "; OpenJDK 64-Bit Server VM Zulu21.30+15-CA (build 21.0.1+12-LTS, mixed mode, sharing)\n",
      "  Starting server from C:\\Users\\User\\.conda\\envs\\project-tpot-38\\Lib\\site-packages\\h2o\\backend\\bin\\h2o.jar\n",
      "  Ice root: C:\\Users\\User\\AppData\\Local\\Temp\\tmpux33c3nw\n",
      "  JVM stdout: C:\\Users\\User\\AppData\\Local\\Temp\\tmpux33c3nw\\h2o_User_started_from_python.out\n",
      "  JVM stderr: C:\\Users\\User\\AppData\\Local\\Temp\\tmpux33c3nw\\h2o_User_started_from_python.err\n",
      "  Server is running at http://127.0.0.1:54321\n",
      "Connecting to H2O server at http://127.0.0.1:54321 ... successful.\n"
     ]
    },
    {
     "data": {
      "text/plain": "--------------------------  -----------------------------\nH2O_cluster_uptime:         02 secs\nH2O_cluster_timezone:       Asia/Singapore\nH2O_data_parsing_timezone:  UTC\nH2O_cluster_version:        3.44.0.1\nH2O_cluster_version_age:    20 days\nH2O_cluster_name:           H2O_from_python_User_71hfe8\nH2O_cluster_total_nodes:    1\nH2O_cluster_free_memory:    7.968 Gb\nH2O_cluster_total_cores:    12\nH2O_cluster_allowed_cores:  12\nH2O_cluster_status:         locked, healthy\nH2O_connection_url:         http://127.0.0.1:54321\nH2O_connection_proxy:       {\"http\": null, \"https\": null}\nH2O_internal_security:      False\nPython_version:             3.8.18 final\n--------------------------  -----------------------------",
      "text/html": "\n<style>\n\n#h2o-table-1.h2o-container {\n  overflow-x: auto;\n}\n#h2o-table-1 .h2o-table {\n  /* width: 100%; */\n  margin-top: 1em;\n  margin-bottom: 1em;\n}\n#h2o-table-1 .h2o-table caption {\n  white-space: nowrap;\n  caption-side: top;\n  text-align: left;\n  /* margin-left: 1em; */\n  margin: 0;\n  font-size: larger;\n}\n#h2o-table-1 .h2o-table thead {\n  white-space: nowrap; \n  position: sticky;\n  top: 0;\n  box-shadow: 0 -1px inset;\n}\n#h2o-table-1 .h2o-table tbody {\n  overflow: auto;\n}\n#h2o-table-1 .h2o-table th,\n#h2o-table-1 .h2o-table td {\n  text-align: right;\n  /* border: 1px solid; */\n}\n#h2o-table-1 .h2o-table tr:nth-child(even) {\n  /* background: #F5F5F5 */\n}\n\n</style>      \n<div id=\"h2o-table-1\" class=\"h2o-container\">\n  <table class=\"h2o-table\">\n    <caption></caption>\n    <thead></thead>\n    <tbody><tr><td>H2O_cluster_uptime:</td>\n<td>02 secs</td></tr>\n<tr><td>H2O_cluster_timezone:</td>\n<td>Asia/Singapore</td></tr>\n<tr><td>H2O_data_parsing_timezone:</td>\n<td>UTC</td></tr>\n<tr><td>H2O_cluster_version:</td>\n<td>3.44.0.1</td></tr>\n<tr><td>H2O_cluster_version_age:</td>\n<td>20 days</td></tr>\n<tr><td>H2O_cluster_name:</td>\n<td>H2O_from_python_User_71hfe8</td></tr>\n<tr><td>H2O_cluster_total_nodes:</td>\n<td>1</td></tr>\n<tr><td>H2O_cluster_free_memory:</td>\n<td>7.968 Gb</td></tr>\n<tr><td>H2O_cluster_total_cores:</td>\n<td>12</td></tr>\n<tr><td>H2O_cluster_allowed_cores:</td>\n<td>12</td></tr>\n<tr><td>H2O_cluster_status:</td>\n<td>locked, healthy</td></tr>\n<tr><td>H2O_connection_url:</td>\n<td>http://127.0.0.1:54321</td></tr>\n<tr><td>H2O_connection_proxy:</td>\n<td>{\"http\": null, \"https\": null}</td></tr>\n<tr><td>H2O_internal_security:</td>\n<td>False</td></tr>\n<tr><td>Python_version:</td>\n<td>3.8.18 final</td></tr></tbody>\n  </table>\n</div>\n"
     },
     "metadata": {},
     "output_type": "display_data"
    },
    {
     "name": "stdout",
     "output_type": "stream",
     "text": [
      "Parse progress: |████████████████████████████████████████████████████████████████| (done) 100%\n"
     ]
    }
   ],
   "source": [
    "import h2o\n",
    "from h2o.automl import H2OAutoML\n",
    "\n",
    "h2o.init()"
   ],
   "metadata": {
    "collapsed": false,
    "ExecuteTime": {
     "end_time": "2023-11-05T08:30:45.262564500Z",
     "start_time": "2023-11-05T08:30:18.123775500Z"
    }
   },
   "id": "c8669bc79659ce80"
  },
  {
   "cell_type": "code",
   "execution_count": 20,
   "outputs": [
    {
     "name": "stdout",
     "output_type": "stream",
     "text": [
      "Parse progress: |████████████████████████████████████████████████████████████████| (done) 100%\n"
     ]
    }
   ],
   "source": [
    "data = h2o.import_file('./Datasets/train_cleaned_110523.csv')\n",
    "train, test = data.split_frame(ratios=[0.85], seed = 1)\n",
    "# drop target monthly_rent column and get all features\n",
    "x = data.columns\n",
    "y = 'monthly_rent'\n",
    "x.remove(y)\n",
    "AutoML = H2OAutoML(max_models=100, seed =10, max_runtime_secs=25000, project_name=\"Revenue_Forecast_for_Rental_Pricing\") # 32000 9hrs # 42500 12hrs"
   ],
   "metadata": {
    "collapsed": false,
    "ExecuteTime": {
     "end_time": "2023-11-05T08:48:13.371616400Z",
     "start_time": "2023-11-05T08:48:12.740247600Z"
    }
   },
   "id": "d5cff80155fb1826"
  },
  {
   "cell_type": "code",
   "execution_count": 21,
   "outputs": [
    {
     "name": "stdout",
     "output_type": "stream",
     "text": [
      "AutoML progress: |\n",
      "16:48:30.406: AutoML: XGBoost is not available; skipping it.\n",
      "███████████████████████████████████████████████████████████████| (done) 100%\n"
     ]
    },
    {
     "data": {
      "text/plain": "Model Details\n=============\nH2OStackedEnsembleEstimator : Stacked Ensemble\nModel Key: StackedEnsemble_AllModels_1_AutoML_1_20231105_164830\n\n\nModel Summary for Stacked Ensemble: \nkey                                        value\n-----------------------------------------  ----------------\nStacking strategy                          cross_validation\nNumber of base models (used / total)       24/100\n# GBM base models (used / total)           13/42\n# DeepLearning base models (used / total)  11/55\n# DRF base models (used / total)           0/2\n# GLM base models (used / total)           0/1\nMetalearner algorithm                      GLM\nMetalearner fold assignment scheme         Random\nMetalearner nfolds                         5\nMetalearner fold_column\nCustom metalearner hyperparameters         None\n\nModelMetricsRegressionGLM: stackedensemble\n** Reported on train data. **\n\nMSE: 205595.47205154574\nRMSE: 453.42636894157994\nMAE: 341.82591003370726\nRMSLE: 0.17696717348938112\nMean Residual Deviance: 205595.47205154574\nR^2: 0.5898701067589984\nNull degrees of freedom: 9960\nResidual degrees of freedom: 9936\nNull deviance: 4993562886.999817\nResidual deviance: 2047936497.1054473\nAIC: 150179.63838497413\n\nModelMetricsRegressionGLM: stackedensemble\n** Reported on cross-validation data. **\n\nMSE: 235218.86262704252\nRMSE: 484.993672770112\nMAE: 367.2168263034744\nRMSLE: 0.18848028751857548\nMean Residual Deviance: 235218.86262704252\nR^2: 0.5407389107595267\nNull degrees of freedom: 50940\nResidual degrees of freedom: 50918\nNull deviance: 26091085668.171944\nResidual deviance: 11982284081.084173\nAIC: 774664.4238020381\n\nCross-Validation Metrics Summary: \n                        mean         sd           cv_1_valid    cv_2_valid    cv_3_valid    cv_4_valid    cv_5_valid\n----------------------  -----------  -----------  ------------  ------------  ------------  ------------  ------------\nmae                     367.217      1.399        365.81        369.419       367.654       366.436       366.769\nmean_residual_deviance  235218       1615.14      236353        237209        234894        234574        233059\nmse                     235218       1615.14      236353        237209        234894        234574        233059\nnull_deviance           5.21822e+09  3.60849e+07  5.27267e+09   5.18301e+09   5.20702e+09   5.23476e+09   5.19363e+09\nr2                      0.540705     0.00489886   0.541877      0.535474      0.535671      0.545787      0.544716\nresidual_deviance       2.39646e+09  2.39874e+07  2.41553e+09   2.40743e+09   2.4173e+09    2.37764e+09   2.36438e+09\nrmse                    484.99       1.66531      486.162       487.041       484.659       484.329       482.761\nrmsle                   0.188468     0.00189193   0.189965      0.189396      0.189032      0.185181      0.188767\n\n[tips]\nUse `model.explain()` to inspect the model.\n--\nUse `h2o.display.toggle_user_tips()` to switch on/off this section.",
      "text/html": "<pre style='margin: 1em 0 1em 0;'>Model Details\n=============\nH2OStackedEnsembleEstimator : Stacked Ensemble\nModel Key: StackedEnsemble_AllModels_1_AutoML_1_20231105_164830\n</pre>\n<div style='margin: 1em 0 1em 0;'>\n<style>\n\n#h2o-table-2.h2o-container {\n  overflow-x: auto;\n}\n#h2o-table-2 .h2o-table {\n  /* width: 100%; */\n  margin-top: 1em;\n  margin-bottom: 1em;\n}\n#h2o-table-2 .h2o-table caption {\n  white-space: nowrap;\n  caption-side: top;\n  text-align: left;\n  /* margin-left: 1em; */\n  margin: 0;\n  font-size: larger;\n}\n#h2o-table-2 .h2o-table thead {\n  white-space: nowrap; \n  position: sticky;\n  top: 0;\n  box-shadow: 0 -1px inset;\n}\n#h2o-table-2 .h2o-table tbody {\n  overflow: auto;\n}\n#h2o-table-2 .h2o-table th,\n#h2o-table-2 .h2o-table td {\n  text-align: right;\n  /* border: 1px solid; */\n}\n#h2o-table-2 .h2o-table tr:nth-child(even) {\n  /* background: #F5F5F5 */\n}\n\n</style>      \n<div id=\"h2o-table-2\" class=\"h2o-container\">\n  <table class=\"h2o-table\">\n    <caption>Model Summary for Stacked Ensemble: </caption>\n    <thead><tr><th>key</th>\n<th>value</th></tr></thead>\n    <tbody><tr><td>Stacking strategy</td>\n<td>cross_validation</td></tr>\n<tr><td>Number of base models (used / total)</td>\n<td>24/100</td></tr>\n<tr><td># GBM base models (used / total)</td>\n<td>13/42</td></tr>\n<tr><td># DeepLearning base models (used / total)</td>\n<td>11/55</td></tr>\n<tr><td># DRF base models (used / total)</td>\n<td>0/2</td></tr>\n<tr><td># GLM base models (used / total)</td>\n<td>0/1</td></tr>\n<tr><td>Metalearner algorithm</td>\n<td>GLM</td></tr>\n<tr><td>Metalearner fold assignment scheme</td>\n<td>Random</td></tr>\n<tr><td>Metalearner nfolds</td>\n<td>5</td></tr>\n<tr><td>Metalearner fold_column</td>\n<td>None</td></tr>\n<tr><td>Custom metalearner hyperparameters</td>\n<td>None</td></tr></tbody>\n  </table>\n</div>\n</div>\n<div style='margin: 1em 0 1em 0;'><pre style='margin: 1em 0 1em 0;'>ModelMetricsRegressionGLM: stackedensemble\n** Reported on train data. **\n\nMSE: 205595.47205154574\nRMSE: 453.42636894157994\nMAE: 341.82591003370726\nRMSLE: 0.17696717348938112\nMean Residual Deviance: 205595.47205154574\nR^2: 0.5898701067589984\nNull degrees of freedom: 9960\nResidual degrees of freedom: 9936\nNull deviance: 4993562886.999817\nResidual deviance: 2047936497.1054473\nAIC: 150179.63838497413</pre></div>\n<div style='margin: 1em 0 1em 0;'><pre style='margin: 1em 0 1em 0;'>ModelMetricsRegressionGLM: stackedensemble\n** Reported on cross-validation data. **\n\nMSE: 235218.86262704252\nRMSE: 484.993672770112\nMAE: 367.2168263034744\nRMSLE: 0.18848028751857548\nMean Residual Deviance: 235218.86262704252\nR^2: 0.5407389107595267\nNull degrees of freedom: 50940\nResidual degrees of freedom: 50918\nNull deviance: 26091085668.171944\nResidual deviance: 11982284081.084173\nAIC: 774664.4238020381</pre></div>\n<div style='margin: 1em 0 1em 0;'>\n<style>\n\n#h2o-table-3.h2o-container {\n  overflow-x: auto;\n}\n#h2o-table-3 .h2o-table {\n  /* width: 100%; */\n  margin-top: 1em;\n  margin-bottom: 1em;\n}\n#h2o-table-3 .h2o-table caption {\n  white-space: nowrap;\n  caption-side: top;\n  text-align: left;\n  /* margin-left: 1em; */\n  margin: 0;\n  font-size: larger;\n}\n#h2o-table-3 .h2o-table thead {\n  white-space: nowrap; \n  position: sticky;\n  top: 0;\n  box-shadow: 0 -1px inset;\n}\n#h2o-table-3 .h2o-table tbody {\n  overflow: auto;\n}\n#h2o-table-3 .h2o-table th,\n#h2o-table-3 .h2o-table td {\n  text-align: right;\n  /* border: 1px solid; */\n}\n#h2o-table-3 .h2o-table tr:nth-child(even) {\n  /* background: #F5F5F5 */\n}\n\n</style>      \n<div id=\"h2o-table-3\" class=\"h2o-container\">\n  <table class=\"h2o-table\">\n    <caption>Cross-Validation Metrics Summary: </caption>\n    <thead><tr><th></th>\n<th>mean</th>\n<th>sd</th>\n<th>cv_1_valid</th>\n<th>cv_2_valid</th>\n<th>cv_3_valid</th>\n<th>cv_4_valid</th>\n<th>cv_5_valid</th></tr></thead>\n    <tbody><tr><td>mae</td>\n<td>367.21735</td>\n<td>1.399003</td>\n<td>365.81006</td>\n<td>369.41855</td>\n<td>367.65393</td>\n<td>366.4356</td>\n<td>366.76855</td></tr>\n<tr><td>mean_residual_deviance</td>\n<td>235217.84</td>\n<td>1615.1431</td>\n<td>236353.45</td>\n<td>237208.77</td>\n<td>234894.33</td>\n<td>234574.08</td>\n<td>233058.61</td></tr>\n<tr><td>mse</td>\n<td>235217.84</td>\n<td>1615.1431</td>\n<td>236353.45</td>\n<td>237208.77</td>\n<td>234894.33</td>\n<td>234574.08</td>\n<td>233058.61</td></tr>\n<tr><td>null_deviance</td>\n<td>5218217000.0000000</td>\n<td>36084884.0000000</td>\n<td>5272670000.0000000</td>\n<td>5183008000.0000000</td>\n<td>5207015000.0000000</td>\n<td>5234761700.0000000</td>\n<td>5193631000.0000000</td></tr>\n<tr><td>r2</td>\n<td>0.5407048</td>\n<td>0.0048989</td>\n<td>0.5418768</td>\n<td>0.5354736</td>\n<td>0.5356708</td>\n<td>0.5457871</td>\n<td>0.5447155</td></tr>\n<tr><td>residual_deviance</td>\n<td>2396456700.0000000</td>\n<td>23987350.0000000</td>\n<td>2415532300.0000000</td>\n<td>2407431700.0000000</td>\n<td>2417297700.0000000</td>\n<td>2377642800.0000000</td>\n<td>2364379600.0000000</td></tr>\n<tr><td>rmse</td>\n<td>484.99033</td>\n<td>1.6653086</td>\n<td>486.16196</td>\n<td>487.04083</td>\n<td>484.659</td>\n<td>484.3285</td>\n<td>482.76144</td></tr>\n<tr><td>rmsle</td>\n<td>0.1884683</td>\n<td>0.0018919</td>\n<td>0.1899653</td>\n<td>0.1893958</td>\n<td>0.1890322</td>\n<td>0.1851806</td>\n<td>0.1887674</td></tr></tbody>\n  </table>\n</div>\n</div><pre style=\"font-size: smaller; margin: 1em 0 0 0;\">\n\n[tips]\nUse `model.explain()` to inspect the model.\n--\nUse `h2o.display.toggle_user_tips()` to switch on/off this section.</pre>"
     },
     "execution_count": 21,
     "metadata": {},
     "output_type": "execute_result"
    }
   ],
   "source": [
    "AutoML.train(x=x, y=y, training_frame=train)"
   ],
   "metadata": {
    "collapsed": false,
    "ExecuteTime": {
     "end_time": "2023-11-05T11:47:06.699011400Z",
     "start_time": "2023-11-05T08:48:30.358370800Z"
    }
   },
   "id": "d8f0d7a704c7bc67"
  },
  {
   "cell_type": "code",
   "execution_count": 34,
   "outputs": [
    {
     "data": {
      "text/plain": "model_id                                                    rmse     mse      mae     rmsle    mean_residual_deviance\n-------------------------------------------------------  -------  ------  -------  --------  ------------------------\nStackedEnsemble_AllModels_1_AutoML_1_20231105_164830     484.994  235219  367.217  0.18848                     235219\nStackedEnsemble_BestOfFamily_1_AutoML_1_20231105_164830  486.584  236764  368.531  0.189123                    236764\nGBM_grid_1_AutoML_1_20231105_164830_model_20             486.971  237141  369.279  0.189196                    237141\nGBM_grid_1_AutoML_1_20231105_164830_model_33             487.025  237193  369.442  0.189136                    237193\nGBM_grid_1_AutoML_1_20231105_164830_model_32             487.35   237510  368.991  0.18936                     237510\nGBM_grid_1_AutoML_1_20231105_164830_model_3              487.542  237697  369.775  0.189339                    237697\nGBM_5_AutoML_1_20231105_164830                           487.768  237917  369.37   0.189443                    237917\nGBM_2_AutoML_1_20231105_164830                           487.979  238123  369.164  0.189529                    238123\nGBM_grid_1_AutoML_1_20231105_164830_model_12             487.993  238137  369.068  0.189447                    238137\nGBM_grid_1_AutoML_1_20231105_164830_model_37             488.315  238451  370.68   0.189701                    238451\nGBM_grid_1_AutoML_1_20231105_164830_model_26             488.361  238497  369.833  0.189679                    238497\nGBM_grid_1_AutoML_1_20231105_164830_model_16             488.37   238505  370.216  0.18966                     238505\nGBM_grid_1_AutoML_1_20231105_164830_model_6              488.505  238638  370.159  0.18974                     238638\nGBM_grid_1_AutoML_1_20231105_164830_model_13             488.537  238669  370.653  0.189804                    238669\nGBM_grid_1_AutoML_1_20231105_164830_model_36             488.603  238733  369.778  0.18975                     238733\nGBM_grid_1_AutoML_1_20231105_164830_model_7              488.956  239078  369.877  0.189825                    239078\nGBM_grid_1_AutoML_1_20231105_164830_model_30             489.024  239145  370.62   0.189938                    239145\nGBM_3_AutoML_1_20231105_164830                           489.111  239229  369.792  0.1899                      239229\nGBM_grid_1_AutoML_1_20231105_164830_model_34             489.199  239316  370.974  0.190039                    239316\nGBM_1_AutoML_1_20231105_164830                           489.249  239365  369.627  0.189949                    239365\nGBM_grid_1_AutoML_1_20231105_164830_model_22             489.3    239415  370.951  0.190074                    239415\nGBM_grid_1_AutoML_1_20231105_164830_model_5              489.532  239641  370.658  0.190057                    239641\nGBM_grid_1_AutoML_1_20231105_164830_model_23             489.567  239676  371.622  0.190237                    239676\nGBM_grid_1_AutoML_1_20231105_164830_model_27             489.656  239763  371.076  0.190169                    239763\nGBM_grid_1_AutoML_1_20231105_164830_model_31             489.897  240000  370.883  0.190077                    240000\nGBM_grid_1_AutoML_1_20231105_164830_model_24             490.417  240509  371.098  0.190253                    240509\nGBM_grid_1_AutoML_1_20231105_164830_model_1              491.16   241238  373.121  0.190809                    241238\nGBM_grid_1_AutoML_1_20231105_164830_model_25             491.564  241635  371.775  0.190613                    241635\nDeepLearning_grid_1_AutoML_1_20231105_164830_model_7     491.827  241894  373.688  0.191229                    241894\nGBM_grid_1_AutoML_1_20231105_164830_model_11             491.837  241903  371.741  0.190817                    241903\nDeepLearning_grid_2_AutoML_1_20231105_164830_model_7     491.904  241970  372.695  0.190788                    241970\nDeepLearning_grid_3_AutoML_1_20231105_164830_model_7     492.046  242109  373.558  0.190914                    242109\nDeepLearning_grid_1_AutoML_1_20231105_164830_model_17    492.826  242878  374.164  0.192041                    242878\nGBM_4_AutoML_1_20231105_164830                           492.84   242892  372.737  0.191094                    242892\nDeepLearning_grid_2_AutoML_1_20231105_164830_model_12    492.857  242908  373.642  0.190934                    242908\nGBM_grid_1_AutoML_1_20231105_164830_model_29             492.967  243017  372.488  0.191204                    243017\nDeepLearning_grid_2_AutoML_1_20231105_164830_model_17    493.122  243169  372.817  0.191824                    243169\nDeepLearning_grid_1_AutoML_1_20231105_164830_model_4     493.136  243183  374.615  0.191482                    243183\nDeepLearning_grid_1_AutoML_1_20231105_164830_model_11    493.553  243595  375.899  0.191971                    243595\nDeepLearning_grid_3_AutoML_1_20231105_164830_model_12    493.66   243700  373.973  0.191468                    243700\nDeepLearning_grid_1_AutoML_1_20231105_164830_model_14    493.805  243843  375.978  0.191811                    243843\nDeepLearning_grid_1_AutoML_1_20231105_164830_model_12    494.04   244075  375.682  0.191711                    244075\nDeepLearning_grid_1_AutoML_1_20231105_164830_model_1     494.12   244154  375.801  0.191952                    244154\nDeepLearning_grid_3_AutoML_1_20231105_164830_model_17    494.253  244286  374.074  0.191767                    244286\nDeepLearning_grid_1_AutoML_1_20231105_164830_model_6     494.349  244381  377.188  0.192452                    244381\nGBM_grid_1_AutoML_1_20231105_164830_model_28             494.376  244408  374.863  0.191869                    244408\nGBM_grid_1_AutoML_1_20231105_164830_model_17             494.928  244954  376.593  0.191862                    244954\nDeepLearning_grid_1_AutoML_1_20231105_164830_model_13    495.047  245071  377.355  0.192313                    245071\nDeepLearning_grid_1_AutoML_1_20231105_164830_model_2     495.998  246014  378.373  0.192657                    246014\nGBM_grid_1_AutoML_1_20231105_164830_model_35             496.23   246244  374.797  0.192305                    246244\nDeepLearning_grid_1_AutoML_1_20231105_164830_model_9     496.241  246256  377.302  0.192732                    246256\nDeepLearning_grid_1_AutoML_1_20231105_164830_model_8     496.288  246302  377.964  0.192791                    246302\nDeepLearning_grid_2_AutoML_1_20231105_164830_model_10    496.483  246495  377.484  0.192473                    246495\nDeepLearning_grid_3_AutoML_1_20231105_164830_model_10    497.014  247023  379.15   0.193543                    247023\nDeepLearning_1_AutoML_1_20231105_164830                  497.654  247659  377.999  0.192539                    247659\nDeepLearning_grid_2_AutoML_1_20231105_164830_model_13    499.101  249102  383.727  0.195155                    249102\nGBM_grid_1_AutoML_1_20231105_164830_model_18             499.131  249132  377.44   0.193188                    249132\nDeepLearning_grid_1_AutoML_1_20231105_164830_model_10    499.618  249619  379.276  0.194219                    249619\nDeepLearning_grid_1_AutoML_1_20231105_164830_model_15    499.759  249759  381.258  0.193639                    249759\nDeepLearning_grid_2_AutoML_1_20231105_164830_model_4     500.072  250072  386.71   0.196141                    250072\nDeepLearning_grid_1_AutoML_1_20231105_164830_model_18    500.428  250428  383.843  0.194112                    250428\nGBM_grid_1_AutoML_1_20231105_164830_model_4              500.708  250709  378.197  0.193786                    250709\nDeepLearning_grid_3_AutoML_1_20231105_164830_model_4     501.052  251054  385.834  0.196015                    251054\nDeepLearning_grid_3_AutoML_1_20231105_164830_model_13    501.131  251133  385.876  0.196886                    251133\nGBM_grid_1_AutoML_1_20231105_164830_model_19             501.747  251750  378.243  0.194085                    251750\nDeepLearning_grid_1_AutoML_1_20231105_164830_model_16    502.327  252333  384.732  0.195775                    252333\nDeepLearning_grid_1_AutoML_1_20231105_164830_model_3     502.367  252373  384.528  0.194516                    252373\nDeepLearning_grid_2_AutoML_1_20231105_164830_model_6     502.398  252403  387.825  0.196551                    252403\nDeepLearning_grid_2_AutoML_1_20231105_164830_model_11    503.203  253213  387.644  0.1964                      253213\nDeepLearning_grid_1_AutoML_1_20231105_164830_model_5     503.241  253251  383.776  0.195178                    253251\nGBM_grid_1_AutoML_1_20231105_164830_model_10             503.636  253649  379.957  0.194817                    253649\nDeepLearning_grid_2_AutoML_1_20231105_164830_model_14    504.708  254730  391.046  0.197509                    254730\nGBM_grid_1_AutoML_1_20231105_164830_model_9              505.032  255057  380.408  0.195208                    255057\nDeepLearning_grid_3_AutoML_1_20231105_164830_model_6     507.634  257693  391.531  0.199023                    257693\nDeepLearning_grid_3_AutoML_1_20231105_164830_model_11    508.228  258296  390.102  0.19811                     258296\nDeepLearning_grid_2_AutoML_1_20231105_164830_model_1     508.595  258669  391.333  0.198122                    258669\nGBM_grid_1_AutoML_1_20231105_164830_model_21             510.365  260472  384.964  0.197139                    260472\nDeepLearning_grid_2_AutoML_1_20231105_164830_model_2     512.305  262456  391.961  0.1983                      262456\nGBM_grid_1_AutoML_1_20231105_164830_model_2              512.436  262591  385.756  0.197806                    262591\nXRT_1_AutoML_1_20231105_164830                           512.825  262990  385.706  0.198253                    262990\nDeepLearning_grid_3_AutoML_1_20231105_164830_model_1     513.193  263367  394.597  0.198248                    263367\nDeepLearning_grid_2_AutoML_1_20231105_164830_model_3     515.443  265681  399.38   0.201921                    265681\nDeepLearning_grid_3_AutoML_1_20231105_164830_model_14    515.779  266028  403.13   0.202127                    266028\nDeepLearning_grid_2_AutoML_1_20231105_164830_model_9     517.159  267453  407.556  0.204066                    267453\nDeepLearning_grid_3_AutoML_1_20231105_164830_model_2     517.376  267678  401.761  0.20267                     267678\nDeepLearning_grid_3_AutoML_1_20231105_164830_model_3     517.695  268008  400.395  0.201237                    268008\nGBM_grid_1_AutoML_1_20231105_164830_model_15             519.497  269877  391.149  0.200266                    269877\nDRF_1_AutoML_1_20231105_164830                           520.693  271121  390.72   0.200757                    271121\nGBM_grid_1_AutoML_1_20231105_164830_model_8              527.752  278522  395.747  0.203139                    278522\nDeepLearning_grid_2_AutoML_1_20231105_164830_model_16    532.296  283339  419.801  0.207674                    283339\nDeepLearning_grid_3_AutoML_1_20231105_164830_model_9     532.406  283456  423.501  0.212551                    283456\nDeepLearning_grid_3_AutoML_1_20231105_164830_model_16    534.8    286011  418.261  0.209167                    286011\nGBM_grid_1_AutoML_1_20231105_164830_model_14             538.166  289622  403.727  0.207154                    289622\nDeepLearning_grid_3_AutoML_1_20231105_164830_model_5     539.211  290749  428.392  0.21333                     290749\nDeepLearning_grid_2_AutoML_1_20231105_164830_model_5     539.325  290871  425.887  0.211737                    290871\nDeepLearning_grid_2_AutoML_1_20231105_164830_model_8     553.373  306222  445.979  0.220699                    306222\nDeepLearning_grid_2_AutoML_1_20231105_164830_model_18    555.334  308396  450.299  0.223952                    308396\nDeepLearning_grid_2_AutoML_1_20231105_164830_model_15    559.92   313510  449.621  0.220624                    313510\nDeepLearning_grid_3_AutoML_1_20231105_164830_model_15    574.332  329857  470.36   0.23232                     329857\nDeepLearning_grid_3_AutoML_1_20231105_164830_model_8     588.669  346531  482.726  0.23713                     346531\nDeepLearning_grid_3_AutoML_1_20231105_164830_model_18    610.615  372851  507.612  0.248431                    372851\nGLM_1_AutoML_1_20231105_164830                           715.658  512166  568.336  0.271537                    512166\n[102 rows x 6 columns]\n",
      "text/html": "<table class='dataframe'>\n<thead>\n<tr><th>model_id                                               </th><th style=\"text-align: right;\">   rmse</th><th style=\"text-align: right;\">   mse</th><th style=\"text-align: right;\">    mae</th><th style=\"text-align: right;\">   rmsle</th><th style=\"text-align: right;\">  mean_residual_deviance</th></tr>\n</thead>\n<tbody>\n<tr><td>StackedEnsemble_AllModels_1_AutoML_1_20231105_164830   </td><td style=\"text-align: right;\">484.994</td><td style=\"text-align: right;\">235219</td><td style=\"text-align: right;\">367.217</td><td style=\"text-align: right;\">0.18848 </td><td style=\"text-align: right;\">                  235219</td></tr>\n<tr><td>StackedEnsemble_BestOfFamily_1_AutoML_1_20231105_164830</td><td style=\"text-align: right;\">486.584</td><td style=\"text-align: right;\">236764</td><td style=\"text-align: right;\">368.531</td><td style=\"text-align: right;\">0.189123</td><td style=\"text-align: right;\">                  236764</td></tr>\n<tr><td>GBM_grid_1_AutoML_1_20231105_164830_model_20           </td><td style=\"text-align: right;\">486.971</td><td style=\"text-align: right;\">237141</td><td style=\"text-align: right;\">369.279</td><td style=\"text-align: right;\">0.189196</td><td style=\"text-align: right;\">                  237141</td></tr>\n<tr><td>GBM_grid_1_AutoML_1_20231105_164830_model_33           </td><td style=\"text-align: right;\">487.025</td><td style=\"text-align: right;\">237193</td><td style=\"text-align: right;\">369.442</td><td style=\"text-align: right;\">0.189136</td><td style=\"text-align: right;\">                  237193</td></tr>\n<tr><td>GBM_grid_1_AutoML_1_20231105_164830_model_32           </td><td style=\"text-align: right;\">487.35 </td><td style=\"text-align: right;\">237510</td><td style=\"text-align: right;\">368.991</td><td style=\"text-align: right;\">0.18936 </td><td style=\"text-align: right;\">                  237510</td></tr>\n<tr><td>GBM_grid_1_AutoML_1_20231105_164830_model_3            </td><td style=\"text-align: right;\">487.542</td><td style=\"text-align: right;\">237697</td><td style=\"text-align: right;\">369.775</td><td style=\"text-align: right;\">0.189339</td><td style=\"text-align: right;\">                  237697</td></tr>\n<tr><td>GBM_5_AutoML_1_20231105_164830                         </td><td style=\"text-align: right;\">487.768</td><td style=\"text-align: right;\">237917</td><td style=\"text-align: right;\">369.37 </td><td style=\"text-align: right;\">0.189443</td><td style=\"text-align: right;\">                  237917</td></tr>\n<tr><td>GBM_2_AutoML_1_20231105_164830                         </td><td style=\"text-align: right;\">487.979</td><td style=\"text-align: right;\">238123</td><td style=\"text-align: right;\">369.164</td><td style=\"text-align: right;\">0.189529</td><td style=\"text-align: right;\">                  238123</td></tr>\n<tr><td>GBM_grid_1_AutoML_1_20231105_164830_model_12           </td><td style=\"text-align: right;\">487.993</td><td style=\"text-align: right;\">238137</td><td style=\"text-align: right;\">369.068</td><td style=\"text-align: right;\">0.189447</td><td style=\"text-align: right;\">                  238137</td></tr>\n<tr><td>GBM_grid_1_AutoML_1_20231105_164830_model_37           </td><td style=\"text-align: right;\">488.315</td><td style=\"text-align: right;\">238451</td><td style=\"text-align: right;\">370.68 </td><td style=\"text-align: right;\">0.189701</td><td style=\"text-align: right;\">                  238451</td></tr>\n<tr><td>GBM_grid_1_AutoML_1_20231105_164830_model_26           </td><td style=\"text-align: right;\">488.361</td><td style=\"text-align: right;\">238497</td><td style=\"text-align: right;\">369.833</td><td style=\"text-align: right;\">0.189679</td><td style=\"text-align: right;\">                  238497</td></tr>\n<tr><td>GBM_grid_1_AutoML_1_20231105_164830_model_16           </td><td style=\"text-align: right;\">488.37 </td><td style=\"text-align: right;\">238505</td><td style=\"text-align: right;\">370.216</td><td style=\"text-align: right;\">0.18966 </td><td style=\"text-align: right;\">                  238505</td></tr>\n<tr><td>GBM_grid_1_AutoML_1_20231105_164830_model_6            </td><td style=\"text-align: right;\">488.505</td><td style=\"text-align: right;\">238638</td><td style=\"text-align: right;\">370.159</td><td style=\"text-align: right;\">0.18974 </td><td style=\"text-align: right;\">                  238638</td></tr>\n<tr><td>GBM_grid_1_AutoML_1_20231105_164830_model_13           </td><td style=\"text-align: right;\">488.537</td><td style=\"text-align: right;\">238669</td><td style=\"text-align: right;\">370.653</td><td style=\"text-align: right;\">0.189804</td><td style=\"text-align: right;\">                  238669</td></tr>\n<tr><td>GBM_grid_1_AutoML_1_20231105_164830_model_36           </td><td style=\"text-align: right;\">488.603</td><td style=\"text-align: right;\">238733</td><td style=\"text-align: right;\">369.778</td><td style=\"text-align: right;\">0.18975 </td><td style=\"text-align: right;\">                  238733</td></tr>\n<tr><td>GBM_grid_1_AutoML_1_20231105_164830_model_7            </td><td style=\"text-align: right;\">488.956</td><td style=\"text-align: right;\">239078</td><td style=\"text-align: right;\">369.877</td><td style=\"text-align: right;\">0.189825</td><td style=\"text-align: right;\">                  239078</td></tr>\n<tr><td>GBM_grid_1_AutoML_1_20231105_164830_model_30           </td><td style=\"text-align: right;\">489.024</td><td style=\"text-align: right;\">239145</td><td style=\"text-align: right;\">370.62 </td><td style=\"text-align: right;\">0.189938</td><td style=\"text-align: right;\">                  239145</td></tr>\n<tr><td>GBM_3_AutoML_1_20231105_164830                         </td><td style=\"text-align: right;\">489.111</td><td style=\"text-align: right;\">239229</td><td style=\"text-align: right;\">369.792</td><td style=\"text-align: right;\">0.1899  </td><td style=\"text-align: right;\">                  239229</td></tr>\n<tr><td>GBM_grid_1_AutoML_1_20231105_164830_model_34           </td><td style=\"text-align: right;\">489.199</td><td style=\"text-align: right;\">239316</td><td style=\"text-align: right;\">370.974</td><td style=\"text-align: right;\">0.190039</td><td style=\"text-align: right;\">                  239316</td></tr>\n<tr><td>GBM_1_AutoML_1_20231105_164830                         </td><td style=\"text-align: right;\">489.249</td><td style=\"text-align: right;\">239365</td><td style=\"text-align: right;\">369.627</td><td style=\"text-align: right;\">0.189949</td><td style=\"text-align: right;\">                  239365</td></tr>\n<tr><td>GBM_grid_1_AutoML_1_20231105_164830_model_22           </td><td style=\"text-align: right;\">489.3  </td><td style=\"text-align: right;\">239415</td><td style=\"text-align: right;\">370.951</td><td style=\"text-align: right;\">0.190074</td><td style=\"text-align: right;\">                  239415</td></tr>\n<tr><td>GBM_grid_1_AutoML_1_20231105_164830_model_5            </td><td style=\"text-align: right;\">489.532</td><td style=\"text-align: right;\">239641</td><td style=\"text-align: right;\">370.658</td><td style=\"text-align: right;\">0.190057</td><td style=\"text-align: right;\">                  239641</td></tr>\n<tr><td>GBM_grid_1_AutoML_1_20231105_164830_model_23           </td><td style=\"text-align: right;\">489.567</td><td style=\"text-align: right;\">239676</td><td style=\"text-align: right;\">371.622</td><td style=\"text-align: right;\">0.190237</td><td style=\"text-align: right;\">                  239676</td></tr>\n<tr><td>GBM_grid_1_AutoML_1_20231105_164830_model_27           </td><td style=\"text-align: right;\">489.656</td><td style=\"text-align: right;\">239763</td><td style=\"text-align: right;\">371.076</td><td style=\"text-align: right;\">0.190169</td><td style=\"text-align: right;\">                  239763</td></tr>\n<tr><td>GBM_grid_1_AutoML_1_20231105_164830_model_31           </td><td style=\"text-align: right;\">489.897</td><td style=\"text-align: right;\">240000</td><td style=\"text-align: right;\">370.883</td><td style=\"text-align: right;\">0.190077</td><td style=\"text-align: right;\">                  240000</td></tr>\n<tr><td>GBM_grid_1_AutoML_1_20231105_164830_model_24           </td><td style=\"text-align: right;\">490.417</td><td style=\"text-align: right;\">240509</td><td style=\"text-align: right;\">371.098</td><td style=\"text-align: right;\">0.190253</td><td style=\"text-align: right;\">                  240509</td></tr>\n<tr><td>GBM_grid_1_AutoML_1_20231105_164830_model_1            </td><td style=\"text-align: right;\">491.16 </td><td style=\"text-align: right;\">241238</td><td style=\"text-align: right;\">373.121</td><td style=\"text-align: right;\">0.190809</td><td style=\"text-align: right;\">                  241238</td></tr>\n<tr><td>GBM_grid_1_AutoML_1_20231105_164830_model_25           </td><td style=\"text-align: right;\">491.564</td><td style=\"text-align: right;\">241635</td><td style=\"text-align: right;\">371.775</td><td style=\"text-align: right;\">0.190613</td><td style=\"text-align: right;\">                  241635</td></tr>\n<tr><td>DeepLearning_grid_1_AutoML_1_20231105_164830_model_7   </td><td style=\"text-align: right;\">491.827</td><td style=\"text-align: right;\">241894</td><td style=\"text-align: right;\">373.688</td><td style=\"text-align: right;\">0.191229</td><td style=\"text-align: right;\">                  241894</td></tr>\n<tr><td>GBM_grid_1_AutoML_1_20231105_164830_model_11           </td><td style=\"text-align: right;\">491.837</td><td style=\"text-align: right;\">241903</td><td style=\"text-align: right;\">371.741</td><td style=\"text-align: right;\">0.190817</td><td style=\"text-align: right;\">                  241903</td></tr>\n<tr><td>DeepLearning_grid_2_AutoML_1_20231105_164830_model_7   </td><td style=\"text-align: right;\">491.904</td><td style=\"text-align: right;\">241970</td><td style=\"text-align: right;\">372.695</td><td style=\"text-align: right;\">0.190788</td><td style=\"text-align: right;\">                  241970</td></tr>\n<tr><td>DeepLearning_grid_3_AutoML_1_20231105_164830_model_7   </td><td style=\"text-align: right;\">492.046</td><td style=\"text-align: right;\">242109</td><td style=\"text-align: right;\">373.558</td><td style=\"text-align: right;\">0.190914</td><td style=\"text-align: right;\">                  242109</td></tr>\n<tr><td>DeepLearning_grid_1_AutoML_1_20231105_164830_model_17  </td><td style=\"text-align: right;\">492.826</td><td style=\"text-align: right;\">242878</td><td style=\"text-align: right;\">374.164</td><td style=\"text-align: right;\">0.192041</td><td style=\"text-align: right;\">                  242878</td></tr>\n<tr><td>GBM_4_AutoML_1_20231105_164830                         </td><td style=\"text-align: right;\">492.84 </td><td style=\"text-align: right;\">242892</td><td style=\"text-align: right;\">372.737</td><td style=\"text-align: right;\">0.191094</td><td style=\"text-align: right;\">                  242892</td></tr>\n<tr><td>DeepLearning_grid_2_AutoML_1_20231105_164830_model_12  </td><td style=\"text-align: right;\">492.857</td><td style=\"text-align: right;\">242908</td><td style=\"text-align: right;\">373.642</td><td style=\"text-align: right;\">0.190934</td><td style=\"text-align: right;\">                  242908</td></tr>\n<tr><td>GBM_grid_1_AutoML_1_20231105_164830_model_29           </td><td style=\"text-align: right;\">492.967</td><td style=\"text-align: right;\">243017</td><td style=\"text-align: right;\">372.488</td><td style=\"text-align: right;\">0.191204</td><td style=\"text-align: right;\">                  243017</td></tr>\n<tr><td>DeepLearning_grid_2_AutoML_1_20231105_164830_model_17  </td><td style=\"text-align: right;\">493.122</td><td style=\"text-align: right;\">243169</td><td style=\"text-align: right;\">372.817</td><td style=\"text-align: right;\">0.191824</td><td style=\"text-align: right;\">                  243169</td></tr>\n<tr><td>DeepLearning_grid_1_AutoML_1_20231105_164830_model_4   </td><td style=\"text-align: right;\">493.136</td><td style=\"text-align: right;\">243183</td><td style=\"text-align: right;\">374.615</td><td style=\"text-align: right;\">0.191482</td><td style=\"text-align: right;\">                  243183</td></tr>\n<tr><td>DeepLearning_grid_1_AutoML_1_20231105_164830_model_11  </td><td style=\"text-align: right;\">493.553</td><td style=\"text-align: right;\">243595</td><td style=\"text-align: right;\">375.899</td><td style=\"text-align: right;\">0.191971</td><td style=\"text-align: right;\">                  243595</td></tr>\n<tr><td>DeepLearning_grid_3_AutoML_1_20231105_164830_model_12  </td><td style=\"text-align: right;\">493.66 </td><td style=\"text-align: right;\">243700</td><td style=\"text-align: right;\">373.973</td><td style=\"text-align: right;\">0.191468</td><td style=\"text-align: right;\">                  243700</td></tr>\n<tr><td>DeepLearning_grid_1_AutoML_1_20231105_164830_model_14  </td><td style=\"text-align: right;\">493.805</td><td style=\"text-align: right;\">243843</td><td style=\"text-align: right;\">375.978</td><td style=\"text-align: right;\">0.191811</td><td style=\"text-align: right;\">                  243843</td></tr>\n<tr><td>DeepLearning_grid_1_AutoML_1_20231105_164830_model_12  </td><td style=\"text-align: right;\">494.04 </td><td style=\"text-align: right;\">244075</td><td style=\"text-align: right;\">375.682</td><td style=\"text-align: right;\">0.191711</td><td style=\"text-align: right;\">                  244075</td></tr>\n<tr><td>DeepLearning_grid_1_AutoML_1_20231105_164830_model_1   </td><td style=\"text-align: right;\">494.12 </td><td style=\"text-align: right;\">244154</td><td style=\"text-align: right;\">375.801</td><td style=\"text-align: right;\">0.191952</td><td style=\"text-align: right;\">                  244154</td></tr>\n<tr><td>DeepLearning_grid_3_AutoML_1_20231105_164830_model_17  </td><td style=\"text-align: right;\">494.253</td><td style=\"text-align: right;\">244286</td><td style=\"text-align: right;\">374.074</td><td style=\"text-align: right;\">0.191767</td><td style=\"text-align: right;\">                  244286</td></tr>\n<tr><td>DeepLearning_grid_1_AutoML_1_20231105_164830_model_6   </td><td style=\"text-align: right;\">494.349</td><td style=\"text-align: right;\">244381</td><td style=\"text-align: right;\">377.188</td><td style=\"text-align: right;\">0.192452</td><td style=\"text-align: right;\">                  244381</td></tr>\n<tr><td>GBM_grid_1_AutoML_1_20231105_164830_model_28           </td><td style=\"text-align: right;\">494.376</td><td style=\"text-align: right;\">244408</td><td style=\"text-align: right;\">374.863</td><td style=\"text-align: right;\">0.191869</td><td style=\"text-align: right;\">                  244408</td></tr>\n<tr><td>GBM_grid_1_AutoML_1_20231105_164830_model_17           </td><td style=\"text-align: right;\">494.928</td><td style=\"text-align: right;\">244954</td><td style=\"text-align: right;\">376.593</td><td style=\"text-align: right;\">0.191862</td><td style=\"text-align: right;\">                  244954</td></tr>\n<tr><td>DeepLearning_grid_1_AutoML_1_20231105_164830_model_13  </td><td style=\"text-align: right;\">495.047</td><td style=\"text-align: right;\">245071</td><td style=\"text-align: right;\">377.355</td><td style=\"text-align: right;\">0.192313</td><td style=\"text-align: right;\">                  245071</td></tr>\n<tr><td>DeepLearning_grid_1_AutoML_1_20231105_164830_model_2   </td><td style=\"text-align: right;\">495.998</td><td style=\"text-align: right;\">246014</td><td style=\"text-align: right;\">378.373</td><td style=\"text-align: right;\">0.192657</td><td style=\"text-align: right;\">                  246014</td></tr>\n<tr><td>GBM_grid_1_AutoML_1_20231105_164830_model_35           </td><td style=\"text-align: right;\">496.23 </td><td style=\"text-align: right;\">246244</td><td style=\"text-align: right;\">374.797</td><td style=\"text-align: right;\">0.192305</td><td style=\"text-align: right;\">                  246244</td></tr>\n<tr><td>DeepLearning_grid_1_AutoML_1_20231105_164830_model_9   </td><td style=\"text-align: right;\">496.241</td><td style=\"text-align: right;\">246256</td><td style=\"text-align: right;\">377.302</td><td style=\"text-align: right;\">0.192732</td><td style=\"text-align: right;\">                  246256</td></tr>\n<tr><td>DeepLearning_grid_1_AutoML_1_20231105_164830_model_8   </td><td style=\"text-align: right;\">496.288</td><td style=\"text-align: right;\">246302</td><td style=\"text-align: right;\">377.964</td><td style=\"text-align: right;\">0.192791</td><td style=\"text-align: right;\">                  246302</td></tr>\n<tr><td>DeepLearning_grid_2_AutoML_1_20231105_164830_model_10  </td><td style=\"text-align: right;\">496.483</td><td style=\"text-align: right;\">246495</td><td style=\"text-align: right;\">377.484</td><td style=\"text-align: right;\">0.192473</td><td style=\"text-align: right;\">                  246495</td></tr>\n<tr><td>DeepLearning_grid_3_AutoML_1_20231105_164830_model_10  </td><td style=\"text-align: right;\">497.014</td><td style=\"text-align: right;\">247023</td><td style=\"text-align: right;\">379.15 </td><td style=\"text-align: right;\">0.193543</td><td style=\"text-align: right;\">                  247023</td></tr>\n<tr><td>DeepLearning_1_AutoML_1_20231105_164830                </td><td style=\"text-align: right;\">497.654</td><td style=\"text-align: right;\">247659</td><td style=\"text-align: right;\">377.999</td><td style=\"text-align: right;\">0.192539</td><td style=\"text-align: right;\">                  247659</td></tr>\n<tr><td>DeepLearning_grid_2_AutoML_1_20231105_164830_model_13  </td><td style=\"text-align: right;\">499.101</td><td style=\"text-align: right;\">249102</td><td style=\"text-align: right;\">383.727</td><td style=\"text-align: right;\">0.195155</td><td style=\"text-align: right;\">                  249102</td></tr>\n<tr><td>GBM_grid_1_AutoML_1_20231105_164830_model_18           </td><td style=\"text-align: right;\">499.131</td><td style=\"text-align: right;\">249132</td><td style=\"text-align: right;\">377.44 </td><td style=\"text-align: right;\">0.193188</td><td style=\"text-align: right;\">                  249132</td></tr>\n<tr><td>DeepLearning_grid_1_AutoML_1_20231105_164830_model_10  </td><td style=\"text-align: right;\">499.618</td><td style=\"text-align: right;\">249619</td><td style=\"text-align: right;\">379.276</td><td style=\"text-align: right;\">0.194219</td><td style=\"text-align: right;\">                  249619</td></tr>\n<tr><td>DeepLearning_grid_1_AutoML_1_20231105_164830_model_15  </td><td style=\"text-align: right;\">499.759</td><td style=\"text-align: right;\">249759</td><td style=\"text-align: right;\">381.258</td><td style=\"text-align: right;\">0.193639</td><td style=\"text-align: right;\">                  249759</td></tr>\n<tr><td>DeepLearning_grid_2_AutoML_1_20231105_164830_model_4   </td><td style=\"text-align: right;\">500.072</td><td style=\"text-align: right;\">250072</td><td style=\"text-align: right;\">386.71 </td><td style=\"text-align: right;\">0.196141</td><td style=\"text-align: right;\">                  250072</td></tr>\n<tr><td>DeepLearning_grid_1_AutoML_1_20231105_164830_model_18  </td><td style=\"text-align: right;\">500.428</td><td style=\"text-align: right;\">250428</td><td style=\"text-align: right;\">383.843</td><td style=\"text-align: right;\">0.194112</td><td style=\"text-align: right;\">                  250428</td></tr>\n<tr><td>GBM_grid_1_AutoML_1_20231105_164830_model_4            </td><td style=\"text-align: right;\">500.708</td><td style=\"text-align: right;\">250709</td><td style=\"text-align: right;\">378.197</td><td style=\"text-align: right;\">0.193786</td><td style=\"text-align: right;\">                  250709</td></tr>\n<tr><td>DeepLearning_grid_3_AutoML_1_20231105_164830_model_4   </td><td style=\"text-align: right;\">501.052</td><td style=\"text-align: right;\">251054</td><td style=\"text-align: right;\">385.834</td><td style=\"text-align: right;\">0.196015</td><td style=\"text-align: right;\">                  251054</td></tr>\n<tr><td>DeepLearning_grid_3_AutoML_1_20231105_164830_model_13  </td><td style=\"text-align: right;\">501.131</td><td style=\"text-align: right;\">251133</td><td style=\"text-align: right;\">385.876</td><td style=\"text-align: right;\">0.196886</td><td style=\"text-align: right;\">                  251133</td></tr>\n<tr><td>GBM_grid_1_AutoML_1_20231105_164830_model_19           </td><td style=\"text-align: right;\">501.747</td><td style=\"text-align: right;\">251750</td><td style=\"text-align: right;\">378.243</td><td style=\"text-align: right;\">0.194085</td><td style=\"text-align: right;\">                  251750</td></tr>\n<tr><td>DeepLearning_grid_1_AutoML_1_20231105_164830_model_16  </td><td style=\"text-align: right;\">502.327</td><td style=\"text-align: right;\">252333</td><td style=\"text-align: right;\">384.732</td><td style=\"text-align: right;\">0.195775</td><td style=\"text-align: right;\">                  252333</td></tr>\n<tr><td>DeepLearning_grid_1_AutoML_1_20231105_164830_model_3   </td><td style=\"text-align: right;\">502.367</td><td style=\"text-align: right;\">252373</td><td style=\"text-align: right;\">384.528</td><td style=\"text-align: right;\">0.194516</td><td style=\"text-align: right;\">                  252373</td></tr>\n<tr><td>DeepLearning_grid_2_AutoML_1_20231105_164830_model_6   </td><td style=\"text-align: right;\">502.398</td><td style=\"text-align: right;\">252403</td><td style=\"text-align: right;\">387.825</td><td style=\"text-align: right;\">0.196551</td><td style=\"text-align: right;\">                  252403</td></tr>\n<tr><td>DeepLearning_grid_2_AutoML_1_20231105_164830_model_11  </td><td style=\"text-align: right;\">503.203</td><td style=\"text-align: right;\">253213</td><td style=\"text-align: right;\">387.644</td><td style=\"text-align: right;\">0.1964  </td><td style=\"text-align: right;\">                  253213</td></tr>\n<tr><td>DeepLearning_grid_1_AutoML_1_20231105_164830_model_5   </td><td style=\"text-align: right;\">503.241</td><td style=\"text-align: right;\">253251</td><td style=\"text-align: right;\">383.776</td><td style=\"text-align: right;\">0.195178</td><td style=\"text-align: right;\">                  253251</td></tr>\n<tr><td>GBM_grid_1_AutoML_1_20231105_164830_model_10           </td><td style=\"text-align: right;\">503.636</td><td style=\"text-align: right;\">253649</td><td style=\"text-align: right;\">379.957</td><td style=\"text-align: right;\">0.194817</td><td style=\"text-align: right;\">                  253649</td></tr>\n<tr><td>DeepLearning_grid_2_AutoML_1_20231105_164830_model_14  </td><td style=\"text-align: right;\">504.708</td><td style=\"text-align: right;\">254730</td><td style=\"text-align: right;\">391.046</td><td style=\"text-align: right;\">0.197509</td><td style=\"text-align: right;\">                  254730</td></tr>\n<tr><td>GBM_grid_1_AutoML_1_20231105_164830_model_9            </td><td style=\"text-align: right;\">505.032</td><td style=\"text-align: right;\">255057</td><td style=\"text-align: right;\">380.408</td><td style=\"text-align: right;\">0.195208</td><td style=\"text-align: right;\">                  255057</td></tr>\n<tr><td>DeepLearning_grid_3_AutoML_1_20231105_164830_model_6   </td><td style=\"text-align: right;\">507.634</td><td style=\"text-align: right;\">257693</td><td style=\"text-align: right;\">391.531</td><td style=\"text-align: right;\">0.199023</td><td style=\"text-align: right;\">                  257693</td></tr>\n<tr><td>DeepLearning_grid_3_AutoML_1_20231105_164830_model_11  </td><td style=\"text-align: right;\">508.228</td><td style=\"text-align: right;\">258296</td><td style=\"text-align: right;\">390.102</td><td style=\"text-align: right;\">0.19811 </td><td style=\"text-align: right;\">                  258296</td></tr>\n<tr><td>DeepLearning_grid_2_AutoML_1_20231105_164830_model_1   </td><td style=\"text-align: right;\">508.595</td><td style=\"text-align: right;\">258669</td><td style=\"text-align: right;\">391.333</td><td style=\"text-align: right;\">0.198122</td><td style=\"text-align: right;\">                  258669</td></tr>\n<tr><td>GBM_grid_1_AutoML_1_20231105_164830_model_21           </td><td style=\"text-align: right;\">510.365</td><td style=\"text-align: right;\">260472</td><td style=\"text-align: right;\">384.964</td><td style=\"text-align: right;\">0.197139</td><td style=\"text-align: right;\">                  260472</td></tr>\n<tr><td>DeepLearning_grid_2_AutoML_1_20231105_164830_model_2   </td><td style=\"text-align: right;\">512.305</td><td style=\"text-align: right;\">262456</td><td style=\"text-align: right;\">391.961</td><td style=\"text-align: right;\">0.1983  </td><td style=\"text-align: right;\">                  262456</td></tr>\n<tr><td>GBM_grid_1_AutoML_1_20231105_164830_model_2            </td><td style=\"text-align: right;\">512.436</td><td style=\"text-align: right;\">262591</td><td style=\"text-align: right;\">385.756</td><td style=\"text-align: right;\">0.197806</td><td style=\"text-align: right;\">                  262591</td></tr>\n<tr><td>XRT_1_AutoML_1_20231105_164830                         </td><td style=\"text-align: right;\">512.825</td><td style=\"text-align: right;\">262990</td><td style=\"text-align: right;\">385.706</td><td style=\"text-align: right;\">0.198253</td><td style=\"text-align: right;\">                  262990</td></tr>\n<tr><td>DeepLearning_grid_3_AutoML_1_20231105_164830_model_1   </td><td style=\"text-align: right;\">513.193</td><td style=\"text-align: right;\">263367</td><td style=\"text-align: right;\">394.597</td><td style=\"text-align: right;\">0.198248</td><td style=\"text-align: right;\">                  263367</td></tr>\n<tr><td>DeepLearning_grid_2_AutoML_1_20231105_164830_model_3   </td><td style=\"text-align: right;\">515.443</td><td style=\"text-align: right;\">265681</td><td style=\"text-align: right;\">399.38 </td><td style=\"text-align: right;\">0.201921</td><td style=\"text-align: right;\">                  265681</td></tr>\n<tr><td>DeepLearning_grid_3_AutoML_1_20231105_164830_model_14  </td><td style=\"text-align: right;\">515.779</td><td style=\"text-align: right;\">266028</td><td style=\"text-align: right;\">403.13 </td><td style=\"text-align: right;\">0.202127</td><td style=\"text-align: right;\">                  266028</td></tr>\n<tr><td>DeepLearning_grid_2_AutoML_1_20231105_164830_model_9   </td><td style=\"text-align: right;\">517.159</td><td style=\"text-align: right;\">267453</td><td style=\"text-align: right;\">407.556</td><td style=\"text-align: right;\">0.204066</td><td style=\"text-align: right;\">                  267453</td></tr>\n<tr><td>DeepLearning_grid_3_AutoML_1_20231105_164830_model_2   </td><td style=\"text-align: right;\">517.376</td><td style=\"text-align: right;\">267678</td><td style=\"text-align: right;\">401.761</td><td style=\"text-align: right;\">0.20267 </td><td style=\"text-align: right;\">                  267678</td></tr>\n<tr><td>DeepLearning_grid_3_AutoML_1_20231105_164830_model_3   </td><td style=\"text-align: right;\">517.695</td><td style=\"text-align: right;\">268008</td><td style=\"text-align: right;\">400.395</td><td style=\"text-align: right;\">0.201237</td><td style=\"text-align: right;\">                  268008</td></tr>\n<tr><td>GBM_grid_1_AutoML_1_20231105_164830_model_15           </td><td style=\"text-align: right;\">519.497</td><td style=\"text-align: right;\">269877</td><td style=\"text-align: right;\">391.149</td><td style=\"text-align: right;\">0.200266</td><td style=\"text-align: right;\">                  269877</td></tr>\n<tr><td>DRF_1_AutoML_1_20231105_164830                         </td><td style=\"text-align: right;\">520.693</td><td style=\"text-align: right;\">271121</td><td style=\"text-align: right;\">390.72 </td><td style=\"text-align: right;\">0.200757</td><td style=\"text-align: right;\">                  271121</td></tr>\n<tr><td>GBM_grid_1_AutoML_1_20231105_164830_model_8            </td><td style=\"text-align: right;\">527.752</td><td style=\"text-align: right;\">278522</td><td style=\"text-align: right;\">395.747</td><td style=\"text-align: right;\">0.203139</td><td style=\"text-align: right;\">                  278522</td></tr>\n<tr><td>DeepLearning_grid_2_AutoML_1_20231105_164830_model_16  </td><td style=\"text-align: right;\">532.296</td><td style=\"text-align: right;\">283339</td><td style=\"text-align: right;\">419.801</td><td style=\"text-align: right;\">0.207674</td><td style=\"text-align: right;\">                  283339</td></tr>\n<tr><td>DeepLearning_grid_3_AutoML_1_20231105_164830_model_9   </td><td style=\"text-align: right;\">532.406</td><td style=\"text-align: right;\">283456</td><td style=\"text-align: right;\">423.501</td><td style=\"text-align: right;\">0.212551</td><td style=\"text-align: right;\">                  283456</td></tr>\n<tr><td>DeepLearning_grid_3_AutoML_1_20231105_164830_model_16  </td><td style=\"text-align: right;\">534.8  </td><td style=\"text-align: right;\">286011</td><td style=\"text-align: right;\">418.261</td><td style=\"text-align: right;\">0.209167</td><td style=\"text-align: right;\">                  286011</td></tr>\n<tr><td>GBM_grid_1_AutoML_1_20231105_164830_model_14           </td><td style=\"text-align: right;\">538.166</td><td style=\"text-align: right;\">289622</td><td style=\"text-align: right;\">403.727</td><td style=\"text-align: right;\">0.207154</td><td style=\"text-align: right;\">                  289622</td></tr>\n<tr><td>DeepLearning_grid_3_AutoML_1_20231105_164830_model_5   </td><td style=\"text-align: right;\">539.211</td><td style=\"text-align: right;\">290749</td><td style=\"text-align: right;\">428.392</td><td style=\"text-align: right;\">0.21333 </td><td style=\"text-align: right;\">                  290749</td></tr>\n<tr><td>DeepLearning_grid_2_AutoML_1_20231105_164830_model_5   </td><td style=\"text-align: right;\">539.325</td><td style=\"text-align: right;\">290871</td><td style=\"text-align: right;\">425.887</td><td style=\"text-align: right;\">0.211737</td><td style=\"text-align: right;\">                  290871</td></tr>\n<tr><td>DeepLearning_grid_2_AutoML_1_20231105_164830_model_8   </td><td style=\"text-align: right;\">553.373</td><td style=\"text-align: right;\">306222</td><td style=\"text-align: right;\">445.979</td><td style=\"text-align: right;\">0.220699</td><td style=\"text-align: right;\">                  306222</td></tr>\n<tr><td>DeepLearning_grid_2_AutoML_1_20231105_164830_model_18  </td><td style=\"text-align: right;\">555.334</td><td style=\"text-align: right;\">308396</td><td style=\"text-align: right;\">450.299</td><td style=\"text-align: right;\">0.223952</td><td style=\"text-align: right;\">                  308396</td></tr>\n<tr><td>DeepLearning_grid_2_AutoML_1_20231105_164830_model_15  </td><td style=\"text-align: right;\">559.92 </td><td style=\"text-align: right;\">313510</td><td style=\"text-align: right;\">449.621</td><td style=\"text-align: right;\">0.220624</td><td style=\"text-align: right;\">                  313510</td></tr>\n<tr><td>DeepLearning_grid_3_AutoML_1_20231105_164830_model_15  </td><td style=\"text-align: right;\">574.332</td><td style=\"text-align: right;\">329857</td><td style=\"text-align: right;\">470.36 </td><td style=\"text-align: right;\">0.23232 </td><td style=\"text-align: right;\">                  329857</td></tr>\n<tr><td>DeepLearning_grid_3_AutoML_1_20231105_164830_model_8   </td><td style=\"text-align: right;\">588.669</td><td style=\"text-align: right;\">346531</td><td style=\"text-align: right;\">482.726</td><td style=\"text-align: right;\">0.23713 </td><td style=\"text-align: right;\">                  346531</td></tr>\n<tr><td>DeepLearning_grid_3_AutoML_1_20231105_164830_model_18  </td><td style=\"text-align: right;\">610.615</td><td style=\"text-align: right;\">372851</td><td style=\"text-align: right;\">507.612</td><td style=\"text-align: right;\">0.248431</td><td style=\"text-align: right;\">                  372851</td></tr>\n<tr><td>GLM_1_AutoML_1_20231105_164830                         </td><td style=\"text-align: right;\">715.658</td><td style=\"text-align: right;\">512166</td><td style=\"text-align: right;\">568.336</td><td style=\"text-align: right;\">0.271537</td><td style=\"text-align: right;\">                  512166</td></tr>\n</tbody>\n</table><pre style='font-size: smaller; margin-bottom: 1em;'>[102 rows x 6 columns]</pre>"
     },
     "execution_count": 34,
     "metadata": {},
     "output_type": "execute_result"
    }
   ],
   "source": [
    "# View the AutoML Leaderboard\n",
    "automl_leaderboard = AutoML.leaderboard\n",
    "automl_leaderboard.head(rows=automl_leaderboard.nrows)"
   ],
   "metadata": {
    "collapsed": false,
    "ExecuteTime": {
     "end_time": "2023-11-05T16:44:22.586245300Z",
     "start_time": "2023-11-05T16:44:22.327505700Z"
    }
   },
   "id": "7637f0528a67364a"
  },
  {
   "cell_type": "code",
   "execution_count": 35,
   "outputs": [
    {
     "name": "stdout",
     "output_type": "stream",
     "text": [
      "Model Details\n",
      "=============\n",
      "H2OStackedEnsembleEstimator : Stacked Ensemble\n",
      "Model Key: StackedEnsemble_AllModels_1_AutoML_1_20231105_164830\n",
      "\n",
      "\n",
      "Model Summary for Stacked Ensemble: \n",
      "key                                        value\n",
      "-----------------------------------------  ----------------\n",
      "Stacking strategy                          cross_validation\n",
      "Number of base models (used / total)       24/100\n",
      "# GBM base models (used / total)           13/42\n",
      "# DeepLearning base models (used / total)  11/55\n",
      "# DRF base models (used / total)           0/2\n",
      "# GLM base models (used / total)           0/1\n",
      "Metalearner algorithm                      GLM\n",
      "Metalearner fold assignment scheme         Random\n",
      "Metalearner nfolds                         5\n",
      "Metalearner fold_column\n",
      "Custom metalearner hyperparameters         None\n",
      "\n",
      "ModelMetricsRegressionGLM: stackedensemble\n",
      "** Reported on train data. **\n",
      "\n",
      "MSE: 205595.47205154574\n",
      "RMSE: 453.42636894157994\n",
      "MAE: 341.82591003370726\n",
      "RMSLE: 0.17696717348938112\n",
      "Mean Residual Deviance: 205595.47205154574\n",
      "R^2: 0.5898701067589984\n",
      "Null degrees of freedom: 9960\n",
      "Residual degrees of freedom: 9936\n",
      "Null deviance: 4993562886.999817\n",
      "Residual deviance: 2047936497.1054473\n",
      "AIC: 150179.63838497413\n",
      "\n",
      "ModelMetricsRegressionGLM: stackedensemble\n",
      "** Reported on cross-validation data. **\n",
      "\n",
      "MSE: 235218.86262704252\n",
      "RMSE: 484.993672770112\n",
      "MAE: 367.2168263034744\n",
      "RMSLE: 0.18848028751857548\n",
      "Mean Residual Deviance: 235218.86262704252\n",
      "R^2: 0.5407389107595267\n",
      "Null degrees of freedom: 50940\n",
      "Residual degrees of freedom: 50918\n",
      "Null deviance: 26091085668.171944\n",
      "Residual deviance: 11982284081.084173\n",
      "AIC: 774664.4238020381\n",
      "\n",
      "Cross-Validation Metrics Summary: \n",
      "                        mean         sd           cv_1_valid    cv_2_valid    cv_3_valid    cv_4_valid    cv_5_valid\n",
      "----------------------  -----------  -----------  ------------  ------------  ------------  ------------  ------------\n",
      "mae                     367.217      1.399        365.81        369.419       367.654       366.436       366.769\n",
      "mean_residual_deviance  235218       1615.14      236353        237209        234894        234574        233059\n",
      "mse                     235218       1615.14      236353        237209        234894        234574        233059\n",
      "null_deviance           5.21822e+09  3.60849e+07  5.27267e+09   5.18301e+09   5.20702e+09   5.23476e+09   5.19363e+09\n",
      "r2                      0.540705     0.00489886   0.541877      0.535474      0.535671      0.545787      0.544716\n",
      "residual_deviance       2.39646e+09  2.39874e+07  2.41553e+09   2.40743e+09   2.4173e+09    2.37764e+09   2.36438e+09\n",
      "rmse                    484.99       1.66531      486.162       487.041       484.659       484.329       482.761\n",
      "rmsle                   0.188468     0.00189193   0.189965      0.189396      0.189032      0.185181      0.188767\n"
     ]
    }
   ],
   "source": [
    "best_model = AutoML.get_best_model()\n",
    "print(best_model)"
   ],
   "metadata": {
    "collapsed": false,
    "ExecuteTime": {
     "end_time": "2023-11-05T16:44:35.102546100Z",
     "start_time": "2023-11-05T16:44:34.854969900Z"
    }
   },
   "id": "114449271ee79599"
  },
  {
   "cell_type": "code",
   "execution_count": 29,
   "outputs": [
    {
     "name": "stdout",
     "output_type": "stream",
     "text": [
      "Parse progress: |████████████████████████████████████████████████████████████████| (done) 100%\n",
      "stackedensemble prediction progress: |███████████████████████████████████████████| (done) 100%\n"
     ]
    }
   ],
   "source": [
    "test_data = h2o.import_file('./Datasets/test_cleaned_110523.csv')\n",
    "output = AutoML.predict(test_data)"
   ],
   "metadata": {
    "collapsed": false,
    "ExecuteTime": {
     "end_time": "2023-11-05T16:39:12.658674800Z",
     "start_time": "2023-11-05T16:39:11.121886Z"
    }
   },
   "id": "fae4347a70a2ef1a"
  },
  {
   "cell_type": "code",
   "execution_count": 32,
   "outputs": [
    {
     "data": {
      "text/plain": "           predict\n0      3288.541880\n1      2712.107961\n2      3663.413549\n3      1946.566404\n4      2581.616435\n...            ...\n29995  2765.614707\n29996  2843.007218\n29997  2680.420784\n29998  3271.409759\n29999  3540.597162\n\n[30000 rows x 1 columns]",
      "text/html": "<div>\n<style scoped>\n    .dataframe tbody tr th:only-of-type {\n        vertical-align: middle;\n    }\n\n    .dataframe tbody tr th {\n        vertical-align: top;\n    }\n\n    .dataframe thead th {\n        text-align: right;\n    }\n</style>\n<table border=\"1\" class=\"dataframe\">\n  <thead>\n    <tr style=\"text-align: right;\">\n      <th></th>\n      <th>predict</th>\n    </tr>\n  </thead>\n  <tbody>\n    <tr>\n      <th>0</th>\n      <td>3288.541880</td>\n    </tr>\n    <tr>\n      <th>1</th>\n      <td>2712.107961</td>\n    </tr>\n    <tr>\n      <th>2</th>\n      <td>3663.413549</td>\n    </tr>\n    <tr>\n      <th>3</th>\n      <td>1946.566404</td>\n    </tr>\n    <tr>\n      <th>4</th>\n      <td>2581.616435</td>\n    </tr>\n    <tr>\n      <th>...</th>\n      <td>...</td>\n    </tr>\n    <tr>\n      <th>29995</th>\n      <td>2765.614707</td>\n    </tr>\n    <tr>\n      <th>29996</th>\n      <td>2843.007218</td>\n    </tr>\n    <tr>\n      <th>29997</th>\n      <td>2680.420784</td>\n    </tr>\n    <tr>\n      <th>29998</th>\n      <td>3271.409759</td>\n    </tr>\n    <tr>\n      <th>29999</th>\n      <td>3540.597162</td>\n    </tr>\n  </tbody>\n</table>\n<p>30000 rows × 1 columns</p>\n</div>"
     },
     "execution_count": 32,
     "metadata": {},
     "output_type": "execute_result"
    }
   ],
   "source": [
    "output.as_data_frame()"
   ],
   "metadata": {
    "collapsed": false,
    "ExecuteTime": {
     "end_time": "2023-11-05T16:41:39.396373100Z",
     "start_time": "2023-11-05T16:41:39.301849500Z"
    }
   },
   "id": "51be5bdff1f972af"
  },
  {
   "cell_type": "code",
   "execution_count": 33,
   "outputs": [],
   "source": [
    "output.as_data_frame().to_csv('./Datasets/results/test_cleaned_110523_automl.csv')"
   ],
   "metadata": {
    "collapsed": false,
    "ExecuteTime": {
     "end_time": "2023-11-05T16:41:47.719158300Z",
     "start_time": "2023-11-05T16:41:47.598099300Z"
    }
   },
   "id": "dc9d045271d65af8"
  }
 ],
 "metadata": {
  "kernelspec": {
   "display_name": "Python 3",
   "language": "python",
   "name": "python3"
  },
  "language_info": {
   "codemirror_mode": {
    "name": "ipython",
    "version": 2
   },
   "file_extension": ".py",
   "mimetype": "text/x-python",
   "name": "python",
   "nbconvert_exporter": "python",
   "pygments_lexer": "ipython2",
   "version": "2.7.6"
  }
 },
 "nbformat": 4,
 "nbformat_minor": 5
}
