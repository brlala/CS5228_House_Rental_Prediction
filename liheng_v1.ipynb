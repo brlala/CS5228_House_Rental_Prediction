{
 "cells": [
  {
   "cell_type": "code",
   "execution_count": 10,
   "id": "initial_id",
   "metadata": {
    "collapsed": true,
    "ExecuteTime": {
     "end_time": "2023-11-06T06:26:33.187476400Z",
     "start_time": "2023-11-06T06:26:32.710596400Z"
    }
   },
   "outputs": [
    {
     "data": {
      "text/plain": "((60000, 70), (30000, 70))"
     },
     "execution_count": 10,
     "metadata": {},
     "output_type": "execute_result"
    }
   ],
   "source": [
    "import pandas as pd\n",
    "from sklearn.preprocessing import LabelEncoder, OneHotEncoder\n",
    "\n",
    "# Load your datasets\n",
    "train_set = pd.read_csv('./Datasets/cleaned_train.csv')\n",
    "test_set = pd.read_csv('./Datasets/cleaned_test.csv')\n",
    "\n",
    "# Drop the specified columns\n",
    "columns_to_drop = ['town', 'region', 'mrt_nearest', 'mall_nearest', 'mrt_planned_nearest']\n",
    "X_train = train_set.drop(columns_to_drop, axis=1)\n",
    "X_test = test_set.drop(columns_to_drop, axis=1)\n",
    "\n",
    "# Identify the remaining categorical columns\n",
    "remaining_categorical_columns = ['flat_model', 'subzone', 'planning_area']\n",
    "\n",
    "# Apply one-hot encoding to 'flat_model' and 'planning_area'\n",
    "one_hot_columns = ['flat_model', 'planning_area']\n",
    "\n",
    "# Reinitialize the encoders\n",
    "encoder = OneHotEncoder(sparse_output=False, handle_unknown='ignore')\n",
    "label_encoder = LabelEncoder()\n",
    "\n",
    "# Apply one-hot encoding to 'flat_model' and 'planning_area'\n",
    "X_train_one_hot = encoder.fit_transform(X_train[one_hot_columns])\n",
    "X_test_one_hot = encoder.transform(X_test[one_hot_columns])\n",
    "X_train_one_hot = pd.DataFrame(X_train_one_hot, columns=encoder.get_feature_names_out(one_hot_columns))\n",
    "X_test_one_hot = pd.DataFrame(X_test_one_hot, columns=encoder.get_feature_names_out(one_hot_columns))\n",
    "\n",
    "# Apply label encoding to 'subzone'\n",
    "X_train['subzone'] = label_encoder.fit_transform(X_train['subzone'])\n",
    "X_test['subzone'] = label_encoder.transform(X_test['subzone'])\n",
    "\n",
    "# Combine the processed data\n",
    "X_train = X_train.drop(one_hot_columns, axis=1)\n",
    "X_test = X_test.drop(one_hot_columns, axis=1)\n",
    "X_train = pd.concat([X_train, X_train_one_hot], axis=1)\n",
    "X_test = pd.concat([X_test, X_test_one_hot], axis=1)\n",
    "\n",
    "# Align the training and test sets\n",
    "X_train, X_test = X_train.align(X_test, join='left', axis=1, fill_value=0)\n",
    "\n",
    "X_train.shape, X_test.shape"
   ]
  },
  {
   "cell_type": "code",
   "execution_count": 11,
   "outputs": [],
   "source": [
    "X_train.to_csv('./Datasets/train_set_v1.csv', index=False)\n",
    "X_test.to_csv('./Datasets/test_set_v1.csv', index=False)"
   ],
   "metadata": {
    "collapsed": false,
    "ExecuteTime": {
     "end_time": "2023-11-06T06:26:38.396735800Z",
     "start_time": "2023-11-06T06:26:35.231121900Z"
    }
   },
   "id": "ab8db4c6657d6396"
  }
 ],
 "metadata": {
  "kernelspec": {
   "display_name": "Python 3",
   "language": "python",
   "name": "python3"
  },
  "language_info": {
   "codemirror_mode": {
    "name": "ipython",
    "version": 2
   },
   "file_extension": ".py",
   "mimetype": "text/x-python",
   "name": "python",
   "nbconvert_exporter": "python",
   "pygments_lexer": "ipython2",
   "version": "2.7.6"
  }
 },
 "nbformat": 4,
 "nbformat_minor": 5
}
