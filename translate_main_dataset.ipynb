{
 "cells": [
  {
   "cell_type": "code",
   "execution_count": 1,
   "id": "initial_id",
   "metadata": {
    "collapsed": true,
    "ExecuteTime": {
     "end_time": "2023-11-04T09:23:54.436372600Z",
     "start_time": "2023-11-04T09:23:53.749944500Z"
    }
   },
   "outputs": [
    {
     "name": "stderr",
     "output_type": "stream",
     "text": [
      "C:\\Users\\User\\AppData\\Local\\Temp\\ipykernel_29888\\1053218678.py:2: DtypeWarning: Columns (5,12,13,14) have mixed types. Specify dtype option on import or set low_memory=False.\n",
      "  data = pd.read_csv('./Datasets/train_added.csv')\n"
     ]
    },
    {
     "data": {
      "text/plain": "  rent_approval_date             town block            street_name  flat_type  \\\n0            2021-09      jurong east   257  jurong east street 24     3 room   \n1            2022-05            bedok   119       bedok north road     4-room   \n2            2022-10        toa payoh   157     lorong 1 toa payoh     3-room   \n3            2021-08        pasir ris   250    pasir ris street 21  executive   \n4            2022-11  kallang/whampoa    34           whampoa west     3-room   \n\n       flat_model  floor_area_sqm furnished  lease_commence_date  latitude  \\\n0  new generation            67.0       yes               1983.0  1.344518   \n1  new generation            92.0       yes               1978.0  1.330186   \n2        improved            67.0       yes               1971.0  1.332242   \n3       apartment           149.0       yes               1993.0  1.370239   \n4        improved            68.0       yes               1972.0  1.320502   \n\n    longitude  elevation            subzone planning_area          region  \\\n0  103.738630          0         yuhua east   jurong east     west region   \n1  103.938717          0        bedok north         bedok     east region   \n2  103.845643          0  toa payoh central     toa payoh  central region   \n3  103.962894          0    pasir ris drive     pasir ris     east region   \n4  103.863341          0          bendemeer       kallang  central region   \n\n   monthly_rent  \n0          1600  \n1          2250  \n2          1900  \n3          2850  \n4          2100  ",
      "text/html": "<div>\n<style scoped>\n    .dataframe tbody tr th:only-of-type {\n        vertical-align: middle;\n    }\n\n    .dataframe tbody tr th {\n        vertical-align: top;\n    }\n\n    .dataframe thead th {\n        text-align: right;\n    }\n</style>\n<table border=\"1\" class=\"dataframe\">\n  <thead>\n    <tr style=\"text-align: right;\">\n      <th></th>\n      <th>rent_approval_date</th>\n      <th>town</th>\n      <th>block</th>\n      <th>street_name</th>\n      <th>flat_type</th>\n      <th>flat_model</th>\n      <th>floor_area_sqm</th>\n      <th>furnished</th>\n      <th>lease_commence_date</th>\n      <th>latitude</th>\n      <th>longitude</th>\n      <th>elevation</th>\n      <th>subzone</th>\n      <th>planning_area</th>\n      <th>region</th>\n      <th>monthly_rent</th>\n    </tr>\n  </thead>\n  <tbody>\n    <tr>\n      <th>0</th>\n      <td>2021-09</td>\n      <td>jurong east</td>\n      <td>257</td>\n      <td>jurong east street 24</td>\n      <td>3 room</td>\n      <td>new generation</td>\n      <td>67.0</td>\n      <td>yes</td>\n      <td>1983.0</td>\n      <td>1.344518</td>\n      <td>103.738630</td>\n      <td>0</td>\n      <td>yuhua east</td>\n      <td>jurong east</td>\n      <td>west region</td>\n      <td>1600</td>\n    </tr>\n    <tr>\n      <th>1</th>\n      <td>2022-05</td>\n      <td>bedok</td>\n      <td>119</td>\n      <td>bedok north road</td>\n      <td>4-room</td>\n      <td>new generation</td>\n      <td>92.0</td>\n      <td>yes</td>\n      <td>1978.0</td>\n      <td>1.330186</td>\n      <td>103.938717</td>\n      <td>0</td>\n      <td>bedok north</td>\n      <td>bedok</td>\n      <td>east region</td>\n      <td>2250</td>\n    </tr>\n    <tr>\n      <th>2</th>\n      <td>2022-10</td>\n      <td>toa payoh</td>\n      <td>157</td>\n      <td>lorong 1 toa payoh</td>\n      <td>3-room</td>\n      <td>improved</td>\n      <td>67.0</td>\n      <td>yes</td>\n      <td>1971.0</td>\n      <td>1.332242</td>\n      <td>103.845643</td>\n      <td>0</td>\n      <td>toa payoh central</td>\n      <td>toa payoh</td>\n      <td>central region</td>\n      <td>1900</td>\n    </tr>\n    <tr>\n      <th>3</th>\n      <td>2021-08</td>\n      <td>pasir ris</td>\n      <td>250</td>\n      <td>pasir ris street 21</td>\n      <td>executive</td>\n      <td>apartment</td>\n      <td>149.0</td>\n      <td>yes</td>\n      <td>1993.0</td>\n      <td>1.370239</td>\n      <td>103.962894</td>\n      <td>0</td>\n      <td>pasir ris drive</td>\n      <td>pasir ris</td>\n      <td>east region</td>\n      <td>2850</td>\n    </tr>\n    <tr>\n      <th>4</th>\n      <td>2022-11</td>\n      <td>kallang/whampoa</td>\n      <td>34</td>\n      <td>whampoa west</td>\n      <td>3-room</td>\n      <td>improved</td>\n      <td>68.0</td>\n      <td>yes</td>\n      <td>1972.0</td>\n      <td>1.320502</td>\n      <td>103.863341</td>\n      <td>0</td>\n      <td>bendemeer</td>\n      <td>kallang</td>\n      <td>central region</td>\n      <td>2100</td>\n    </tr>\n  </tbody>\n</table>\n</div>"
     },
     "execution_count": 1,
     "metadata": {},
     "output_type": "execute_result"
    }
   ],
   "source": [
    "import pandas as pd\n",
    "data = pd.read_csv('./Datasets/train_added.csv')\n",
    "\n",
    "# Display the first few rows of the new dataset\n",
    "data.head()"
   ]
  },
  {
   "cell_type": "code",
   "execution_count": 2,
   "outputs": [
    {
     "data": {
      "text/plain": "(8614,\n [(('jurong east', '257', 'jurong east street 24'),\n   {'latitude': 1.344518043, 'longitude': 103.7386303}),\n  (('bedok', '119', 'bedok north road'),\n   {'latitude': 1.33018552, 'longitude': 103.9387166}),\n  (('toa payoh', '157', 'lorong 1 toa payoh'),\n   {'latitude': 1.332242149, 'longitude': 103.8456431}),\n  (('pasir ris', '250', 'pasir ris street 21'),\n   {'latitude': 1.370238552, 'longitude': 103.9628942}),\n  (('kallang/whampoa', '34', 'whampoa west'),\n   {'latitude': 1.320501696, 'longitude': 103.8633413})])"
     },
     "execution_count": 2,
     "metadata": {},
     "output_type": "execute_result"
    }
   ],
   "source": [
    "# Find unique combinations of town, block, and street_name with non-missing latitude and longitude\n",
    "unique_locations = data.dropna(subset=['latitude', 'longitude'])\n",
    "location_keys = ['town', 'block', 'street_name']\n",
    "location_coordinates = unique_locations[location_keys + ['latitude', 'longitude']].drop_duplicates()\n",
    "\n",
    "# Create a dictionary to map from (town, block, street_name) to (latitude, longitude)\n",
    "coordinates_map = location_coordinates.set_index(location_keys).to_dict('index')\n",
    "\n",
    "# Check how many unique location combinations we have\n",
    "unique_location_count = len(coordinates_map)\n",
    "unique_location_count, list(coordinates_map.items())[:5]  # Show the first 5 entries for an overview"
   ],
   "metadata": {
    "collapsed": false,
    "ExecuteTime": {
     "end_time": "2023-11-04T09:23:54.574997800Z",
     "start_time": "2023-11-04T09:23:54.440371100Z"
    }
   },
   "id": "a55bc337bdae00c0"
  },
  {
   "cell_type": "code",
   "execution_count": 3,
   "outputs": [
    {
     "data": {
      "text/plain": "latitude     94748\nlongitude    94748\ndtype: int64"
     },
     "execution_count": 3,
     "metadata": {},
     "output_type": "execute_result"
    }
   ],
   "source": [
    "# Function to apply the mapping for filling missing values\n",
    "def fill_coordinates(row, coord_map):\n",
    "    if pd.isna(row['latitude']) or pd.isna(row['longitude']):\n",
    "        key = (row['town'], row['block'], row['street_name'])\n",
    "        if key in coord_map:\n",
    "            row['latitude'], row['longitude'] = coord_map[key]['latitude'], coord_map[key]['longitude']\n",
    "    return row\n",
    "\n",
    "# Apply the function to fill in the missing latitude and longitude\n",
    "data_filled = data.apply(lambda row: fill_coordinates(row, coordinates_map), axis=1)\n",
    "\n",
    "# Now check how many are still missing after this operation\n",
    "remaining_missing_lat_long = data_filled[['latitude', 'longitude']].isnull().sum()\n",
    "remaining_missing_lat_long"
   ],
   "metadata": {
    "collapsed": false,
    "ExecuteTime": {
     "end_time": "2023-11-04T09:24:07.552066900Z",
     "start_time": "2023-11-04T09:23:57.758783700Z"
    }
   },
   "id": "57a7b5c8c8845fdb"
  },
  {
   "cell_type": "code",
   "execution_count": 4,
   "outputs": [
    {
     "data": {
      "text/plain": "latitude     94654\nlongitude    94654\ndtype: int64"
     },
     "execution_count": 4,
     "metadata": {},
     "output_type": "execute_result"
    }
   ],
   "source": [
    "# Redefine the function to fill coordinates without block\n",
    "def fill_coordinates_without_block(row, coord_map):\n",
    "    if pd.isna(row['latitude']) or pd.isna(row['longitude']):\n",
    "        key = (row['town'], row['street_name'])\n",
    "        if key in coord_map:\n",
    "            row['latitude'], row['longitude'] = coord_map[key]['latitude'], coord_map[key]['longitude']\n",
    "    return row\n",
    "\n",
    "# Group the data by town and street_name and calculate the mean latitude and longitude for these groups\n",
    "location_coordinates_mean = unique_locations.groupby(['town', 'street_name']).agg({\n",
    "    'latitude': 'mean',\n",
    "    'longitude': 'mean'\n",
    "}).reset_index()\n",
    "\n",
    "# Create a dictionary to map from (town, street_name) to (mean_latitude, mean_longitude)\n",
    "coordinates_mean_map = location_coordinates_mean.set_index(['town', 'street_name']).to_dict('index')\n",
    "\n",
    "# Apply the new mean-based mapping to fill in the missing latitude and longitude\n",
    "data_filled_mean = data.apply(lambda row: fill_coordinates_without_block(row, coordinates_mean_map), axis=1)\n",
    "\n",
    "# Check how many are still missing after this operation\n",
    "remaining_missing_lat_long_mean = data_filled_mean[['latitude', 'longitude']].isnull().sum()\n",
    "remaining_missing_lat_long_mean"
   ],
   "metadata": {
    "collapsed": false,
    "ExecuteTime": {
     "end_time": "2023-11-04T09:25:15.989410100Z",
     "start_time": "2023-11-04T09:25:06.528794700Z"
    }
   },
   "id": "60a53f7fd48d1685"
  },
  {
   "cell_type": "code",
   "execution_count": 5,
   "outputs": [
    {
     "data": {
      "text/plain": "latitude     0\nlongitude    0\ndtype: int64"
     },
     "execution_count": 5,
     "metadata": {},
     "output_type": "execute_result"
    }
   ],
   "source": [
    "# Group the data by town and calculate the mean latitude and longitude for these groups\n",
    "location_coordinates_town_only = unique_locations.groupby('town').agg({\n",
    "    'latitude': 'mean',\n",
    "    'longitude': 'mean'\n",
    "}).reset_index()\n",
    "\n",
    "# Create a dictionary to map from town to mean latitude and longitude\n",
    "coordinates_town_map = location_coordinates_town_only.set_index('town').to_dict('index')\n",
    "\n",
    "# Function to apply the town-based mapping for filling missing values\n",
    "def fill_coordinates_town_only(row, coord_map):\n",
    "    if pd.isna(row['latitude']) or pd.isna(row['longitude']):\n",
    "        key = row['town']\n",
    "        if key in coord_map:\n",
    "            row['latitude'], row['longitude'] = coord_map[key]['latitude'], coord_map[key]['longitude']\n",
    "    return row\n",
    "\n",
    "# Apply the function to fill in the missing latitude and longitude using town only\n",
    "data_filled_town = data.apply(lambda row: fill_coordinates_town_only(row, coordinates_town_map), axis=1)\n",
    "\n",
    "# Check how many are still missing after this operation\n",
    "remaining_missing_lat_long_town = data_filled_town[['latitude', 'longitude']].isnull().sum()\n",
    "remaining_missing_lat_long_town"
   ],
   "metadata": {
    "collapsed": false,
    "ExecuteTime": {
     "end_time": "2023-11-04T09:25:39.537377300Z",
     "start_time": "2023-11-04T09:25:27.221389400Z"
    }
   },
   "id": "1ce9442087ada79a"
  },
  {
   "cell_type": "code",
   "execution_count": 7,
   "outputs": [],
   "source": [
    "data_filled_town.to_csv('./Datasets/train_added_long_lat.csv', index=False)"
   ],
   "metadata": {
    "collapsed": false,
    "ExecuteTime": {
     "end_time": "2023-11-04T09:30:28.857084Z",
     "start_time": "2023-11-04T09:30:27.672271400Z"
    }
   },
   "id": "1ee8422441f2026"
  },
  {
   "cell_type": "code",
   "execution_count": 8,
   "outputs": [
    {
     "data": {
      "text/plain": "subzone          0\nplanning_area    0\nregion           0\ndtype: int64"
     },
     "execution_count": 8,
     "metadata": {},
     "output_type": "execute_result"
    }
   ],
   "source": [
    "# Function to fill in the region, planning_area, and subzone based on the most common value for each town\n",
    "def fill_location_details(row, details_map):\n",
    "    if pd.isna(row['subzone']) or pd.isna(row['planning_area']) or pd.isna(row['region']):\n",
    "        key = row['town']\n",
    "        if key in details_map:\n",
    "            row['subzone'], row['planning_area'], row['region'] = details_map[key]['subzone'], details_map[key]['planning_area'], details_map[key]['region']\n",
    "    return row\n",
    "\n",
    "# Calculate the mode for the subzone, planning_area, and region for each town\n",
    "location_details_mode = unique_locations.groupby('town').agg(lambda x: x.mode()[0] if not x.mode().empty else None).reset_index()\n",
    "\n",
    "# Create a mapping from town to the most common subzone, planning_area, and region\n",
    "location_details_map = location_details_mode.set_index('town')[['subzone', 'planning_area', 'region']].to_dict('index')\n",
    "\n",
    "# Apply the mapping to fill in missing subzone, planning_area, and region values\n",
    "data_filled_details = data_filled_town.apply(lambda row: fill_location_details(row, location_details_map), axis=1)\n",
    "\n",
    "# Verify if there are any missing values left for subzone, planning_area, and region\n",
    "remaining_missing_details = data_filled_details[['subzone', 'planning_area', 'region']].isnull().sum()\n",
    "remaining_missing_details"
   ],
   "metadata": {
    "collapsed": false,
    "ExecuteTime": {
     "end_time": "2023-11-04T09:35:58.145185300Z",
     "start_time": "2023-11-04T09:35:44.824542500Z"
    }
   },
   "id": "c7801c99337ddef1"
  },
  {
   "cell_type": "code",
   "execution_count": 10,
   "outputs": [],
   "source": [
    "data_filled_details.to_csv('./Datasets/train_added_subzone_planning_region.csv', index=False)"
   ],
   "metadata": {
    "collapsed": false,
    "ExecuteTime": {
     "end_time": "2023-11-04T09:36:49.849550500Z",
     "start_time": "2023-11-04T09:36:48.700275Z"
    }
   },
   "id": "36d3e2bff89e84d0"
  }
 ],
 "metadata": {
  "kernelspec": {
   "display_name": "Python 3",
   "language": "python",
   "name": "python3"
  },
  "language_info": {
   "codemirror_mode": {
    "name": "ipython",
    "version": 2
   },
   "file_extension": ".py",
   "mimetype": "text/x-python",
   "name": "python",
   "nbconvert_exporter": "python",
   "pygments_lexer": "ipython2",
   "version": "2.7.6"
  }
 },
 "nbformat": 4,
 "nbformat_minor": 5
}
