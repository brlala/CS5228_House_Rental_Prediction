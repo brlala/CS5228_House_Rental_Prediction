{
 "cells": [
  {
   "cell_type": "markdown",
   "id": "763f0fa0-6584-44d4-b163-a891252769f9",
   "metadata": {},
   "source": [
    "# CS5228 Project - Primary school Score\n",
    "\n",
    "Our project is designed to predict the rent price of houses, and the primary school nearby is also an important factor to find the prices of rent. Therefore, this file is to explore the score of schools of each houses.\n",
    "\n",
    "**Important:** \n",
    "* We used data from website [primary-schools-vacancy-and-registered](https://elite.com.sg/primary-schools) to extract the number of vacancy and registered of each school.\n",
    "* We use weightage to rank the primary school and combine it with the distances to the house and get the score result.\n",
    "* To rank the primary school, we use Registered/Vacancy Percentage directly as a ranking metric. Schools with higher percentages (indicating higher demand relative to availability) get higher ranks."
   ]
  },
  {
   "cell_type": "code",
   "execution_count": 1,
   "id": "4ca2bb72-8aa3-4d53-9d2a-e4953aa02592",
   "metadata": {
    "ExecuteTime": {
     "end_time": "2023-10-27T04:35:26.902179100Z",
     "start_time": "2023-10-27T04:35:26.782122Z"
    }
   },
   "outputs": [],
   "source": [
    "from primary_school_score import *\n",
    "\n",
    "import pandas as pd"
   ]
  },
  {
   "cell_type": "markdown",
   "id": "c0dd2baa-82d9-46b5-9e4e-5831994922e1",
   "metadata": {},
   "source": [
    "Let's have a look at the data:"
   ]
  },
  {
   "cell_type": "code",
   "execution_count": 2,
   "id": "bbfc6e57-bcee-45e7-ac3a-9d5c81d01342",
   "metadata": {
    "scrolled": true,
    "ExecuteTime": {
     "end_time": "2023-10-27T04:35:26.919408800Z",
     "start_time": "2023-10-27T04:35:26.904179700Z"
    }
   },
   "outputs": [
    {
     "data": {
      "text/plain": "                           name  1_vacancy  1_registered  \\\n0      Admiralty Primary School        150            75   \n1  Ahmad Ibrahim Primary School        160            54   \n2                Ai Tong School        240           114   \n3      Alexandra Primary School        140            57   \n4   Anchor Green Primary School        180            85   \n\n   1_Registered_Vacancy_Percentage  2A_registered  2B_vacancy  2B_registered  \\\n0                               50             32          34             37   \n1                               34             10          52              0   \n2                               48            120          22             56   \n3                               41             13          43              4   \n4                               47             30          42              0   \n\n   2B_Registered_Vacancy_Percentage  2C_vacancy  2C_registered  \\\n0                               109          70            109   \n1                                 0         157             27   \n2                               255          45             78   \n3                                 9         127            141   \n4                                 0         128             36   \n\n   2C_Registered_Vacancy_Percentage  2CS_vacancy  2CS_registered  \\\n0                               156            0               0   \n1                                17          130              15   \n2                               173            0               0   \n3                               111            0               0   \n4                                28           93              66   \n\n   2CS_Registered_Vacancy_Percentage  \n0                                  0  \n1                                 12  \n2                                  0  \n3                                  0  \n4                                 71  ",
      "text/html": "<div>\n<style scoped>\n    .dataframe tbody tr th:only-of-type {\n        vertical-align: middle;\n    }\n\n    .dataframe tbody tr th {\n        vertical-align: top;\n    }\n\n    .dataframe thead th {\n        text-align: right;\n    }\n</style>\n<table border=\"1\" class=\"dataframe\">\n  <thead>\n    <tr style=\"text-align: right;\">\n      <th></th>\n      <th>name</th>\n      <th>1_vacancy</th>\n      <th>1_registered</th>\n      <th>1_Registered_Vacancy_Percentage</th>\n      <th>2A_registered</th>\n      <th>2B_vacancy</th>\n      <th>2B_registered</th>\n      <th>2B_Registered_Vacancy_Percentage</th>\n      <th>2C_vacancy</th>\n      <th>2C_registered</th>\n      <th>2C_Registered_Vacancy_Percentage</th>\n      <th>2CS_vacancy</th>\n      <th>2CS_registered</th>\n      <th>2CS_Registered_Vacancy_Percentage</th>\n    </tr>\n  </thead>\n  <tbody>\n    <tr>\n      <th>0</th>\n      <td>Admiralty Primary School</td>\n      <td>150</td>\n      <td>75</td>\n      <td>50</td>\n      <td>32</td>\n      <td>34</td>\n      <td>37</td>\n      <td>109</td>\n      <td>70</td>\n      <td>109</td>\n      <td>156</td>\n      <td>0</td>\n      <td>0</td>\n      <td>0</td>\n    </tr>\n    <tr>\n      <th>1</th>\n      <td>Ahmad Ibrahim Primary School</td>\n      <td>160</td>\n      <td>54</td>\n      <td>34</td>\n      <td>10</td>\n      <td>52</td>\n      <td>0</td>\n      <td>0</td>\n      <td>157</td>\n      <td>27</td>\n      <td>17</td>\n      <td>130</td>\n      <td>15</td>\n      <td>12</td>\n    </tr>\n    <tr>\n      <th>2</th>\n      <td>Ai Tong School</td>\n      <td>240</td>\n      <td>114</td>\n      <td>48</td>\n      <td>120</td>\n      <td>22</td>\n      <td>56</td>\n      <td>255</td>\n      <td>45</td>\n      <td>78</td>\n      <td>173</td>\n      <td>0</td>\n      <td>0</td>\n      <td>0</td>\n    </tr>\n    <tr>\n      <th>3</th>\n      <td>Alexandra Primary School</td>\n      <td>140</td>\n      <td>57</td>\n      <td>41</td>\n      <td>13</td>\n      <td>43</td>\n      <td>4</td>\n      <td>9</td>\n      <td>127</td>\n      <td>141</td>\n      <td>111</td>\n      <td>0</td>\n      <td>0</td>\n      <td>0</td>\n    </tr>\n    <tr>\n      <th>4</th>\n      <td>Anchor Green Primary School</td>\n      <td>180</td>\n      <td>85</td>\n      <td>47</td>\n      <td>30</td>\n      <td>42</td>\n      <td>0</td>\n      <td>0</td>\n      <td>128</td>\n      <td>36</td>\n      <td>28</td>\n      <td>93</td>\n      <td>66</td>\n      <td>71</td>\n    </tr>\n  </tbody>\n</table>\n</div>"
     },
     "execution_count": 2,
     "metadata": {},
     "output_type": "execute_result"
    }
   ],
   "source": [
    "df_primary_school = pd.read_csv('./Datasets/auxiliary-data/sg-primary-schools-vacancy-registered.csv')\n",
    "\n",
    "df_primary_school.head()"
   ]
  },
  {
   "cell_type": "markdown",
   "source": [
    "For the features in this dataframe, we can check the corresponding results as following charts:\n",
    "\n",
    "| Phases          | Results announcement dates  |\n",
    "|-----------------|-----------------------------|\n",
    "| 1               | **Tuesday, 11 July 2023**   |\n",
    "| 2A              | **Friday, 21 July 2023**    |\n",
    "| 2B              | **Monday, 31 July 2023**    |\n",
    "| 2C              | **Tuesday, 15 August 2023** |\n",
    "| 2CSupplementary | **Tuesday, 29 August 2023** |\n",
    "\n",
    "For example, the '1_vacancy' feature means the number of vacancy provided by primary schools announced on Tuesday, 11 July 2023;\n",
    "the '2C_registered' feature means the number of registered students announced on Tuesday, 15 August 2023;\n",
    "the '2CS_Registered_Vacancy_Percentage' feature means the oversubscribed percentage(registered divided by vacancy) announced on Tuesday, 29 August 2023."
   ],
   "metadata": {
    "collapsed": false
   },
   "id": "7ddff4de841f09dc"
  },
  {
   "cell_type": "markdown",
   "id": "93d03225-e470-44e9-bbae-175a0afc652a",
   "metadata": {},
   "source": [
    "### Data preprocessing\n",
    "\n",
    "We add the rank from sg-primary-schools_2022_ranking.csv to the dataframe of primary schools.\n",
    "\n",
    "The dataset we extract from the website seems clean and well-structured (no duplicates, no null value, etc). However, there is an issue with it. In our algorithm, low Registered-vacancy-Percentage implies the public has low demand to this school, so this school will get lower rank, but there are some special cases. \n",
    "\n",
    "For example, the values of '2CS_vacancy', '2CS_registered', and '2CS_Registered_Vacancy_Percentage' of Admiralty Primary School are all 0, but this does not mean that the school is not popular. On the contrary, Admiralty Primary School is quite popular based on the data in phases '1', '2B' and '2C', the reason it gets 0 for 2CS_Registered_Vacancy_Percentage is it does not provide any vacancy in phase '2CS' (2CS_vacancy(Admiralty Primary School) = 0). In fact, many schools don't provide any vacancy in phase 2cs.\n",
    "\n",
    "In addition, the data in phase 2cs cannot reflect the true popularity of the school. For example, The percentages of Dazhong Primary School in the first two stages are just at average level: 1 is only 40%, 2b is 0. However, it's percentage in 2c rises to 98%, and 2cs rises to 2050%. However, this could not be the evidence that Dazhong Primary school is popular: Many children are not accepted by their first choice primary school and settle for the other option.\n",
    "\n",
    "Therefore, we can simply remove features of 2CS phases since studying people's first choices could be more meaningful in determining a school's popularity."
   ]
  },
  {
   "cell_type": "code",
   "execution_count": 3,
   "id": "6165fed1-3872-433a-be85-ca8b23185346",
   "metadata": {
    "ExecuteTime": {
     "end_time": "2023-10-27T04:35:26.926420400Z",
     "start_time": "2023-10-27T04:35:26.921408300Z"
    }
   },
   "outputs": [],
   "source": [
    "# df_primary_school = df_primary_school.drop('2CS_vacancy', axis=1)\n",
    "# df_primary_school = df_primary_school.drop('2CS_registered', axis=1)\n",
    "# df_primary_school = df_primary_school.drop('2CS_Registered_Vacancy_Percentage', axis=1)\n",
    "# \n",
    "# df_primary_school.head()"
   ]
  },
  {
   "cell_type": "markdown",
   "id": "f8783c97-8af2-4316-b260-1b96b0b815a7",
   "metadata": {},
   "source": [
    "### Rank the school!\n",
    "#### Things to note:\n",
    "We first tried using the average registered-vacancy-percentage of different phases to calculate "
   ]
  },
  {
   "cell_type": "code",
   "execution_count": 4,
   "outputs": [
    {
     "data": {
      "text/plain": "                           name  latitude   longitude  Ranking 2022\n0      Admiralty Primary School  1.454038  103.817436             8\n1  Ahmad Ibrahim Primary School  1.433153  103.832942           166\n2                Ai Tong School  1.360583  103.833020            10\n3      Alexandra Primary School  1.291334  103.824425           120\n4   Anchor Green Primary School  1.390370  103.887165           100",
      "text/html": "<div>\n<style scoped>\n    .dataframe tbody tr th:only-of-type {\n        vertical-align: middle;\n    }\n\n    .dataframe tbody tr th {\n        vertical-align: top;\n    }\n\n    .dataframe thead th {\n        text-align: right;\n    }\n</style>\n<table border=\"1\" class=\"dataframe\">\n  <thead>\n    <tr style=\"text-align: right;\">\n      <th></th>\n      <th>name</th>\n      <th>latitude</th>\n      <th>longitude</th>\n      <th>Ranking 2022</th>\n    </tr>\n  </thead>\n  <tbody>\n    <tr>\n      <th>0</th>\n      <td>Admiralty Primary School</td>\n      <td>1.454038</td>\n      <td>103.817436</td>\n      <td>8</td>\n    </tr>\n    <tr>\n      <th>1</th>\n      <td>Ahmad Ibrahim Primary School</td>\n      <td>1.433153</td>\n      <td>103.832942</td>\n      <td>166</td>\n    </tr>\n    <tr>\n      <th>2</th>\n      <td>Ai Tong School</td>\n      <td>1.360583</td>\n      <td>103.833020</td>\n      <td>10</td>\n    </tr>\n    <tr>\n      <th>3</th>\n      <td>Alexandra Primary School</td>\n      <td>1.291334</td>\n      <td>103.824425</td>\n      <td>120</td>\n    </tr>\n    <tr>\n      <th>4</th>\n      <td>Anchor Green Primary School</td>\n      <td>1.390370</td>\n      <td>103.887165</td>\n      <td>100</td>\n    </tr>\n  </tbody>\n</table>\n</div>"
     },
     "execution_count": 4,
     "metadata": {},
     "output_type": "execute_result"
    }
   ],
   "source": [
    "schools = pd.read_csv('./Datasets/auxiliary-data/sg-primary-schools.csv')\n",
    "ranking = pd.read_csv('./Datasets/auxiliary-data/sg-primary-schools_2022_ranking.csv')\n",
    "\n",
    "# Merge the rankings into the primary schools list based on school name\n",
    "merged = schools.merge(ranking, left_on='name', right_on='School Name', how='left')\n",
    "\n",
    "# Drop the 'School Name' column as it's redundant\n",
    "merged.drop('School Name', axis=1, inplace=True)\n",
    "\n",
    "# Rename the 'Rank' column to 'Ranking 2022'\n",
    "merged.rename(columns={'Rank': 'Ranking 2022'}, inplace=True)\n",
    "\n",
    "# Assign the last ranking + 1 to empty rankings\n",
    "last_ranking = merged['Ranking 2022'].max()\n",
    "merged['Ranking 2022'].fillna(last_ranking + 1, inplace=True)\n",
    "\n",
    "# Convert the rankings to integers\n",
    "merged['Ranking 2022'] = merged['Ranking 2022'].astype(int)\n",
    "\n",
    "# Display the first few rows of the merged dataframe\n",
    "merged.head()\n",
    "\n",
    "output_path = \"./Datasets/auxiliary-data/sg-primary-schools_with_ranking.csv\"\n",
    "merged.to_csv(output_path, index=False)\n",
    "\n",
    "merged.head()"
   ],
   "metadata": {
    "collapsed": false,
    "ExecuteTime": {
     "end_time": "2023-10-27T04:35:26.990602700Z",
     "start_time": "2023-10-27T04:35:26.927424700Z"
    }
   },
   "id": "5b34cbe9ad051bdc"
  },
  {
   "cell_type": "code",
   "execution_count": 5,
   "id": "e574ece4-ee38-4b93-adb0-48a66a6ce2da",
   "metadata": {
    "ExecuteTime": {
     "end_time": "2023-10-27T04:35:26.991605500Z",
     "start_time": "2023-10-27T04:35:26.951934300Z"
    }
   },
   "outputs": [],
   "source": [
    "# df_school_ranked = get_school_rank(df_primary_school)\n",
    "# \n",
    "# df_school_ranked.head(20)"
   ]
  },
  {
   "cell_type": "markdown",
   "id": "0bfdb61f-1c55-416e-8417-9fcc27a3fd0e",
   "metadata": {},
   "source": [
    "### Calculate the Euclidean distance and get the score\n",
    "The reason we count the euclidean distance between houses and primary school to predict the rent price is the location of the primary school can affect the rent price: The closer the houses are to the school, the more expensive the rent price will be.\n",
    "Here we get two dataframes of primary schools and houses."
   ]
  },
  {
   "cell_type": "code",
   "execution_count": 6,
   "id": "8d16942a-cf9e-4759-b70f-cc9d2de41058",
   "metadata": {
    "ExecuteTime": {
     "end_time": "2023-10-27T04:35:27.028127600Z",
     "start_time": "2023-10-27T04:35:26.955450500Z"
    }
   },
   "outputs": [
    {
     "data": {
      "text/plain": "                           name  latitude   longitude  Ranking 2022\n0      Admiralty Primary School  1.454038  103.817436             8\n1  Ahmad Ibrahim Primary School  1.433153  103.832942           166\n2                Ai Tong School  1.360583  103.833020            10\n3      Alexandra Primary School  1.291334  103.824425           120\n4   Anchor Green Primary School  1.390370  103.887165           100",
      "text/html": "<div>\n<style scoped>\n    .dataframe tbody tr th:only-of-type {\n        vertical-align: middle;\n    }\n\n    .dataframe tbody tr th {\n        vertical-align: top;\n    }\n\n    .dataframe thead th {\n        text-align: right;\n    }\n</style>\n<table border=\"1\" class=\"dataframe\">\n  <thead>\n    <tr style=\"text-align: right;\">\n      <th></th>\n      <th>name</th>\n      <th>latitude</th>\n      <th>longitude</th>\n      <th>Ranking 2022</th>\n    </tr>\n  </thead>\n  <tbody>\n    <tr>\n      <th>0</th>\n      <td>Admiralty Primary School</td>\n      <td>1.454038</td>\n      <td>103.817436</td>\n      <td>8</td>\n    </tr>\n    <tr>\n      <th>1</th>\n      <td>Ahmad Ibrahim Primary School</td>\n      <td>1.433153</td>\n      <td>103.832942</td>\n      <td>166</td>\n    </tr>\n    <tr>\n      <th>2</th>\n      <td>Ai Tong School</td>\n      <td>1.360583</td>\n      <td>103.833020</td>\n      <td>10</td>\n    </tr>\n    <tr>\n      <th>3</th>\n      <td>Alexandra Primary School</td>\n      <td>1.291334</td>\n      <td>103.824425</td>\n      <td>120</td>\n    </tr>\n    <tr>\n      <th>4</th>\n      <td>Anchor Green Primary School</td>\n      <td>1.390370</td>\n      <td>103.887165</td>\n      <td>100</td>\n    </tr>\n  </tbody>\n</table>\n</div>"
     },
     "execution_count": 6,
     "metadata": {},
     "output_type": "execute_result"
    }
   ],
   "source": [
    "df_loc_primary_school = pd.read_csv('./datasets/auxiliary-data/sg-primary-schools_with_ranking.csv')\n",
    "\n",
    "df_loc_primary_school.head()"
   ]
  },
  {
   "cell_type": "code",
   "execution_count": 7,
   "id": "15730625-9c16-4169-9d90-4cbc6a2f9ee4",
   "metadata": {
    "ExecuteTime": {
     "end_time": "2023-10-27T04:35:27.118446500Z",
     "start_time": "2023-10-27T04:35:26.971605Z"
    }
   },
   "outputs": [
    {
     "data": {
      "text/plain": "  rent_approval_date             town block            street_name  flat_type  \\\n0            2021-09      jurong east   257  Jurong East Street 24     3 room   \n1            2022-05            bedok   119       bedok north road     4-room   \n2            2022-10        toa payoh   157     lorong 1 toa payoh     3-room   \n3            2021-08        pasir ris   250    Pasir Ris Street 21  executive   \n4            2022-11  kallang/whampoa    34           Whampoa West     3-room   \n\n       flat_model  floor_area_sqm furnished  lease_commence_date  latitude  \\\n0  new generation            67.0       yes                 1983  1.344518   \n1  new generation            92.0       yes                 1978  1.330186   \n2        improved            67.0       yes                 1971  1.332242   \n3       apartment           149.0       yes                 1993  1.370239   \n4        improved            68.0       yes                 1972  1.320502   \n\n    longitude  elevation            subzone planning_area          region  \\\n0  103.738630        0.0         yuhua east   jurong east     west region   \n1  103.938717        0.0        bedok north         bedok     east region   \n2  103.845643        0.0  toa payoh central     toa payoh  central region   \n3  103.962894        0.0    pasir ris drive     pasir ris     east region   \n4  103.863341        0.0          bendemeer       kallang  central region   \n\n   monthly_rent  \n0          1600  \n1          2250  \n2          1900  \n3          2850  \n4          2100  ",
      "text/html": "<div>\n<style scoped>\n    .dataframe tbody tr th:only-of-type {\n        vertical-align: middle;\n    }\n\n    .dataframe tbody tr th {\n        vertical-align: top;\n    }\n\n    .dataframe thead th {\n        text-align: right;\n    }\n</style>\n<table border=\"1\" class=\"dataframe\">\n  <thead>\n    <tr style=\"text-align: right;\">\n      <th></th>\n      <th>rent_approval_date</th>\n      <th>town</th>\n      <th>block</th>\n      <th>street_name</th>\n      <th>flat_type</th>\n      <th>flat_model</th>\n      <th>floor_area_sqm</th>\n      <th>furnished</th>\n      <th>lease_commence_date</th>\n      <th>latitude</th>\n      <th>longitude</th>\n      <th>elevation</th>\n      <th>subzone</th>\n      <th>planning_area</th>\n      <th>region</th>\n      <th>monthly_rent</th>\n    </tr>\n  </thead>\n  <tbody>\n    <tr>\n      <th>0</th>\n      <td>2021-09</td>\n      <td>jurong east</td>\n      <td>257</td>\n      <td>Jurong East Street 24</td>\n      <td>3 room</td>\n      <td>new generation</td>\n      <td>67.0</td>\n      <td>yes</td>\n      <td>1983</td>\n      <td>1.344518</td>\n      <td>103.738630</td>\n      <td>0.0</td>\n      <td>yuhua east</td>\n      <td>jurong east</td>\n      <td>west region</td>\n      <td>1600</td>\n    </tr>\n    <tr>\n      <th>1</th>\n      <td>2022-05</td>\n      <td>bedok</td>\n      <td>119</td>\n      <td>bedok north road</td>\n      <td>4-room</td>\n      <td>new generation</td>\n      <td>92.0</td>\n      <td>yes</td>\n      <td>1978</td>\n      <td>1.330186</td>\n      <td>103.938717</td>\n      <td>0.0</td>\n      <td>bedok north</td>\n      <td>bedok</td>\n      <td>east region</td>\n      <td>2250</td>\n    </tr>\n    <tr>\n      <th>2</th>\n      <td>2022-10</td>\n      <td>toa payoh</td>\n      <td>157</td>\n      <td>lorong 1 toa payoh</td>\n      <td>3-room</td>\n      <td>improved</td>\n      <td>67.0</td>\n      <td>yes</td>\n      <td>1971</td>\n      <td>1.332242</td>\n      <td>103.845643</td>\n      <td>0.0</td>\n      <td>toa payoh central</td>\n      <td>toa payoh</td>\n      <td>central region</td>\n      <td>1900</td>\n    </tr>\n    <tr>\n      <th>3</th>\n      <td>2021-08</td>\n      <td>pasir ris</td>\n      <td>250</td>\n      <td>Pasir Ris Street 21</td>\n      <td>executive</td>\n      <td>apartment</td>\n      <td>149.0</td>\n      <td>yes</td>\n      <td>1993</td>\n      <td>1.370239</td>\n      <td>103.962894</td>\n      <td>0.0</td>\n      <td>pasir ris drive</td>\n      <td>pasir ris</td>\n      <td>east region</td>\n      <td>2850</td>\n    </tr>\n    <tr>\n      <th>4</th>\n      <td>2022-11</td>\n      <td>kallang/whampoa</td>\n      <td>34</td>\n      <td>Whampoa West</td>\n      <td>3-room</td>\n      <td>improved</td>\n      <td>68.0</td>\n      <td>yes</td>\n      <td>1972</td>\n      <td>1.320502</td>\n      <td>103.863341</td>\n      <td>0.0</td>\n      <td>bendemeer</td>\n      <td>kallang</td>\n      <td>central region</td>\n      <td>2100</td>\n    </tr>\n  </tbody>\n</table>\n</div>"
     },
     "execution_count": 7,
     "metadata": {},
     "output_type": "execute_result"
    }
   ],
   "source": [
    "df_loc_house = pd.read_csv('./datasets/train.csv')\n",
    "\n",
    "df_loc_house.head()"
   ]
  },
  {
   "cell_type": "markdown",
   "id": "584a7892-69c7-4f5b-84e9-cca5eeb85009",
   "metadata": {},
   "source": [
    "Given the dataframe of all houses in the training set and all schools location, we can calculate the final score by combining the school rank and euclidean distances between primary schools and houses."
   ]
  },
  {
   "cell_type": "code",
   "execution_count": 8,
   "id": "a49fddd2-343a-4fc4-a8a0-5069909223f3",
   "metadata": {
    "ExecuteTime": {
     "end_time": "2023-10-27T04:36:53.740930200Z",
     "start_time": "2023-10-27T04:35:27.088138800Z"
    }
   },
   "outputs": [
    {
     "data": {
      "text/plain": "   rent_approval_date             town block             street_name  \\\n0             2021-09      jurong east   257   Jurong East Street 24   \n1             2022-05            bedok   119        bedok north road   \n2             2022-10        toa payoh   157      lorong 1 toa payoh   \n3             2021-08        pasir ris   250     Pasir Ris Street 21   \n4             2022-11  kallang/whampoa    34            Whampoa West   \n5             2023-04    bukit panjang   654              Senja Road   \n6             2021-01         sengkang  407b           fernvale road   \n7             2022-06       ang mo kio   223     ang mo kio avenue 1   \n8             2021-10           bishan   149        bishan street 11   \n9             2021-04          punggol   133         edgedale plains   \n10            2021-03    choa chu kang   414  choa chu kang avenue 4   \n11            2022-02        pasir ris   636       Pasir Ris Drive 1   \n12            2021-07            bedok   164          bedok sth road   \n13            2022-02            bedok    77        Bedok North Road   \n14            2023-04         sengkang  416a           Fernvale Link   \n15            2021-08    choa chu kang   402  choa chu kang avenue 3   \n16            2022-12         clementi   716  clementi west street 2   \n17            2023-01        pasir ris  524c     Pasir Ris Street 51   \n18            2022-01      bukit batok   533   Bukit Batok Street 51   \n19            2022-01        sembawang  341b         sembawang close   \n\n    flat_type         flat_model  floor_area_sqm furnished  \\\n0      3 room     new generation            67.0       yes   \n1      4-room     new generation            92.0       yes   \n2      3-room           improved            67.0       yes   \n3   executive          apartment           149.0       yes   \n4      3-room           improved            68.0       yes   \n5   executive  premium apartment           130.0       yes   \n6      5 room  premium apartment           110.0       yes   \n7      3-room     new generation            67.0       yes   \n8      4 room         simplified            84.0       yes   \n9      5 room  premium apartment           112.0       yes   \n10     4 room            model a           104.0       yes   \n11     5-room           improved           123.0       yes   \n12     4 room         simplified            84.0       yes   \n13     3-room           improved            60.0       yes   \n14     4-room            model a            93.0       yes   \n15     4 room            model a           112.0       yes   \n16     4-room     new generation            91.0       yes   \n17     5-room           improved           113.0       yes   \n18     3-room           improved            69.0       yes   \n19     5-room  premium apartment           110.0       yes   \n\n    lease_commence_date  latitude   longitude  elevation            subzone  \\\n0                  1983  1.344518  103.738630        0.0         yuhua east   \n1                  1978  1.330186  103.938717        0.0        bedok north   \n2                  1971  1.332242  103.845643        0.0  toa payoh central   \n3                  1993  1.370239  103.962894        0.0    pasir ris drive   \n4                  1972  1.320502  103.863341        0.0          bendemeer   \n5                  2001  1.387847  103.764249        0.0            saujana   \n6                  2005  1.388997  103.875148        0.0           fernvale   \n7                  1978  1.366048  103.838123        0.0         shangri-la   \n8                  1987  1.344279  103.855556        0.0        bishan east   \n9                  2003  1.392832  103.910620        0.0      punggol field   \n10                 1993  1.382167  103.742248        0.0         peng siang   \n11                 1995  1.376790  103.940742        0.0     pasir ris west   \n12                 1986  1.320115  103.946570        0.0        bedok south   \n13                 1986  1.328696  103.941996        0.0        bedok north   \n14                 2016  1.390612  103.879964        0.0           fernvale   \n15                 1993  1.379203  103.739438        0.0         peng siang   \n16                 1981  1.302410  103.762805        0.0      clementi west   \n17                 2015  1.370545  103.947595        0.0  pasir ris central   \n18                 1988  1.355879  103.749799        0.0             guilin   \n19                 2001  1.447982  103.818507        0.0  sembawang central   \n\n    planning_area             region  monthly_rent  school_score  school_count  \n0     jurong east        west region          1600         280.1           7.0  \n1           bedok        east region          2250         329.3           9.0  \n2       toa payoh     central region          1900         368.1           8.0  \n3       pasir ris        east region          2850         254.6           6.0  \n4         kallang     central region          2100         239.5           4.0  \n5   bukit panjang        west region          2300         271.7           9.0  \n6        sengkang  north-east region          2100         348.7          10.0  \n7      ang mo kio  north-east region          2300         392.3           8.0  \n8          bishan     central region          2100         371.8          12.0  \n9         punggol  north-east region          2100         325.1          13.0  \n10  choa chu kang        west region          1800         288.7           7.0  \n11      pasir ris        east region          2450         177.4           5.0  \n12          bedok        east region          2400         216.4           4.0  \n13          bedok        east region          2000         323.3           7.0  \n14       sengkang  north-east region          3150         308.8          10.0  \n15  choa chu kang        west region          2700         329.3           7.0  \n16       clementi        west region          4850         255.4           4.0  \n17      pasir ris        east region          4400         300.9          10.0  \n18    bukit batok        west region          1600         300.4           7.0  \n19      sembawang       north region          2600         319.5           8.0  ",
      "text/html": "<div>\n<style scoped>\n    .dataframe tbody tr th:only-of-type {\n        vertical-align: middle;\n    }\n\n    .dataframe tbody tr th {\n        vertical-align: top;\n    }\n\n    .dataframe thead th {\n        text-align: right;\n    }\n</style>\n<table border=\"1\" class=\"dataframe\">\n  <thead>\n    <tr style=\"text-align: right;\">\n      <th></th>\n      <th>rent_approval_date</th>\n      <th>town</th>\n      <th>block</th>\n      <th>street_name</th>\n      <th>flat_type</th>\n      <th>flat_model</th>\n      <th>floor_area_sqm</th>\n      <th>furnished</th>\n      <th>lease_commence_date</th>\n      <th>latitude</th>\n      <th>longitude</th>\n      <th>elevation</th>\n      <th>subzone</th>\n      <th>planning_area</th>\n      <th>region</th>\n      <th>monthly_rent</th>\n      <th>school_score</th>\n      <th>school_count</th>\n    </tr>\n  </thead>\n  <tbody>\n    <tr>\n      <th>0</th>\n      <td>2021-09</td>\n      <td>jurong east</td>\n      <td>257</td>\n      <td>Jurong East Street 24</td>\n      <td>3 room</td>\n      <td>new generation</td>\n      <td>67.0</td>\n      <td>yes</td>\n      <td>1983</td>\n      <td>1.344518</td>\n      <td>103.738630</td>\n      <td>0.0</td>\n      <td>yuhua east</td>\n      <td>jurong east</td>\n      <td>west region</td>\n      <td>1600</td>\n      <td>280.1</td>\n      <td>7.0</td>\n    </tr>\n    <tr>\n      <th>1</th>\n      <td>2022-05</td>\n      <td>bedok</td>\n      <td>119</td>\n      <td>bedok north road</td>\n      <td>4-room</td>\n      <td>new generation</td>\n      <td>92.0</td>\n      <td>yes</td>\n      <td>1978</td>\n      <td>1.330186</td>\n      <td>103.938717</td>\n      <td>0.0</td>\n      <td>bedok north</td>\n      <td>bedok</td>\n      <td>east region</td>\n      <td>2250</td>\n      <td>329.3</td>\n      <td>9.0</td>\n    </tr>\n    <tr>\n      <th>2</th>\n      <td>2022-10</td>\n      <td>toa payoh</td>\n      <td>157</td>\n      <td>lorong 1 toa payoh</td>\n      <td>3-room</td>\n      <td>improved</td>\n      <td>67.0</td>\n      <td>yes</td>\n      <td>1971</td>\n      <td>1.332242</td>\n      <td>103.845643</td>\n      <td>0.0</td>\n      <td>toa payoh central</td>\n      <td>toa payoh</td>\n      <td>central region</td>\n      <td>1900</td>\n      <td>368.1</td>\n      <td>8.0</td>\n    </tr>\n    <tr>\n      <th>3</th>\n      <td>2021-08</td>\n      <td>pasir ris</td>\n      <td>250</td>\n      <td>Pasir Ris Street 21</td>\n      <td>executive</td>\n      <td>apartment</td>\n      <td>149.0</td>\n      <td>yes</td>\n      <td>1993</td>\n      <td>1.370239</td>\n      <td>103.962894</td>\n      <td>0.0</td>\n      <td>pasir ris drive</td>\n      <td>pasir ris</td>\n      <td>east region</td>\n      <td>2850</td>\n      <td>254.6</td>\n      <td>6.0</td>\n    </tr>\n    <tr>\n      <th>4</th>\n      <td>2022-11</td>\n      <td>kallang/whampoa</td>\n      <td>34</td>\n      <td>Whampoa West</td>\n      <td>3-room</td>\n      <td>improved</td>\n      <td>68.0</td>\n      <td>yes</td>\n      <td>1972</td>\n      <td>1.320502</td>\n      <td>103.863341</td>\n      <td>0.0</td>\n      <td>bendemeer</td>\n      <td>kallang</td>\n      <td>central region</td>\n      <td>2100</td>\n      <td>239.5</td>\n      <td>4.0</td>\n    </tr>\n    <tr>\n      <th>5</th>\n      <td>2023-04</td>\n      <td>bukit panjang</td>\n      <td>654</td>\n      <td>Senja Road</td>\n      <td>executive</td>\n      <td>premium apartment</td>\n      <td>130.0</td>\n      <td>yes</td>\n      <td>2001</td>\n      <td>1.387847</td>\n      <td>103.764249</td>\n      <td>0.0</td>\n      <td>saujana</td>\n      <td>bukit panjang</td>\n      <td>west region</td>\n      <td>2300</td>\n      <td>271.7</td>\n      <td>9.0</td>\n    </tr>\n    <tr>\n      <th>6</th>\n      <td>2021-01</td>\n      <td>sengkang</td>\n      <td>407b</td>\n      <td>fernvale road</td>\n      <td>5 room</td>\n      <td>premium apartment</td>\n      <td>110.0</td>\n      <td>yes</td>\n      <td>2005</td>\n      <td>1.388997</td>\n      <td>103.875148</td>\n      <td>0.0</td>\n      <td>fernvale</td>\n      <td>sengkang</td>\n      <td>north-east region</td>\n      <td>2100</td>\n      <td>348.7</td>\n      <td>10.0</td>\n    </tr>\n    <tr>\n      <th>7</th>\n      <td>2022-06</td>\n      <td>ang mo kio</td>\n      <td>223</td>\n      <td>ang mo kio avenue 1</td>\n      <td>3-room</td>\n      <td>new generation</td>\n      <td>67.0</td>\n      <td>yes</td>\n      <td>1978</td>\n      <td>1.366048</td>\n      <td>103.838123</td>\n      <td>0.0</td>\n      <td>shangri-la</td>\n      <td>ang mo kio</td>\n      <td>north-east region</td>\n      <td>2300</td>\n      <td>392.3</td>\n      <td>8.0</td>\n    </tr>\n    <tr>\n      <th>8</th>\n      <td>2021-10</td>\n      <td>bishan</td>\n      <td>149</td>\n      <td>bishan street 11</td>\n      <td>4 room</td>\n      <td>simplified</td>\n      <td>84.0</td>\n      <td>yes</td>\n      <td>1987</td>\n      <td>1.344279</td>\n      <td>103.855556</td>\n      <td>0.0</td>\n      <td>bishan east</td>\n      <td>bishan</td>\n      <td>central region</td>\n      <td>2100</td>\n      <td>371.8</td>\n      <td>12.0</td>\n    </tr>\n    <tr>\n      <th>9</th>\n      <td>2021-04</td>\n      <td>punggol</td>\n      <td>133</td>\n      <td>edgedale plains</td>\n      <td>5 room</td>\n      <td>premium apartment</td>\n      <td>112.0</td>\n      <td>yes</td>\n      <td>2003</td>\n      <td>1.392832</td>\n      <td>103.910620</td>\n      <td>0.0</td>\n      <td>punggol field</td>\n      <td>punggol</td>\n      <td>north-east region</td>\n      <td>2100</td>\n      <td>325.1</td>\n      <td>13.0</td>\n    </tr>\n    <tr>\n      <th>10</th>\n      <td>2021-03</td>\n      <td>choa chu kang</td>\n      <td>414</td>\n      <td>choa chu kang avenue 4</td>\n      <td>4 room</td>\n      <td>model a</td>\n      <td>104.0</td>\n      <td>yes</td>\n      <td>1993</td>\n      <td>1.382167</td>\n      <td>103.742248</td>\n      <td>0.0</td>\n      <td>peng siang</td>\n      <td>choa chu kang</td>\n      <td>west region</td>\n      <td>1800</td>\n      <td>288.7</td>\n      <td>7.0</td>\n    </tr>\n    <tr>\n      <th>11</th>\n      <td>2022-02</td>\n      <td>pasir ris</td>\n      <td>636</td>\n      <td>Pasir Ris Drive 1</td>\n      <td>5-room</td>\n      <td>improved</td>\n      <td>123.0</td>\n      <td>yes</td>\n      <td>1995</td>\n      <td>1.376790</td>\n      <td>103.940742</td>\n      <td>0.0</td>\n      <td>pasir ris west</td>\n      <td>pasir ris</td>\n      <td>east region</td>\n      <td>2450</td>\n      <td>177.4</td>\n      <td>5.0</td>\n    </tr>\n    <tr>\n      <th>12</th>\n      <td>2021-07</td>\n      <td>bedok</td>\n      <td>164</td>\n      <td>bedok sth road</td>\n      <td>4 room</td>\n      <td>simplified</td>\n      <td>84.0</td>\n      <td>yes</td>\n      <td>1986</td>\n      <td>1.320115</td>\n      <td>103.946570</td>\n      <td>0.0</td>\n      <td>bedok south</td>\n      <td>bedok</td>\n      <td>east region</td>\n      <td>2400</td>\n      <td>216.4</td>\n      <td>4.0</td>\n    </tr>\n    <tr>\n      <th>13</th>\n      <td>2022-02</td>\n      <td>bedok</td>\n      <td>77</td>\n      <td>Bedok North Road</td>\n      <td>3-room</td>\n      <td>improved</td>\n      <td>60.0</td>\n      <td>yes</td>\n      <td>1986</td>\n      <td>1.328696</td>\n      <td>103.941996</td>\n      <td>0.0</td>\n      <td>bedok north</td>\n      <td>bedok</td>\n      <td>east region</td>\n      <td>2000</td>\n      <td>323.3</td>\n      <td>7.0</td>\n    </tr>\n    <tr>\n      <th>14</th>\n      <td>2023-04</td>\n      <td>sengkang</td>\n      <td>416a</td>\n      <td>Fernvale Link</td>\n      <td>4-room</td>\n      <td>model a</td>\n      <td>93.0</td>\n      <td>yes</td>\n      <td>2016</td>\n      <td>1.390612</td>\n      <td>103.879964</td>\n      <td>0.0</td>\n      <td>fernvale</td>\n      <td>sengkang</td>\n      <td>north-east region</td>\n      <td>3150</td>\n      <td>308.8</td>\n      <td>10.0</td>\n    </tr>\n    <tr>\n      <th>15</th>\n      <td>2021-08</td>\n      <td>choa chu kang</td>\n      <td>402</td>\n      <td>choa chu kang avenue 3</td>\n      <td>4 room</td>\n      <td>model a</td>\n      <td>112.0</td>\n      <td>yes</td>\n      <td>1993</td>\n      <td>1.379203</td>\n      <td>103.739438</td>\n      <td>0.0</td>\n      <td>peng siang</td>\n      <td>choa chu kang</td>\n      <td>west region</td>\n      <td>2700</td>\n      <td>329.3</td>\n      <td>7.0</td>\n    </tr>\n    <tr>\n      <th>16</th>\n      <td>2022-12</td>\n      <td>clementi</td>\n      <td>716</td>\n      <td>clementi west street 2</td>\n      <td>4-room</td>\n      <td>new generation</td>\n      <td>91.0</td>\n      <td>yes</td>\n      <td>1981</td>\n      <td>1.302410</td>\n      <td>103.762805</td>\n      <td>0.0</td>\n      <td>clementi west</td>\n      <td>clementi</td>\n      <td>west region</td>\n      <td>4850</td>\n      <td>255.4</td>\n      <td>4.0</td>\n    </tr>\n    <tr>\n      <th>17</th>\n      <td>2023-01</td>\n      <td>pasir ris</td>\n      <td>524c</td>\n      <td>Pasir Ris Street 51</td>\n      <td>5-room</td>\n      <td>improved</td>\n      <td>113.0</td>\n      <td>yes</td>\n      <td>2015</td>\n      <td>1.370545</td>\n      <td>103.947595</td>\n      <td>0.0</td>\n      <td>pasir ris central</td>\n      <td>pasir ris</td>\n      <td>east region</td>\n      <td>4400</td>\n      <td>300.9</td>\n      <td>10.0</td>\n    </tr>\n    <tr>\n      <th>18</th>\n      <td>2022-01</td>\n      <td>bukit batok</td>\n      <td>533</td>\n      <td>Bukit Batok Street 51</td>\n      <td>3-room</td>\n      <td>improved</td>\n      <td>69.0</td>\n      <td>yes</td>\n      <td>1988</td>\n      <td>1.355879</td>\n      <td>103.749799</td>\n      <td>0.0</td>\n      <td>guilin</td>\n      <td>bukit batok</td>\n      <td>west region</td>\n      <td>1600</td>\n      <td>300.4</td>\n      <td>7.0</td>\n    </tr>\n    <tr>\n      <th>19</th>\n      <td>2022-01</td>\n      <td>sembawang</td>\n      <td>341b</td>\n      <td>sembawang close</td>\n      <td>5-room</td>\n      <td>premium apartment</td>\n      <td>110.0</td>\n      <td>yes</td>\n      <td>2001</td>\n      <td>1.447982</td>\n      <td>103.818507</td>\n      <td>0.0</td>\n      <td>sembawang central</td>\n      <td>sembawang</td>\n      <td>north region</td>\n      <td>2600</td>\n      <td>319.5</td>\n      <td>8.0</td>\n    </tr>\n  </tbody>\n</table>\n</div>"
     },
     "execution_count": 8,
     "metadata": {},
     "output_type": "execute_result"
    }
   ],
   "source": [
    "# df_loc_house = get_score(df_loc_primary_school, df_loc_house)\n",
    "df_loc_house = get_score_optimized(df_loc_primary_school, df_loc_house)\n",
    "\n",
    "df_loc_house.head(20)"
   ]
  },
  {
   "cell_type": "code",
   "execution_count": 9,
   "outputs": [],
   "source": [
    "output_path = \"./Datasets/auxiliary-data/train_with_schoolscore.csv\"\n",
    "df_loc_house.to_csv(output_path, index=False)"
   ],
   "metadata": {
    "collapsed": false,
    "ExecuteTime": {
     "end_time": "2023-10-27T04:36:54.316367900Z",
     "start_time": "2023-10-27T04:36:53.730410700Z"
    }
   },
   "id": "132bad94c057639b"
  }
 ],
 "metadata": {
  "kernelspec": {
   "display_name": "Python 3 (ipykernel)",
   "language": "python",
   "name": "python3"
  },
  "language_info": {
   "codemirror_mode": {
    "name": "ipython",
    "version": 3
   },
   "file_extension": ".py",
   "mimetype": "text/x-python",
   "name": "python",
   "nbconvert_exporter": "python",
   "pygments_lexer": "ipython3",
   "version": "3.11.4"
  }
 },
 "nbformat": 4,
 "nbformat_minor": 5
}
