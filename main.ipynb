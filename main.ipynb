{
 "cells": [
  {
   "cell_type": "code",
   "execution_count": 1,
   "outputs": [
    {
     "data": {
      "text/plain": "  rent_approval_date             town block            street_name  flat_type  \\\n0            2021-09      jurong east   257  Jurong East Street 24     3 room   \n1            2022-05            bedok   119       bedok north road     4-room   \n2            2022-10        toa payoh   157     lorong 1 toa payoh     3-room   \n3            2021-08        pasir ris   250    Pasir Ris Street 21  executive   \n4            2022-11  kallang/whampoa    34           Whampoa West     3-room   \n\n       flat_model  floor_area_sqm furnished  lease_commence_date  latitude  \\\n0  new generation            67.0       yes                 1983  1.344518   \n1  new generation            92.0       yes                 1978  1.330186   \n2        improved            67.0       yes                 1971  1.332242   \n3       apartment           149.0       yes                 1993  1.370239   \n4        improved            68.0       yes                 1972  1.320502   \n\n    longitude  elevation            subzone planning_area          region  \\\n0  103.738630        0.0         yuhua east   jurong east     west region   \n1  103.938717        0.0        bedok north         bedok     east region   \n2  103.845643        0.0  toa payoh central     toa payoh  central region   \n3  103.962894        0.0    pasir ris drive     pasir ris     east region   \n4  103.863341        0.0          bendemeer       kallang  central region   \n\n   monthly_rent  \n0          1600  \n1          2250  \n2          1900  \n3          2850  \n4          2100  ",
      "text/html": "<div>\n<style scoped>\n    .dataframe tbody tr th:only-of-type {\n        vertical-align: middle;\n    }\n\n    .dataframe tbody tr th {\n        vertical-align: top;\n    }\n\n    .dataframe thead th {\n        text-align: right;\n    }\n</style>\n<table border=\"1\" class=\"dataframe\">\n  <thead>\n    <tr style=\"text-align: right;\">\n      <th></th>\n      <th>rent_approval_date</th>\n      <th>town</th>\n      <th>block</th>\n      <th>street_name</th>\n      <th>flat_type</th>\n      <th>flat_model</th>\n      <th>floor_area_sqm</th>\n      <th>furnished</th>\n      <th>lease_commence_date</th>\n      <th>latitude</th>\n      <th>longitude</th>\n      <th>elevation</th>\n      <th>subzone</th>\n      <th>planning_area</th>\n      <th>region</th>\n      <th>monthly_rent</th>\n    </tr>\n  </thead>\n  <tbody>\n    <tr>\n      <th>0</th>\n      <td>2021-09</td>\n      <td>jurong east</td>\n      <td>257</td>\n      <td>Jurong East Street 24</td>\n      <td>3 room</td>\n      <td>new generation</td>\n      <td>67.0</td>\n      <td>yes</td>\n      <td>1983</td>\n      <td>1.344518</td>\n      <td>103.738630</td>\n      <td>0.0</td>\n      <td>yuhua east</td>\n      <td>jurong east</td>\n      <td>west region</td>\n      <td>1600</td>\n    </tr>\n    <tr>\n      <th>1</th>\n      <td>2022-05</td>\n      <td>bedok</td>\n      <td>119</td>\n      <td>bedok north road</td>\n      <td>4-room</td>\n      <td>new generation</td>\n      <td>92.0</td>\n      <td>yes</td>\n      <td>1978</td>\n      <td>1.330186</td>\n      <td>103.938717</td>\n      <td>0.0</td>\n      <td>bedok north</td>\n      <td>bedok</td>\n      <td>east region</td>\n      <td>2250</td>\n    </tr>\n    <tr>\n      <th>2</th>\n      <td>2022-10</td>\n      <td>toa payoh</td>\n      <td>157</td>\n      <td>lorong 1 toa payoh</td>\n      <td>3-room</td>\n      <td>improved</td>\n      <td>67.0</td>\n      <td>yes</td>\n      <td>1971</td>\n      <td>1.332242</td>\n      <td>103.845643</td>\n      <td>0.0</td>\n      <td>toa payoh central</td>\n      <td>toa payoh</td>\n      <td>central region</td>\n      <td>1900</td>\n    </tr>\n    <tr>\n      <th>3</th>\n      <td>2021-08</td>\n      <td>pasir ris</td>\n      <td>250</td>\n      <td>Pasir Ris Street 21</td>\n      <td>executive</td>\n      <td>apartment</td>\n      <td>149.0</td>\n      <td>yes</td>\n      <td>1993</td>\n      <td>1.370239</td>\n      <td>103.962894</td>\n      <td>0.0</td>\n      <td>pasir ris drive</td>\n      <td>pasir ris</td>\n      <td>east region</td>\n      <td>2850</td>\n    </tr>\n    <tr>\n      <th>4</th>\n      <td>2022-11</td>\n      <td>kallang/whampoa</td>\n      <td>34</td>\n      <td>Whampoa West</td>\n      <td>3-room</td>\n      <td>improved</td>\n      <td>68.0</td>\n      <td>yes</td>\n      <td>1972</td>\n      <td>1.320502</td>\n      <td>103.863341</td>\n      <td>0.0</td>\n      <td>bendemeer</td>\n      <td>kallang</td>\n      <td>central region</td>\n      <td>2100</td>\n    </tr>\n  </tbody>\n</table>\n</div>"
     },
     "execution_count": 1,
     "metadata": {},
     "output_type": "execute_result"
    }
   ],
   "source": [
    "import pandas as pd\n",
    "\n",
    "# Load the dataset\n",
    "data = pd.read_csv(\"./Datasets/train.csv\")\n",
    "\n",
    "# Display the first few rows of the dataset\n",
    "data.head()"
   ],
   "metadata": {
    "collapsed": false,
    "ExecuteTime": {
     "end_time": "2023-10-27T04:44:46.101215900Z",
     "start_time": "2023-10-27T04:44:45.964412500Z"
    }
   },
   "id": "d17ac288e75f3286"
  },
  {
   "cell_type": "code",
   "execution_count": 2,
   "id": "initial_id",
   "metadata": {
    "collapsed": true,
    "ExecuteTime": {
     "end_time": "2023-10-27T04:44:46.240860300Z",
     "start_time": "2023-10-27T04:44:46.094215800Z"
    }
   },
   "outputs": [
    {
     "data": {
      "text/plain": "  rent_approval_date             town block            street_name  flat_type  \\\n0            2021-09      jurong east   257  jurong east street 24     3 room   \n1            2022-05            bedok   119       bedok north road     4-room   \n2            2022-10        toa payoh   157     lorong 1 toa payoh     3-room   \n3            2021-08        pasir ris   250    pasir ris street 21  executive   \n4            2022-11  kallang/whampoa    34           whampoa west     3-room   \n\n       flat_model  floor_area_sqm furnished  lease_commence_date  latitude  \\\n0  new generation            67.0       yes                 1983  1.344518   \n1  new generation            92.0       yes                 1978  1.330186   \n2        improved            67.0       yes                 1971  1.332242   \n3       apartment           149.0       yes                 1993  1.370239   \n4        improved            68.0       yes                 1972  1.320502   \n\n    longitude  elevation            subzone planning_area          region  \\\n0  103.738630        0.0         yuhua east   jurong east     west region   \n1  103.938717        0.0        bedok north         bedok     east region   \n2  103.845643        0.0  toa payoh central     toa payoh  central region   \n3  103.962894        0.0    pasir ris drive     pasir ris     east region   \n4  103.863341        0.0          bendemeer       kallang  central region   \n\n   monthly_rent  \n0          1600  \n1          2250  \n2          1900  \n3          2850  \n4          2100  ",
      "text/html": "<div>\n<style scoped>\n    .dataframe tbody tr th:only-of-type {\n        vertical-align: middle;\n    }\n\n    .dataframe tbody tr th {\n        vertical-align: top;\n    }\n\n    .dataframe thead th {\n        text-align: right;\n    }\n</style>\n<table border=\"1\" class=\"dataframe\">\n  <thead>\n    <tr style=\"text-align: right;\">\n      <th></th>\n      <th>rent_approval_date</th>\n      <th>town</th>\n      <th>block</th>\n      <th>street_name</th>\n      <th>flat_type</th>\n      <th>flat_model</th>\n      <th>floor_area_sqm</th>\n      <th>furnished</th>\n      <th>lease_commence_date</th>\n      <th>latitude</th>\n      <th>longitude</th>\n      <th>elevation</th>\n      <th>subzone</th>\n      <th>planning_area</th>\n      <th>region</th>\n      <th>monthly_rent</th>\n    </tr>\n  </thead>\n  <tbody>\n    <tr>\n      <th>0</th>\n      <td>2021-09</td>\n      <td>jurong east</td>\n      <td>257</td>\n      <td>jurong east street 24</td>\n      <td>3 room</td>\n      <td>new generation</td>\n      <td>67.0</td>\n      <td>yes</td>\n      <td>1983</td>\n      <td>1.344518</td>\n      <td>103.738630</td>\n      <td>0.0</td>\n      <td>yuhua east</td>\n      <td>jurong east</td>\n      <td>west region</td>\n      <td>1600</td>\n    </tr>\n    <tr>\n      <th>1</th>\n      <td>2022-05</td>\n      <td>bedok</td>\n      <td>119</td>\n      <td>bedok north road</td>\n      <td>4-room</td>\n      <td>new generation</td>\n      <td>92.0</td>\n      <td>yes</td>\n      <td>1978</td>\n      <td>1.330186</td>\n      <td>103.938717</td>\n      <td>0.0</td>\n      <td>bedok north</td>\n      <td>bedok</td>\n      <td>east region</td>\n      <td>2250</td>\n    </tr>\n    <tr>\n      <th>2</th>\n      <td>2022-10</td>\n      <td>toa payoh</td>\n      <td>157</td>\n      <td>lorong 1 toa payoh</td>\n      <td>3-room</td>\n      <td>improved</td>\n      <td>67.0</td>\n      <td>yes</td>\n      <td>1971</td>\n      <td>1.332242</td>\n      <td>103.845643</td>\n      <td>0.0</td>\n      <td>toa payoh central</td>\n      <td>toa payoh</td>\n      <td>central region</td>\n      <td>1900</td>\n    </tr>\n    <tr>\n      <th>3</th>\n      <td>2021-08</td>\n      <td>pasir ris</td>\n      <td>250</td>\n      <td>pasir ris street 21</td>\n      <td>executive</td>\n      <td>apartment</td>\n      <td>149.0</td>\n      <td>yes</td>\n      <td>1993</td>\n      <td>1.370239</td>\n      <td>103.962894</td>\n      <td>0.0</td>\n      <td>pasir ris drive</td>\n      <td>pasir ris</td>\n      <td>east region</td>\n      <td>2850</td>\n    </tr>\n    <tr>\n      <th>4</th>\n      <td>2022-11</td>\n      <td>kallang/whampoa</td>\n      <td>34</td>\n      <td>whampoa west</td>\n      <td>3-room</td>\n      <td>improved</td>\n      <td>68.0</td>\n      <td>yes</td>\n      <td>1972</td>\n      <td>1.320502</td>\n      <td>103.863341</td>\n      <td>0.0</td>\n      <td>bendemeer</td>\n      <td>kallang</td>\n      <td>central region</td>\n      <td>2100</td>\n    </tr>\n  </tbody>\n</table>\n</div>"
     },
     "execution_count": 2,
     "metadata": {},
     "output_type": "execute_result"
    }
   ],
   "source": [
    "# Convert textual columns to lowercase for normalization\n",
    "textual_columns = ['town', 'block', 'street_name', 'flat_type', 'flat_model', 'furnished', 'subzone', 'planning_area', 'region']\n",
    "\n",
    "data[textual_columns] = data[textual_columns].apply(lambda x: x.str.lower())\n",
    "\n",
    "# Display the first few rows to verify changes\n",
    "data.head()"
   ]
  },
  {
   "cell_type": "code",
   "execution_count": 3,
   "outputs": [
    {
     "data": {
      "text/plain": "              town block            street_name  flat_type      flat_model  \\\n0      jurong east   257  jurong east street 24     3 room  new generation   \n1            bedok   119       bedok north road     4-room  new generation   \n2        toa payoh   157     lorong 1 toa payoh     3-room        improved   \n3        pasir ris   250    pasir ris street 21  executive       apartment   \n4  kallang/whampoa    34           whampoa west     3-room        improved   \n\n   floor_area_sqm furnished  lease_commence_date  latitude   longitude  \\\n0            67.0       yes                 1983  1.344518  103.738630   \n1            92.0       yes                 1978  1.330186  103.938717   \n2            67.0       yes                 1971  1.332242  103.845643   \n3           149.0       yes                 1993  1.370239  103.962894   \n4            68.0       yes                 1972  1.320502  103.863341   \n\n   elevation            subzone planning_area          region  monthly_rent  \\\n0        0.0         yuhua east   jurong east     west region          1600   \n1        0.0        bedok north         bedok     east region          2250   \n2        0.0  toa payoh central     toa payoh  central region          1900   \n3        0.0    pasir ris drive     pasir ris     east region          2850   \n4        0.0          bendemeer       kallang  central region          2100   \n\n   rent_approval_year  rent_approval_month  \n0                2021                    9  \n1                2022                    5  \n2                2022                   10  \n3                2021                    8  \n4                2022                   11  ",
      "text/html": "<div>\n<style scoped>\n    .dataframe tbody tr th:only-of-type {\n        vertical-align: middle;\n    }\n\n    .dataframe tbody tr th {\n        vertical-align: top;\n    }\n\n    .dataframe thead th {\n        text-align: right;\n    }\n</style>\n<table border=\"1\" class=\"dataframe\">\n  <thead>\n    <tr style=\"text-align: right;\">\n      <th></th>\n      <th>town</th>\n      <th>block</th>\n      <th>street_name</th>\n      <th>flat_type</th>\n      <th>flat_model</th>\n      <th>floor_area_sqm</th>\n      <th>furnished</th>\n      <th>lease_commence_date</th>\n      <th>latitude</th>\n      <th>longitude</th>\n      <th>elevation</th>\n      <th>subzone</th>\n      <th>planning_area</th>\n      <th>region</th>\n      <th>monthly_rent</th>\n      <th>rent_approval_year</th>\n      <th>rent_approval_month</th>\n    </tr>\n  </thead>\n  <tbody>\n    <tr>\n      <th>0</th>\n      <td>jurong east</td>\n      <td>257</td>\n      <td>jurong east street 24</td>\n      <td>3 room</td>\n      <td>new generation</td>\n      <td>67.0</td>\n      <td>yes</td>\n      <td>1983</td>\n      <td>1.344518</td>\n      <td>103.738630</td>\n      <td>0.0</td>\n      <td>yuhua east</td>\n      <td>jurong east</td>\n      <td>west region</td>\n      <td>1600</td>\n      <td>2021</td>\n      <td>9</td>\n    </tr>\n    <tr>\n      <th>1</th>\n      <td>bedok</td>\n      <td>119</td>\n      <td>bedok north road</td>\n      <td>4-room</td>\n      <td>new generation</td>\n      <td>92.0</td>\n      <td>yes</td>\n      <td>1978</td>\n      <td>1.330186</td>\n      <td>103.938717</td>\n      <td>0.0</td>\n      <td>bedok north</td>\n      <td>bedok</td>\n      <td>east region</td>\n      <td>2250</td>\n      <td>2022</td>\n      <td>5</td>\n    </tr>\n    <tr>\n      <th>2</th>\n      <td>toa payoh</td>\n      <td>157</td>\n      <td>lorong 1 toa payoh</td>\n      <td>3-room</td>\n      <td>improved</td>\n      <td>67.0</td>\n      <td>yes</td>\n      <td>1971</td>\n      <td>1.332242</td>\n      <td>103.845643</td>\n      <td>0.0</td>\n      <td>toa payoh central</td>\n      <td>toa payoh</td>\n      <td>central region</td>\n      <td>1900</td>\n      <td>2022</td>\n      <td>10</td>\n    </tr>\n    <tr>\n      <th>3</th>\n      <td>pasir ris</td>\n      <td>250</td>\n      <td>pasir ris street 21</td>\n      <td>executive</td>\n      <td>apartment</td>\n      <td>149.0</td>\n      <td>yes</td>\n      <td>1993</td>\n      <td>1.370239</td>\n      <td>103.962894</td>\n      <td>0.0</td>\n      <td>pasir ris drive</td>\n      <td>pasir ris</td>\n      <td>east region</td>\n      <td>2850</td>\n      <td>2021</td>\n      <td>8</td>\n    </tr>\n    <tr>\n      <th>4</th>\n      <td>kallang/whampoa</td>\n      <td>34</td>\n      <td>whampoa west</td>\n      <td>3-room</td>\n      <td>improved</td>\n      <td>68.0</td>\n      <td>yes</td>\n      <td>1972</td>\n      <td>1.320502</td>\n      <td>103.863341</td>\n      <td>0.0</td>\n      <td>bendemeer</td>\n      <td>kallang</td>\n      <td>central region</td>\n      <td>2100</td>\n      <td>2022</td>\n      <td>11</td>\n    </tr>\n  </tbody>\n</table>\n</div>"
     },
     "execution_count": 3,
     "metadata": {},
     "output_type": "execute_result"
    }
   ],
   "source": [
    "# Extract year and month from the 'rent_approval_date' column\n",
    "data['rent_approval_year'] = pd.to_datetime(data['rent_approval_date']).dt.year\n",
    "data['rent_approval_month'] = pd.to_datetime(data['rent_approval_date']).dt.month\n",
    "\n",
    "# Drop the original 'rent_approval_date' column\n",
    "data = data.drop(columns=['rent_approval_date'])\n",
    "\n",
    "# Display the modified dataset\n",
    "data.head()"
   ],
   "metadata": {
    "collapsed": false,
    "ExecuteTime": {
     "end_time": "2023-10-27T04:44:46.315813600Z",
     "start_time": "2023-10-27T04:44:46.230855Z"
    }
   },
   "id": "927a283c446ab1eb"
  },
  {
   "cell_type": "code",
   "execution_count": 4,
   "outputs": [
    {
     "data": {
      "text/plain": "array(['3-room', '4-room', 'executive', '5-room', '2-room'], dtype=object)"
     },
     "execution_count": 4,
     "metadata": {},
     "output_type": "execute_result"
    }
   ],
   "source": [
    "# Standardize the flat_type values by replacing \" room\" with \"-room\"\n",
    "data['flat_type'] = data['flat_type'].str.replace(\" room\", \"-room\")\n",
    "\n",
    "# Check the updated unique values in the 'flat_type' column\n",
    "updated_flat_types = data['flat_type'].unique()\n",
    "\n",
    "updated_flat_types"
   ],
   "metadata": {
    "collapsed": false,
    "ExecuteTime": {
     "end_time": "2023-10-27T04:44:46.318813700Z",
     "start_time": "2023-10-27T04:44:46.267473100Z"
    }
   },
   "id": "cdcec8ebdacafdfd"
  },
  {
   "cell_type": "code",
   "execution_count": 5,
   "outputs": [
    {
     "data": {
      "text/plain": "Index(['town', 'block', 'street_name', 'flat_type', 'flat_model',\n       'floor_area_sqm', 'lease_commence_date', 'latitude', 'longitude',\n       'subzone', 'planning_area', 'region', 'monthly_rent',\n       'rent_approval_year', 'rent_approval_month'],\n      dtype='object')"
     },
     "execution_count": 5,
     "metadata": {},
     "output_type": "execute_result"
    }
   ],
   "source": [
    "# Identify columns with only one unique value\n",
    "columns_to_drop = [col for col in data.columns if data[col].nunique() == 1]\n",
    "\n",
    "# Drop these columns from the dataset\n",
    "data = data.drop(columns=columns_to_drop)\n",
    "\n",
    "# Display the updated dataset columns\n",
    "remaining_columns = data.columns\n",
    "remaining_columns"
   ],
   "metadata": {
    "collapsed": false,
    "ExecuteTime": {
     "end_time": "2023-10-27T04:44:46.451868800Z",
     "start_time": "2023-10-27T04:44:46.294814900Z"
    }
   },
   "id": "94d1e20f5e603d16"
  },
  {
   "cell_type": "code",
   "execution_count": 6,
   "outputs": [],
   "source": [
    "# Drop the 'block', 'street names' columns as it is too granular and may not generalize well\n",
    "data = data.drop(columns=['block', 'street_name'])"
   ],
   "metadata": {
    "collapsed": false,
    "ExecuteTime": {
     "end_time": "2023-10-27T04:44:46.476879400Z",
     "start_time": "2023-10-27T04:44:46.343930200Z"
    }
   },
   "id": "86f566a0d6f622e9"
  },
  {
   "cell_type": "code",
   "execution_count": 7,
   "outputs": [
    {
     "data": {
      "text/plain": "   year category month  bidding  price  quota  bids\n0  2023        a  july        2  95202    581   728\n1  2023        a  july        1  97000    588   756\n2  2023        a  june        2  96206    586   751\n3  2023        a  june        1  98001    581   881\n4  2023        a   may        2  92000    596   936",
      "text/html": "<div>\n<style scoped>\n    .dataframe tbody tr th:only-of-type {\n        vertical-align: middle;\n    }\n\n    .dataframe tbody tr th {\n        vertical-align: top;\n    }\n\n    .dataframe thead th {\n        text-align: right;\n    }\n</style>\n<table border=\"1\" class=\"dataframe\">\n  <thead>\n    <tr style=\"text-align: right;\">\n      <th></th>\n      <th>year</th>\n      <th>category</th>\n      <th>month</th>\n      <th>bidding</th>\n      <th>price</th>\n      <th>quota</th>\n      <th>bids</th>\n    </tr>\n  </thead>\n  <tbody>\n    <tr>\n      <th>0</th>\n      <td>2023</td>\n      <td>a</td>\n      <td>july</td>\n      <td>2</td>\n      <td>95202</td>\n      <td>581</td>\n      <td>728</td>\n    </tr>\n    <tr>\n      <th>1</th>\n      <td>2023</td>\n      <td>a</td>\n      <td>july</td>\n      <td>1</td>\n      <td>97000</td>\n      <td>588</td>\n      <td>756</td>\n    </tr>\n    <tr>\n      <th>2</th>\n      <td>2023</td>\n      <td>a</td>\n      <td>june</td>\n      <td>2</td>\n      <td>96206</td>\n      <td>586</td>\n      <td>751</td>\n    </tr>\n    <tr>\n      <th>3</th>\n      <td>2023</td>\n      <td>a</td>\n      <td>june</td>\n      <td>1</td>\n      <td>98001</td>\n      <td>581</td>\n      <td>881</td>\n    </tr>\n    <tr>\n      <th>4</th>\n      <td>2023</td>\n      <td>a</td>\n      <td>may</td>\n      <td>2</td>\n      <td>92000</td>\n      <td>596</td>\n      <td>936</td>\n    </tr>\n  </tbody>\n</table>\n</div>"
     },
     "execution_count": 7,
     "metadata": {},
     "output_type": "execute_result"
    }
   ],
   "source": [
    "# Load the first dataset\n",
    "sg_coe_prices = pd.read_csv(\"./Datasets/auxiliary-data/sg-coe-prices.csv\")\n",
    "sg_coe_prices.head()"
   ],
   "metadata": {
    "collapsed": false,
    "ExecuteTime": {
     "end_time": "2023-10-27T04:44:46.477884200Z",
     "start_time": "2023-10-27T04:44:46.358142300Z"
    }
   },
   "id": "b1aa47c420402489"
  },
  {
   "cell_type": "code",
   "execution_count": 8,
   "outputs": [
    {
     "data": {
      "text/plain": "              town  flat_type      flat_model  floor_area_sqm  \\\n0      jurong east     3-room  new generation            67.0   \n1            bedok     4-room  new generation            92.0   \n2        toa payoh     3-room        improved            67.0   \n3        pasir ris  executive       apartment           149.0   \n4  kallang/whampoa     3-room        improved            68.0   \n\n   lease_commence_date  latitude   longitude            subzone planning_area  \\\n0                 1983  1.344518  103.738630         yuhua east   jurong east   \n1                 1978  1.330186  103.938717        bedok north         bedok   \n2                 1971  1.332242  103.845643  toa payoh central     toa payoh   \n3                 1993  1.370239  103.962894    pasir ris drive     pasir ris   \n4                 1972  1.320502  103.863341          bendemeer       kallang   \n\n           region  monthly_rent  rent_approval_year  rent_approval_month  \\\n0     west region          1600                2021                    9   \n1     east region          2250                2022                    5   \n2  central region          1900                2022                   10   \n3     east region          2850                2021                    8   \n4  central region          2100                2022                   11   \n\n   coe_price  \n0  54951.625  \n1  77035.625  \n2  89580.250  \n3  51997.375  \n4  99472.875  ",
      "text/html": "<div>\n<style scoped>\n    .dataframe tbody tr th:only-of-type {\n        vertical-align: middle;\n    }\n\n    .dataframe tbody tr th {\n        vertical-align: top;\n    }\n\n    .dataframe thead th {\n        text-align: right;\n    }\n</style>\n<table border=\"1\" class=\"dataframe\">\n  <thead>\n    <tr style=\"text-align: right;\">\n      <th></th>\n      <th>town</th>\n      <th>flat_type</th>\n      <th>flat_model</th>\n      <th>floor_area_sqm</th>\n      <th>lease_commence_date</th>\n      <th>latitude</th>\n      <th>longitude</th>\n      <th>subzone</th>\n      <th>planning_area</th>\n      <th>region</th>\n      <th>monthly_rent</th>\n      <th>rent_approval_year</th>\n      <th>rent_approval_month</th>\n      <th>coe_price</th>\n    </tr>\n  </thead>\n  <tbody>\n    <tr>\n      <th>0</th>\n      <td>jurong east</td>\n      <td>3-room</td>\n      <td>new generation</td>\n      <td>67.0</td>\n      <td>1983</td>\n      <td>1.344518</td>\n      <td>103.738630</td>\n      <td>yuhua east</td>\n      <td>jurong east</td>\n      <td>west region</td>\n      <td>1600</td>\n      <td>2021</td>\n      <td>9</td>\n      <td>54951.625</td>\n    </tr>\n    <tr>\n      <th>1</th>\n      <td>bedok</td>\n      <td>4-room</td>\n      <td>new generation</td>\n      <td>92.0</td>\n      <td>1978</td>\n      <td>1.330186</td>\n      <td>103.938717</td>\n      <td>bedok north</td>\n      <td>bedok</td>\n      <td>east region</td>\n      <td>2250</td>\n      <td>2022</td>\n      <td>5</td>\n      <td>77035.625</td>\n    </tr>\n    <tr>\n      <th>2</th>\n      <td>toa payoh</td>\n      <td>3-room</td>\n      <td>improved</td>\n      <td>67.0</td>\n      <td>1971</td>\n      <td>1.332242</td>\n      <td>103.845643</td>\n      <td>toa payoh central</td>\n      <td>toa payoh</td>\n      <td>central region</td>\n      <td>1900</td>\n      <td>2022</td>\n      <td>10</td>\n      <td>89580.250</td>\n    </tr>\n    <tr>\n      <th>3</th>\n      <td>pasir ris</td>\n      <td>executive</td>\n      <td>apartment</td>\n      <td>149.0</td>\n      <td>1993</td>\n      <td>1.370239</td>\n      <td>103.962894</td>\n      <td>pasir ris drive</td>\n      <td>pasir ris</td>\n      <td>east region</td>\n      <td>2850</td>\n      <td>2021</td>\n      <td>8</td>\n      <td>51997.375</td>\n    </tr>\n    <tr>\n      <th>4</th>\n      <td>kallang/whampoa</td>\n      <td>3-room</td>\n      <td>improved</td>\n      <td>68.0</td>\n      <td>1972</td>\n      <td>1.320502</td>\n      <td>103.863341</td>\n      <td>bendemeer</td>\n      <td>kallang</td>\n      <td>central region</td>\n      <td>2100</td>\n      <td>2022</td>\n      <td>11</td>\n      <td>99472.875</td>\n    </tr>\n  </tbody>\n</table>\n</div>"
     },
     "execution_count": 8,
     "metadata": {},
     "output_type": "execute_result"
    }
   ],
   "source": [
    "# Convert month names in sg_coe_prices to numerical values for merging\n",
    "month_map = {\n",
    "    'january': 1, 'february': 2, 'march': 3, 'april': 4, 'may': 5, 'june': 6,\n",
    "    'july': 7, 'august': 8, 'september': 9, 'october': 10, 'november': 11, 'december': 12\n",
    "}\n",
    "sg_coe_prices['month_num'] = sg_coe_prices['month'].map(month_map)\n",
    "sg_coe_prices.rename(columns={'price': 'coe_price'}, inplace=True)\n",
    "\n",
    "# Aggregate COE prices by taking the average for each month and year across all categories\n",
    "average_coe_prices = sg_coe_prices.groupby(['year', 'month_num'])['coe_price'].mean().reset_index()\n",
    "\n",
    "# Merge the aggregated COE prices back into the rental data\n",
    "data = pd.merge(data, average_coe_prices,\n",
    "                           left_on=['rent_approval_year', 'rent_approval_month'],\n",
    "                           right_on=['year', 'month_num'],\n",
    "                           how='left').drop(columns=['year', 'month_num'])\n",
    "\n",
    "data.head()"
   ],
   "metadata": {
    "collapsed": false,
    "ExecuteTime": {
     "end_time": "2023-10-27T04:44:46.538867600Z",
     "start_time": "2023-10-27T04:44:46.370651500Z"
    }
   },
   "id": "a202f1ad08f46866"
  },
  {
   "cell_type": "code",
   "execution_count": 9,
   "outputs": [
    {
     "data": {
      "text/plain": "         Date      Open      High       Low     Close\n0  10/20/2023  3,076.69  3,100.44  3,074.07  3,076.69\n1  10/19/2023  3,111.78  3,099.60  3,099.60  3,099.60\n2  10/18/2023  3,167.63  3,136.62  3,136.62  3,136.62\n3  10/17/2023  3,185.79  3,171.83  3,171.83  3,171.83\n4  10/16/2023  3,163.89  3,179.39  3,157.63  3,163.89",
      "text/html": "<div>\n<style scoped>\n    .dataframe tbody tr th:only-of-type {\n        vertical-align: middle;\n    }\n\n    .dataframe tbody tr th {\n        vertical-align: top;\n    }\n\n    .dataframe thead th {\n        text-align: right;\n    }\n</style>\n<table border=\"1\" class=\"dataframe\">\n  <thead>\n    <tr style=\"text-align: right;\">\n      <th></th>\n      <th>Date</th>\n      <th>Open</th>\n      <th>High</th>\n      <th>Low</th>\n      <th>Close</th>\n    </tr>\n  </thead>\n  <tbody>\n    <tr>\n      <th>0</th>\n      <td>10/20/2023</td>\n      <td>3,076.69</td>\n      <td>3,100.44</td>\n      <td>3,074.07</td>\n      <td>3,076.69</td>\n    </tr>\n    <tr>\n      <th>1</th>\n      <td>10/19/2023</td>\n      <td>3,111.78</td>\n      <td>3,099.60</td>\n      <td>3,099.60</td>\n      <td>3,099.60</td>\n    </tr>\n    <tr>\n      <th>2</th>\n      <td>10/18/2023</td>\n      <td>3,167.63</td>\n      <td>3,136.62</td>\n      <td>3,136.62</td>\n      <td>3,136.62</td>\n    </tr>\n    <tr>\n      <th>3</th>\n      <td>10/17/2023</td>\n      <td>3,185.79</td>\n      <td>3,171.83</td>\n      <td>3,171.83</td>\n      <td>3,171.83</td>\n    </tr>\n    <tr>\n      <th>4</th>\n      <td>10/16/2023</td>\n      <td>3,163.89</td>\n      <td>3,179.39</td>\n      <td>3,157.63</td>\n      <td>3,163.89</td>\n    </tr>\n  </tbody>\n</table>\n</div>"
     },
     "execution_count": 9,
     "metadata": {},
     "output_type": "execute_result"
    }
   ],
   "source": [
    "# Loading the datasets\n",
    "sg_stock_prices = pd.read_csv('./Datasets/auxiliary-data/INDEX_SG_XSES_STI.csv')\n",
    "\n",
    "# Displaying the first few rows of each dataset\n",
    "sg_stock_prices.head()"
   ],
   "metadata": {
    "collapsed": false,
    "ExecuteTime": {
     "end_time": "2023-10-27T04:44:46.538867600Z",
     "start_time": "2023-10-27T04:44:46.421539800Z"
    }
   },
   "id": "b6bd4c227a90a8ef"
  },
  {
   "cell_type": "code",
   "execution_count": 10,
   "outputs": [
    {
     "data": {
      "text/plain": "{'mean': Open            0.266463\n Low             0.262047\n Close           0.264990\n High            0.268321\n monthly_rent    1.000000\n Name: monthly_rent, dtype: float64,\n 'min': Open            0.271586\n Low             0.293945\n Close           0.297813\n High            0.284350\n monthly_rent    1.000000\n Name: monthly_rent, dtype: float64,\n 'max': Open            0.263099\n Low             0.265938\n Close           0.264243\n High            0.268788\n monthly_rent    1.000000\n Name: monthly_rent, dtype: float64}"
     },
     "execution_count": 10,
     "metadata": {},
     "output_type": "execute_result"
    }
   ],
   "source": [
    "# Convert the Date column in the index_data to datetime format\n",
    "sg_stock_prices['Date'] = pd.to_datetime(sg_stock_prices['Date'])\n",
    "\n",
    "# Extract year and month from the Date column in index_data for merging\n",
    "sg_stock_prices['Year'] = sg_stock_prices['Date'].dt.year\n",
    "sg_stock_prices['Month'] = sg_stock_prices['Date'].dt.month\n",
    "\n",
    "# Aggregate the stock index data using mean, min, and max for each month and year\n",
    "for col in ['Open', 'Low', 'Close', 'High']:\n",
    "    sg_stock_prices[col] = sg_stock_prices[col].str.replace(',','').astype(float)\n",
    "\n",
    "# Re-run the aggregation\n",
    "mean_aggregated = sg_stock_prices.groupby(['Year', 'Month']).mean().reset_index()\n",
    "min_aggregated = sg_stock_prices.groupby(['Year', 'Month']).min().reset_index()\n",
    "max_aggregated = sg_stock_prices.groupby(['Year', 'Month']).max().reset_index()\n",
    "\n",
    "# Merge with train_data and calculate correlations for each aggregation method\n",
    "correlations_updated = {}\n",
    "\n",
    "for method, aggregated_data in [('mean', mean_aggregated), ('min', min_aggregated), ('max', max_aggregated)]:\n",
    "    merged = pd.merge(data, aggregated_data, left_on=['rent_approval_year', 'rent_approval_month'],\n",
    "                      right_on=['Year', 'Month'], how='left')\n",
    "\n",
    "    # Calculate the correlation with monthly_rent\n",
    "    correlation = merged[['Open', 'Low', 'Close', 'High', 'monthly_rent']].corr()\n",
    "    correlations_updated[method] = correlation['monthly_rent']\n",
    "\n",
    "correlations_updated"
   ],
   "metadata": {
    "collapsed": false,
    "ExecuteTime": {
     "end_time": "2023-10-27T04:44:46.622137800Z",
     "start_time": "2023-10-27T04:44:46.438361600Z"
    }
   },
   "id": "a813f91495091c19"
  },
  {
   "cell_type": "code",
   "execution_count": 11,
   "outputs": [
    {
     "data": {
      "text/plain": "              town  flat_type      flat_model  floor_area_sqm  \\\n0      jurong east     3-room  new generation            67.0   \n1            bedok     4-room  new generation            92.0   \n2        toa payoh     3-room        improved            67.0   \n3        pasir ris  executive       apartment           149.0   \n4  kallang/whampoa     3-room        improved            68.0   \n\n   lease_commence_date  latitude   longitude            subzone planning_area  \\\n0                 1983  1.344518  103.738630         yuhua east   jurong east   \n1                 1978  1.330186  103.938717        bedok north         bedok   \n2                 1971  1.332242  103.845643  toa payoh central     toa payoh   \n3                 1993  1.370239  103.962894    pasir ris drive     pasir ris   \n4                 1972  1.320502  103.863341          bendemeer       kallang   \n\n           region  monthly_rent  rent_approval_year  rent_approval_month  \\\n0     west region          1600                2021                    9   \n1     east region          2250                2022                    5   \n2  central region          1900                2022                   10   \n3     east region          2850                2021                    8   \n4  central region          2100                2022                   11   \n\n   coe_price  Year  Month  Stock_Price  \n0  54951.625  2021      9      3041.73  \n1  77035.625  2022      5      3165.18  \n2  89580.250  2022     10      2969.95  \n3  51997.375  2021      8      3055.05  \n4  99472.875  2022     11      3102.51  ",
      "text/html": "<div>\n<style scoped>\n    .dataframe tbody tr th:only-of-type {\n        vertical-align: middle;\n    }\n\n    .dataframe tbody tr th {\n        vertical-align: top;\n    }\n\n    .dataframe thead th {\n        text-align: right;\n    }\n</style>\n<table border=\"1\" class=\"dataframe\">\n  <thead>\n    <tr style=\"text-align: right;\">\n      <th></th>\n      <th>town</th>\n      <th>flat_type</th>\n      <th>flat_model</th>\n      <th>floor_area_sqm</th>\n      <th>lease_commence_date</th>\n      <th>latitude</th>\n      <th>longitude</th>\n      <th>subzone</th>\n      <th>planning_area</th>\n      <th>region</th>\n      <th>monthly_rent</th>\n      <th>rent_approval_year</th>\n      <th>rent_approval_month</th>\n      <th>coe_price</th>\n      <th>Year</th>\n      <th>Month</th>\n      <th>Stock_Price</th>\n    </tr>\n  </thead>\n  <tbody>\n    <tr>\n      <th>0</th>\n      <td>jurong east</td>\n      <td>3-room</td>\n      <td>new generation</td>\n      <td>67.0</td>\n      <td>1983</td>\n      <td>1.344518</td>\n      <td>103.738630</td>\n      <td>yuhua east</td>\n      <td>jurong east</td>\n      <td>west region</td>\n      <td>1600</td>\n      <td>2021</td>\n      <td>9</td>\n      <td>54951.625</td>\n      <td>2021</td>\n      <td>9</td>\n      <td>3041.73</td>\n    </tr>\n    <tr>\n      <th>1</th>\n      <td>bedok</td>\n      <td>4-room</td>\n      <td>new generation</td>\n      <td>92.0</td>\n      <td>1978</td>\n      <td>1.330186</td>\n      <td>103.938717</td>\n      <td>bedok north</td>\n      <td>bedok</td>\n      <td>east region</td>\n      <td>2250</td>\n      <td>2022</td>\n      <td>5</td>\n      <td>77035.625</td>\n      <td>2022</td>\n      <td>5</td>\n      <td>3165.18</td>\n    </tr>\n    <tr>\n      <th>2</th>\n      <td>toa payoh</td>\n      <td>3-room</td>\n      <td>improved</td>\n      <td>67.0</td>\n      <td>1971</td>\n      <td>1.332242</td>\n      <td>103.845643</td>\n      <td>toa payoh central</td>\n      <td>toa payoh</td>\n      <td>central region</td>\n      <td>1900</td>\n      <td>2022</td>\n      <td>10</td>\n      <td>89580.250</td>\n      <td>2022</td>\n      <td>10</td>\n      <td>2969.95</td>\n    </tr>\n    <tr>\n      <th>3</th>\n      <td>pasir ris</td>\n      <td>executive</td>\n      <td>apartment</td>\n      <td>149.0</td>\n      <td>1993</td>\n      <td>1.370239</td>\n      <td>103.962894</td>\n      <td>pasir ris drive</td>\n      <td>pasir ris</td>\n      <td>east region</td>\n      <td>2850</td>\n      <td>2021</td>\n      <td>8</td>\n      <td>51997.375</td>\n      <td>2021</td>\n      <td>8</td>\n      <td>3055.05</td>\n    </tr>\n    <tr>\n      <th>4</th>\n      <td>kallang/whampoa</td>\n      <td>3-room</td>\n      <td>improved</td>\n      <td>68.0</td>\n      <td>1972</td>\n      <td>1.320502</td>\n      <td>103.863341</td>\n      <td>bendemeer</td>\n      <td>kallang</td>\n      <td>central region</td>\n      <td>2100</td>\n      <td>2022</td>\n      <td>11</td>\n      <td>99472.875</td>\n      <td>2022</td>\n      <td>11</td>\n      <td>3102.51</td>\n    </tr>\n  </tbody>\n</table>\n</div>"
     },
     "execution_count": 11,
     "metadata": {},
     "output_type": "execute_result"
    }
   ],
   "source": [
    "# From the above correlations, the Close value with the Min aggregation method has the highest correlation with monthly_rent. Therefore, if we were to choose a single aggregated stock index value as a feature, the Close price with the Min aggregation would be the most suitable based on its correlation with the target variable.\n",
    "# Merge the train_data with min_aggregated data using only the 'Close' column\n",
    "data = pd.merge(data, min_aggregated[['Year', 'Month', 'Close']],\n",
    "                            left_on=['rent_approval_year', 'rent_approval_month'],\n",
    "                            right_on=['Year', 'Month'], how='left')\n",
    "\n",
    "# Rename the 'Close' column for clarity\n",
    "data.rename(columns={'Close': 'Stock_Price'}, inplace=True)\n",
    "\n",
    "data.head()"
   ],
   "metadata": {
    "collapsed": false,
    "ExecuteTime": {
     "end_time": "2023-10-27T04:44:46.626137700Z",
     "start_time": "2023-10-27T04:44:46.519859200Z"
    }
   },
   "id": "24bf02346cfcc5dd"
  },
  {
   "cell_type": "code",
   "execution_count": 12,
   "outputs": [
    {
     "data": {
      "text/plain": "(              town  flat_type         flat_model  floor_area_sqm  \\\n 0      jurong east     3-room     new generation            67.0   \n 1            bedok     4-room     new generation            92.0   \n 2        toa payoh     3-room           improved            67.0   \n 3        pasir ris  executive          apartment           149.0   \n 4  kallang/whampoa     3-room           improved            68.0   \n 5    bukit panjang  executive  premium apartment           130.0   \n 6         sengkang     5-room  premium apartment           110.0   \n 7       ang mo kio     3-room     new generation            67.0   \n 8           bishan     4-room         simplified            84.0   \n 9          punggol     5-room  premium apartment           112.0   \n \n    lease_commence_date  latitude   longitude            subzone  \\\n 0                 1983  1.344518  103.738630         yuhua east   \n 1                 1978  1.330186  103.938717        bedok north   \n 2                 1971  1.332242  103.845643  toa payoh central   \n 3                 1993  1.370239  103.962894    pasir ris drive   \n 4                 1972  1.320502  103.863341          bendemeer   \n 5                 2001  1.387847  103.764249            saujana   \n 6                 2005  1.388997  103.875148           fernvale   \n 7                 1978  1.366048  103.838123         shangri-la   \n 8                 1987  1.344279  103.855556        bishan east   \n 9                 2003  1.392832  103.910620      punggol field   \n \n    planning_area             region  ...   coe_price  Year  Month  \\\n 0    jurong east        west region  ...   54951.625  2021      9   \n 1          bedok        east region  ...   77035.625  2022      5   \n 2      toa payoh     central region  ...   89580.250  2022     10   \n 3      pasir ris        east region  ...   51997.375  2021      8   \n 4        kallang     central region  ...   99472.875  2022     11   \n 5  bukit panjang        west region  ...  104404.750  2023      4   \n 6       sengkang  north-east region  ...   45187.375  2021      1   \n 7     ang mo kio  north-east region  ...   83323.125  2022      6   \n 8         bishan     central region  ...   60908.375  2021     10   \n 9        punggol  north-east region  ...   50396.750  2021      4   \n \n    Stock_Price  mrt_nearest_distance     mrt_nearest  mrt_count_within_1km  \\\n 0      3041.73                 699.0  Chinese Garden                     1   \n 1      3165.18                 899.0     Tanah Merah                     1   \n 2      2969.95                 219.0       Toa Payoh                     4   \n 3      3055.05                1546.0       Pasir Ris                     0   \n 4      3102.51                 188.0       Boon Keng                     3   \n 5      3270.51                 982.0   Bukit Panjang                     1   \n 6      2858.90                2076.0        Buangkok                     0   \n 7      3092.80                 626.0       Mayflower                     2   \n 8      3051.11                 967.0          Bishan                     2   \n 9      3155.06                1601.0         Punggol                     0   \n \n    mall_nearest_distance                mall_nearest  mall_count_within_1km  \n 0                 1203.0                    Westgate                      0  \n 1                 1114.0          Djitsun Mall Bedok                      0  \n 2                  468.0                     HDB Hub                      3  \n 3                  402.0                Loyang Point                      1  \n 4                 1073.0                      Aperia                      0  \n 5                  355.0  Greenridge Shopping Centre                      4  \n 6                  296.0            The Seletar Mall                      3  \n 7                 1089.0              Broadway Plaza                      0  \n 8                 1033.0                  Junction 8                      0  \n 9                  315.0               Punggol Plaza                      2  \n \n [10 rows x 23 columns],\n (60000, 23))"
     },
     "execution_count": 12,
     "metadata": {},
     "output_type": "execute_result"
    }
   ],
   "source": [
    "import numpy as np\n",
    "\n",
    "# 直线距离\n",
    "def haversine_distances(df_lats, df_longs, dst_lats, dst_longs):\n",
    "    R = 6371000  # Earth's average radius in meters\n",
    "\n",
    "    lat = np.radians(dst_lats) - np.radians(df_lats[:, np.newaxis])\n",
    "    lon = np.radians(dst_longs) - np.radians(df_longs[:, np.newaxis])\n",
    "\n",
    "    a = np.sin(lat / 2.0) ** 2 + np.cos(np.radians(df_lats[:, np.newaxis])) * np.cos(np.radians(dst_lats)) * np.sin(lon / 2.0) ** 2\n",
    "    c = 2 * np.arctan2(np.sqrt(a), np.sqrt(1 - a))\n",
    "\n",
    "    return R * c\n",
    "\n",
    "def add_distance_features(train_df, poi_df, prefix):\n",
    "    distances = haversine_distances(train_df['latitude'].values, train_df['longitude'].values, poi_df['latitude'].values, poi_df['longitude'].values)\n",
    "\n",
    "    train_df[prefix + '_nearest_distance'] = np.min(distances, axis=1).round()\n",
    "    nearest_index = np.argmin(distances, axis=1)\n",
    "    train_df[prefix + '_nearest'] = poi_df['name'].iloc[nearest_index].values\n",
    "    train_df[prefix + '_count_within_1km'] = np.sum(distances <= 1000, axis=1)\n",
    "\n",
    "# Load data\n",
    "mrt_file = pd.read_csv(\"./Datasets/auxiliary-data/sg-mrt-existing-stations.csv\")\n",
    "shoppingmall_file = pd.read_csv(\"./Datasets/auxiliary-data/sg-shopping-malls.csv\")\n",
    "\n",
    "# Add distance features for MRT stations and shopping malls\n",
    "add_distance_features(data, mrt_file, 'mrt')\n",
    "add_distance_features(data, shoppingmall_file, 'mall')\n",
    "\n",
    "data.head(10), data.shape"
   ],
   "metadata": {
    "collapsed": false,
    "ExecuteTime": {
     "end_time": "2023-10-27T04:44:47.850818800Z",
     "start_time": "2023-10-27T04:44:46.550985300Z"
    }
   },
   "id": "c007bee5273b7f60"
  },
  {
   "cell_type": "code",
   "execution_count": 13,
   "outputs": [
    {
     "data": {
      "text/plain": "               town  flat_type         flat_model  floor_area_sqm  \\\n0       jurong east     3-room     new generation            67.0   \n1             bedok     4-room     new generation            92.0   \n2         toa payoh     3-room           improved            67.0   \n3         pasir ris  executive          apartment           149.0   \n4   kallang/whampoa     3-room           improved            68.0   \n5     bukit panjang  executive  premium apartment           130.0   \n6          sengkang     5-room  premium apartment           110.0   \n7        ang mo kio     3-room     new generation            67.0   \n8            bishan     4-room         simplified            84.0   \n9           punggol     5-room  premium apartment           112.0   \n10    choa chu kang     4-room            model a           104.0   \n11        pasir ris     5-room           improved           123.0   \n12            bedok     4-room         simplified            84.0   \n13            bedok     3-room           improved            60.0   \n14         sengkang     4-room            model a            93.0   \n15    choa chu kang     4-room            model a           112.0   \n16         clementi     4-room     new generation            91.0   \n17        pasir ris     5-room           improved           113.0   \n18      bukit batok     3-room           improved            69.0   \n19        sembawang     5-room  premium apartment           110.0   \n\n    lease_commence_date  latitude   longitude            subzone  \\\n0                  1983  1.344518  103.738630         yuhua east   \n1                  1978  1.330186  103.938717        bedok north   \n2                  1971  1.332242  103.845643  toa payoh central   \n3                  1993  1.370239  103.962894    pasir ris drive   \n4                  1972  1.320502  103.863341          bendemeer   \n5                  2001  1.387847  103.764249            saujana   \n6                  2005  1.388997  103.875148           fernvale   \n7                  1978  1.366048  103.838123         shangri-la   \n8                  1987  1.344279  103.855556        bishan east   \n9                  2003  1.392832  103.910620      punggol field   \n10                 1993  1.382167  103.742248         peng siang   \n11                 1995  1.376790  103.940742     pasir ris west   \n12                 1986  1.320115  103.946570        bedok south   \n13                 1986  1.328696  103.941996        bedok north   \n14                 2016  1.390612  103.879964           fernvale   \n15                 1993  1.379203  103.739438         peng siang   \n16                 1981  1.302410  103.762805      clementi west   \n17                 2015  1.370545  103.947595  pasir ris central   \n18                 1988  1.355879  103.749799             guilin   \n19                 2001  1.447982  103.818507  sembawang central   \n\n    planning_area             region  ...  Stock_Price  mrt_nearest_distance  \\\n0     jurong east        west region  ...      3041.73                 699.0   \n1           bedok        east region  ...      3165.18                 899.0   \n2       toa payoh     central region  ...      2969.95                 219.0   \n3       pasir ris        east region  ...      3055.05                1546.0   \n4         kallang     central region  ...      3102.51                 188.0   \n5   bukit panjang        west region  ...      3270.51                 982.0   \n6        sengkang  north-east region  ...      2858.90                2076.0   \n7      ang mo kio  north-east region  ...      3092.80                 626.0   \n8          bishan     central region  ...      3051.11                 967.0   \n9         punggol  north-east region  ...      3155.06                1601.0   \n10  choa chu kang        west region  ...      2973.00                 427.0   \n11      pasir ris        east region  ...      3242.24                1037.0   \n12          bedok        east region  ...      3107.59                 769.0   \n13          bedok        east region  ...      3242.24                 499.0   \n14       sengkang  north-east region  ...      3270.51                1646.0   \n15  choa chu kang        west region  ...      3055.05                 877.0   \n16       clementi        west region  ...      3225.45                1438.0   \n17      pasir ris        east region  ...      3242.46                 331.0   \n18    bukit batok        west region  ...      3134.25                 389.0   \n19      sembawang       north region  ...      3134.25                 215.0   \n\n       mrt_nearest  mrt_count_within_1km  mall_nearest_distance  \\\n0   Chinese Garden                     1                 1203.0   \n1      Tanah Merah                     1                 1114.0   \n2        Toa Payoh                     4                  468.0   \n3        Pasir Ris                     0                  402.0   \n4        Boon Keng                     3                 1073.0   \n5    Bukit Panjang                     1                  355.0   \n6         Buangkok                     0                  296.0   \n7        Mayflower                     2                 1089.0   \n8           Bishan                     2                 1033.0   \n9          Punggol                     0                  315.0   \n10   Choa Chu Kang                     1                  463.0   \n11       Pasir Ris                     0                  216.0   \n12     Tanah Merah                     1                 2000.0   \n13     Tanah Merah                     1                 1412.0   \n14        Buangkok                     0                  437.0   \n15   Choa Chu Kang                     1                  587.0   \n16    Commonwealth                     0                  389.0   \n17       Pasir Ris                     1                  317.0   \n18    Bukit Gombak                     2                  617.0   \n19       Sembawang                     1                  109.0   \n\n                  mall_nearest  mall_count_within_1km  \\\n0                     Westgate                      0   \n1           Djitsun Mall Bedok                      0   \n2                      HDB Hub                      3   \n3                 Loyang Point                      1   \n4                       Aperia                      0   \n5   Greenridge Shopping Centre                      4   \n6             The Seletar Mall                      3   \n7               Broadway Plaza                      0   \n8                   Junction 8                      0   \n9                Punggol Plaza                      2   \n10                     Lot One                      2   \n11                  Elias Mall                      1   \n12                  Bedok Mall                      0   \n13          Djitsun Mall Bedok                      0   \n14            The Seletar Mall                      2   \n15   Keat Hong Shopping Centre                      2   \n16            West Coast Plaza                      1   \n17                 White Sands                      1   \n18                   West Mall                      1   \n19                   Sun Plaza                      2   \n\n    mrt_planned_nearest_distance mrt_planned_nearest  \\\n0                          699.0      Chinese Garden   \n1                          899.0         Tanah Merah   \n2                          219.0           Toa Payoh   \n3                         1546.0           Pasir Ris   \n4                          188.0           Boon Keng   \n5                          982.0       Bukit Panjang   \n6                         2076.0            Buangkok   \n7                          626.0           Mayflower   \n8                          967.0              Bishan   \n9                         1601.0             Punggol   \n10                         427.0       Choa Chu Kang   \n11                        1037.0           Pasir Ris   \n12                         679.0            Bayshore   \n13                         499.0         Tanah Merah   \n14                        1646.0            Buangkok   \n15                         877.0       Choa Chu Kang   \n16                        1438.0        Commonwealth   \n17                         331.0           Pasir Ris   \n18                         389.0        Bukit Gombak   \n19                         215.0           Sembawang   \n\n    mrt_planned_count_within_1km  \n0                              1  \n1                              1  \n2                              4  \n3                              0  \n4                              3  \n5                              1  \n6                              0  \n7                              2  \n8                              2  \n9                              0  \n10                             1  \n11                             0  \n12                             2  \n13                             1  \n14                             0  \n15                             1  \n16                             0  \n17                             1  \n18                             2  \n19                             1  \n\n[20 rows x 26 columns]",
      "text/html": "<div>\n<style scoped>\n    .dataframe tbody tr th:only-of-type {\n        vertical-align: middle;\n    }\n\n    .dataframe tbody tr th {\n        vertical-align: top;\n    }\n\n    .dataframe thead th {\n        text-align: right;\n    }\n</style>\n<table border=\"1\" class=\"dataframe\">\n  <thead>\n    <tr style=\"text-align: right;\">\n      <th></th>\n      <th>town</th>\n      <th>flat_type</th>\n      <th>flat_model</th>\n      <th>floor_area_sqm</th>\n      <th>lease_commence_date</th>\n      <th>latitude</th>\n      <th>longitude</th>\n      <th>subzone</th>\n      <th>planning_area</th>\n      <th>region</th>\n      <th>...</th>\n      <th>Stock_Price</th>\n      <th>mrt_nearest_distance</th>\n      <th>mrt_nearest</th>\n      <th>mrt_count_within_1km</th>\n      <th>mall_nearest_distance</th>\n      <th>mall_nearest</th>\n      <th>mall_count_within_1km</th>\n      <th>mrt_planned_nearest_distance</th>\n      <th>mrt_planned_nearest</th>\n      <th>mrt_planned_count_within_1km</th>\n    </tr>\n  </thead>\n  <tbody>\n    <tr>\n      <th>0</th>\n      <td>jurong east</td>\n      <td>3-room</td>\n      <td>new generation</td>\n      <td>67.0</td>\n      <td>1983</td>\n      <td>1.344518</td>\n      <td>103.738630</td>\n      <td>yuhua east</td>\n      <td>jurong east</td>\n      <td>west region</td>\n      <td>...</td>\n      <td>3041.73</td>\n      <td>699.0</td>\n      <td>Chinese Garden</td>\n      <td>1</td>\n      <td>1203.0</td>\n      <td>Westgate</td>\n      <td>0</td>\n      <td>699.0</td>\n      <td>Chinese Garden</td>\n      <td>1</td>\n    </tr>\n    <tr>\n      <th>1</th>\n      <td>bedok</td>\n      <td>4-room</td>\n      <td>new generation</td>\n      <td>92.0</td>\n      <td>1978</td>\n      <td>1.330186</td>\n      <td>103.938717</td>\n      <td>bedok north</td>\n      <td>bedok</td>\n      <td>east region</td>\n      <td>...</td>\n      <td>3165.18</td>\n      <td>899.0</td>\n      <td>Tanah Merah</td>\n      <td>1</td>\n      <td>1114.0</td>\n      <td>Djitsun Mall Bedok</td>\n      <td>0</td>\n      <td>899.0</td>\n      <td>Tanah Merah</td>\n      <td>1</td>\n    </tr>\n    <tr>\n      <th>2</th>\n      <td>toa payoh</td>\n      <td>3-room</td>\n      <td>improved</td>\n      <td>67.0</td>\n      <td>1971</td>\n      <td>1.332242</td>\n      <td>103.845643</td>\n      <td>toa payoh central</td>\n      <td>toa payoh</td>\n      <td>central region</td>\n      <td>...</td>\n      <td>2969.95</td>\n      <td>219.0</td>\n      <td>Toa Payoh</td>\n      <td>4</td>\n      <td>468.0</td>\n      <td>HDB Hub</td>\n      <td>3</td>\n      <td>219.0</td>\n      <td>Toa Payoh</td>\n      <td>4</td>\n    </tr>\n    <tr>\n      <th>3</th>\n      <td>pasir ris</td>\n      <td>executive</td>\n      <td>apartment</td>\n      <td>149.0</td>\n      <td>1993</td>\n      <td>1.370239</td>\n      <td>103.962894</td>\n      <td>pasir ris drive</td>\n      <td>pasir ris</td>\n      <td>east region</td>\n      <td>...</td>\n      <td>3055.05</td>\n      <td>1546.0</td>\n      <td>Pasir Ris</td>\n      <td>0</td>\n      <td>402.0</td>\n      <td>Loyang Point</td>\n      <td>1</td>\n      <td>1546.0</td>\n      <td>Pasir Ris</td>\n      <td>0</td>\n    </tr>\n    <tr>\n      <th>4</th>\n      <td>kallang/whampoa</td>\n      <td>3-room</td>\n      <td>improved</td>\n      <td>68.0</td>\n      <td>1972</td>\n      <td>1.320502</td>\n      <td>103.863341</td>\n      <td>bendemeer</td>\n      <td>kallang</td>\n      <td>central region</td>\n      <td>...</td>\n      <td>3102.51</td>\n      <td>188.0</td>\n      <td>Boon Keng</td>\n      <td>3</td>\n      <td>1073.0</td>\n      <td>Aperia</td>\n      <td>0</td>\n      <td>188.0</td>\n      <td>Boon Keng</td>\n      <td>3</td>\n    </tr>\n    <tr>\n      <th>5</th>\n      <td>bukit panjang</td>\n      <td>executive</td>\n      <td>premium apartment</td>\n      <td>130.0</td>\n      <td>2001</td>\n      <td>1.387847</td>\n      <td>103.764249</td>\n      <td>saujana</td>\n      <td>bukit panjang</td>\n      <td>west region</td>\n      <td>...</td>\n      <td>3270.51</td>\n      <td>982.0</td>\n      <td>Bukit Panjang</td>\n      <td>1</td>\n      <td>355.0</td>\n      <td>Greenridge Shopping Centre</td>\n      <td>4</td>\n      <td>982.0</td>\n      <td>Bukit Panjang</td>\n      <td>1</td>\n    </tr>\n    <tr>\n      <th>6</th>\n      <td>sengkang</td>\n      <td>5-room</td>\n      <td>premium apartment</td>\n      <td>110.0</td>\n      <td>2005</td>\n      <td>1.388997</td>\n      <td>103.875148</td>\n      <td>fernvale</td>\n      <td>sengkang</td>\n      <td>north-east region</td>\n      <td>...</td>\n      <td>2858.90</td>\n      <td>2076.0</td>\n      <td>Buangkok</td>\n      <td>0</td>\n      <td>296.0</td>\n      <td>The Seletar Mall</td>\n      <td>3</td>\n      <td>2076.0</td>\n      <td>Buangkok</td>\n      <td>0</td>\n    </tr>\n    <tr>\n      <th>7</th>\n      <td>ang mo kio</td>\n      <td>3-room</td>\n      <td>new generation</td>\n      <td>67.0</td>\n      <td>1978</td>\n      <td>1.366048</td>\n      <td>103.838123</td>\n      <td>shangri-la</td>\n      <td>ang mo kio</td>\n      <td>north-east region</td>\n      <td>...</td>\n      <td>3092.80</td>\n      <td>626.0</td>\n      <td>Mayflower</td>\n      <td>2</td>\n      <td>1089.0</td>\n      <td>Broadway Plaza</td>\n      <td>0</td>\n      <td>626.0</td>\n      <td>Mayflower</td>\n      <td>2</td>\n    </tr>\n    <tr>\n      <th>8</th>\n      <td>bishan</td>\n      <td>4-room</td>\n      <td>simplified</td>\n      <td>84.0</td>\n      <td>1987</td>\n      <td>1.344279</td>\n      <td>103.855556</td>\n      <td>bishan east</td>\n      <td>bishan</td>\n      <td>central region</td>\n      <td>...</td>\n      <td>3051.11</td>\n      <td>967.0</td>\n      <td>Bishan</td>\n      <td>2</td>\n      <td>1033.0</td>\n      <td>Junction 8</td>\n      <td>0</td>\n      <td>967.0</td>\n      <td>Bishan</td>\n      <td>2</td>\n    </tr>\n    <tr>\n      <th>9</th>\n      <td>punggol</td>\n      <td>5-room</td>\n      <td>premium apartment</td>\n      <td>112.0</td>\n      <td>2003</td>\n      <td>1.392832</td>\n      <td>103.910620</td>\n      <td>punggol field</td>\n      <td>punggol</td>\n      <td>north-east region</td>\n      <td>...</td>\n      <td>3155.06</td>\n      <td>1601.0</td>\n      <td>Punggol</td>\n      <td>0</td>\n      <td>315.0</td>\n      <td>Punggol Plaza</td>\n      <td>2</td>\n      <td>1601.0</td>\n      <td>Punggol</td>\n      <td>0</td>\n    </tr>\n    <tr>\n      <th>10</th>\n      <td>choa chu kang</td>\n      <td>4-room</td>\n      <td>model a</td>\n      <td>104.0</td>\n      <td>1993</td>\n      <td>1.382167</td>\n      <td>103.742248</td>\n      <td>peng siang</td>\n      <td>choa chu kang</td>\n      <td>west region</td>\n      <td>...</td>\n      <td>2973.00</td>\n      <td>427.0</td>\n      <td>Choa Chu Kang</td>\n      <td>1</td>\n      <td>463.0</td>\n      <td>Lot One</td>\n      <td>2</td>\n      <td>427.0</td>\n      <td>Choa Chu Kang</td>\n      <td>1</td>\n    </tr>\n    <tr>\n      <th>11</th>\n      <td>pasir ris</td>\n      <td>5-room</td>\n      <td>improved</td>\n      <td>123.0</td>\n      <td>1995</td>\n      <td>1.376790</td>\n      <td>103.940742</td>\n      <td>pasir ris west</td>\n      <td>pasir ris</td>\n      <td>east region</td>\n      <td>...</td>\n      <td>3242.24</td>\n      <td>1037.0</td>\n      <td>Pasir Ris</td>\n      <td>0</td>\n      <td>216.0</td>\n      <td>Elias Mall</td>\n      <td>1</td>\n      <td>1037.0</td>\n      <td>Pasir Ris</td>\n      <td>0</td>\n    </tr>\n    <tr>\n      <th>12</th>\n      <td>bedok</td>\n      <td>4-room</td>\n      <td>simplified</td>\n      <td>84.0</td>\n      <td>1986</td>\n      <td>1.320115</td>\n      <td>103.946570</td>\n      <td>bedok south</td>\n      <td>bedok</td>\n      <td>east region</td>\n      <td>...</td>\n      <td>3107.59</td>\n      <td>769.0</td>\n      <td>Tanah Merah</td>\n      <td>1</td>\n      <td>2000.0</td>\n      <td>Bedok Mall</td>\n      <td>0</td>\n      <td>679.0</td>\n      <td>Bayshore</td>\n      <td>2</td>\n    </tr>\n    <tr>\n      <th>13</th>\n      <td>bedok</td>\n      <td>3-room</td>\n      <td>improved</td>\n      <td>60.0</td>\n      <td>1986</td>\n      <td>1.328696</td>\n      <td>103.941996</td>\n      <td>bedok north</td>\n      <td>bedok</td>\n      <td>east region</td>\n      <td>...</td>\n      <td>3242.24</td>\n      <td>499.0</td>\n      <td>Tanah Merah</td>\n      <td>1</td>\n      <td>1412.0</td>\n      <td>Djitsun Mall Bedok</td>\n      <td>0</td>\n      <td>499.0</td>\n      <td>Tanah Merah</td>\n      <td>1</td>\n    </tr>\n    <tr>\n      <th>14</th>\n      <td>sengkang</td>\n      <td>4-room</td>\n      <td>model a</td>\n      <td>93.0</td>\n      <td>2016</td>\n      <td>1.390612</td>\n      <td>103.879964</td>\n      <td>fernvale</td>\n      <td>sengkang</td>\n      <td>north-east region</td>\n      <td>...</td>\n      <td>3270.51</td>\n      <td>1646.0</td>\n      <td>Buangkok</td>\n      <td>0</td>\n      <td>437.0</td>\n      <td>The Seletar Mall</td>\n      <td>2</td>\n      <td>1646.0</td>\n      <td>Buangkok</td>\n      <td>0</td>\n    </tr>\n    <tr>\n      <th>15</th>\n      <td>choa chu kang</td>\n      <td>4-room</td>\n      <td>model a</td>\n      <td>112.0</td>\n      <td>1993</td>\n      <td>1.379203</td>\n      <td>103.739438</td>\n      <td>peng siang</td>\n      <td>choa chu kang</td>\n      <td>west region</td>\n      <td>...</td>\n      <td>3055.05</td>\n      <td>877.0</td>\n      <td>Choa Chu Kang</td>\n      <td>1</td>\n      <td>587.0</td>\n      <td>Keat Hong Shopping Centre</td>\n      <td>2</td>\n      <td>877.0</td>\n      <td>Choa Chu Kang</td>\n      <td>1</td>\n    </tr>\n    <tr>\n      <th>16</th>\n      <td>clementi</td>\n      <td>4-room</td>\n      <td>new generation</td>\n      <td>91.0</td>\n      <td>1981</td>\n      <td>1.302410</td>\n      <td>103.762805</td>\n      <td>clementi west</td>\n      <td>clementi</td>\n      <td>west region</td>\n      <td>...</td>\n      <td>3225.45</td>\n      <td>1438.0</td>\n      <td>Commonwealth</td>\n      <td>0</td>\n      <td>389.0</td>\n      <td>West Coast Plaza</td>\n      <td>1</td>\n      <td>1438.0</td>\n      <td>Commonwealth</td>\n      <td>0</td>\n    </tr>\n    <tr>\n      <th>17</th>\n      <td>pasir ris</td>\n      <td>5-room</td>\n      <td>improved</td>\n      <td>113.0</td>\n      <td>2015</td>\n      <td>1.370545</td>\n      <td>103.947595</td>\n      <td>pasir ris central</td>\n      <td>pasir ris</td>\n      <td>east region</td>\n      <td>...</td>\n      <td>3242.46</td>\n      <td>331.0</td>\n      <td>Pasir Ris</td>\n      <td>1</td>\n      <td>317.0</td>\n      <td>White Sands</td>\n      <td>1</td>\n      <td>331.0</td>\n      <td>Pasir Ris</td>\n      <td>1</td>\n    </tr>\n    <tr>\n      <th>18</th>\n      <td>bukit batok</td>\n      <td>3-room</td>\n      <td>improved</td>\n      <td>69.0</td>\n      <td>1988</td>\n      <td>1.355879</td>\n      <td>103.749799</td>\n      <td>guilin</td>\n      <td>bukit batok</td>\n      <td>west region</td>\n      <td>...</td>\n      <td>3134.25</td>\n      <td>389.0</td>\n      <td>Bukit Gombak</td>\n      <td>2</td>\n      <td>617.0</td>\n      <td>West Mall</td>\n      <td>1</td>\n      <td>389.0</td>\n      <td>Bukit Gombak</td>\n      <td>2</td>\n    </tr>\n    <tr>\n      <th>19</th>\n      <td>sembawang</td>\n      <td>5-room</td>\n      <td>premium apartment</td>\n      <td>110.0</td>\n      <td>2001</td>\n      <td>1.447982</td>\n      <td>103.818507</td>\n      <td>sembawang central</td>\n      <td>sembawang</td>\n      <td>north region</td>\n      <td>...</td>\n      <td>3134.25</td>\n      <td>215.0</td>\n      <td>Sembawang</td>\n      <td>1</td>\n      <td>109.0</td>\n      <td>Sun Plaza</td>\n      <td>2</td>\n      <td>215.0</td>\n      <td>Sembawang</td>\n      <td>1</td>\n    </tr>\n  </tbody>\n</table>\n<p>20 rows × 26 columns</p>\n</div>"
     },
     "execution_count": 13,
     "metadata": {},
     "output_type": "execute_result"
    }
   ],
   "source": [
    "# Load datasets\n",
    "planned_mrt_file = pd.read_csv(\"./Datasets/auxiliary-data/sg-mrt-planned-stations.csv\")\n",
    "\n",
    "# Filter planned MRT stations that will open within the next year\n",
    "upcoming_mrts = planned_mrt_file[planned_mrt_file['opening_year'] == \"2024\"]\n",
    "\n",
    "# Combine the existing MRT data with the upcoming MRT data\n",
    "combined_mrt_file = pd.concat([mrt_file, upcoming_mrts], ignore_index=True)\n",
    "\n",
    "add_distance_features(data, combined_mrt_file, 'mrt_planned')\n",
    "data.head(20)"
   ],
   "metadata": {
    "collapsed": false,
    "ExecuteTime": {
     "end_time": "2023-10-27T04:44:48.436846Z",
     "start_time": "2023-10-27T04:44:47.847819200Z"
    }
   },
   "id": "40b14ecfc027d229"
  },
  {
   "cell_type": "code",
   "execution_count": 14,
   "outputs": [
    {
     "data": {
      "text/plain": "(60000, 60000)"
     },
     "execution_count": 14,
     "metadata": {},
     "output_type": "execute_result"
    }
   ],
   "source": [
    "# Get the number of rows for each dataset\n",
    "num_rows_train = data.shape[0]\n",
    "num_rows_index = data.shape[0]\n",
    "\n",
    "num_rows_train, num_rows_index"
   ],
   "metadata": {
    "collapsed": false,
    "ExecuteTime": {
     "end_time": "2023-10-27T04:44:48.436846Z",
     "start_time": "2023-10-27T04:44:48.431314800Z"
    }
   },
   "id": "4926d1881dbd5646"
  },
  {
   "cell_type": "code",
   "execution_count": 15,
   "outputs": [
    {
     "data": {
      "text/plain": "   flat_type  flat_type_ordinal\n0     3-room                  2\n1     4-room                  3\n2     3-room                  2\n3  executive                  5\n4     3-room                  2",
      "text/html": "<div>\n<style scoped>\n    .dataframe tbody tr th:only-of-type {\n        vertical-align: middle;\n    }\n\n    .dataframe tbody tr th {\n        vertical-align: top;\n    }\n\n    .dataframe thead th {\n        text-align: right;\n    }\n</style>\n<table border=\"1\" class=\"dataframe\">\n  <thead>\n    <tr style=\"text-align: right;\">\n      <th></th>\n      <th>flat_type</th>\n      <th>flat_type_ordinal</th>\n    </tr>\n  </thead>\n  <tbody>\n    <tr>\n      <th>0</th>\n      <td>3-room</td>\n      <td>2</td>\n    </tr>\n    <tr>\n      <th>1</th>\n      <td>4-room</td>\n      <td>3</td>\n    </tr>\n    <tr>\n      <th>2</th>\n      <td>3-room</td>\n      <td>2</td>\n    </tr>\n    <tr>\n      <th>3</th>\n      <td>executive</td>\n      <td>5</td>\n    </tr>\n    <tr>\n      <th>4</th>\n      <td>3-room</td>\n      <td>2</td>\n    </tr>\n  </tbody>\n</table>\n</div>"
     },
     "execution_count": 15,
     "metadata": {},
     "output_type": "execute_result"
    }
   ],
   "source": [
    "updated_ordinal_mapping = {\n",
    "    '2-room': 1,\n",
    "    '3-room': 2,\n",
    "    '4-room': 3,\n",
    "    '5-room': 4,\n",
    "    'executive': 5\n",
    "}\n",
    "\n",
    "# Re-encode the flat_type column using the updated ordinal mapping\n",
    "data['flat_type_ordinal'] = data['flat_type'].map(updated_ordinal_mapping)\n",
    "\n",
    "# Display the original and updated ordinal encoded 'flat_type' columns for comparison\n",
    "data[['flat_type', 'flat_type_ordinal']].head()"
   ],
   "metadata": {
    "collapsed": false,
    "ExecuteTime": {
     "end_time": "2023-10-27T04:44:48.482098400Z",
     "start_time": "2023-10-27T04:44:48.437848700Z"
    }
   },
   "id": "8ba90121c9beb2f6"
  },
  {
   "cell_type": "code",
   "execution_count": 16,
   "outputs": [
    {
     "data": {
      "text/plain": "              town      flat_model  floor_area_sqm  lease_commence_date  \\\n0      jurong east  new generation            67.0                 1983   \n1            bedok  new generation            92.0                 1978   \n2        toa payoh        improved            67.0                 1971   \n3        pasir ris       apartment           149.0                 1993   \n4  kallang/whampoa        improved            68.0                 1972   \n\n   latitude   longitude            subzone planning_area          region  \\\n0  1.344518  103.738630         yuhua east   jurong east     west region   \n1  1.330186  103.938717        bedok north         bedok     east region   \n2  1.332242  103.845643  toa payoh central     toa payoh  central region   \n3  1.370239  103.962894    pasir ris drive     pasir ris     east region   \n4  1.320502  103.863341          bendemeer       kallang  central region   \n\n   monthly_rent  ...  mrt_nearest_distance     mrt_nearest  \\\n0          1600  ...                 699.0  Chinese Garden   \n1          2250  ...                 899.0     Tanah Merah   \n2          1900  ...                 219.0       Toa Payoh   \n3          2850  ...                1546.0       Pasir Ris   \n4          2100  ...                 188.0       Boon Keng   \n\n   mrt_count_within_1km  mall_nearest_distance        mall_nearest  \\\n0                     1                 1203.0            Westgate   \n1                     1                 1114.0  Djitsun Mall Bedok   \n2                     4                  468.0             HDB Hub   \n3                     0                  402.0        Loyang Point   \n4                     3                 1073.0              Aperia   \n\n   mall_count_within_1km  mrt_planned_nearest_distance mrt_planned_nearest  \\\n0                      0                         699.0      Chinese Garden   \n1                      0                         899.0         Tanah Merah   \n2                      3                         219.0           Toa Payoh   \n3                      1                        1546.0           Pasir Ris   \n4                      0                         188.0           Boon Keng   \n\n   mrt_planned_count_within_1km  flat_type_ordinal  \n0                             1                  2  \n1                             1                  3  \n2                             4                  2  \n3                             0                  5  \n4                             3                  2  \n\n[5 rows x 26 columns]",
      "text/html": "<div>\n<style scoped>\n    .dataframe tbody tr th:only-of-type {\n        vertical-align: middle;\n    }\n\n    .dataframe tbody tr th {\n        vertical-align: top;\n    }\n\n    .dataframe thead th {\n        text-align: right;\n    }\n</style>\n<table border=\"1\" class=\"dataframe\">\n  <thead>\n    <tr style=\"text-align: right;\">\n      <th></th>\n      <th>town</th>\n      <th>flat_model</th>\n      <th>floor_area_sqm</th>\n      <th>lease_commence_date</th>\n      <th>latitude</th>\n      <th>longitude</th>\n      <th>subzone</th>\n      <th>planning_area</th>\n      <th>region</th>\n      <th>monthly_rent</th>\n      <th>...</th>\n      <th>mrt_nearest_distance</th>\n      <th>mrt_nearest</th>\n      <th>mrt_count_within_1km</th>\n      <th>mall_nearest_distance</th>\n      <th>mall_nearest</th>\n      <th>mall_count_within_1km</th>\n      <th>mrt_planned_nearest_distance</th>\n      <th>mrt_planned_nearest</th>\n      <th>mrt_planned_count_within_1km</th>\n      <th>flat_type_ordinal</th>\n    </tr>\n  </thead>\n  <tbody>\n    <tr>\n      <th>0</th>\n      <td>jurong east</td>\n      <td>new generation</td>\n      <td>67.0</td>\n      <td>1983</td>\n      <td>1.344518</td>\n      <td>103.738630</td>\n      <td>yuhua east</td>\n      <td>jurong east</td>\n      <td>west region</td>\n      <td>1600</td>\n      <td>...</td>\n      <td>699.0</td>\n      <td>Chinese Garden</td>\n      <td>1</td>\n      <td>1203.0</td>\n      <td>Westgate</td>\n      <td>0</td>\n      <td>699.0</td>\n      <td>Chinese Garden</td>\n      <td>1</td>\n      <td>2</td>\n    </tr>\n    <tr>\n      <th>1</th>\n      <td>bedok</td>\n      <td>new generation</td>\n      <td>92.0</td>\n      <td>1978</td>\n      <td>1.330186</td>\n      <td>103.938717</td>\n      <td>bedok north</td>\n      <td>bedok</td>\n      <td>east region</td>\n      <td>2250</td>\n      <td>...</td>\n      <td>899.0</td>\n      <td>Tanah Merah</td>\n      <td>1</td>\n      <td>1114.0</td>\n      <td>Djitsun Mall Bedok</td>\n      <td>0</td>\n      <td>899.0</td>\n      <td>Tanah Merah</td>\n      <td>1</td>\n      <td>3</td>\n    </tr>\n    <tr>\n      <th>2</th>\n      <td>toa payoh</td>\n      <td>improved</td>\n      <td>67.0</td>\n      <td>1971</td>\n      <td>1.332242</td>\n      <td>103.845643</td>\n      <td>toa payoh central</td>\n      <td>toa payoh</td>\n      <td>central region</td>\n      <td>1900</td>\n      <td>...</td>\n      <td>219.0</td>\n      <td>Toa Payoh</td>\n      <td>4</td>\n      <td>468.0</td>\n      <td>HDB Hub</td>\n      <td>3</td>\n      <td>219.0</td>\n      <td>Toa Payoh</td>\n      <td>4</td>\n      <td>2</td>\n    </tr>\n    <tr>\n      <th>3</th>\n      <td>pasir ris</td>\n      <td>apartment</td>\n      <td>149.0</td>\n      <td>1993</td>\n      <td>1.370239</td>\n      <td>103.962894</td>\n      <td>pasir ris drive</td>\n      <td>pasir ris</td>\n      <td>east region</td>\n      <td>2850</td>\n      <td>...</td>\n      <td>1546.0</td>\n      <td>Pasir Ris</td>\n      <td>0</td>\n      <td>402.0</td>\n      <td>Loyang Point</td>\n      <td>1</td>\n      <td>1546.0</td>\n      <td>Pasir Ris</td>\n      <td>0</td>\n      <td>5</td>\n    </tr>\n    <tr>\n      <th>4</th>\n      <td>kallang/whampoa</td>\n      <td>improved</td>\n      <td>68.0</td>\n      <td>1972</td>\n      <td>1.320502</td>\n      <td>103.863341</td>\n      <td>bendemeer</td>\n      <td>kallang</td>\n      <td>central region</td>\n      <td>2100</td>\n      <td>...</td>\n      <td>188.0</td>\n      <td>Boon Keng</td>\n      <td>3</td>\n      <td>1073.0</td>\n      <td>Aperia</td>\n      <td>0</td>\n      <td>188.0</td>\n      <td>Boon Keng</td>\n      <td>3</td>\n      <td>2</td>\n    </tr>\n  </tbody>\n</table>\n<p>5 rows × 26 columns</p>\n</div>"
     },
     "execution_count": 16,
     "metadata": {},
     "output_type": "execute_result"
    }
   ],
   "source": [
    "# Drop the 'flat_type' column\n",
    "data = data.drop(columns=['flat_type'])\n",
    "\n",
    "# Display the first few rows of the dataset to confirm\n",
    "data.head()"
   ],
   "metadata": {
    "collapsed": false,
    "ExecuteTime": {
     "end_time": "2023-10-27T04:44:48.538786400Z",
     "start_time": "2023-10-27T04:44:48.456370600Z"
    }
   },
   "id": "437bfa6bb3ad42dc"
  },
  {
   "cell_type": "code",
   "execution_count": 17,
   "outputs": [],
   "source": [
    "# Compute centroid of all properties(marina bay centroid)\n",
    "marina_centroid_lat = 1.287515\n",
    "marina_centroid_lon = 103.866641\n",
    "\n",
    "# Convert the latitudes and longitudes to numpy arrays\n",
    "df_lats = data['latitude'].values\n",
    "df_longs = data['longitude'].values\n",
    "dst_lats = np.array([marina_centroid_lat])\n",
    "dst_longs = np.array([marina_centroid_lon])\n",
    "\n",
    "# Calculate distance of each property to marina bay\n",
    "distances = haversine_distances(df_lats, df_longs, dst_lats, dst_longs)\n",
    "data['distance_to_centroid_marina_bay'] = distances[:, 0] / 1000\n",
    "\n",
    "# Lease Duration\n",
    "current_year = 2023\n",
    "data['lease_duration'] = current_year - data['lease_commence_date']\n",
    "\n",
    "# # 2. Categorical Features\n",
    "# \n",
    "# # 2.1 High Cardinality\n",
    "# # Drop the 'subzone' column\n",
    "# data = data.drop(columns=['subzone'])\n",
    "# \n",
    "# # 2.2 Drop Redundant Columns\n",
    "# # Drop 'mrt_nearest' and other high cardinality columns\n",
    "# data = data.drop(columns=['mrt_nearest', 'mall_nearest', 'mrt_plus_nearest'])"
   ],
   "metadata": {
    "collapsed": false,
    "ExecuteTime": {
     "end_time": "2023-10-27T04:44:48.567870Z",
     "start_time": "2023-10-27T04:44:48.486098100Z"
    }
   },
   "id": "13e82090cd79e434"
  },
  {
   "cell_type": "code",
   "execution_count": 18,
   "outputs": [
    {
     "data": {
      "text/plain": "              town      flat_model  floor_area_sqm  lease_commence_date  \\\n0      jurong east  new generation            67.0                 1983   \n1            bedok  new generation            92.0                 1978   \n2        toa payoh        improved            67.0                 1971   \n3        pasir ris       apartment           149.0                 1993   \n4  kallang/whampoa        improved            68.0                 1972   \n\n   latitude   longitude            subzone planning_area          region  \\\n0  1.344518  103.738630         yuhua east   jurong east     west region   \n1  1.330186  103.938717        bedok north         bedok     east region   \n2  1.332242  103.845643  toa payoh central     toa payoh  central region   \n3  1.370239  103.962894    pasir ris drive     pasir ris     east region   \n4  1.320502  103.863341          bendemeer       kallang  central region   \n\n   monthly_rent  ...  mall_nearest_distance        mall_nearest  \\\n0          1600  ...                 1203.0            Westgate   \n1          2250  ...                 1114.0  Djitsun Mall Bedok   \n2          1900  ...                  468.0             HDB Hub   \n3          2850  ...                  402.0        Loyang Point   \n4          2100  ...                 1073.0              Aperia   \n\n   mall_count_within_1km  mrt_planned_nearest_distance  mrt_planned_nearest  \\\n0                      0                         699.0       Chinese Garden   \n1                      0                         899.0          Tanah Merah   \n2                      3                         219.0            Toa Payoh   \n3                      1                        1546.0            Pasir Ris   \n4                      0                         188.0            Boon Keng   \n\n   mrt_planned_count_within_1km  flat_type_ordinal  \\\n0                             1                  2   \n1                             1                  3   \n2                             4                  2   \n3                             0                  5   \n4                             3                  2   \n\n  distance_to_centroid_marina_bay  lease_duration  school_score  \n0                       15.578180              40         280.1  \n1                        9.311841              45         329.3  \n2                        5.493976              52         368.1  \n3                       14.110320              30         254.6  \n4                        3.686250              51         239.5  \n\n[5 rows x 29 columns]",
      "text/html": "<div>\n<style scoped>\n    .dataframe tbody tr th:only-of-type {\n        vertical-align: middle;\n    }\n\n    .dataframe tbody tr th {\n        vertical-align: top;\n    }\n\n    .dataframe thead th {\n        text-align: right;\n    }\n</style>\n<table border=\"1\" class=\"dataframe\">\n  <thead>\n    <tr style=\"text-align: right;\">\n      <th></th>\n      <th>town</th>\n      <th>flat_model</th>\n      <th>floor_area_sqm</th>\n      <th>lease_commence_date</th>\n      <th>latitude</th>\n      <th>longitude</th>\n      <th>subzone</th>\n      <th>planning_area</th>\n      <th>region</th>\n      <th>monthly_rent</th>\n      <th>...</th>\n      <th>mall_nearest_distance</th>\n      <th>mall_nearest</th>\n      <th>mall_count_within_1km</th>\n      <th>mrt_planned_nearest_distance</th>\n      <th>mrt_planned_nearest</th>\n      <th>mrt_planned_count_within_1km</th>\n      <th>flat_type_ordinal</th>\n      <th>distance_to_centroid_marina_bay</th>\n      <th>lease_duration</th>\n      <th>school_score</th>\n    </tr>\n  </thead>\n  <tbody>\n    <tr>\n      <th>0</th>\n      <td>jurong east</td>\n      <td>new generation</td>\n      <td>67.0</td>\n      <td>1983</td>\n      <td>1.344518</td>\n      <td>103.738630</td>\n      <td>yuhua east</td>\n      <td>jurong east</td>\n      <td>west region</td>\n      <td>1600</td>\n      <td>...</td>\n      <td>1203.0</td>\n      <td>Westgate</td>\n      <td>0</td>\n      <td>699.0</td>\n      <td>Chinese Garden</td>\n      <td>1</td>\n      <td>2</td>\n      <td>15.578180</td>\n      <td>40</td>\n      <td>280.1</td>\n    </tr>\n    <tr>\n      <th>1</th>\n      <td>bedok</td>\n      <td>new generation</td>\n      <td>92.0</td>\n      <td>1978</td>\n      <td>1.330186</td>\n      <td>103.938717</td>\n      <td>bedok north</td>\n      <td>bedok</td>\n      <td>east region</td>\n      <td>2250</td>\n      <td>...</td>\n      <td>1114.0</td>\n      <td>Djitsun Mall Bedok</td>\n      <td>0</td>\n      <td>899.0</td>\n      <td>Tanah Merah</td>\n      <td>1</td>\n      <td>3</td>\n      <td>9.311841</td>\n      <td>45</td>\n      <td>329.3</td>\n    </tr>\n    <tr>\n      <th>2</th>\n      <td>toa payoh</td>\n      <td>improved</td>\n      <td>67.0</td>\n      <td>1971</td>\n      <td>1.332242</td>\n      <td>103.845643</td>\n      <td>toa payoh central</td>\n      <td>toa payoh</td>\n      <td>central region</td>\n      <td>1900</td>\n      <td>...</td>\n      <td>468.0</td>\n      <td>HDB Hub</td>\n      <td>3</td>\n      <td>219.0</td>\n      <td>Toa Payoh</td>\n      <td>4</td>\n      <td>2</td>\n      <td>5.493976</td>\n      <td>52</td>\n      <td>368.1</td>\n    </tr>\n    <tr>\n      <th>3</th>\n      <td>pasir ris</td>\n      <td>apartment</td>\n      <td>149.0</td>\n      <td>1993</td>\n      <td>1.370239</td>\n      <td>103.962894</td>\n      <td>pasir ris drive</td>\n      <td>pasir ris</td>\n      <td>east region</td>\n      <td>2850</td>\n      <td>...</td>\n      <td>402.0</td>\n      <td>Loyang Point</td>\n      <td>1</td>\n      <td>1546.0</td>\n      <td>Pasir Ris</td>\n      <td>0</td>\n      <td>5</td>\n      <td>14.110320</td>\n      <td>30</td>\n      <td>254.6</td>\n    </tr>\n    <tr>\n      <th>4</th>\n      <td>kallang/whampoa</td>\n      <td>improved</td>\n      <td>68.0</td>\n      <td>1972</td>\n      <td>1.320502</td>\n      <td>103.863341</td>\n      <td>bendemeer</td>\n      <td>kallang</td>\n      <td>central region</td>\n      <td>2100</td>\n      <td>...</td>\n      <td>1073.0</td>\n      <td>Aperia</td>\n      <td>0</td>\n      <td>188.0</td>\n      <td>Boon Keng</td>\n      <td>3</td>\n      <td>2</td>\n      <td>3.686250</td>\n      <td>51</td>\n      <td>239.5</td>\n    </tr>\n  </tbody>\n</table>\n<p>5 rows × 29 columns</p>\n</div>"
     },
     "execution_count": 18,
     "metadata": {},
     "output_type": "execute_result"
    }
   ],
   "source": [
    "train_with_schoolscore = pd.read_csv(\"./Datasets/auxiliary-data/train_with_schoolscore.csv\")\n",
    "\n",
    "# Merge based on latitude and longitude\n",
    "are_latitudes_equal = (data['latitude'].values == train_with_schoolscore['latitude'].values).all()\n",
    "are_longitudes_equal = (data['longitude'].values == train_with_schoolscore['longitude'].values).all()\n",
    "\n",
    "if are_latitudes_equal == are_longitudes_equal == False:\n",
    "    raise Exception('The latitude and longitude values are not equal between the two datasets')\n",
    "data['school_score'] = train_with_schoolscore['school_score']\n",
    "\n",
    "# Display the first few rows of the updated train dataset\n",
    "data.head()"
   ],
   "metadata": {
    "collapsed": false,
    "ExecuteTime": {
     "end_time": "2023-10-27T04:44:48.700926900Z",
     "start_time": "2023-10-27T04:44:48.495780600Z"
    }
   },
   "id": "f178b449945401cf"
  },
  {
   "cell_type": "code",
   "execution_count": 20,
   "outputs": [],
   "source": [
    "# Save the cleaned and analyzed dataset to a new CSV file\n",
    "output_filepath = \"./Datasets/cleaned_train.csv\"\n",
    "data.to_csv(output_filepath, index=False)"
   ],
   "metadata": {
    "collapsed": false,
    "ExecuteTime": {
     "end_time": "2023-10-27T04:45:28.913998300Z",
     "start_time": "2023-10-27T04:45:28.102571100Z"
    }
   },
   "id": "328f55f39949587"
  },
  {
   "cell_type": "code",
   "execution_count": 22,
   "outputs": [],
   "source": [
    "# Load the dataset\n",
    "cleaned_train = pd.read_csv('./Datasets/cleaned_train.csv')\n",
    "\n",
    "from sklearn.model_selection import train_test_split\n",
    "\n",
    "# Split the dataset into training and testing sets (80% train, 20% test)\n",
    "train_set, test_set = train_test_split(cleaned_train, test_size=0.2, random_state=42)\n",
    "\n",
    "# Save the training and testing sets to separate CSV files\n",
    "train_set_path = \"./Datasets/final-data/train_set.csv\"\n",
    "test_set_path = \"./Datasets/final-data/test_set.csv\"\n",
    "train_set.to_csv(train_set_path, index=False)\n",
    "test_set.to_csv(test_set_path, index=False)"
   ],
   "metadata": {
    "collapsed": false,
    "ExecuteTime": {
     "end_time": "2023-10-27T04:48:20.699396500Z",
     "start_time": "2023-10-27T04:48:18.922856300Z"
    }
   },
   "id": "59cca35b094b0b8b"
  },
  {
   "cell_type": "markdown",
   "source": [],
   "metadata": {
    "collapsed": false
   },
   "id": "46aecfbffb38d339"
  }
 ],
 "metadata": {
  "kernelspec": {
   "display_name": "Python 3",
   "language": "python",
   "name": "python3"
  },
  "language_info": {
   "codemirror_mode": {
    "name": "ipython",
    "version": 2
   },
   "file_extension": ".py",
   "mimetype": "text/x-python",
   "name": "python",
   "nbconvert_exporter": "python",
   "pygments_lexer": "ipython2",
   "version": "2.7.6"
  }
 },
 "nbformat": 4,
 "nbformat_minor": 5
}
