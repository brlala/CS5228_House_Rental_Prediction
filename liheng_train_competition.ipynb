{
 "cells": [
  {
   "cell_type": "code",
   "execution_count": 47,
   "id": "initial_id",
   "metadata": {
    "collapsed": true,
    "ExecuteTime": {
     "end_time": "2023-11-01T15:35:54.795249300Z",
     "start_time": "2023-11-01T15:35:54.340227300Z"
    }
   },
   "outputs": [
    {
     "data": {
      "text/plain": "              town      flat_model  floor_area_sqm  lease_commence_date  \\\n0      jurong east  new generation            67.0                 1983   \n1            bedok  new generation            92.0                 1978   \n2        toa payoh        improved            67.0                 1971   \n3        pasir ris       apartment           149.0                 1993   \n4  kallang/whampoa        improved            68.0                 1972   \n\n   latitude   longitude            subzone planning_area          region  \\\n0  1.344518  103.738630         yuhua east   jurong east     west region   \n1  1.330186  103.938717        bedok north         bedok     east region   \n2  1.332242  103.845643  toa payoh central     toa payoh  central region   \n3  1.370239  103.962894    pasir ris drive     pasir ris     east region   \n4  1.320502  103.863341          bendemeer       kallang  central region   \n\n   monthly_rent  ...  mall_nearest_distance        mall_nearest  \\\n0          1600  ...                 1203.0            Westgate   \n1          2250  ...                 1114.0  Djitsun Mall Bedok   \n2          1900  ...                  468.0             HDB Hub   \n3          2850  ...                  402.0        Loyang Point   \n4          2100  ...                 1073.0              Aperia   \n\n   mall_count_within_1km  mrt_planned_nearest_distance  mrt_planned_nearest  \\\n0                      0                         699.0       Chinese Garden   \n1                      0                         899.0          Tanah Merah   \n2                      3                         219.0            Toa Payoh   \n3                      1                        1546.0            Pasir Ris   \n4                      0                         188.0            Boon Keng   \n\n   mrt_planned_count_within_1km  flat_type_ordinal  \\\n0                             1                  2   \n1                             1                  3   \n2                             4                  2   \n3                             0                  5   \n4                             3                  2   \n\n  distance_to_centroid_marina_bay  lease_duration  school_score  \n0                       15.578180              40         280.1  \n1                        9.311841              45         329.3  \n2                        5.493976              52         368.1  \n3                       14.110320              30         254.6  \n4                        3.686250              51         239.5  \n\n[5 rows x 29 columns]",
      "text/html": "<div>\n<style scoped>\n    .dataframe tbody tr th:only-of-type {\n        vertical-align: middle;\n    }\n\n    .dataframe tbody tr th {\n        vertical-align: top;\n    }\n\n    .dataframe thead th {\n        text-align: right;\n    }\n</style>\n<table border=\"1\" class=\"dataframe\">\n  <thead>\n    <tr style=\"text-align: right;\">\n      <th></th>\n      <th>town</th>\n      <th>flat_model</th>\n      <th>floor_area_sqm</th>\n      <th>lease_commence_date</th>\n      <th>latitude</th>\n      <th>longitude</th>\n      <th>subzone</th>\n      <th>planning_area</th>\n      <th>region</th>\n      <th>monthly_rent</th>\n      <th>...</th>\n      <th>mall_nearest_distance</th>\n      <th>mall_nearest</th>\n      <th>mall_count_within_1km</th>\n      <th>mrt_planned_nearest_distance</th>\n      <th>mrt_planned_nearest</th>\n      <th>mrt_planned_count_within_1km</th>\n      <th>flat_type_ordinal</th>\n      <th>distance_to_centroid_marina_bay</th>\n      <th>lease_duration</th>\n      <th>school_score</th>\n    </tr>\n  </thead>\n  <tbody>\n    <tr>\n      <th>0</th>\n      <td>jurong east</td>\n      <td>new generation</td>\n      <td>67.0</td>\n      <td>1983</td>\n      <td>1.344518</td>\n      <td>103.738630</td>\n      <td>yuhua east</td>\n      <td>jurong east</td>\n      <td>west region</td>\n      <td>1600</td>\n      <td>...</td>\n      <td>1203.0</td>\n      <td>Westgate</td>\n      <td>0</td>\n      <td>699.0</td>\n      <td>Chinese Garden</td>\n      <td>1</td>\n      <td>2</td>\n      <td>15.578180</td>\n      <td>40</td>\n      <td>280.1</td>\n    </tr>\n    <tr>\n      <th>1</th>\n      <td>bedok</td>\n      <td>new generation</td>\n      <td>92.0</td>\n      <td>1978</td>\n      <td>1.330186</td>\n      <td>103.938717</td>\n      <td>bedok north</td>\n      <td>bedok</td>\n      <td>east region</td>\n      <td>2250</td>\n      <td>...</td>\n      <td>1114.0</td>\n      <td>Djitsun Mall Bedok</td>\n      <td>0</td>\n      <td>899.0</td>\n      <td>Tanah Merah</td>\n      <td>1</td>\n      <td>3</td>\n      <td>9.311841</td>\n      <td>45</td>\n      <td>329.3</td>\n    </tr>\n    <tr>\n      <th>2</th>\n      <td>toa payoh</td>\n      <td>improved</td>\n      <td>67.0</td>\n      <td>1971</td>\n      <td>1.332242</td>\n      <td>103.845643</td>\n      <td>toa payoh central</td>\n      <td>toa payoh</td>\n      <td>central region</td>\n      <td>1900</td>\n      <td>...</td>\n      <td>468.0</td>\n      <td>HDB Hub</td>\n      <td>3</td>\n      <td>219.0</td>\n      <td>Toa Payoh</td>\n      <td>4</td>\n      <td>2</td>\n      <td>5.493976</td>\n      <td>52</td>\n      <td>368.1</td>\n    </tr>\n    <tr>\n      <th>3</th>\n      <td>pasir ris</td>\n      <td>apartment</td>\n      <td>149.0</td>\n      <td>1993</td>\n      <td>1.370239</td>\n      <td>103.962894</td>\n      <td>pasir ris drive</td>\n      <td>pasir ris</td>\n      <td>east region</td>\n      <td>2850</td>\n      <td>...</td>\n      <td>402.0</td>\n      <td>Loyang Point</td>\n      <td>1</td>\n      <td>1546.0</td>\n      <td>Pasir Ris</td>\n      <td>0</td>\n      <td>5</td>\n      <td>14.110320</td>\n      <td>30</td>\n      <td>254.6</td>\n    </tr>\n    <tr>\n      <th>4</th>\n      <td>kallang/whampoa</td>\n      <td>improved</td>\n      <td>68.0</td>\n      <td>1972</td>\n      <td>1.320502</td>\n      <td>103.863341</td>\n      <td>bendemeer</td>\n      <td>kallang</td>\n      <td>central region</td>\n      <td>2100</td>\n      <td>...</td>\n      <td>1073.0</td>\n      <td>Aperia</td>\n      <td>0</td>\n      <td>188.0</td>\n      <td>Boon Keng</td>\n      <td>3</td>\n      <td>2</td>\n      <td>3.686250</td>\n      <td>51</td>\n      <td>239.5</td>\n    </tr>\n  </tbody>\n</table>\n<p>5 rows × 29 columns</p>\n</div>"
     },
     "execution_count": 47,
     "metadata": {},
     "output_type": "execute_result"
    }
   ],
   "source": [
    "import pandas as pd\n",
    "\n",
    "# Load the training set\n",
    "train_set_path = './Datasets/cleaned_train.csv'\n",
    "test_set_path = './Datasets/cleaned_test.csv'\n",
    "train_set = pd.read_csv(train_set_path)\n",
    "test_set = pd.read_csv(test_set_path)\n",
    "\n",
    "# Display the first few rows of the training set to understand its structure\n",
    "train_set.head()"
   ]
  },
  {
   "cell_type": "code",
   "execution_count": 48,
   "outputs": [],
   "source": [
    "from sklearn.preprocessing import LabelEncoder, OneHotEncoder\n",
    "# Assume 'X' contains the features and 'y' is the target variable in your datasets\n",
    "features = train_set.drop('monthly_rent', axis=1)\n",
    "target = train_set['monthly_rent']\n",
    "test_features = test_set.drop('monthly_rent', axis=1)\n",
    "\n",
    "# Drop the specified columns\n",
    "columns_to_drop = ['town', 'region', 'mrt_nearest', 'mall_nearest', 'mrt_planned_nearest']\n",
    "features = features.drop(columns_to_drop, axis=1)\n",
    "test_features = test_features.drop(columns_to_drop, axis=1)\n",
    "\n",
    "# Identify the remaining categorical columns\n",
    "remaining_categorical_columns = ['flat_model', 'subzone', 'planning_area']\n",
    "\n",
    "# Apply one-hot encoding to 'flat_model' and 'planning_area'\n",
    "one_hot_columns = ['flat_model', 'planning_area']\n",
    "\n",
    "# Reinitialize the encoders\n",
    "encoder = OneHotEncoder(sparse_output=False, handle_unknown='ignore')\n",
    "label_encoder = LabelEncoder()\n",
    "\n",
    "# Apply one-hot encoding to 'flat_model' and 'planning_area'\n",
    "features_one_hot = encoder.fit_transform(features[one_hot_columns])\n",
    "features_one_hot = pd.DataFrame(features_one_hot, columns=encoder.get_feature_names_out(one_hot_columns))\n",
    "test_features_one_hot = encoder.transform(test_features[one_hot_columns])\n",
    "test_features_one_hot = pd.DataFrame(test_features_one_hot, columns=encoder.get_feature_names_out(one_hot_columns))\n",
    "###\n",
    "\n",
    "# Apply label encoding to 'subzone'\n",
    "features['subzone'] = label_encoder.fit_transform(features['subzone'])\n",
    "test_features['subzone'] = label_encoder.transform(test_features['subzone'])\n",
    "\n",
    "# Combine the processed data\n",
    "features = features.drop(one_hot_columns, axis=1)\n",
    "features = pd.concat([features, features_one_hot], axis=1)\n",
    "# Combine the processed data\n",
    "test_features = test_features.drop(one_hot_columns, axis=1)\n",
    "test_features = pd.concat([test_features, test_features_one_hot], axis=1)\n"
   ],
   "metadata": {
    "collapsed": false,
    "ExecuteTime": {
     "end_time": "2023-11-01T15:35:54.916123700Z",
     "start_time": "2023-11-01T15:35:54.798763700Z"
    }
   },
   "id": "ddcbbc0bef925e81"
  },
  {
   "cell_type": "code",
   "execution_count": 49,
   "outputs": [
    {
     "data": {
      "text/plain": "((60000, 69), (30000, 69), (60000, 48), (30000, 48))"
     },
     "execution_count": 49,
     "metadata": {},
     "output_type": "execute_result"
    }
   ],
   "source": [
    "features.shape, test_features.shape, features_one_hot.shape, test_features_one_hot.shape"
   ],
   "metadata": {
    "collapsed": false,
    "ExecuteTime": {
     "end_time": "2023-11-01T15:35:54.948856300Z",
     "start_time": "2023-11-01T15:35:54.918322900Z"
    }
   },
   "id": "ae2d5d17e3b474c3"
  },
  {
   "cell_type": "code",
   "execution_count": 50,
   "outputs": [
    {
     "data": {
      "text/plain": "   floor_area_sqm  lease_commence_date  latitude   longitude  subzone  \\\n0            67.0                 1983  1.344518  103.738630      149   \n1            92.0                 1978  1.330186  103.938717        8   \n2            67.0                 1971  1.332242  103.845643      128   \n3           149.0                 1993  1.370239  103.962894       91   \n4            68.0                 1972  1.320502  103.863341       12   \n\n   rent_approval_year  rent_approval_month  coe_price  Year  Month  ...  \\\n0                2021                    9  54951.625  2021      9  ...   \n1                2022                    5  77035.625  2022      5  ...   \n2                2022                   10  89580.250  2022     10  ...   \n3                2021                    8  51997.375  2021      8  ...   \n4                2022                   11  99472.875  2022     11  ...   \n\n   planning_area_punggol  planning_area_queenstown  planning_area_rochor  \\\n0                    0.0                       0.0                   0.0   \n1                    0.0                       0.0                   0.0   \n2                    0.0                       0.0                   0.0   \n3                    0.0                       0.0                   0.0   \n4                    0.0                       0.0                   0.0   \n\n   planning_area_sembawang  planning_area_sengkang  planning_area_serangoon  \\\n0                      0.0                     0.0                      0.0   \n1                      0.0                     0.0                      0.0   \n2                      0.0                     0.0                      0.0   \n3                      0.0                     0.0                      0.0   \n4                      0.0                     0.0                      0.0   \n\n   planning_area_tampines  planning_area_toa payoh  planning_area_woodlands  \\\n0                     0.0                      0.0                      0.0   \n1                     0.0                      0.0                      0.0   \n2                     0.0                      1.0                      0.0   \n3                     0.0                      0.0                      0.0   \n4                     0.0                      0.0                      0.0   \n\n   planning_area_yishun  \n0                   0.0  \n1                   0.0  \n2                   0.0  \n3                   0.0  \n4                   0.0  \n\n[5 rows x 69 columns]",
      "text/html": "<div>\n<style scoped>\n    .dataframe tbody tr th:only-of-type {\n        vertical-align: middle;\n    }\n\n    .dataframe tbody tr th {\n        vertical-align: top;\n    }\n\n    .dataframe thead th {\n        text-align: right;\n    }\n</style>\n<table border=\"1\" class=\"dataframe\">\n  <thead>\n    <tr style=\"text-align: right;\">\n      <th></th>\n      <th>floor_area_sqm</th>\n      <th>lease_commence_date</th>\n      <th>latitude</th>\n      <th>longitude</th>\n      <th>subzone</th>\n      <th>rent_approval_year</th>\n      <th>rent_approval_month</th>\n      <th>coe_price</th>\n      <th>Year</th>\n      <th>Month</th>\n      <th>...</th>\n      <th>planning_area_punggol</th>\n      <th>planning_area_queenstown</th>\n      <th>planning_area_rochor</th>\n      <th>planning_area_sembawang</th>\n      <th>planning_area_sengkang</th>\n      <th>planning_area_serangoon</th>\n      <th>planning_area_tampines</th>\n      <th>planning_area_toa payoh</th>\n      <th>planning_area_woodlands</th>\n      <th>planning_area_yishun</th>\n    </tr>\n  </thead>\n  <tbody>\n    <tr>\n      <th>0</th>\n      <td>67.0</td>\n      <td>1983</td>\n      <td>1.344518</td>\n      <td>103.738630</td>\n      <td>149</td>\n      <td>2021</td>\n      <td>9</td>\n      <td>54951.625</td>\n      <td>2021</td>\n      <td>9</td>\n      <td>...</td>\n      <td>0.0</td>\n      <td>0.0</td>\n      <td>0.0</td>\n      <td>0.0</td>\n      <td>0.0</td>\n      <td>0.0</td>\n      <td>0.0</td>\n      <td>0.0</td>\n      <td>0.0</td>\n      <td>0.0</td>\n    </tr>\n    <tr>\n      <th>1</th>\n      <td>92.0</td>\n      <td>1978</td>\n      <td>1.330186</td>\n      <td>103.938717</td>\n      <td>8</td>\n      <td>2022</td>\n      <td>5</td>\n      <td>77035.625</td>\n      <td>2022</td>\n      <td>5</td>\n      <td>...</td>\n      <td>0.0</td>\n      <td>0.0</td>\n      <td>0.0</td>\n      <td>0.0</td>\n      <td>0.0</td>\n      <td>0.0</td>\n      <td>0.0</td>\n      <td>0.0</td>\n      <td>0.0</td>\n      <td>0.0</td>\n    </tr>\n    <tr>\n      <th>2</th>\n      <td>67.0</td>\n      <td>1971</td>\n      <td>1.332242</td>\n      <td>103.845643</td>\n      <td>128</td>\n      <td>2022</td>\n      <td>10</td>\n      <td>89580.250</td>\n      <td>2022</td>\n      <td>10</td>\n      <td>...</td>\n      <td>0.0</td>\n      <td>0.0</td>\n      <td>0.0</td>\n      <td>0.0</td>\n      <td>0.0</td>\n      <td>0.0</td>\n      <td>0.0</td>\n      <td>1.0</td>\n      <td>0.0</td>\n      <td>0.0</td>\n    </tr>\n    <tr>\n      <th>3</th>\n      <td>149.0</td>\n      <td>1993</td>\n      <td>1.370239</td>\n      <td>103.962894</td>\n      <td>91</td>\n      <td>2021</td>\n      <td>8</td>\n      <td>51997.375</td>\n      <td>2021</td>\n      <td>8</td>\n      <td>...</td>\n      <td>0.0</td>\n      <td>0.0</td>\n      <td>0.0</td>\n      <td>0.0</td>\n      <td>0.0</td>\n      <td>0.0</td>\n      <td>0.0</td>\n      <td>0.0</td>\n      <td>0.0</td>\n      <td>0.0</td>\n    </tr>\n    <tr>\n      <th>4</th>\n      <td>68.0</td>\n      <td>1972</td>\n      <td>1.320502</td>\n      <td>103.863341</td>\n      <td>12</td>\n      <td>2022</td>\n      <td>11</td>\n      <td>99472.875</td>\n      <td>2022</td>\n      <td>11</td>\n      <td>...</td>\n      <td>0.0</td>\n      <td>0.0</td>\n      <td>0.0</td>\n      <td>0.0</td>\n      <td>0.0</td>\n      <td>0.0</td>\n      <td>0.0</td>\n      <td>0.0</td>\n      <td>0.0</td>\n      <td>0.0</td>\n    </tr>\n  </tbody>\n</table>\n<p>5 rows × 69 columns</p>\n</div>"
     },
     "execution_count": 50,
     "metadata": {},
     "output_type": "execute_result"
    }
   ],
   "source": [
    "features.head()"
   ],
   "metadata": {
    "collapsed": false,
    "ExecuteTime": {
     "end_time": "2023-11-01T15:35:54.979414300Z",
     "start_time": "2023-11-01T15:35:54.924621600Z"
    }
   },
   "id": "66e3e7b3da00fcd3"
  },
  {
   "cell_type": "code",
   "execution_count": 51,
   "outputs": [
    {
     "name": "stderr",
     "output_type": "stream",
     "text": [
      "C:\\Users\\User\\.conda\\envs\\Project-tpot\\Lib\\site-packages\\xgboost\\data.py:312: FutureWarning: is_sparse is deprecated and will be removed in a future version. Check `isinstance(dtype, pd.SparseDtype)` instead.\n",
      "  if is_sparse(dtype):\n",
      "C:\\Users\\User\\.conda\\envs\\Project-tpot\\Lib\\site-packages\\xgboost\\data.py:314: FutureWarning: is_categorical_dtype is deprecated and will be removed in a future version. Use isinstance(dtype, CategoricalDtype) instead\n",
      "  elif is_categorical_dtype(dtype) and enable_categorical:\n",
      "C:\\Users\\User\\.conda\\envs\\Project-tpot\\Lib\\site-packages\\xgboost\\data.py:345: FutureWarning: is_categorical_dtype is deprecated and will be removed in a future version. Use isinstance(dtype, CategoricalDtype) instead\n",
      "  if is_categorical_dtype(dtype)\n",
      "C:\\Users\\User\\.conda\\envs\\Project-tpot\\Lib\\site-packages\\xgboost\\data.py:336: FutureWarning: is_categorical_dtype is deprecated and will be removed in a future version. Use isinstance(dtype, CategoricalDtype) instead\n",
      "  return is_int or is_bool or is_float or is_categorical_dtype(dtype)\n",
      "C:\\Users\\User\\.conda\\envs\\Project-tpot\\Lib\\site-packages\\xgboost\\data.py:440: FutureWarning: is_sparse is deprecated and will be removed in a future version. Check `isinstance(dtype, pd.SparseDtype)` instead.\n",
      "  if is_sparse(data):\n",
      "C:\\Users\\User\\.conda\\envs\\Project-tpot\\Lib\\site-packages\\xgboost\\data.py:312: FutureWarning: is_sparse is deprecated and will be removed in a future version. Check `isinstance(dtype, pd.SparseDtype)` instead.\n",
      "  if is_sparse(dtype):\n",
      "C:\\Users\\User\\.conda\\envs\\Project-tpot\\Lib\\site-packages\\xgboost\\data.py:314: FutureWarning: is_categorical_dtype is deprecated and will be removed in a future version. Use isinstance(dtype, CategoricalDtype) instead\n",
      "  elif is_categorical_dtype(dtype) and enable_categorical:\n",
      "C:\\Users\\User\\.conda\\envs\\Project-tpot\\Lib\\site-packages\\xgboost\\data.py:345: FutureWarning: is_categorical_dtype is deprecated and will be removed in a future version. Use isinstance(dtype, CategoricalDtype) instead\n",
      "  if is_categorical_dtype(dtype)\n",
      "C:\\Users\\User\\.conda\\envs\\Project-tpot\\Lib\\site-packages\\xgboost\\data.py:336: FutureWarning: is_categorical_dtype is deprecated and will be removed in a future version. Use isinstance(dtype, CategoricalDtype) instead\n",
      "  return is_int or is_bool or is_float or is_categorical_dtype(dtype)\n"
     ]
    }
   ],
   "source": [
    "import datetime\n",
    "from xgboost import XGBRegressor\n",
    "from sklearn.model_selection import train_test_split\n",
    "import pandas as pd\n",
    "from tpot import TPOTRegressor\n",
    "from sklearn.preprocessing import LabelEncoder, OneHotEncoder\n",
    "\n",
    "# Average CV score on the training set was: -233688.91533545233\n",
    "exported_pipeline = XGBRegressor(learning_rate=0.025, max_depth=5, min_child_weight=8, n_estimators=600, n_jobs=1, subsample=0.8)\n",
    "# Fix random state in exported estimator\n",
    "if hasattr(exported_pipeline, 'random_state'):\n",
    "    setattr(exported_pipeline, 'random_state', 42)\n",
    "\n",
    "exported_pipeline.fit(features, target)\n",
    "results = exported_pipeline.predict(test_features)\n",
    "\n",
    "# Convert results to DataFrame\n",
    "results_df = pd.DataFrame(results, columns=['predictions'])\n",
    "\n",
    "# Get model hyperparameters and current time\n",
    "hyperparameters = exported_pipeline.get_params()\n",
    "current_time = datetime.datetime.now().strftime(\"%Y-%m-%d %H:%M:%S\")\n",
    "current_time_for_filename = datetime.datetime.now().strftime(\"%Y-%m-%d_%H-%M-%S\")\n",
    "\n",
    "# Append hyperparameters and time to the DataFrame\n",
    "results_df['model_hyperparameters'] = str(hyperparameters)\n",
    "results_df['timestamp'] = current_time\n",
    "\n",
    "# Save the results to a CSV file\n",
    "output_filepath = f'./Datasets/results/predictions {current_time_for_filename}.csv'\n",
    "results_df.to_csv(output_filepath, index=False)"
   ],
   "metadata": {
    "collapsed": false,
    "ExecuteTime": {
     "end_time": "2023-11-01T15:37:12.496418300Z",
     "start_time": "2023-11-01T15:35:59.823168800Z"
    }
   },
   "id": "c07b6226f2437618"
  }
 ],
 "metadata": {
  "kernelspec": {
   "display_name": "Python 3",
   "language": "python",
   "name": "python3"
  },
  "language_info": {
   "codemirror_mode": {
    "name": "ipython",
    "version": 2
   },
   "file_extension": ".py",
   "mimetype": "text/x-python",
   "name": "python",
   "nbconvert_exporter": "python",
   "pygments_lexer": "ipython2",
   "version": "2.7.6"
  }
 },
 "nbformat": 4,
 "nbformat_minor": 5
}
