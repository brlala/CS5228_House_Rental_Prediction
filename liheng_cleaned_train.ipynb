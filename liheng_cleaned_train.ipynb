{
 "cells": [
  {
   "cell_type": "markdown",
   "source": [
    "https://towardsdatascience.com/predicting-hdb-housing-prices-using-neural-networks-94ab708cccf8"
   ],
   "metadata": {
    "collapsed": false
   },
   "id": "dbd05c555d1740b"
  },
  {
   "cell_type": "code",
   "execution_count": 201,
   "id": "initial_id",
   "metadata": {
    "collapsed": true,
    "ExecuteTime": {
     "end_time": "2023-11-05T07:58:23.790094600Z",
     "start_time": "2023-11-05T07:58:23.647057500Z"
    }
   },
   "outputs": [
    {
     "data": {
      "text/plain": "  rent_approval_date             town block            street_name  flat_type  \\\n0            2021-09      jurong east   257  jurong east street 24     3 room   \n1            2022-05            bedok   119       bedok north road     4-room   \n2            2022-10        toa payoh   157     lorong 1 toa payoh     3-room   \n3            2021-08        pasir ris   250    pasir ris street 21  executive   \n4            2022-11  kallang/whampoa    34           whampoa west     3-room   \n\n       flat_model  floor_area_sqm furnished  lease_commence_date  latitude  \\\n0  new generation            67.0       yes                 1983  1.344518   \n1  new generation            92.0       yes                 1978  1.330186   \n2        improved            67.0       yes                 1971  1.332242   \n3       apartment           149.0       yes                 1993  1.370239   \n4        improved            68.0       yes                 1972  1.320502   \n\n    longitude  elevation            subzone planning_area          region  \\\n0  103.738630          0         yuhua east   jurong east     west region   \n1  103.938717          0        bedok north         bedok     east region   \n2  103.845643          0  toa payoh central     toa payoh  central region   \n3  103.962894          0    pasir ris drive     pasir ris     east region   \n4  103.863341          0          bendemeer       kallang  central region   \n\n   monthly_rent  \n0          1600  \n1          2250  \n2          1900  \n3          2850  \n4          2100  ",
      "text/html": "<div>\n<style scoped>\n    .dataframe tbody tr th:only-of-type {\n        vertical-align: middle;\n    }\n\n    .dataframe tbody tr th {\n        vertical-align: top;\n    }\n\n    .dataframe thead th {\n        text-align: right;\n    }\n</style>\n<table border=\"1\" class=\"dataframe\">\n  <thead>\n    <tr style=\"text-align: right;\">\n      <th></th>\n      <th>rent_approval_date</th>\n      <th>town</th>\n      <th>block</th>\n      <th>street_name</th>\n      <th>flat_type</th>\n      <th>flat_model</th>\n      <th>floor_area_sqm</th>\n      <th>furnished</th>\n      <th>lease_commence_date</th>\n      <th>latitude</th>\n      <th>longitude</th>\n      <th>elevation</th>\n      <th>subzone</th>\n      <th>planning_area</th>\n      <th>region</th>\n      <th>monthly_rent</th>\n    </tr>\n  </thead>\n  <tbody>\n    <tr>\n      <th>0</th>\n      <td>2021-09</td>\n      <td>jurong east</td>\n      <td>257</td>\n      <td>jurong east street 24</td>\n      <td>3 room</td>\n      <td>new generation</td>\n      <td>67.0</td>\n      <td>yes</td>\n      <td>1983</td>\n      <td>1.344518</td>\n      <td>103.738630</td>\n      <td>0</td>\n      <td>yuhua east</td>\n      <td>jurong east</td>\n      <td>west region</td>\n      <td>1600</td>\n    </tr>\n    <tr>\n      <th>1</th>\n      <td>2022-05</td>\n      <td>bedok</td>\n      <td>119</td>\n      <td>bedok north road</td>\n      <td>4-room</td>\n      <td>new generation</td>\n      <td>92.0</td>\n      <td>yes</td>\n      <td>1978</td>\n      <td>1.330186</td>\n      <td>103.938717</td>\n      <td>0</td>\n      <td>bedok north</td>\n      <td>bedok</td>\n      <td>east region</td>\n      <td>2250</td>\n    </tr>\n    <tr>\n      <th>2</th>\n      <td>2022-10</td>\n      <td>toa payoh</td>\n      <td>157</td>\n      <td>lorong 1 toa payoh</td>\n      <td>3-room</td>\n      <td>improved</td>\n      <td>67.0</td>\n      <td>yes</td>\n      <td>1971</td>\n      <td>1.332242</td>\n      <td>103.845643</td>\n      <td>0</td>\n      <td>toa payoh central</td>\n      <td>toa payoh</td>\n      <td>central region</td>\n      <td>1900</td>\n    </tr>\n    <tr>\n      <th>3</th>\n      <td>2021-08</td>\n      <td>pasir ris</td>\n      <td>250</td>\n      <td>pasir ris street 21</td>\n      <td>executive</td>\n      <td>apartment</td>\n      <td>149.0</td>\n      <td>yes</td>\n      <td>1993</td>\n      <td>1.370239</td>\n      <td>103.962894</td>\n      <td>0</td>\n      <td>pasir ris drive</td>\n      <td>pasir ris</td>\n      <td>east region</td>\n      <td>2850</td>\n    </tr>\n    <tr>\n      <th>4</th>\n      <td>2022-11</td>\n      <td>kallang/whampoa</td>\n      <td>34</td>\n      <td>whampoa west</td>\n      <td>3-room</td>\n      <td>improved</td>\n      <td>68.0</td>\n      <td>yes</td>\n      <td>1972</td>\n      <td>1.320502</td>\n      <td>103.863341</td>\n      <td>0</td>\n      <td>bendemeer</td>\n      <td>kallang</td>\n      <td>central region</td>\n      <td>2100</td>\n    </tr>\n  </tbody>\n</table>\n</div>"
     },
     "execution_count": 201,
     "metadata": {},
     "output_type": "execute_result"
    }
   ],
   "source": [
    "import pandas as pd\n",
    "\n",
    "# Load the training set\n",
    "train_set_path = './Datasets/train.csv'\n",
    "data = pd.read_csv(train_set_path)\n",
    "\n",
    "# Display the first few rows of the training set to understand its structure\n",
    "data.head()"
   ]
  },
  {
   "cell_type": "code",
   "execution_count": 202,
   "outputs": [
    {
     "data": {
      "text/plain": "(              town block            street_name  flat_type      flat_model  \\\n 0      jurong east   257  jurong east street 24     3-room  new generation   \n 1            bedok   119       bedok north road     4-room  new generation   \n 2        toa payoh   157     lorong 1 toa payoh     3-room        improved   \n 3        pasir ris   250    pasir ris street 21  executive       apartment   \n 4  kallang/whampoa    34           whampoa west     3-room        improved   \n \n    floor_area_sqm  lease_commence_date  latitude   longitude  \\\n 0            67.0                 1983  1.344518  103.738630   \n 1            92.0                 1978  1.330186  103.938717   \n 2            67.0                 1971  1.332242  103.845643   \n 3           149.0                 1993  1.370239  103.962894   \n 4            68.0                 1972  1.320502  103.863341   \n \n              subzone planning_area          region  monthly_rent  year  month  \n 0         yuhua east   jurong east     west region          1600  2021      9  \n 1        bedok north         bedok     east region          2250  2022      5  \n 2  toa payoh central     toa payoh  central region          1900  2022     10  \n 3    pasir ris drive     pasir ris     east region          2850  2021      8  \n 4          bendemeer       kallang  central region          2100  2022     11  ,\n 1,\n 1)"
     },
     "execution_count": 202,
     "metadata": {},
     "output_type": "execute_result"
    }
   ],
   "source": [
    "# Split the 'rent_approval_date' into 'year' and 'month'\n",
    "data['year'] = data['rent_approval_date'].apply(lambda x: x.split('-')[0]).astype(int)\n",
    "data['month'] = data['rent_approval_date'].apply(lambda x: x.split('-')[1]).astype(int)\n",
    "data = data.drop(columns='rent_approval_date')\n",
    "\n",
    "# Standardize the 'flat_type' column\n",
    "data['flat_type'] = data['flat_type'].str.replace(' ', '-', regex=False)\n",
    "\n",
    "# Check if all values in 'furnished' and 'elevation' columns are the same\n",
    "furnished_unique_values = data['furnished'].nunique()\n",
    "elevation_unique_values = data['elevation'].nunique()\n",
    "\n",
    "# Drop 'furnished' and 'elevation' columns if all values are the same\n",
    "if furnished_unique_values == 1:\n",
    "    data = data.drop(columns='furnished')\n",
    "\n",
    "if elevation_unique_values == 1:\n",
    "    data = data.drop(columns='elevation')\n",
    "\n",
    "# Display the changes to verify\n",
    "data.head(), furnished_unique_values, elevation_unique_values"
   ],
   "metadata": {
    "collapsed": false,
    "ExecuteTime": {
     "end_time": "2023-11-05T07:58:23.943134300Z",
     "start_time": "2023-11-05T07:58:23.789096200Z"
    }
   },
   "id": "5bd298c3bde533d7"
  },
  {
   "cell_type": "code",
   "execution_count": 203,
   "outputs": [
    {
     "data": {
      "text/plain": "{'town': 26,\n 'block': 2553,\n 'street_name': 543,\n 'flat_type': 5,\n 'flat_model': 19,\n 'subzone': 152,\n 'planning_area': 29,\n 'region': 5}"
     },
     "execution_count": 203,
     "metadata": {},
     "output_type": "execute_result"
    }
   ],
   "source": [
    "# Identify non-numerical columns\n",
    "categorical_columns = data.select_dtypes(include=['object']).columns.tolist()\n",
    "\n",
    "# Analyze the unique values and their counts for each categorical column\n",
    "categorical_columns_analysis = {col: data[col].nunique() for col in categorical_columns}\n",
    "\n",
    "categorical_columns_analysis"
   ],
   "metadata": {
    "collapsed": false,
    "ExecuteTime": {
     "end_time": "2023-11-05T07:58:24.018250Z",
     "start_time": "2023-11-05T07:58:23.906136500Z"
    }
   },
   "id": "a6930c713c3f09cd"
  },
  {
   "cell_type": "code",
   "execution_count": 204,
   "outputs": [
    {
     "data": {
      "text/plain": "({'downtown core', 'kallang', 'novena', 'outram', 'rochor'},\n {'central', 'kallang/whampoa'})"
     },
     "execution_count": 204,
     "metadata": {},
     "output_type": "execute_result"
    }
   ],
   "source": [
    "# Find the unique values in 'planning_area' and 'town'\n",
    "unique_planning_areas = set(data['planning_area'].unique())\n",
    "unique_towns = set(data['town'].unique())\n",
    "\n",
    "# Find the differences between the two sets\n",
    "unique_in_planning_not_in_town = unique_planning_areas - unique_towns\n",
    "unique_in_town_not_in_planning = unique_towns - unique_planning_areas\n",
    "\n",
    "(unique_in_planning_not_in_town, unique_in_town_not_in_planning)"
   ],
   "metadata": {
    "collapsed": false,
    "ExecuteTime": {
     "end_time": "2023-11-05T07:58:24.022251700Z",
     "start_time": "2023-11-05T07:58:23.968251200Z"
    }
   },
   "id": "6a3c91c5a34ca947"
  },
  {
   "cell_type": "code",
   "execution_count": 205,
   "outputs": [
    {
     "data": {
      "text/plain": "              town  flat_type      flat_model  floor_area_sqm  \\\n0      jurong east     3-room  new generation            67.0   \n1            bedok     4-room  new generation            92.0   \n2        toa payoh     3-room        improved            67.0   \n3        pasir ris  executive       apartment           149.0   \n4  kallang/whampoa     3-room        improved            68.0   \n\n   lease_commence_date  latitude   longitude          region  monthly_rent  \\\n0                 1983  1.344518  103.738630     west region          1600   \n1                 1978  1.330186  103.938717     east region          2250   \n2                 1971  1.332242  103.845643  central region          1900   \n3                 1993  1.370239  103.962894     east region          2850   \n4                 1972  1.320502  103.863341  central region          2100   \n\n   year  month  \n0  2021      9  \n1  2022      5  \n2  2022     10  \n3  2021      8  \n4  2022     11  ",
      "text/html": "<div>\n<style scoped>\n    .dataframe tbody tr th:only-of-type {\n        vertical-align: middle;\n    }\n\n    .dataframe tbody tr th {\n        vertical-align: top;\n    }\n\n    .dataframe thead th {\n        text-align: right;\n    }\n</style>\n<table border=\"1\" class=\"dataframe\">\n  <thead>\n    <tr style=\"text-align: right;\">\n      <th></th>\n      <th>town</th>\n      <th>flat_type</th>\n      <th>flat_model</th>\n      <th>floor_area_sqm</th>\n      <th>lease_commence_date</th>\n      <th>latitude</th>\n      <th>longitude</th>\n      <th>region</th>\n      <th>monthly_rent</th>\n      <th>year</th>\n      <th>month</th>\n    </tr>\n  </thead>\n  <tbody>\n    <tr>\n      <th>0</th>\n      <td>jurong east</td>\n      <td>3-room</td>\n      <td>new generation</td>\n      <td>67.0</td>\n      <td>1983</td>\n      <td>1.344518</td>\n      <td>103.738630</td>\n      <td>west region</td>\n      <td>1600</td>\n      <td>2021</td>\n      <td>9</td>\n    </tr>\n    <tr>\n      <th>1</th>\n      <td>bedok</td>\n      <td>4-room</td>\n      <td>new generation</td>\n      <td>92.0</td>\n      <td>1978</td>\n      <td>1.330186</td>\n      <td>103.938717</td>\n      <td>east region</td>\n      <td>2250</td>\n      <td>2022</td>\n      <td>5</td>\n    </tr>\n    <tr>\n      <th>2</th>\n      <td>toa payoh</td>\n      <td>3-room</td>\n      <td>improved</td>\n      <td>67.0</td>\n      <td>1971</td>\n      <td>1.332242</td>\n      <td>103.845643</td>\n      <td>central region</td>\n      <td>1900</td>\n      <td>2022</td>\n      <td>10</td>\n    </tr>\n    <tr>\n      <th>3</th>\n      <td>pasir ris</td>\n      <td>executive</td>\n      <td>apartment</td>\n      <td>149.0</td>\n      <td>1993</td>\n      <td>1.370239</td>\n      <td>103.962894</td>\n      <td>east region</td>\n      <td>2850</td>\n      <td>2021</td>\n      <td>8</td>\n    </tr>\n    <tr>\n      <th>4</th>\n      <td>kallang/whampoa</td>\n      <td>3-room</td>\n      <td>improved</td>\n      <td>68.0</td>\n      <td>1972</td>\n      <td>1.320502</td>\n      <td>103.863341</td>\n      <td>central region</td>\n      <td>2100</td>\n      <td>2022</td>\n      <td>11</td>\n    </tr>\n  </tbody>\n</table>\n</div>"
     },
     "execution_count": 205,
     "metadata": {},
     "output_type": "execute_result"
    }
   ],
   "source": [
    "# Dropping planning area as there is already a redundant column town which is slightly more general\n",
    "data.drop(columns=['planning_area'], inplace=True)\n",
    "\n",
    "# Dropping subzone as it is too granular and does not generalize well enough\n",
    "data.drop(columns=['subzone', 'block', 'street_name'], inplace=True)\n",
    "\n",
    "data.head()"
   ],
   "metadata": {
    "collapsed": false,
    "ExecuteTime": {
     "end_time": "2023-11-05T07:58:24.060778100Z",
     "start_time": "2023-11-05T07:58:23.997252400Z"
    }
   },
   "id": "42d8da429b8aa980"
  },
  {
   "cell_type": "code",
   "execution_count": 206,
   "outputs": [
    {
     "data": {
      "text/plain": "   flat_type\n0          2\n1          3\n2          2\n3          5\n4          2",
      "text/html": "<div>\n<style scoped>\n    .dataframe tbody tr th:only-of-type {\n        vertical-align: middle;\n    }\n\n    .dataframe tbody tr th {\n        vertical-align: top;\n    }\n\n    .dataframe thead th {\n        text-align: right;\n    }\n</style>\n<table border=\"1\" class=\"dataframe\">\n  <thead>\n    <tr style=\"text-align: right;\">\n      <th></th>\n      <th>flat_type</th>\n    </tr>\n  </thead>\n  <tbody>\n    <tr>\n      <th>0</th>\n      <td>2</td>\n    </tr>\n    <tr>\n      <th>1</th>\n      <td>3</td>\n    </tr>\n    <tr>\n      <th>2</th>\n      <td>2</td>\n    </tr>\n    <tr>\n      <th>3</th>\n      <td>5</td>\n    </tr>\n    <tr>\n      <th>4</th>\n      <td>2</td>\n    </tr>\n  </tbody>\n</table>\n</div>"
     },
     "execution_count": 206,
     "metadata": {},
     "output_type": "execute_result"
    }
   ],
   "source": [
    "# Define the ordinal mapping for flat_type\n",
    "flat_type_mapping = {\n",
    "    '1-room': 0,\n",
    "    '2-room': 1,\n",
    "    '3-room': 2,\n",
    "    '4-room': 3,\n",
    "    '5-room': 4,\n",
    "    'executive': 5\n",
    "}\n",
    "\n",
    "# Apply the ordinal encoding to flat_type\n",
    "data['flat_type'] = data['flat_type'].map(flat_type_mapping)\n",
    "\n",
    "# Display the first few rows to confirm the change\n",
    "data[['flat_type']].head()"
   ],
   "metadata": {
    "collapsed": false,
    "ExecuteTime": {
     "end_time": "2023-11-05T07:58:24.104780400Z",
     "start_time": "2023-11-05T07:58:24.041253700Z"
    }
   },
   "id": "f5ddef6c3ab59d71"
  },
  {
   "cell_type": "code",
   "execution_count": 207,
   "outputs": [
    {
     "data": {
      "text/plain": "   year  month  resale_price_index\n0  2021      9               150.6\n1  2022      5               163.9\n2  2022     10               171.9\n3  2021      8               150.6\n4  2022     11               171.9",
      "text/html": "<div>\n<style scoped>\n    .dataframe tbody tr th:only-of-type {\n        vertical-align: middle;\n    }\n\n    .dataframe tbody tr th {\n        vertical-align: top;\n    }\n\n    .dataframe thead th {\n        text-align: right;\n    }\n</style>\n<table border=\"1\" class=\"dataframe\">\n  <thead>\n    <tr style=\"text-align: right;\">\n      <th></th>\n      <th>year</th>\n      <th>month</th>\n      <th>resale_price_index</th>\n    </tr>\n  </thead>\n  <tbody>\n    <tr>\n      <th>0</th>\n      <td>2021</td>\n      <td>9</td>\n      <td>150.6</td>\n    </tr>\n    <tr>\n      <th>1</th>\n      <td>2022</td>\n      <td>5</td>\n      <td>163.9</td>\n    </tr>\n    <tr>\n      <th>2</th>\n      <td>2022</td>\n      <td>10</td>\n      <td>171.9</td>\n    </tr>\n    <tr>\n      <th>3</th>\n      <td>2021</td>\n      <td>8</td>\n      <td>150.6</td>\n    </tr>\n    <tr>\n      <th>4</th>\n      <td>2022</td>\n      <td>11</td>\n      <td>171.9</td>\n    </tr>\n  </tbody>\n</table>\n</div>"
     },
     "execution_count": 207,
     "metadata": {},
     "output_type": "execute_result"
    }
   ],
   "source": [
    "# Resale price index data\n",
    "resale_price_index_data = {\n",
    "    (2023, 'I'): 173.6,\n",
    "    (2023, 'II'): 176.2,\n",
    "    (2023, 'III'): 178.5,\n",
    "    (2022, 'I'): 159.5,\n",
    "    (2022, 'II'): 163.9,\n",
    "    (2022, 'III'): 168.1,\n",
    "    (2022, 'IV'): 171.9,\n",
    "    (2021, 'I'): 142.2,\n",
    "    (2021, 'II'): 146.4,\n",
    "    (2021, 'III'): 150.6,\n",
    "    (2021, 'IV'): 155.7\n",
    "}\n",
    "\n",
    "\n",
    "# Function to determine the quarter based on the month\n",
    "def get_quarter(month):\n",
    "    if 1 <= month <= 3:\n",
    "        return 'I'\n",
    "    elif 4 <= month <= 6:\n",
    "        return 'II'\n",
    "    elif 7 <= month <= 9:\n",
    "        return 'III'\n",
    "    else:  # From October to December\n",
    "        return 'IV'\n",
    "\n",
    "\n",
    "# Apply the mapping to the dataset\n",
    "data['resale_price_index'] = data.apply(\n",
    "    lambda row: resale_price_index_data.get((row['year'], get_quarter(row['month']))), axis=1\n",
    ")\n",
    "\n",
    "# Check if the resale price index was successfully encoded\n",
    "data[['year', 'month', 'resale_price_index']].head()"
   ],
   "metadata": {
    "collapsed": false,
    "ExecuteTime": {
     "end_time": "2023-11-05T07:58:24.813459300Z",
     "start_time": "2023-11-05T07:58:24.077779100Z"
    }
   },
   "id": "c137bc3e7d82cfe"
  },
  {
   "cell_type": "markdown",
   "source": [
    "#Determine whether to drop the 'flat_model' column and 'town' column"
   ],
   "metadata": {
    "collapsed": false
   },
   "id": "12659e2525a56713"
  },
  {
   "cell_type": "code",
   "execution_count": 208,
   "outputs": [
    {
     "name": "stdout",
     "output_type": "stream",
     "text": [
      "encoding Index(['town', 'flat_model', 'region'], dtype='object')\n"
     ]
    },
    {
     "ename": "KeyboardInterrupt",
     "evalue": "",
     "output_type": "error",
     "traceback": [
      "\u001B[1;31m---------------------------------------------------------------------------\u001B[0m",
      "\u001B[1;31mKeyboardInterrupt\u001B[0m                         Traceback (most recent call last)",
      "Cell \u001B[1;32mIn[208], line 20\u001B[0m\n\u001B[0;32m     17\u001B[0m rf \u001B[38;5;241m=\u001B[39m RandomForestRegressor(n_estimators\u001B[38;5;241m=\u001B[39m\u001B[38;5;241m100\u001B[39m, random_state\u001B[38;5;241m=\u001B[39m\u001B[38;5;241m42\u001B[39m)\n\u001B[0;32m     19\u001B[0m \u001B[38;5;66;03m# Fit the model\u001B[39;00m\n\u001B[1;32m---> 20\u001B[0m \u001B[43mrf\u001B[49m\u001B[38;5;241;43m.\u001B[39;49m\u001B[43mfit\u001B[49m\u001B[43m(\u001B[49m\u001B[43mX\u001B[49m\u001B[43m,\u001B[49m\u001B[43m \u001B[49m\u001B[43my\u001B[49m\u001B[43m)\u001B[49m\n\u001B[0;32m     22\u001B[0m \u001B[38;5;66;03m# Get feature importances\u001B[39;00m\n\u001B[0;32m     23\u001B[0m feature_importances \u001B[38;5;241m=\u001B[39m rf\u001B[38;5;241m.\u001B[39mfeature_importances_\n",
      "File \u001B[1;32m~\\.conda\\envs\\project-tpot-38\\lib\\site-packages\\sklearn\\base.py:1152\u001B[0m, in \u001B[0;36m_fit_context.<locals>.decorator.<locals>.wrapper\u001B[1;34m(estimator, *args, **kwargs)\u001B[0m\n\u001B[0;32m   1145\u001B[0m     estimator\u001B[38;5;241m.\u001B[39m_validate_params()\n\u001B[0;32m   1147\u001B[0m \u001B[38;5;28;01mwith\u001B[39;00m config_context(\n\u001B[0;32m   1148\u001B[0m     skip_parameter_validation\u001B[38;5;241m=\u001B[39m(\n\u001B[0;32m   1149\u001B[0m         prefer_skip_nested_validation \u001B[38;5;129;01mor\u001B[39;00m global_skip_validation\n\u001B[0;32m   1150\u001B[0m     )\n\u001B[0;32m   1151\u001B[0m ):\n\u001B[1;32m-> 1152\u001B[0m     \u001B[38;5;28;01mreturn\u001B[39;00m \u001B[43mfit_method\u001B[49m\u001B[43m(\u001B[49m\u001B[43mestimator\u001B[49m\u001B[43m,\u001B[49m\u001B[43m \u001B[49m\u001B[38;5;241;43m*\u001B[39;49m\u001B[43margs\u001B[49m\u001B[43m,\u001B[49m\u001B[43m \u001B[49m\u001B[38;5;241;43m*\u001B[39;49m\u001B[38;5;241;43m*\u001B[39;49m\u001B[43mkwargs\u001B[49m\u001B[43m)\u001B[49m\n",
      "File \u001B[1;32m~\\.conda\\envs\\project-tpot-38\\lib\\site-packages\\sklearn\\ensemble\\_forest.py:456\u001B[0m, in \u001B[0;36mBaseForest.fit\u001B[1;34m(self, X, y, sample_weight)\u001B[0m\n\u001B[0;32m    445\u001B[0m trees \u001B[38;5;241m=\u001B[39m [\n\u001B[0;32m    446\u001B[0m     \u001B[38;5;28mself\u001B[39m\u001B[38;5;241m.\u001B[39m_make_estimator(append\u001B[38;5;241m=\u001B[39m\u001B[38;5;28;01mFalse\u001B[39;00m, random_state\u001B[38;5;241m=\u001B[39mrandom_state)\n\u001B[0;32m    447\u001B[0m     \u001B[38;5;28;01mfor\u001B[39;00m i \u001B[38;5;129;01min\u001B[39;00m \u001B[38;5;28mrange\u001B[39m(n_more_estimators)\n\u001B[0;32m    448\u001B[0m ]\n\u001B[0;32m    450\u001B[0m \u001B[38;5;66;03m# Parallel loop: we prefer the threading backend as the Cython code\u001B[39;00m\n\u001B[0;32m    451\u001B[0m \u001B[38;5;66;03m# for fitting the trees is internally releasing the Python GIL\u001B[39;00m\n\u001B[0;32m    452\u001B[0m \u001B[38;5;66;03m# making threading more efficient than multiprocessing in\u001B[39;00m\n\u001B[0;32m    453\u001B[0m \u001B[38;5;66;03m# that case. However, for joblib 0.12+ we respect any\u001B[39;00m\n\u001B[0;32m    454\u001B[0m \u001B[38;5;66;03m# parallel_backend contexts set at a higher level,\u001B[39;00m\n\u001B[0;32m    455\u001B[0m \u001B[38;5;66;03m# since correctness does not rely on using threads.\u001B[39;00m\n\u001B[1;32m--> 456\u001B[0m trees \u001B[38;5;241m=\u001B[39m \u001B[43mParallel\u001B[49m\u001B[43m(\u001B[49m\n\u001B[0;32m    457\u001B[0m \u001B[43m    \u001B[49m\u001B[43mn_jobs\u001B[49m\u001B[38;5;241;43m=\u001B[39;49m\u001B[38;5;28;43mself\u001B[39;49m\u001B[38;5;241;43m.\u001B[39;49m\u001B[43mn_jobs\u001B[49m\u001B[43m,\u001B[49m\n\u001B[0;32m    458\u001B[0m \u001B[43m    \u001B[49m\u001B[43mverbose\u001B[49m\u001B[38;5;241;43m=\u001B[39;49m\u001B[38;5;28;43mself\u001B[39;49m\u001B[38;5;241;43m.\u001B[39;49m\u001B[43mverbose\u001B[49m\u001B[43m,\u001B[49m\n\u001B[0;32m    459\u001B[0m \u001B[43m    \u001B[49m\u001B[43mprefer\u001B[49m\u001B[38;5;241;43m=\u001B[39;49m\u001B[38;5;124;43m\"\u001B[39;49m\u001B[38;5;124;43mthreads\u001B[39;49m\u001B[38;5;124;43m\"\u001B[39;49m\u001B[43m,\u001B[49m\n\u001B[0;32m    460\u001B[0m \u001B[43m\u001B[49m\u001B[43m)\u001B[49m\u001B[43m(\u001B[49m\n\u001B[0;32m    461\u001B[0m \u001B[43m    \u001B[49m\u001B[43mdelayed\u001B[49m\u001B[43m(\u001B[49m\u001B[43m_parallel_build_trees\u001B[49m\u001B[43m)\u001B[49m\u001B[43m(\u001B[49m\n\u001B[0;32m    462\u001B[0m \u001B[43m        \u001B[49m\u001B[43mt\u001B[49m\u001B[43m,\u001B[49m\n\u001B[0;32m    463\u001B[0m \u001B[43m        \u001B[49m\u001B[38;5;28;43mself\u001B[39;49m\u001B[38;5;241;43m.\u001B[39;49m\u001B[43mbootstrap\u001B[49m\u001B[43m,\u001B[49m\n\u001B[0;32m    464\u001B[0m \u001B[43m        \u001B[49m\u001B[43mX\u001B[49m\u001B[43m,\u001B[49m\n\u001B[0;32m    465\u001B[0m \u001B[43m        \u001B[49m\u001B[43my\u001B[49m\u001B[43m,\u001B[49m\n\u001B[0;32m    466\u001B[0m \u001B[43m        \u001B[49m\u001B[43msample_weight\u001B[49m\u001B[43m,\u001B[49m\n\u001B[0;32m    467\u001B[0m \u001B[43m        \u001B[49m\u001B[43mi\u001B[49m\u001B[43m,\u001B[49m\n\u001B[0;32m    468\u001B[0m \u001B[43m        \u001B[49m\u001B[38;5;28;43mlen\u001B[39;49m\u001B[43m(\u001B[49m\u001B[43mtrees\u001B[49m\u001B[43m)\u001B[49m\u001B[43m,\u001B[49m\n\u001B[0;32m    469\u001B[0m \u001B[43m        \u001B[49m\u001B[43mverbose\u001B[49m\u001B[38;5;241;43m=\u001B[39;49m\u001B[38;5;28;43mself\u001B[39;49m\u001B[38;5;241;43m.\u001B[39;49m\u001B[43mverbose\u001B[49m\u001B[43m,\u001B[49m\n\u001B[0;32m    470\u001B[0m \u001B[43m        \u001B[49m\u001B[43mclass_weight\u001B[49m\u001B[38;5;241;43m=\u001B[39;49m\u001B[38;5;28;43mself\u001B[39;49m\u001B[38;5;241;43m.\u001B[39;49m\u001B[43mclass_weight\u001B[49m\u001B[43m,\u001B[49m\n\u001B[0;32m    471\u001B[0m \u001B[43m        \u001B[49m\u001B[43mn_samples_bootstrap\u001B[49m\u001B[38;5;241;43m=\u001B[39;49m\u001B[43mn_samples_bootstrap\u001B[49m\u001B[43m,\u001B[49m\n\u001B[0;32m    472\u001B[0m \u001B[43m    \u001B[49m\u001B[43m)\u001B[49m\n\u001B[0;32m    473\u001B[0m \u001B[43m    \u001B[49m\u001B[38;5;28;43;01mfor\u001B[39;49;00m\u001B[43m \u001B[49m\u001B[43mi\u001B[49m\u001B[43m,\u001B[49m\u001B[43m \u001B[49m\u001B[43mt\u001B[49m\u001B[43m \u001B[49m\u001B[38;5;129;43;01min\u001B[39;49;00m\u001B[43m \u001B[49m\u001B[38;5;28;43menumerate\u001B[39;49m\u001B[43m(\u001B[49m\u001B[43mtrees\u001B[49m\u001B[43m)\u001B[49m\n\u001B[0;32m    474\u001B[0m \u001B[43m\u001B[49m\u001B[43m)\u001B[49m\n\u001B[0;32m    476\u001B[0m \u001B[38;5;66;03m# Collect newly grown trees\u001B[39;00m\n\u001B[0;32m    477\u001B[0m \u001B[38;5;28mself\u001B[39m\u001B[38;5;241m.\u001B[39mestimators_\u001B[38;5;241m.\u001B[39mextend(trees)\n",
      "File \u001B[1;32m~\\.conda\\envs\\project-tpot-38\\lib\\site-packages\\sklearn\\utils\\parallel.py:65\u001B[0m, in \u001B[0;36mParallel.__call__\u001B[1;34m(self, iterable)\u001B[0m\n\u001B[0;32m     60\u001B[0m config \u001B[38;5;241m=\u001B[39m get_config()\n\u001B[0;32m     61\u001B[0m iterable_with_config \u001B[38;5;241m=\u001B[39m (\n\u001B[0;32m     62\u001B[0m     (_with_config(delayed_func, config), args, kwargs)\n\u001B[0;32m     63\u001B[0m     \u001B[38;5;28;01mfor\u001B[39;00m delayed_func, args, kwargs \u001B[38;5;129;01min\u001B[39;00m iterable\n\u001B[0;32m     64\u001B[0m )\n\u001B[1;32m---> 65\u001B[0m \u001B[38;5;28;01mreturn\u001B[39;00m \u001B[38;5;28;43msuper\u001B[39;49m\u001B[43m(\u001B[49m\u001B[43m)\u001B[49m\u001B[38;5;241;43m.\u001B[39;49m\u001B[38;5;21;43m__call__\u001B[39;49m\u001B[43m(\u001B[49m\u001B[43miterable_with_config\u001B[49m\u001B[43m)\u001B[49m\n",
      "File \u001B[1;32m~\\.conda\\envs\\project-tpot-38\\lib\\site-packages\\joblib\\parallel.py:1863\u001B[0m, in \u001B[0;36mParallel.__call__\u001B[1;34m(self, iterable)\u001B[0m\n\u001B[0;32m   1861\u001B[0m     output \u001B[38;5;241m=\u001B[39m \u001B[38;5;28mself\u001B[39m\u001B[38;5;241m.\u001B[39m_get_sequential_output(iterable)\n\u001B[0;32m   1862\u001B[0m     \u001B[38;5;28mnext\u001B[39m(output)\n\u001B[1;32m-> 1863\u001B[0m     \u001B[38;5;28;01mreturn\u001B[39;00m output \u001B[38;5;28;01mif\u001B[39;00m \u001B[38;5;28mself\u001B[39m\u001B[38;5;241m.\u001B[39mreturn_generator \u001B[38;5;28;01melse\u001B[39;00m \u001B[38;5;28;43mlist\u001B[39;49m\u001B[43m(\u001B[49m\u001B[43moutput\u001B[49m\u001B[43m)\u001B[49m\n\u001B[0;32m   1865\u001B[0m \u001B[38;5;66;03m# Let's create an ID that uniquely identifies the current call. If the\u001B[39;00m\n\u001B[0;32m   1866\u001B[0m \u001B[38;5;66;03m# call is interrupted early and that the same instance is immediately\u001B[39;00m\n\u001B[0;32m   1867\u001B[0m \u001B[38;5;66;03m# re-used, this id will be used to prevent workers that were\u001B[39;00m\n\u001B[0;32m   1868\u001B[0m \u001B[38;5;66;03m# concurrently finalizing a task from the previous call to run the\u001B[39;00m\n\u001B[0;32m   1869\u001B[0m \u001B[38;5;66;03m# callback.\u001B[39;00m\n\u001B[0;32m   1870\u001B[0m \u001B[38;5;28;01mwith\u001B[39;00m \u001B[38;5;28mself\u001B[39m\u001B[38;5;241m.\u001B[39m_lock:\n",
      "File \u001B[1;32m~\\.conda\\envs\\project-tpot-38\\lib\\site-packages\\joblib\\parallel.py:1792\u001B[0m, in \u001B[0;36mParallel._get_sequential_output\u001B[1;34m(self, iterable)\u001B[0m\n\u001B[0;32m   1790\u001B[0m \u001B[38;5;28mself\u001B[39m\u001B[38;5;241m.\u001B[39mn_dispatched_batches \u001B[38;5;241m+\u001B[39m\u001B[38;5;241m=\u001B[39m \u001B[38;5;241m1\u001B[39m\n\u001B[0;32m   1791\u001B[0m \u001B[38;5;28mself\u001B[39m\u001B[38;5;241m.\u001B[39mn_dispatched_tasks \u001B[38;5;241m+\u001B[39m\u001B[38;5;241m=\u001B[39m \u001B[38;5;241m1\u001B[39m\n\u001B[1;32m-> 1792\u001B[0m res \u001B[38;5;241m=\u001B[39m \u001B[43mfunc\u001B[49m\u001B[43m(\u001B[49m\u001B[38;5;241;43m*\u001B[39;49m\u001B[43margs\u001B[49m\u001B[43m,\u001B[49m\u001B[43m \u001B[49m\u001B[38;5;241;43m*\u001B[39;49m\u001B[38;5;241;43m*\u001B[39;49m\u001B[43mkwargs\u001B[49m\u001B[43m)\u001B[49m\n\u001B[0;32m   1793\u001B[0m \u001B[38;5;28mself\u001B[39m\u001B[38;5;241m.\u001B[39mn_completed_tasks \u001B[38;5;241m+\u001B[39m\u001B[38;5;241m=\u001B[39m \u001B[38;5;241m1\u001B[39m\n\u001B[0;32m   1794\u001B[0m \u001B[38;5;28mself\u001B[39m\u001B[38;5;241m.\u001B[39mprint_progress()\n",
      "File \u001B[1;32m~\\.conda\\envs\\project-tpot-38\\lib\\site-packages\\sklearn\\utils\\parallel.py:127\u001B[0m, in \u001B[0;36m_FuncWrapper.__call__\u001B[1;34m(self, *args, **kwargs)\u001B[0m\n\u001B[0;32m    125\u001B[0m     config \u001B[38;5;241m=\u001B[39m {}\n\u001B[0;32m    126\u001B[0m \u001B[38;5;28;01mwith\u001B[39;00m config_context(\u001B[38;5;241m*\u001B[39m\u001B[38;5;241m*\u001B[39mconfig):\n\u001B[1;32m--> 127\u001B[0m     \u001B[38;5;28;01mreturn\u001B[39;00m \u001B[38;5;28;43mself\u001B[39;49m\u001B[38;5;241;43m.\u001B[39;49m\u001B[43mfunction\u001B[49m\u001B[43m(\u001B[49m\u001B[38;5;241;43m*\u001B[39;49m\u001B[43margs\u001B[49m\u001B[43m,\u001B[49m\u001B[43m \u001B[49m\u001B[38;5;241;43m*\u001B[39;49m\u001B[38;5;241;43m*\u001B[39;49m\u001B[43mkwargs\u001B[49m\u001B[43m)\u001B[49m\n",
      "File \u001B[1;32m~\\.conda\\envs\\project-tpot-38\\lib\\site-packages\\sklearn\\ensemble\\_forest.py:188\u001B[0m, in \u001B[0;36m_parallel_build_trees\u001B[1;34m(tree, bootstrap, X, y, sample_weight, tree_idx, n_trees, verbose, class_weight, n_samples_bootstrap)\u001B[0m\n\u001B[0;32m    185\u001B[0m     \u001B[38;5;28;01melif\u001B[39;00m class_weight \u001B[38;5;241m==\u001B[39m \u001B[38;5;124m\"\u001B[39m\u001B[38;5;124mbalanced_subsample\u001B[39m\u001B[38;5;124m\"\u001B[39m:\n\u001B[0;32m    186\u001B[0m         curr_sample_weight \u001B[38;5;241m*\u001B[39m\u001B[38;5;241m=\u001B[39m compute_sample_weight(\u001B[38;5;124m\"\u001B[39m\u001B[38;5;124mbalanced\u001B[39m\u001B[38;5;124m\"\u001B[39m, y, indices\u001B[38;5;241m=\u001B[39mindices)\n\u001B[1;32m--> 188\u001B[0m     \u001B[43mtree\u001B[49m\u001B[38;5;241;43m.\u001B[39;49m\u001B[43mfit\u001B[49m\u001B[43m(\u001B[49m\u001B[43mX\u001B[49m\u001B[43m,\u001B[49m\u001B[43m \u001B[49m\u001B[43my\u001B[49m\u001B[43m,\u001B[49m\u001B[43m \u001B[49m\u001B[43msample_weight\u001B[49m\u001B[38;5;241;43m=\u001B[39;49m\u001B[43mcurr_sample_weight\u001B[49m\u001B[43m,\u001B[49m\u001B[43m \u001B[49m\u001B[43mcheck_input\u001B[49m\u001B[38;5;241;43m=\u001B[39;49m\u001B[38;5;28;43;01mFalse\u001B[39;49;00m\u001B[43m)\u001B[49m\n\u001B[0;32m    189\u001B[0m \u001B[38;5;28;01melse\u001B[39;00m:\n\u001B[0;32m    190\u001B[0m     tree\u001B[38;5;241m.\u001B[39mfit(X, y, sample_weight\u001B[38;5;241m=\u001B[39msample_weight, check_input\u001B[38;5;241m=\u001B[39m\u001B[38;5;28;01mFalse\u001B[39;00m)\n",
      "File \u001B[1;32m~\\.conda\\envs\\project-tpot-38\\lib\\site-packages\\sklearn\\base.py:1152\u001B[0m, in \u001B[0;36m_fit_context.<locals>.decorator.<locals>.wrapper\u001B[1;34m(estimator, *args, **kwargs)\u001B[0m\n\u001B[0;32m   1145\u001B[0m     estimator\u001B[38;5;241m.\u001B[39m_validate_params()\n\u001B[0;32m   1147\u001B[0m \u001B[38;5;28;01mwith\u001B[39;00m config_context(\n\u001B[0;32m   1148\u001B[0m     skip_parameter_validation\u001B[38;5;241m=\u001B[39m(\n\u001B[0;32m   1149\u001B[0m         prefer_skip_nested_validation \u001B[38;5;129;01mor\u001B[39;00m global_skip_validation\n\u001B[0;32m   1150\u001B[0m     )\n\u001B[0;32m   1151\u001B[0m ):\n\u001B[1;32m-> 1152\u001B[0m     \u001B[38;5;28;01mreturn\u001B[39;00m \u001B[43mfit_method\u001B[49m\u001B[43m(\u001B[49m\u001B[43mestimator\u001B[49m\u001B[43m,\u001B[49m\u001B[43m \u001B[49m\u001B[38;5;241;43m*\u001B[39;49m\u001B[43margs\u001B[49m\u001B[43m,\u001B[49m\u001B[43m \u001B[49m\u001B[38;5;241;43m*\u001B[39;49m\u001B[38;5;241;43m*\u001B[39;49m\u001B[43mkwargs\u001B[49m\u001B[43m)\u001B[49m\n",
      "File \u001B[1;32m~\\.conda\\envs\\project-tpot-38\\lib\\site-packages\\sklearn\\tree\\_classes.py:1320\u001B[0m, in \u001B[0;36mDecisionTreeRegressor.fit\u001B[1;34m(self, X, y, sample_weight, check_input)\u001B[0m\n\u001B[0;32m   1290\u001B[0m \u001B[38;5;129m@_fit_context\u001B[39m(prefer_skip_nested_validation\u001B[38;5;241m=\u001B[39m\u001B[38;5;28;01mTrue\u001B[39;00m)\n\u001B[0;32m   1291\u001B[0m \u001B[38;5;28;01mdef\u001B[39;00m \u001B[38;5;21mfit\u001B[39m(\u001B[38;5;28mself\u001B[39m, X, y, sample_weight\u001B[38;5;241m=\u001B[39m\u001B[38;5;28;01mNone\u001B[39;00m, check_input\u001B[38;5;241m=\u001B[39m\u001B[38;5;28;01mTrue\u001B[39;00m):\n\u001B[0;32m   1292\u001B[0m \u001B[38;5;250m    \u001B[39m\u001B[38;5;124;03m\"\"\"Build a decision tree regressor from the training set (X, y).\u001B[39;00m\n\u001B[0;32m   1293\u001B[0m \n\u001B[0;32m   1294\u001B[0m \u001B[38;5;124;03m    Parameters\u001B[39;00m\n\u001B[1;32m   (...)\u001B[0m\n\u001B[0;32m   1317\u001B[0m \u001B[38;5;124;03m        Fitted estimator.\u001B[39;00m\n\u001B[0;32m   1318\u001B[0m \u001B[38;5;124;03m    \"\"\"\u001B[39;00m\n\u001B[1;32m-> 1320\u001B[0m     \u001B[38;5;28;43msuper\u001B[39;49m\u001B[43m(\u001B[49m\u001B[43m)\u001B[49m\u001B[38;5;241;43m.\u001B[39;49m\u001B[43m_fit\u001B[49m\u001B[43m(\u001B[49m\n\u001B[0;32m   1321\u001B[0m \u001B[43m        \u001B[49m\u001B[43mX\u001B[49m\u001B[43m,\u001B[49m\n\u001B[0;32m   1322\u001B[0m \u001B[43m        \u001B[49m\u001B[43my\u001B[49m\u001B[43m,\u001B[49m\n\u001B[0;32m   1323\u001B[0m \u001B[43m        \u001B[49m\u001B[43msample_weight\u001B[49m\u001B[38;5;241;43m=\u001B[39;49m\u001B[43msample_weight\u001B[49m\u001B[43m,\u001B[49m\n\u001B[0;32m   1324\u001B[0m \u001B[43m        \u001B[49m\u001B[43mcheck_input\u001B[49m\u001B[38;5;241;43m=\u001B[39;49m\u001B[43mcheck_input\u001B[49m\u001B[43m,\u001B[49m\n\u001B[0;32m   1325\u001B[0m \u001B[43m    \u001B[49m\u001B[43m)\u001B[49m\n\u001B[0;32m   1326\u001B[0m     \u001B[38;5;28;01mreturn\u001B[39;00m \u001B[38;5;28mself\u001B[39m\n",
      "File \u001B[1;32m~\\.conda\\envs\\project-tpot-38\\lib\\site-packages\\sklearn\\tree\\_classes.py:443\u001B[0m, in \u001B[0;36mBaseDecisionTree._fit\u001B[1;34m(self, X, y, sample_weight, check_input, missing_values_in_feature_mask)\u001B[0m\n\u001B[0;32m    432\u001B[0m \u001B[38;5;28;01melse\u001B[39;00m:\n\u001B[0;32m    433\u001B[0m     builder \u001B[38;5;241m=\u001B[39m BestFirstTreeBuilder(\n\u001B[0;32m    434\u001B[0m         splitter,\n\u001B[0;32m    435\u001B[0m         min_samples_split,\n\u001B[1;32m   (...)\u001B[0m\n\u001B[0;32m    440\u001B[0m         \u001B[38;5;28mself\u001B[39m\u001B[38;5;241m.\u001B[39mmin_impurity_decrease,\n\u001B[0;32m    441\u001B[0m     )\n\u001B[1;32m--> 443\u001B[0m \u001B[43mbuilder\u001B[49m\u001B[38;5;241;43m.\u001B[39;49m\u001B[43mbuild\u001B[49m\u001B[43m(\u001B[49m\u001B[38;5;28;43mself\u001B[39;49m\u001B[38;5;241;43m.\u001B[39;49m\u001B[43mtree_\u001B[49m\u001B[43m,\u001B[49m\u001B[43m \u001B[49m\u001B[43mX\u001B[49m\u001B[43m,\u001B[49m\u001B[43m \u001B[49m\u001B[43my\u001B[49m\u001B[43m,\u001B[49m\u001B[43m \u001B[49m\u001B[43msample_weight\u001B[49m\u001B[43m,\u001B[49m\u001B[43m \u001B[49m\u001B[43mmissing_values_in_feature_mask\u001B[49m\u001B[43m)\u001B[49m\n\u001B[0;32m    445\u001B[0m \u001B[38;5;28;01mif\u001B[39;00m \u001B[38;5;28mself\u001B[39m\u001B[38;5;241m.\u001B[39mn_outputs_ \u001B[38;5;241m==\u001B[39m \u001B[38;5;241m1\u001B[39m \u001B[38;5;129;01mand\u001B[39;00m is_classifier(\u001B[38;5;28mself\u001B[39m):\n\u001B[0;32m    446\u001B[0m     \u001B[38;5;28mself\u001B[39m\u001B[38;5;241m.\u001B[39mn_classes_ \u001B[38;5;241m=\u001B[39m \u001B[38;5;28mself\u001B[39m\u001B[38;5;241m.\u001B[39mn_classes_[\u001B[38;5;241m0\u001B[39m]\n",
      "\u001B[1;31mKeyboardInterrupt\u001B[0m: "
     ]
    }
   ],
   "source": [
    "from sklearn.ensemble import RandomForestRegressor\n",
    "from sklearn.preprocessing import LabelEncoder\n",
    "\n",
    "# Encode categorical features\n",
    "label_encoders = {}\n",
    "train_set = data.copy()\n",
    "print(f\"encoding {train_set.select_dtypes(include=['object']).columns}\")\n",
    "for column in train_set.select_dtypes(include=['object']).columns:\n",
    "    label_encoders[column] = LabelEncoder()\n",
    "    train_set[column] = label_encoders[column].fit_transform(train_set[column])\n",
    "\n",
    "# Separate features and target variable\n",
    "X = train_set.drop('monthly_rent', axis=1)\n",
    "y = train_set['monthly_rent']\n",
    "\n",
    "# Initialize random forest regressor\n",
    "rf = RandomForestRegressor(n_estimators=100, random_state=42)\n",
    "\n",
    "# Fit the model\n",
    "rf.fit(X, y)\n",
    "\n",
    "# Get feature importances\n",
    "feature_importances = rf.feature_importances_\n",
    "\n",
    "# Map feature importances to their corresponding column names\n",
    "feature_importance_dict = dict(zip(X.columns, feature_importances))\n",
    "\n",
    "# Sort the feature importances in descending order\n",
    "sorted_feature_importances = dict(sorted(feature_importance_dict.items(), key=lambda item: item[1], reverse=True))\n",
    "\n",
    "sorted_feature_importances"
   ],
   "metadata": {
    "collapsed": false,
    "ExecuteTime": {
     "end_time": "2023-11-05T07:59:03.347005300Z",
     "start_time": "2023-11-05T07:58:24.813459300Z"
    }
   },
   "id": "59aee8160cc699e9"
  },
  {
   "cell_type": "code",
   "execution_count": null,
   "outputs": [],
   "source": [
    "# Drop 'flat_model' as we have a more correlated feature 'flat_type'\n",
    "data.drop(columns=['flat_model'], inplace=True)\n",
    "\n",
    "# Drop 'region' as it is not a useful feature, although 'town' is a less correlated feature, we will be using that to tag schools(top schools) to a region\n",
    "data.drop(columns=['region'], inplace=True)\n",
    "\n",
    "data.head()"
   ],
   "metadata": {
    "collapsed": false,
    "ExecuteTime": {
     "end_time": "2023-11-05T07:59:03.350004200Z",
     "start_time": "2023-11-05T07:59:03.350004200Z"
    }
   },
   "id": "29919df79d359f9f"
  },
  {
   "cell_type": "code",
   "execution_count": null,
   "outputs": [],
   "source": [
    "# Load the datasets\n",
    "file_path_ranking = './Datasets/auxiliary-data/sg-primary-schools_2022_ranking.csv'\n",
    "file_path_schools = './Datasets/auxiliary-data/sg-primary-schools.csv'\n",
    "\n",
    "# Read the school ranking data\n",
    "school_ranking_data = pd.read_csv(file_path_ranking)\n",
    "# Read the general primary schools data\n",
    "primary_schools_data = pd.read_csv(file_path_schools)\n",
    "\n",
    "# Display the first few rows of both dataframes\n",
    "school_ranking_data.head(), primary_schools_data.head()"
   ],
   "metadata": {
    "collapsed": false,
    "ExecuteTime": {
     "end_time": "2023-11-05T07:59:03.359005Z",
     "start_time": "2023-11-05T07:59:03.352002600Z"
    }
   },
   "id": "50bc5849e142b5e6"
  },
  {
   "cell_type": "code",
   "execution_count": null,
   "outputs": [],
   "source": [
    "# Correctly merging the ranking data with the primary schools data\n",
    "merged_schools_data_corrected = primary_schools_data.merge(school_ranking_data,\n",
    "                                                           left_on='name',\n",
    "                                                           right_on='School Name',\n",
    "                                                           how='left')\n",
    "\n",
    "# Schools that are missing from the ranking list (where Rank is NaN)\n",
    "missing_schools_corrected = merged_schools_data_corrected[merged_schools_data_corrected['Rank'].isna()].copy()\n",
    "\n",
    "# Assign the next available ranks to the missing schools\n",
    "next_rank_corrected = school_ranking_data['Rank'].max() + 1\n",
    "missing_schools_corrected['Rank'] = range(next_rank_corrected, next_rank_corrected + len(missing_schools_corrected))\n",
    "missing_schools_corrected['School Name'] = missing_schools_corrected['name']\n",
    "\n",
    "# Append the missing schools with their new ranks to the school ranking data\n",
    "final_school_ranking_data_corrected = pd.concat(\n",
    "    [school_ranking_data, missing_schools_corrected[['School Name', 'Rank']]])\n",
    "\n",
    "# Sort by Rank to integrate the newly added schools\n",
    "final_school_ranking_data_corrected = final_school_ranking_data_corrected.sort_values(by='Rank').reset_index(drop=True)\n",
    "\n",
    "# Add latitude and longitude for all schools\n",
    "final_school_ranking_with_location = final_school_ranking_data_corrected.merge(\n",
    "    primary_schools_data, left_on='School Name', right_on='name', how='left')\n",
    "\n",
    "# Select relevant columns to display\n",
    "final_schools_data_to_display = final_school_ranking_with_location[\n",
    "    ['Rank', 'School Name', 'latitude', 'longitude']\n",
    "]\n",
    "\n",
    "# Display the schools that were missing and their assigned ranks, and the first few rows of the final ranking with location\n",
    "missing_schools_corrected[['name', 'Rank', 'latitude', 'longitude']], final_schools_data_to_display.head()"
   ],
   "metadata": {
    "collapsed": false,
    "ExecuteTime": {
     "start_time": "2023-11-05T07:59:03.354004300Z"
    }
   },
   "id": "eb3702d7d1aa4dbd"
  },
  {
   "cell_type": "code",
   "execution_count": null,
   "outputs": [],
   "source": [
    "final_school_ranking_with_location.to_csv('./Datasets/auxiliary-data/final_school_ranking_with_location.csv',\n",
    "                                          index=False)"
   ],
   "metadata": {
    "collapsed": false,
    "ExecuteTime": {
     "start_time": "2023-11-05T07:59:03.357005700Z"
    }
   },
   "id": "9dd1622e3c428083"
  },
  {
   "cell_type": "code",
   "execution_count": null,
   "outputs": [],
   "source": [
    "from sklearn.neighbors import BallTree\n",
    "import numpy as np\n",
    "\n",
    "\n",
    "# Function to convert degrees to radians\n",
    "def radians(series):\n",
    "    return np.radians(series)\n",
    "\n",
    "\n",
    "# Create a BallTree object for the towns in the real estate dataset\n",
    "coords_train_set = np.stack((radians(data['latitude']), radians(data['longitude'])), axis=-1)\n",
    "ball_tree = BallTree(coords_train_set, metric='haversine')\n",
    "\n",
    "# Convert school locations to radians for the BallTree query\n",
    "coords_schools = np.stack((radians(final_school_ranking_with_location['latitude']),\n",
    "                           radians(final_school_ranking_with_location['longitude'])), axis=-1)\n",
    "\n",
    "# Find the nearest town for each school\n",
    "distances, indices = ball_tree.query(coords_schools, k=1)\n",
    "final_school_ranking_with_location['nearest_town_index'] = indices.flatten()\n",
    "\n",
    "# Map the nearest town index to the actual town name\n",
    "final_school_ranking_with_location['nearest_town'] = \\\n",
    "data.iloc[final_school_ranking_with_location['nearest_town_index']]['town'].values\n",
    "\n",
    "# Calculate the average school rank for each town\n",
    "average_school_rank_by_town = final_school_ranking_with_location.groupby('nearest_town')['Rank'].mean().reset_index()\n",
    "average_school_rank_by_town.rename(columns={'Rank': 'average_school_rank'}, inplace=True)\n",
    "\n",
    "# Merge the average school rank with the data set\n",
    "data = data.merge(average_school_rank_by_town,\n",
    "                  left_on='town',\n",
    "                  right_on='nearest_town',\n",
    "                  how='left')\n",
    "\n",
    "# Drop the extra 'nearest_town' column as it's redundant\n",
    "data.drop('nearest_town', axis=1, inplace=True)\n",
    "\n",
    "# Display the updated train set with the school rank and the average school ranks by town\n",
    "data[['town', 'average_school_rank']].head(), average_school_rank_by_town.head()"
   ],
   "metadata": {
    "collapsed": false,
    "ExecuteTime": {
     "start_time": "2023-11-05T07:59:03.359005Z"
    }
   },
   "id": "aa2e5c2d415013c3"
  },
  {
   "cell_type": "code",
   "execution_count": null,
   "outputs": [],
   "source": [
    "average_school_rank_by_town.to_csv('./Datasets/auxiliary-data/average_school_rank_by_town.csv', index=False)"
   ],
   "metadata": {
    "collapsed": false,
    "ExecuteTime": {
     "start_time": "2023-11-05T07:59:03.361012900Z"
    }
   },
   "id": "7fb2eda76d78e60a"
  },
  {
   "cell_type": "code",
   "execution_count": 197,
   "outputs": [
    {
     "data": {
      "text/plain": "['town']"
     },
     "execution_count": 197,
     "metadata": {},
     "output_type": "execute_result"
    }
   ],
   "source": [
    "# Identify non-numerical columns\n",
    "categorical_columns = data.select_dtypes(include=['object']).columns.tolist()\n",
    "categorical_columns"
   ],
   "metadata": {
    "collapsed": false,
    "ExecuteTime": {
     "end_time": "2023-11-05T05:58:47.003620800Z",
     "start_time": "2023-11-05T05:58:46.990621600Z"
    }
   },
   "id": "d63a69a62f5aec48"
  },
  {
   "cell_type": "code",
   "execution_count": 198,
   "outputs": [],
   "source": [
    "# drop 'town' as we have already encoded it\n",
    "data.drop(categorical_columns, axis=1, inplace=True)\n",
    "data.to_csv('./Datasets/train_cleaned_110523.csv', index=False)"
   ],
   "metadata": {
    "collapsed": false,
    "ExecuteTime": {
     "end_time": "2023-11-05T05:58:47.889756600Z",
     "start_time": "2023-11-05T05:58:47.007621900Z"
    }
   },
   "id": "ffed5bafb30afaf1"
  },
  {
   "cell_type": "code",
   "execution_count": 199,
   "outputs": [
    {
     "data": {
      "text/plain": "0.864935378264997"
     },
     "execution_count": 199,
     "metadata": {},
     "output_type": "execute_result"
    }
   ],
   "source": [
    "# check the skewness of the distribution\n",
    "skewness = data['monthly_rent'].skew()\n",
    "skewness"
   ],
   "metadata": {
    "collapsed": false,
    "ExecuteTime": {
     "end_time": "2023-11-05T05:58:47.904756700Z",
     "start_time": "2023-11-05T05:58:47.893755Z"
    }
   },
   "id": "960b819ac098980c"
  },
  {
   "cell_type": "code",
   "execution_count": 200,
   "outputs": [
    {
     "ename": "ValueError",
     "evalue": "Multi-dimensional indexing (e.g. `obj[:, None]`) is no longer supported. Convert to a numpy array before indexing instead.",
     "output_type": "error",
     "traceback": [
      "\u001B[1;31m---------------------------------------------------------------------------\u001B[0m",
      "\u001B[1;31mValueError\u001B[0m                                Traceback (most recent call last)",
      "Cell \u001B[1;32mIn[200], line 9\u001B[0m\n\u001B[0;32m      7\u001B[0m plt\u001B[38;5;241m.\u001B[39mxlabel(\u001B[38;5;124m'\u001B[39m\u001B[38;5;124mMonthly Rent\u001B[39m\u001B[38;5;124m'\u001B[39m)\n\u001B[0;32m      8\u001B[0m plt\u001B[38;5;241m.\u001B[39mylabel(\u001B[38;5;124m'\u001B[39m\u001B[38;5;124mFrequency\u001B[39m\u001B[38;5;124m'\u001B[39m)\n\u001B[1;32m----> 9\u001B[0m \u001B[43msns\u001B[49m\u001B[38;5;241;43m.\u001B[39;49m\u001B[43mhistplot\u001B[49m\u001B[43m(\u001B[49m\u001B[43mdata\u001B[49m\u001B[43m[\u001B[49m\u001B[38;5;124;43m'\u001B[39;49m\u001B[38;5;124;43mmonthly_rent\u001B[39;49m\u001B[38;5;124;43m'\u001B[39;49m\u001B[43m]\u001B[49m\u001B[43m,\u001B[49m\u001B[43m \u001B[49m\u001B[43mkde\u001B[49m\u001B[38;5;241;43m=\u001B[39;49m\u001B[38;5;28;43;01mTrue\u001B[39;49;00m\u001B[43m)\u001B[49m\n\u001B[0;32m     10\u001B[0m plt\u001B[38;5;241m.\u001B[39mshow()\n",
      "File \u001B[1;32m~\\.conda\\envs\\project-tpot-38\\lib\\site-packages\\seaborn\\distributions.py:1432\u001B[0m, in \u001B[0;36mhistplot\u001B[1;34m(data, x, y, hue, weights, stat, bins, binwidth, binrange, discrete, cumulative, common_bins, common_norm, multiple, element, fill, shrink, kde, kde_kws, line_kws, thresh, pthresh, pmax, cbar, cbar_ax, cbar_kws, palette, hue_order, hue_norm, color, log_scale, legend, ax, **kwargs)\u001B[0m\n\u001B[0;32m   1421\u001B[0m estimate_kws \u001B[38;5;241m=\u001B[39m \u001B[38;5;28mdict\u001B[39m(\n\u001B[0;32m   1422\u001B[0m     stat\u001B[38;5;241m=\u001B[39mstat,\n\u001B[0;32m   1423\u001B[0m     bins\u001B[38;5;241m=\u001B[39mbins,\n\u001B[1;32m   (...)\u001B[0m\n\u001B[0;32m   1427\u001B[0m     cumulative\u001B[38;5;241m=\u001B[39mcumulative,\n\u001B[0;32m   1428\u001B[0m )\n\u001B[0;32m   1430\u001B[0m \u001B[38;5;28;01mif\u001B[39;00m p\u001B[38;5;241m.\u001B[39munivariate:\n\u001B[1;32m-> 1432\u001B[0m     \u001B[43mp\u001B[49m\u001B[38;5;241;43m.\u001B[39;49m\u001B[43mplot_univariate_histogram\u001B[49m\u001B[43m(\u001B[49m\n\u001B[0;32m   1433\u001B[0m \u001B[43m        \u001B[49m\u001B[43mmultiple\u001B[49m\u001B[38;5;241;43m=\u001B[39;49m\u001B[43mmultiple\u001B[49m\u001B[43m,\u001B[49m\n\u001B[0;32m   1434\u001B[0m \u001B[43m        \u001B[49m\u001B[43melement\u001B[49m\u001B[38;5;241;43m=\u001B[39;49m\u001B[43melement\u001B[49m\u001B[43m,\u001B[49m\n\u001B[0;32m   1435\u001B[0m \u001B[43m        \u001B[49m\u001B[43mfill\u001B[49m\u001B[38;5;241;43m=\u001B[39;49m\u001B[43mfill\u001B[49m\u001B[43m,\u001B[49m\n\u001B[0;32m   1436\u001B[0m \u001B[43m        \u001B[49m\u001B[43mshrink\u001B[49m\u001B[38;5;241;43m=\u001B[39;49m\u001B[43mshrink\u001B[49m\u001B[43m,\u001B[49m\n\u001B[0;32m   1437\u001B[0m \u001B[43m        \u001B[49m\u001B[43mcommon_norm\u001B[49m\u001B[38;5;241;43m=\u001B[39;49m\u001B[43mcommon_norm\u001B[49m\u001B[43m,\u001B[49m\n\u001B[0;32m   1438\u001B[0m \u001B[43m        \u001B[49m\u001B[43mcommon_bins\u001B[49m\u001B[38;5;241;43m=\u001B[39;49m\u001B[43mcommon_bins\u001B[49m\u001B[43m,\u001B[49m\n\u001B[0;32m   1439\u001B[0m \u001B[43m        \u001B[49m\u001B[43mkde\u001B[49m\u001B[38;5;241;43m=\u001B[39;49m\u001B[43mkde\u001B[49m\u001B[43m,\u001B[49m\n\u001B[0;32m   1440\u001B[0m \u001B[43m        \u001B[49m\u001B[43mkde_kws\u001B[49m\u001B[38;5;241;43m=\u001B[39;49m\u001B[43mkde_kws\u001B[49m\u001B[43m,\u001B[49m\n\u001B[0;32m   1441\u001B[0m \u001B[43m        \u001B[49m\u001B[43mcolor\u001B[49m\u001B[38;5;241;43m=\u001B[39;49m\u001B[43mcolor\u001B[49m\u001B[43m,\u001B[49m\n\u001B[0;32m   1442\u001B[0m \u001B[43m        \u001B[49m\u001B[43mlegend\u001B[49m\u001B[38;5;241;43m=\u001B[39;49m\u001B[43mlegend\u001B[49m\u001B[43m,\u001B[49m\n\u001B[0;32m   1443\u001B[0m \u001B[43m        \u001B[49m\u001B[43mestimate_kws\u001B[49m\u001B[38;5;241;43m=\u001B[39;49m\u001B[43mestimate_kws\u001B[49m\u001B[43m,\u001B[49m\n\u001B[0;32m   1444\u001B[0m \u001B[43m        \u001B[49m\u001B[43mline_kws\u001B[49m\u001B[38;5;241;43m=\u001B[39;49m\u001B[43mline_kws\u001B[49m\u001B[43m,\u001B[49m\n\u001B[0;32m   1445\u001B[0m \u001B[43m        \u001B[49m\u001B[38;5;241;43m*\u001B[39;49m\u001B[38;5;241;43m*\u001B[39;49m\u001B[43mkwargs\u001B[49m\u001B[43m,\u001B[49m\n\u001B[0;32m   1446\u001B[0m \u001B[43m    \u001B[49m\u001B[43m)\u001B[49m\n\u001B[0;32m   1448\u001B[0m \u001B[38;5;28;01melse\u001B[39;00m:\n\u001B[0;32m   1450\u001B[0m     p\u001B[38;5;241m.\u001B[39mplot_bivariate_histogram(\n\u001B[0;32m   1451\u001B[0m         common_bins\u001B[38;5;241m=\u001B[39mcommon_bins,\n\u001B[0;32m   1452\u001B[0m         common_norm\u001B[38;5;241m=\u001B[39mcommon_norm,\n\u001B[1;32m   (...)\u001B[0m\n\u001B[0;32m   1462\u001B[0m         \u001B[38;5;241m*\u001B[39m\u001B[38;5;241m*\u001B[39mkwargs,\n\u001B[0;32m   1463\u001B[0m     )\n",
      "File \u001B[1;32m~\\.conda\\envs\\project-tpot-38\\lib\\site-packages\\seaborn\\distributions.py:655\u001B[0m, in \u001B[0;36m_DistributionPlotter.plot_univariate_histogram\u001B[1;34m(self, multiple, element, fill, common_norm, common_bins, shrink, kde, kde_kws, color, legend, line_kws, estimate_kws, **plot_kws)\u001B[0m\n\u001B[0;32m    652\u001B[0m     sticky_x, sticky_y \u001B[38;5;241m=\u001B[39m (\u001B[38;5;241m0\u001B[39m, np\u001B[38;5;241m.\u001B[39minf), \u001B[38;5;28;01mNone\u001B[39;00m\n\u001B[0;32m    654\u001B[0m line_kws[\u001B[38;5;124m\"\u001B[39m\u001B[38;5;124mcolor\u001B[39m\u001B[38;5;124m\"\u001B[39m] \u001B[38;5;241m=\u001B[39m to_rgba(sub_color, \u001B[38;5;241m1\u001B[39m)\n\u001B[1;32m--> 655\u001B[0m line, \u001B[38;5;241m=\u001B[39m \u001B[43max\u001B[49m\u001B[38;5;241;43m.\u001B[39;49m\u001B[43mplot\u001B[49m\u001B[43m(\u001B[49m\n\u001B[0;32m    656\u001B[0m \u001B[43m    \u001B[49m\u001B[38;5;241;43m*\u001B[39;49m\u001B[43mline_args\u001B[49m\u001B[43m,\u001B[49m\u001B[43m \u001B[49m\u001B[38;5;241;43m*\u001B[39;49m\u001B[38;5;241;43m*\u001B[39;49m\u001B[43mline_kws\u001B[49m\u001B[43m,\u001B[49m\n\u001B[0;32m    657\u001B[0m \u001B[43m\u001B[49m\u001B[43m)\u001B[49m\n\u001B[0;32m    659\u001B[0m \u001B[38;5;28;01mif\u001B[39;00m sticky_x \u001B[38;5;129;01mis\u001B[39;00m \u001B[38;5;129;01mnot\u001B[39;00m \u001B[38;5;28;01mNone\u001B[39;00m:\n\u001B[0;32m    660\u001B[0m     line\u001B[38;5;241m.\u001B[39msticky_edges\u001B[38;5;241m.\u001B[39mx[:] \u001B[38;5;241m=\u001B[39m sticky_x\n",
      "File \u001B[1;32m~\\.conda\\envs\\project-tpot-38\\lib\\site-packages\\matplotlib\\axes\\_axes.py:1647\u001B[0m, in \u001B[0;36mAxes.plot\u001B[1;34m(self, scalex, scaley, data, *args, **kwargs)\u001B[0m\n\u001B[0;32m   1416\u001B[0m \u001B[38;5;250m\u001B[39m\u001B[38;5;124;03m\"\"\"\u001B[39;00m\n\u001B[0;32m   1417\u001B[0m \u001B[38;5;124;03mPlot y versus x as lines and/or markers.\u001B[39;00m\n\u001B[0;32m   1418\u001B[0m \n\u001B[1;32m   (...)\u001B[0m\n\u001B[0;32m   1644\u001B[0m \u001B[38;5;124;03m(``'green'``) or hex strings (``'#008000'``).\u001B[39;00m\n\u001B[0;32m   1645\u001B[0m \u001B[38;5;124;03m\"\"\"\u001B[39;00m\n\u001B[0;32m   1646\u001B[0m kwargs \u001B[38;5;241m=\u001B[39m cbook\u001B[38;5;241m.\u001B[39mnormalize_kwargs(kwargs, mlines\u001B[38;5;241m.\u001B[39mLine2D)\n\u001B[1;32m-> 1647\u001B[0m lines \u001B[38;5;241m=\u001B[39m [\u001B[38;5;241m*\u001B[39m\u001B[38;5;28mself\u001B[39m\u001B[38;5;241m.\u001B[39m_get_lines(\u001B[38;5;241m*\u001B[39margs, data\u001B[38;5;241m=\u001B[39mdata, \u001B[38;5;241m*\u001B[39m\u001B[38;5;241m*\u001B[39mkwargs)]\n\u001B[0;32m   1648\u001B[0m \u001B[38;5;28;01mfor\u001B[39;00m line \u001B[38;5;129;01min\u001B[39;00m lines:\n\u001B[0;32m   1649\u001B[0m     \u001B[38;5;28mself\u001B[39m\u001B[38;5;241m.\u001B[39madd_line(line)\n",
      "File \u001B[1;32m~\\.conda\\envs\\project-tpot-38\\lib\\site-packages\\matplotlib\\axes\\_base.py:216\u001B[0m, in \u001B[0;36m_process_plot_var_args.__call__\u001B[1;34m(self, *args, **kwargs)\u001B[0m\n\u001B[0;32m    214\u001B[0m     this \u001B[38;5;241m+\u001B[39m\u001B[38;5;241m=\u001B[39m args[\u001B[38;5;241m0\u001B[39m],\n\u001B[0;32m    215\u001B[0m     args \u001B[38;5;241m=\u001B[39m args[\u001B[38;5;241m1\u001B[39m:]\n\u001B[1;32m--> 216\u001B[0m \u001B[38;5;28;01myield from\u001B[39;00m \u001B[38;5;28;43mself\u001B[39;49m\u001B[38;5;241;43m.\u001B[39;49m\u001B[43m_plot_args\u001B[49m\u001B[43m(\u001B[49m\u001B[43mthis\u001B[49m\u001B[43m,\u001B[49m\u001B[43m \u001B[49m\u001B[43mkwargs\u001B[49m\u001B[43m)\u001B[49m\n",
      "File \u001B[1;32m~\\.conda\\envs\\project-tpot-38\\lib\\site-packages\\matplotlib\\axes\\_base.py:331\u001B[0m, in \u001B[0;36m_process_plot_var_args._plot_args\u001B[1;34m(self, tup, kwargs)\u001B[0m\n\u001B[0;32m    328\u001B[0m         kw[k] \u001B[38;5;241m=\u001B[39m v\n\u001B[0;32m    330\u001B[0m \u001B[38;5;28;01mif\u001B[39;00m \u001B[38;5;28mlen\u001B[39m(tup) \u001B[38;5;241m==\u001B[39m \u001B[38;5;241m2\u001B[39m:\n\u001B[1;32m--> 331\u001B[0m     x \u001B[38;5;241m=\u001B[39m \u001B[43m_check_1d\u001B[49m\u001B[43m(\u001B[49m\u001B[43mtup\u001B[49m\u001B[43m[\u001B[49m\u001B[38;5;241;43m0\u001B[39;49m\u001B[43m]\u001B[49m\u001B[43m)\u001B[49m\n\u001B[0;32m    332\u001B[0m     y \u001B[38;5;241m=\u001B[39m _check_1d(tup[\u001B[38;5;241m-\u001B[39m\u001B[38;5;241m1\u001B[39m])\n\u001B[0;32m    333\u001B[0m \u001B[38;5;28;01melse\u001B[39;00m:\n",
      "File \u001B[1;32m~\\.conda\\envs\\project-tpot-38\\lib\\site-packages\\matplotlib\\cbook\\__init__.py:1349\u001B[0m, in \u001B[0;36m_check_1d\u001B[1;34m(x)\u001B[0m\n\u001B[0;32m   1343\u001B[0m \u001B[38;5;28;01mwith\u001B[39;00m warnings\u001B[38;5;241m.\u001B[39mcatch_warnings(record\u001B[38;5;241m=\u001B[39m\u001B[38;5;28;01mTrue\u001B[39;00m) \u001B[38;5;28;01mas\u001B[39;00m w:\n\u001B[0;32m   1344\u001B[0m     warnings\u001B[38;5;241m.\u001B[39mfilterwarnings(\n\u001B[0;32m   1345\u001B[0m         \u001B[38;5;124m\"\u001B[39m\u001B[38;5;124malways\u001B[39m\u001B[38;5;124m\"\u001B[39m,\n\u001B[0;32m   1346\u001B[0m         category\u001B[38;5;241m=\u001B[39m\u001B[38;5;167;01mDeprecationWarning\u001B[39;00m,\n\u001B[0;32m   1347\u001B[0m         message\u001B[38;5;241m=\u001B[39m\u001B[38;5;124m'\u001B[39m\u001B[38;5;124mSupport for multi-dimensional indexing\u001B[39m\u001B[38;5;124m'\u001B[39m)\n\u001B[1;32m-> 1349\u001B[0m     ndim \u001B[38;5;241m=\u001B[39m \u001B[43mx\u001B[49m\u001B[43m[\u001B[49m\u001B[43m:\u001B[49m\u001B[43m,\u001B[49m\u001B[43m \u001B[49m\u001B[38;5;28;43;01mNone\u001B[39;49;00m\u001B[43m]\u001B[49m\u001B[38;5;241m.\u001B[39mndim\n\u001B[0;32m   1350\u001B[0m     \u001B[38;5;66;03m# we have definitely hit a pandas index or series object\u001B[39;00m\n\u001B[0;32m   1351\u001B[0m     \u001B[38;5;66;03m# cast to a numpy array.\u001B[39;00m\n\u001B[0;32m   1352\u001B[0m     \u001B[38;5;28;01mif\u001B[39;00m \u001B[38;5;28mlen\u001B[39m(w) \u001B[38;5;241m>\u001B[39m \u001B[38;5;241m0\u001B[39m:\n",
      "File \u001B[1;32m~\\.conda\\envs\\project-tpot-38\\lib\\site-packages\\pandas\\core\\indexes\\base.py:5199\u001B[0m, in \u001B[0;36mIndex.__getitem__\u001B[1;34m(self, key)\u001B[0m\n\u001B[0;32m   5197\u001B[0m \u001B[38;5;66;03m# Because we ruled out integer above, we always get an arraylike here\u001B[39;00m\n\u001B[0;32m   5198\u001B[0m \u001B[38;5;28;01mif\u001B[39;00m result\u001B[38;5;241m.\u001B[39mndim \u001B[38;5;241m>\u001B[39m \u001B[38;5;241m1\u001B[39m:\n\u001B[1;32m-> 5199\u001B[0m     \u001B[43mdisallow_ndim_indexing\u001B[49m\u001B[43m(\u001B[49m\u001B[43mresult\u001B[49m\u001B[43m)\u001B[49m\n\u001B[0;32m   5201\u001B[0m \u001B[38;5;66;03m# NB: Using _constructor._simple_new would break if MultiIndex\u001B[39;00m\n\u001B[0;32m   5202\u001B[0m \u001B[38;5;66;03m#  didn't override __getitem__\u001B[39;00m\n\u001B[0;32m   5203\u001B[0m \u001B[38;5;28;01mreturn\u001B[39;00m \u001B[38;5;28mself\u001B[39m\u001B[38;5;241m.\u001B[39m_constructor\u001B[38;5;241m.\u001B[39m_simple_new(result, name\u001B[38;5;241m=\u001B[39m\u001B[38;5;28mself\u001B[39m\u001B[38;5;241m.\u001B[39m_name)\n",
      "File \u001B[1;32m~\\.conda\\envs\\project-tpot-38\\lib\\site-packages\\pandas\\core\\indexers\\utils.py:343\u001B[0m, in \u001B[0;36mdisallow_ndim_indexing\u001B[1;34m(result)\u001B[0m\n\u001B[0;32m    335\u001B[0m \u001B[38;5;250m\u001B[39m\u001B[38;5;124;03m\"\"\"\u001B[39;00m\n\u001B[0;32m    336\u001B[0m \u001B[38;5;124;03mHelper function to disallow multi-dimensional indexing on 1D Series/Index.\u001B[39;00m\n\u001B[0;32m    337\u001B[0m \n\u001B[1;32m   (...)\u001B[0m\n\u001B[0;32m    340\u001B[0m \u001B[38;5;124;03min GH#30588.\u001B[39;00m\n\u001B[0;32m    341\u001B[0m \u001B[38;5;124;03m\"\"\"\u001B[39;00m\n\u001B[0;32m    342\u001B[0m \u001B[38;5;28;01mif\u001B[39;00m np\u001B[38;5;241m.\u001B[39mndim(result) \u001B[38;5;241m>\u001B[39m \u001B[38;5;241m1\u001B[39m:\n\u001B[1;32m--> 343\u001B[0m     \u001B[38;5;28;01mraise\u001B[39;00m \u001B[38;5;167;01mValueError\u001B[39;00m(\n\u001B[0;32m    344\u001B[0m         \u001B[38;5;124m\"\u001B[39m\u001B[38;5;124mMulti-dimensional indexing (e.g. `obj[:, None]`) is no longer \u001B[39m\u001B[38;5;124m\"\u001B[39m\n\u001B[0;32m    345\u001B[0m         \u001B[38;5;124m\"\u001B[39m\u001B[38;5;124msupported. Convert to a numpy array before indexing instead.\u001B[39m\u001B[38;5;124m\"\u001B[39m\n\u001B[0;32m    346\u001B[0m     )\n",
      "\u001B[1;31mValueError\u001B[0m: Multi-dimensional indexing (e.g. `obj[:, None]`) is no longer supported. Convert to a numpy array before indexing instead."
     ]
    },
    {
     "data": {
      "text/plain": "<Figure size 1000x600 with 1 Axes>",
      "image/png": "[encoded data removed]"
     },
     "metadata": {},
     "output_type": "display_data"
    }
   ],
   "source": [
    "import seaborn as sns\n",
    "import matplotlib.pyplot as plt\n",
    "\n",
    "# Plot the distribution of the target variable 'monthly_rent'\n",
    "plt.figure(figsize=(10, 6))\n",
    "plt.title('Distribution of Monthly Rent')\n",
    "plt.xlabel('Monthly Rent')\n",
    "plt.ylabel('Frequency')\n",
    "sns.histplot(data['monthly_rent'], kde=True)\n",
    "plt.show()"
   ],
   "metadata": {
    "collapsed": false,
    "ExecuteTime": {
     "end_time": "2023-11-05T05:58:48.765462400Z",
     "start_time": "2023-11-05T05:58:47.907756100Z"
    }
   },
   "id": "6056e497a66f9249"
  }
 ],
 "metadata": {
  "kernelspec": {
   "display_name": "Python 3",
   "language": "python",
   "name": "python3"
  },
  "language_info": {
   "codemirror_mode": {
    "name": "ipython",
    "version": 2
   },
   "file_extension": ".py",
   "mimetype": "text/x-python",
   "name": "python",
   "nbconvert_exporter": "python",
   "pygments_lexer": "ipython2",
   "version": "2.7.6"
  }
 },
 "nbformat": 4,
 "nbformat_minor": 5
}
