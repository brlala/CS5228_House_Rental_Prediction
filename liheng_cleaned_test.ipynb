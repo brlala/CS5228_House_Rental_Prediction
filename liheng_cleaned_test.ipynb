{
 "cells": [
  {
   "cell_type": "markdown",
   "source": [
    "https://towardsdatascience.com/predicting-hdb-housing-prices-using-neural-networks-94ab708cccf8"
   ],
   "metadata": {
    "collapsed": false
   },
   "id": "dbd05c555d1740b"
  },
  {
   "cell_type": "code",
   "execution_count": 11,
   "id": "initial_id",
   "metadata": {
    "collapsed": true,
    "ExecuteTime": {
     "end_time": "2023-11-05T07:56:31.843295200Z",
     "start_time": "2023-11-05T07:56:31.752163600Z"
    }
   },
   "outputs": [
    {
     "data": {
      "text/plain": "  rent_approval_date         town block             street_name flat_type  \\\n0            2023-01      hougang   245       hougang street 22    5-room   \n1            2022-09    sembawang   316         sembawang vista    4-room   \n2            2023-07     clementi   708  Clementi West Street 2    4-room   \n3            2021-08  jurong east   351   Jurong East Street 31    3 room   \n4            2022-03  jurong east   305   jurong east street 32    5-room   \n\n       flat_model  floor_area_sqm furnished  lease_commence_date  latitude  \\\n0        improved           121.0       yes                 1984  1.358411   \n1         model a           100.0       yes                 1999  1.446343   \n2  new generation            91.0       yes                 1980  1.305719   \n3         model a            74.0       yes                 1986  1.344832   \n4        improved           121.0       yes                 1983  1.345437   \n\n    longitude  elevation            subzone planning_area             region  \n0  103.891722        0.0      lorong ah soo       hougang  north-east region  \n1  103.820817        0.0  sembawang central     sembawang       north region  \n2  103.762168        0.0      clementi west      clementi        west region  \n3  103.730778        0.0         yuhua west   jurong east        west region  \n4  103.735241        0.0         yuhua west   jurong east        west region  ",
      "text/html": "<div>\n<style scoped>\n    .dataframe tbody tr th:only-of-type {\n        vertical-align: middle;\n    }\n\n    .dataframe tbody tr th {\n        vertical-align: top;\n    }\n\n    .dataframe thead th {\n        text-align: right;\n    }\n</style>\n<table border=\"1\" class=\"dataframe\">\n  <thead>\n    <tr style=\"text-align: right;\">\n      <th></th>\n      <th>rent_approval_date</th>\n      <th>town</th>\n      <th>block</th>\n      <th>street_name</th>\n      <th>flat_type</th>\n      <th>flat_model</th>\n      <th>floor_area_sqm</th>\n      <th>furnished</th>\n      <th>lease_commence_date</th>\n      <th>latitude</th>\n      <th>longitude</th>\n      <th>elevation</th>\n      <th>subzone</th>\n      <th>planning_area</th>\n      <th>region</th>\n    </tr>\n  </thead>\n  <tbody>\n    <tr>\n      <th>0</th>\n      <td>2023-01</td>\n      <td>hougang</td>\n      <td>245</td>\n      <td>hougang street 22</td>\n      <td>5-room</td>\n      <td>improved</td>\n      <td>121.0</td>\n      <td>yes</td>\n      <td>1984</td>\n      <td>1.358411</td>\n      <td>103.891722</td>\n      <td>0.0</td>\n      <td>lorong ah soo</td>\n      <td>hougang</td>\n      <td>north-east region</td>\n    </tr>\n    <tr>\n      <th>1</th>\n      <td>2022-09</td>\n      <td>sembawang</td>\n      <td>316</td>\n      <td>sembawang vista</td>\n      <td>4-room</td>\n      <td>model a</td>\n      <td>100.0</td>\n      <td>yes</td>\n      <td>1999</td>\n      <td>1.446343</td>\n      <td>103.820817</td>\n      <td>0.0</td>\n      <td>sembawang central</td>\n      <td>sembawang</td>\n      <td>north region</td>\n    </tr>\n    <tr>\n      <th>2</th>\n      <td>2023-07</td>\n      <td>clementi</td>\n      <td>708</td>\n      <td>Clementi West Street 2</td>\n      <td>4-room</td>\n      <td>new generation</td>\n      <td>91.0</td>\n      <td>yes</td>\n      <td>1980</td>\n      <td>1.305719</td>\n      <td>103.762168</td>\n      <td>0.0</td>\n      <td>clementi west</td>\n      <td>clementi</td>\n      <td>west region</td>\n    </tr>\n    <tr>\n      <th>3</th>\n      <td>2021-08</td>\n      <td>jurong east</td>\n      <td>351</td>\n      <td>Jurong East Street 31</td>\n      <td>3 room</td>\n      <td>model a</td>\n      <td>74.0</td>\n      <td>yes</td>\n      <td>1986</td>\n      <td>1.344832</td>\n      <td>103.730778</td>\n      <td>0.0</td>\n      <td>yuhua west</td>\n      <td>jurong east</td>\n      <td>west region</td>\n    </tr>\n    <tr>\n      <th>4</th>\n      <td>2022-03</td>\n      <td>jurong east</td>\n      <td>305</td>\n      <td>jurong east street 32</td>\n      <td>5-room</td>\n      <td>improved</td>\n      <td>121.0</td>\n      <td>yes</td>\n      <td>1983</td>\n      <td>1.345437</td>\n      <td>103.735241</td>\n      <td>0.0</td>\n      <td>yuhua west</td>\n      <td>jurong east</td>\n      <td>west region</td>\n    </tr>\n  </tbody>\n</table>\n</div>"
     },
     "execution_count": 11,
     "metadata": {},
     "output_type": "execute_result"
    }
   ],
   "source": [
    "import pandas as pd\n",
    "\n",
    "# Load the training set\n",
    "train_set_path = './Datasets/test.csv'\n",
    "data = pd.read_csv(train_set_path)\n",
    "\n",
    "# Display the first few rows of the training set to understand its structure\n",
    "data.head()"
   ]
  },
  {
   "cell_type": "code",
   "execution_count": 12,
   "outputs": [
    {
     "data": {
      "text/plain": "(          town block             street_name flat_type      flat_model  \\\n 0      hougang   245       hougang street 22    5-room        improved   \n 1    sembawang   316         sembawang vista    4-room         model a   \n 2     clementi   708  Clementi West Street 2    4-room  new generation   \n 3  jurong east   351   Jurong East Street 31    3-room         model a   \n 4  jurong east   305   jurong east street 32    5-room        improved   \n \n    floor_area_sqm  lease_commence_date  latitude   longitude  \\\n 0           121.0                 1984  1.358411  103.891722   \n 1           100.0                 1999  1.446343  103.820817   \n 2            91.0                 1980  1.305719  103.762168   \n 3            74.0                 1986  1.344832  103.730778   \n 4           121.0                 1983  1.345437  103.735241   \n \n              subzone planning_area             region  year  month  \n 0      lorong ah soo       hougang  north-east region  2023      1  \n 1  sembawang central     sembawang       north region  2022      9  \n 2      clementi west      clementi        west region  2023      7  \n 3         yuhua west   jurong east        west region  2021      8  \n 4         yuhua west   jurong east        west region  2022      3  ,\n 1,\n 1)"
     },
     "execution_count": 12,
     "metadata": {},
     "output_type": "execute_result"
    }
   ],
   "source": [
    "# Split the 'rent_approval_date' into 'year' and 'month'\n",
    "data['year'] = data['rent_approval_date'].apply(lambda x: x.split('-')[0]).astype(int)\n",
    "data['month'] = data['rent_approval_date'].apply(lambda x: x.split('-')[1]).astype(int)\n",
    "data = data.drop(columns='rent_approval_date')\n",
    "\n",
    "# Standardize the 'flat_type' column\n",
    "data['flat_type'] = data['flat_type'].str.replace(' ', '-', regex=False)\n",
    "\n",
    "# Check if all values in 'furnished' and 'elevation' columns are the same\n",
    "furnished_unique_values = data['furnished'].nunique()\n",
    "elevation_unique_values = data['elevation'].nunique()\n",
    "\n",
    "# Drop 'furnished' and 'elevation' columns if all values are the same\n",
    "if furnished_unique_values == 1:\n",
    "    data = data.drop(columns='furnished')\n",
    "\n",
    "if elevation_unique_values == 1:\n",
    "    data = data.drop(columns='elevation')\n",
    "\n",
    "# Display the changes to verify\n",
    "data.head(), furnished_unique_values, elevation_unique_values"
   ],
   "metadata": {
    "collapsed": false,
    "ExecuteTime": {
     "end_time": "2023-11-05T07:56:31.960413100Z",
     "start_time": "2023-11-05T07:56:31.833295500Z"
    }
   },
   "id": "5bd298c3bde533d7"
  },
  {
   "cell_type": "code",
   "execution_count": 13,
   "outputs": [
    {
     "data": {
      "text/plain": "          town flat_type      flat_model  floor_area_sqm  lease_commence_date  \\\n0      hougang    5-room        improved           121.0                 1984   \n1    sembawang    4-room         model a           100.0                 1999   \n2     clementi    4-room  new generation            91.0                 1980   \n3  jurong east    3-room         model a            74.0                 1986   \n4  jurong east    5-room        improved           121.0                 1983   \n\n   latitude   longitude             region  year  month  \n0  1.358411  103.891722  north-east region  2023      1  \n1  1.446343  103.820817       north region  2022      9  \n2  1.305719  103.762168        west region  2023      7  \n3  1.344832  103.730778        west region  2021      8  \n4  1.345437  103.735241        west region  2022      3  ",
      "text/html": "<div>\n<style scoped>\n    .dataframe tbody tr th:only-of-type {\n        vertical-align: middle;\n    }\n\n    .dataframe tbody tr th {\n        vertical-align: top;\n    }\n\n    .dataframe thead th {\n        text-align: right;\n    }\n</style>\n<table border=\"1\" class=\"dataframe\">\n  <thead>\n    <tr style=\"text-align: right;\">\n      <th></th>\n      <th>town</th>\n      <th>flat_type</th>\n      <th>flat_model</th>\n      <th>floor_area_sqm</th>\n      <th>lease_commence_date</th>\n      <th>latitude</th>\n      <th>longitude</th>\n      <th>region</th>\n      <th>year</th>\n      <th>month</th>\n    </tr>\n  </thead>\n  <tbody>\n    <tr>\n      <th>0</th>\n      <td>hougang</td>\n      <td>5-room</td>\n      <td>improved</td>\n      <td>121.0</td>\n      <td>1984</td>\n      <td>1.358411</td>\n      <td>103.891722</td>\n      <td>north-east region</td>\n      <td>2023</td>\n      <td>1</td>\n    </tr>\n    <tr>\n      <th>1</th>\n      <td>sembawang</td>\n      <td>4-room</td>\n      <td>model a</td>\n      <td>100.0</td>\n      <td>1999</td>\n      <td>1.446343</td>\n      <td>103.820817</td>\n      <td>north region</td>\n      <td>2022</td>\n      <td>9</td>\n    </tr>\n    <tr>\n      <th>2</th>\n      <td>clementi</td>\n      <td>4-room</td>\n      <td>new generation</td>\n      <td>91.0</td>\n      <td>1980</td>\n      <td>1.305719</td>\n      <td>103.762168</td>\n      <td>west region</td>\n      <td>2023</td>\n      <td>7</td>\n    </tr>\n    <tr>\n      <th>3</th>\n      <td>jurong east</td>\n      <td>3-room</td>\n      <td>model a</td>\n      <td>74.0</td>\n      <td>1986</td>\n      <td>1.344832</td>\n      <td>103.730778</td>\n      <td>west region</td>\n      <td>2021</td>\n      <td>8</td>\n    </tr>\n    <tr>\n      <th>4</th>\n      <td>jurong east</td>\n      <td>5-room</td>\n      <td>improved</td>\n      <td>121.0</td>\n      <td>1983</td>\n      <td>1.345437</td>\n      <td>103.735241</td>\n      <td>west region</td>\n      <td>2022</td>\n      <td>3</td>\n    </tr>\n  </tbody>\n</table>\n</div>"
     },
     "execution_count": 13,
     "metadata": {},
     "output_type": "execute_result"
    }
   ],
   "source": [
    "# Dropping planning area as there is already a redundant column town which is slightly more general\n",
    "data.drop(columns=['planning_area'], inplace=True)\n",
    "\n",
    "# Dropping subzone as it is too granular and does not generalize well enough\n",
    "data.drop(columns=['subzone', 'block', 'street_name'], inplace=True)\n",
    "\n",
    "data.head()"
   ],
   "metadata": {
    "collapsed": false,
    "ExecuteTime": {
     "end_time": "2023-11-05T07:56:32.005580800Z",
     "start_time": "2023-11-05T07:56:31.905415400Z"
    }
   },
   "id": "42d8da429b8aa980"
  },
  {
   "cell_type": "code",
   "execution_count": 14,
   "outputs": [
    {
     "data": {
      "text/plain": "   flat_type\n0          4\n1          3\n2          3\n3          2\n4          4",
      "text/html": "<div>\n<style scoped>\n    .dataframe tbody tr th:only-of-type {\n        vertical-align: middle;\n    }\n\n    .dataframe tbody tr th {\n        vertical-align: top;\n    }\n\n    .dataframe thead th {\n        text-align: right;\n    }\n</style>\n<table border=\"1\" class=\"dataframe\">\n  <thead>\n    <tr style=\"text-align: right;\">\n      <th></th>\n      <th>flat_type</th>\n    </tr>\n  </thead>\n  <tbody>\n    <tr>\n      <th>0</th>\n      <td>4</td>\n    </tr>\n    <tr>\n      <th>1</th>\n      <td>3</td>\n    </tr>\n    <tr>\n      <th>2</th>\n      <td>3</td>\n    </tr>\n    <tr>\n      <th>3</th>\n      <td>2</td>\n    </tr>\n    <tr>\n      <th>4</th>\n      <td>4</td>\n    </tr>\n  </tbody>\n</table>\n</div>"
     },
     "execution_count": 14,
     "metadata": {},
     "output_type": "execute_result"
    }
   ],
   "source": [
    "# Define the ordinal mapping for flat_type\n",
    "flat_type_mapping = {\n",
    "    '1-room': 0,\n",
    "    '2-room': 1,\n",
    "    '3-room': 2,\n",
    "    '4-room': 3,\n",
    "    '5-room': 4,\n",
    "    'executive': 5\n",
    "}\n",
    "\n",
    "# Apply the ordinal encoding to flat_type\n",
    "data['flat_type'] = data['flat_type'].map(flat_type_mapping)\n",
    "\n",
    "# Display the first few rows to confirm the change\n",
    "data[['flat_type']].head()"
   ],
   "metadata": {
    "collapsed": false,
    "ExecuteTime": {
     "end_time": "2023-11-05T07:56:32.016580400Z",
     "start_time": "2023-11-05T07:56:31.937413900Z"
    }
   },
   "id": "f5ddef6c3ab59d71"
  },
  {
   "cell_type": "code",
   "execution_count": 15,
   "outputs": [
    {
     "data": {
      "text/plain": "   year  month  resale_price_index\n0  2023      1               173.6\n1  2022      9               168.1\n2  2023      7               178.5\n3  2021      8               150.6\n4  2022      3               159.5",
      "text/html": "<div>\n<style scoped>\n    .dataframe tbody tr th:only-of-type {\n        vertical-align: middle;\n    }\n\n    .dataframe tbody tr th {\n        vertical-align: top;\n    }\n\n    .dataframe thead th {\n        text-align: right;\n    }\n</style>\n<table border=\"1\" class=\"dataframe\">\n  <thead>\n    <tr style=\"text-align: right;\">\n      <th></th>\n      <th>year</th>\n      <th>month</th>\n      <th>resale_price_index</th>\n    </tr>\n  </thead>\n  <tbody>\n    <tr>\n      <th>0</th>\n      <td>2023</td>\n      <td>1</td>\n      <td>173.6</td>\n    </tr>\n    <tr>\n      <th>1</th>\n      <td>2022</td>\n      <td>9</td>\n      <td>168.1</td>\n    </tr>\n    <tr>\n      <th>2</th>\n      <td>2023</td>\n      <td>7</td>\n      <td>178.5</td>\n    </tr>\n    <tr>\n      <th>3</th>\n      <td>2021</td>\n      <td>8</td>\n      <td>150.6</td>\n    </tr>\n    <tr>\n      <th>4</th>\n      <td>2022</td>\n      <td>3</td>\n      <td>159.5</td>\n    </tr>\n  </tbody>\n</table>\n</div>"
     },
     "execution_count": 15,
     "metadata": {},
     "output_type": "execute_result"
    }
   ],
   "source": [
    "# Resale price index data\n",
    "resale_price_index_data = {\n",
    "    (2023, 'I'): 173.6,\n",
    "    (2023, 'II'): 176.2,\n",
    "    (2023, 'III'): 178.5,\n",
    "    (2022, 'I'): 159.5,\n",
    "    (2022, 'II'): 163.9,\n",
    "    (2022, 'III'): 168.1,\n",
    "    (2022, 'IV'): 171.9,\n",
    "    (2021, 'I'): 142.2,\n",
    "    (2021, 'II'): 146.4,\n",
    "    (2021, 'III'): 150.6,\n",
    "    (2021, 'IV'): 155.7\n",
    "}\n",
    "\n",
    "\n",
    "# Function to determine the quarter based on the month\n",
    "def get_quarter(month):\n",
    "    if 1 <= month <= 3:\n",
    "        return 'I'\n",
    "    elif 4 <= month <= 6:\n",
    "        return 'II'\n",
    "    elif 7 <= month <= 9:\n",
    "        return 'III'\n",
    "    else:  # From October to December\n",
    "        return 'IV'\n",
    "\n",
    "\n",
    "# Apply the mapping to the dataset\n",
    "data['resale_price_index'] = data.apply(\n",
    "    lambda row: resale_price_index_data.get((row['year'], get_quarter(row['month']))), axis=1\n",
    ")\n",
    "\n",
    "# Check if the resale price index was successfully encoded\n",
    "data[['year', 'month', 'resale_price_index']].head()"
   ],
   "metadata": {
    "collapsed": false,
    "ExecuteTime": {
     "end_time": "2023-11-05T07:56:32.279811200Z",
     "start_time": "2023-11-05T07:56:31.953415200Z"
    }
   },
   "id": "c137bc3e7d82cfe"
  },
  {
   "cell_type": "markdown",
   "source": [
    "#Determine whether to drop the 'flat_model' column and 'town' column"
   ],
   "metadata": {
    "collapsed": false
   },
   "id": "12659e2525a56713"
  },
  {
   "cell_type": "code",
   "execution_count": 16,
   "outputs": [
    {
     "data": {
      "text/plain": "          town  flat_type  floor_area_sqm  lease_commence_date  latitude  \\\n0      hougang          4           121.0                 1984  1.358411   \n1    sembawang          3           100.0                 1999  1.446343   \n2     clementi          3            91.0                 1980  1.305719   \n3  jurong east          2            74.0                 1986  1.344832   \n4  jurong east          4           121.0                 1983  1.345437   \n\n    longitude  year  month  resale_price_index  \n0  103.891722  2023      1               173.6  \n1  103.820817  2022      9               168.1  \n2  103.762168  2023      7               178.5  \n3  103.730778  2021      8               150.6  \n4  103.735241  2022      3               159.5  ",
      "text/html": "<div>\n<style scoped>\n    .dataframe tbody tr th:only-of-type {\n        vertical-align: middle;\n    }\n\n    .dataframe tbody tr th {\n        vertical-align: top;\n    }\n\n    .dataframe thead th {\n        text-align: right;\n    }\n</style>\n<table border=\"1\" class=\"dataframe\">\n  <thead>\n    <tr style=\"text-align: right;\">\n      <th></th>\n      <th>town</th>\n      <th>flat_type</th>\n      <th>floor_area_sqm</th>\n      <th>lease_commence_date</th>\n      <th>latitude</th>\n      <th>longitude</th>\n      <th>year</th>\n      <th>month</th>\n      <th>resale_price_index</th>\n    </tr>\n  </thead>\n  <tbody>\n    <tr>\n      <th>0</th>\n      <td>hougang</td>\n      <td>4</td>\n      <td>121.0</td>\n      <td>1984</td>\n      <td>1.358411</td>\n      <td>103.891722</td>\n      <td>2023</td>\n      <td>1</td>\n      <td>173.6</td>\n    </tr>\n    <tr>\n      <th>1</th>\n      <td>sembawang</td>\n      <td>3</td>\n      <td>100.0</td>\n      <td>1999</td>\n      <td>1.446343</td>\n      <td>103.820817</td>\n      <td>2022</td>\n      <td>9</td>\n      <td>168.1</td>\n    </tr>\n    <tr>\n      <th>2</th>\n      <td>clementi</td>\n      <td>3</td>\n      <td>91.0</td>\n      <td>1980</td>\n      <td>1.305719</td>\n      <td>103.762168</td>\n      <td>2023</td>\n      <td>7</td>\n      <td>178.5</td>\n    </tr>\n    <tr>\n      <th>3</th>\n      <td>jurong east</td>\n      <td>2</td>\n      <td>74.0</td>\n      <td>1986</td>\n      <td>1.344832</td>\n      <td>103.730778</td>\n      <td>2021</td>\n      <td>8</td>\n      <td>150.6</td>\n    </tr>\n    <tr>\n      <th>4</th>\n      <td>jurong east</td>\n      <td>4</td>\n      <td>121.0</td>\n      <td>1983</td>\n      <td>1.345437</td>\n      <td>103.735241</td>\n      <td>2022</td>\n      <td>3</td>\n      <td>159.5</td>\n    </tr>\n  </tbody>\n</table>\n</div>"
     },
     "execution_count": 16,
     "metadata": {},
     "output_type": "execute_result"
    }
   ],
   "source": [
    "# Drop 'flat_model' as we have a more correlated feature 'flat_type'\n",
    "data.drop(columns=['flat_model'], inplace=True)\n",
    "\n",
    "# Drop 'region' as it is not a useful feature, although 'town' is a less correlated feature, we will be using that to tag schools(top schools) to a region\n",
    "data.drop(columns=['region'], inplace=True)\n",
    "\n",
    "data.head()"
   ],
   "metadata": {
    "collapsed": false,
    "ExecuteTime": {
     "end_time": "2023-11-05T07:56:32.351814Z",
     "start_time": "2023-11-05T07:56:32.279811200Z"
    }
   },
   "id": "29919df79d359f9f"
  },
  {
   "cell_type": "code",
   "execution_count": 17,
   "outputs": [
    {
     "data": {
      "text/plain": "          town  flat_type  floor_area_sqm  lease_commence_date  latitude  \\\n0      hougang          4           121.0                 1984  1.358411   \n1    sembawang          3           100.0                 1999  1.446343   \n2     clementi          3            91.0                 1980  1.305719   \n3  jurong east          2            74.0                 1986  1.344832   \n4  jurong east          4           121.0                 1983  1.345437   \n\n    longitude  year  month  resale_price_index  \n0  103.891722  2023      1               173.6  \n1  103.820817  2022      9               168.1  \n2  103.762168  2023      7               178.5  \n3  103.730778  2021      8               150.6  \n4  103.735241  2022      3               159.5  ",
      "text/html": "<div>\n<style scoped>\n    .dataframe tbody tr th:only-of-type {\n        vertical-align: middle;\n    }\n\n    .dataframe tbody tr th {\n        vertical-align: top;\n    }\n\n    .dataframe thead th {\n        text-align: right;\n    }\n</style>\n<table border=\"1\" class=\"dataframe\">\n  <thead>\n    <tr style=\"text-align: right;\">\n      <th></th>\n      <th>town</th>\n      <th>flat_type</th>\n      <th>floor_area_sqm</th>\n      <th>lease_commence_date</th>\n      <th>latitude</th>\n      <th>longitude</th>\n      <th>year</th>\n      <th>month</th>\n      <th>resale_price_index</th>\n    </tr>\n  </thead>\n  <tbody>\n    <tr>\n      <th>0</th>\n      <td>hougang</td>\n      <td>4</td>\n      <td>121.0</td>\n      <td>1984</td>\n      <td>1.358411</td>\n      <td>103.891722</td>\n      <td>2023</td>\n      <td>1</td>\n      <td>173.6</td>\n    </tr>\n    <tr>\n      <th>1</th>\n      <td>sembawang</td>\n      <td>3</td>\n      <td>100.0</td>\n      <td>1999</td>\n      <td>1.446343</td>\n      <td>103.820817</td>\n      <td>2022</td>\n      <td>9</td>\n      <td>168.1</td>\n    </tr>\n    <tr>\n      <th>2</th>\n      <td>clementi</td>\n      <td>3</td>\n      <td>91.0</td>\n      <td>1980</td>\n      <td>1.305719</td>\n      <td>103.762168</td>\n      <td>2023</td>\n      <td>7</td>\n      <td>178.5</td>\n    </tr>\n    <tr>\n      <th>3</th>\n      <td>jurong east</td>\n      <td>2</td>\n      <td>74.0</td>\n      <td>1986</td>\n      <td>1.344832</td>\n      <td>103.730778</td>\n      <td>2021</td>\n      <td>8</td>\n      <td>150.6</td>\n    </tr>\n    <tr>\n      <th>4</th>\n      <td>jurong east</td>\n      <td>4</td>\n      <td>121.0</td>\n      <td>1983</td>\n      <td>1.345437</td>\n      <td>103.735241</td>\n      <td>2022</td>\n      <td>3</td>\n      <td>159.5</td>\n    </tr>\n  </tbody>\n</table>\n</div>"
     },
     "execution_count": 17,
     "metadata": {},
     "output_type": "execute_result"
    }
   ],
   "source": [
    "data.head()"
   ],
   "metadata": {
    "collapsed": false,
    "ExecuteTime": {
     "end_time": "2023-11-05T07:56:32.377967800Z",
     "start_time": "2023-11-05T07:56:32.311813400Z"
    }
   },
   "id": "55908391a9afe665"
  },
  {
   "cell_type": "code",
   "execution_count": 19,
   "outputs": [
    {
     "data": {
      "text/plain": "(          town  average_school_rank\n 0      hougang            86.111111\n 1    sembawang            97.833333\n 2     clementi            75.250000\n 3  jurong east           129.500000\n 4  jurong east           129.500000,\n   nearest_town  average_school_rank\n 0   ang mo kio           108.625000\n 1        bedok            96.454545\n 2       bishan            52.500000\n 3  bukit batok            97.666667\n 4  bukit merah           108.375000)"
     },
     "execution_count": 19,
     "metadata": {},
     "output_type": "execute_result"
    }
   ],
   "source": [
    "average_school_rank_by_town = pd.read_csv('./Datasets/auxiliary-data/average_school_rank_by_town.csv')\n",
    "# Merge the average school rank with the data set\n",
    "data = data.merge(average_school_rank_by_town,\n",
    "                  left_on='town',\n",
    "                  right_on='nearest_town',\n",
    "                  how='left')\n",
    "\n",
    "# Drop the extra 'nearest_town' column as it's redundant\n",
    "data.drop('nearest_town', axis=1, inplace=True)\n",
    "\n",
    "# Display the updated train set with the school rank and the average school ranks by town\n",
    "data[['town', 'average_school_rank']].head(), average_school_rank_by_town.head()"
   ],
   "metadata": {
    "collapsed": false,
    "ExecuteTime": {
     "end_time": "2023-11-05T07:59:25.281071400Z",
     "start_time": "2023-11-05T07:59:25.251061100Z"
    }
   },
   "id": "aa2e5c2d415013c3"
  },
  {
   "cell_type": "code",
   "execution_count": 21,
   "outputs": [],
   "source": [
    "# Identify non-numerical columns\n",
    "categorical_columns = data.select_dtypes(include=['object']).columns.tolist()\n",
    "# drop 'town' as we have already encoded it\n",
    "data.drop(categorical_columns, axis=1, inplace=True)\n",
    "data.to_csv('./Datasets/test_cleaned_110523.csv', index=False)"
   ],
   "metadata": {
    "collapsed": false,
    "ExecuteTime": {
     "end_time": "2023-11-05T08:00:04.711486500Z",
     "start_time": "2023-11-05T08:00:04.256833700Z"
    }
   },
   "id": "d63a69a62f5aec48"
  },
  {
   "cell_type": "code",
   "execution_count": 28,
   "outputs": [],
   "source": [
    "import datetime\n",
    "import numpy as np\n",
    "import pandas as pd\n",
    "from sklearn.ensemble import RandomForestRegressor\n",
    "from sklearn.model_selection import train_test_split\n",
    "from sklearn.pipeline import make_pipeline\n",
    "from tpot.builtins import ZeroCount\n",
    "from tpot.export_utils import set_param_recursive\n",
    "\n",
    "tpot_data = pd.read_csv('./Datasets/train_cleaned_110523.csv', sep=',', dtype=np.float64)\n",
    "features = tpot_data.drop('monthly_rent', axis=1)\n",
    "targets = tpot_data['monthly_rent']\n",
    "\n",
    "# Load the test data\n",
    "test_data = pd.read_csv('./Datasets/test_cleaned_110523.csv', sep=',', dtype=np.float64)\n",
    "test_features = test_data\n",
    "\n",
    "# Average CV score on the training set was: -240613.66858386635\n",
    "exported_pipeline = make_pipeline(\n",
    "    ZeroCount(),\n",
    "    RandomForestRegressor(bootstrap=True, max_features=0.4, min_samples_leaf=16, min_samples_split=16, n_estimators=100)\n",
    ")\n",
    "# Fix random state for all the steps in exported pipeline\n",
    "set_param_recursive(exported_pipeline.steps, 'random_state', 42)\n",
    "\n",
    "exported_pipeline.fit(features, targets)\n",
    "results = exported_pipeline.predict(test_features)\n",
    "\n",
    "# Convert results to DataFrame\n",
    "results_df = pd.DataFrame(results, columns=['predictions'])\n",
    "\n",
    "# Get model hyperparameters and current time\n",
    "hyperparameters = exported_pipeline.get_params()\n",
    "current_time = datetime.datetime.now().strftime(\"%Y-%m-%d %H:%M:%S\")\n",
    "current_time_for_filename = datetime.datetime.now().strftime(\"%Y-%m-%d_%H-%M-%S\")\n",
    "\n",
    "# Append hyperparameters and time to the DataFrame\n",
    "results_df['model_hyperparameters'] = str(hyperparameters)\n",
    "results_df['timestamp'] = current_time\n",
    "\n",
    "# Save the results to a CSV file\n",
    "output_filepath = f'./Datasets/results/predictions {current_time_for_filename}.csv'\n",
    "results_df.to_csv(output_filepath, index=False)"
   ],
   "metadata": {
    "collapsed": false,
    "ExecuteTime": {
     "end_time": "2023-11-05T08:08:01.906870100Z",
     "start_time": "2023-11-05T08:07:52.083727700Z"
    }
   },
   "id": "80e2208e6b8bc083"
  }
 ],
 "metadata": {
  "kernelspec": {
   "display_name": "Python 3",
   "language": "python",
   "name": "python3"
  },
  "language_info": {
   "codemirror_mode": {
    "name": "ipython",
    "version": 2
   },
   "file_extension": ".py",
   "mimetype": "text/x-python",
   "name": "python",
   "nbconvert_exporter": "python",
   "pygments_lexer": "ipython2",
   "version": "2.7.6"
  }
 },
 "nbformat": 4,
 "nbformat_minor": 5
}
