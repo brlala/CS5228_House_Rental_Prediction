{
 "cells": [
  {
   "cell_type": "markdown",
   "id": "763f0fa0-6584-44d4-b163-a891252769f9",
   "metadata": {},
   "source": [
    "# CS5228 Project - Primary school Score\n",
    "\n",
    "Our project is designed to predict the rent price of houses, and the primary school nearby is also an important factor to find the prices of rent. Therefore, this file is to explore the score of schools of each houses.\n",
    "\n",
    "**Important:** \n",
    "* We used data from website [primary-schools-vacancy-and-registered](https://elite.com.sg/primary-schools) to extract the number of vacancy and registered of each school.\n",
    "* We use weightage to rank the primary school and combine it with the distances to the house and get the score result.\n",
    "* To rank the primary school, we use Registered/Vacancy Percentage directly as a ranking metric. Schools with higher percentages (indicating higher demand relative to availability) get higher ranks."
   ]
  },
  {
   "cell_type": "code",
   "execution_count": 1,
   "id": "4ca2bb72-8aa3-4d53-9d2a-e4953aa02592",
   "metadata": {
    "ExecuteTime": {
     "end_time": "2023-11-01T14:34:45.724604100Z",
     "start_time": "2023-11-01T14:34:44.883626800Z"
    }
   },
   "outputs": [],
   "source": [
    "from primary_school_score import *\n",
    "\n",
    "import pandas as pd"
   ]
  },
  {
   "cell_type": "markdown",
   "id": "c0dd2baa-82d9-46b5-9e4e-5831994922e1",
   "metadata": {},
   "source": [
    "Let's have a look at the data:"
   ]
  },
  {
   "cell_type": "code",
   "execution_count": 2,
   "id": "bbfc6e57-bcee-45e7-ac3a-9d5c81d01342",
   "metadata": {
    "scrolled": true,
    "ExecuteTime": {
     "end_time": "2023-11-01T14:34:45.773289500Z",
     "start_time": "2023-11-01T14:34:45.720603300Z"
    }
   },
   "outputs": [
    {
     "data": {
      "text/plain": "                           name  1_vacancy  1_registered  \\\n0      Admiralty Primary School        150            75   \n1  Ahmad Ibrahim Primary School        160            54   \n2                Ai Tong School        240           114   \n3      Alexandra Primary School        140            57   \n4   Anchor Green Primary School        180            85   \n\n   1_Registered_Vacancy_Percentage  2A_registered  2B_vacancy  2B_registered  \\\n0                               50             32          34             37   \n1                               34             10          52              0   \n2                               48            120          22             56   \n3                               41             13          43              4   \n4                               47             30          42              0   \n\n   2B_Registered_Vacancy_Percentage  2C_vacancy  2C_registered  \\\n0                               109          70            109   \n1                                 0         157             27   \n2                               255          45             78   \n3                                 9         127            141   \n4                                 0         128             36   \n\n   2C_Registered_Vacancy_Percentage  2CS_vacancy  2CS_registered  \\\n0                               156            0               0   \n1                                17          130              15   \n2                               173            0               0   \n3                               111            0               0   \n4                                28           93              66   \n\n   2CS_Registered_Vacancy_Percentage  \n0                                  0  \n1                                 12  \n2                                  0  \n3                                  0  \n4                                 71  ",
      "text/html": "<div>\n<style scoped>\n    .dataframe tbody tr th:only-of-type {\n        vertical-align: middle;\n    }\n\n    .dataframe tbody tr th {\n        vertical-align: top;\n    }\n\n    .dataframe thead th {\n        text-align: right;\n    }\n</style>\n<table border=\"1\" class=\"dataframe\">\n  <thead>\n    <tr style=\"text-align: right;\">\n      <th></th>\n      <th>name</th>\n      <th>1_vacancy</th>\n      <th>1_registered</th>\n      <th>1_Registered_Vacancy_Percentage</th>\n      <th>2A_registered</th>\n      <th>2B_vacancy</th>\n      <th>2B_registered</th>\n      <th>2B_Registered_Vacancy_Percentage</th>\n      <th>2C_vacancy</th>\n      <th>2C_registered</th>\n      <th>2C_Registered_Vacancy_Percentage</th>\n      <th>2CS_vacancy</th>\n      <th>2CS_registered</th>\n      <th>2CS_Registered_Vacancy_Percentage</th>\n    </tr>\n  </thead>\n  <tbody>\n    <tr>\n      <th>0</th>\n      <td>Admiralty Primary School</td>\n      <td>150</td>\n      <td>75</td>\n      <td>50</td>\n      <td>32</td>\n      <td>34</td>\n      <td>37</td>\n      <td>109</td>\n      <td>70</td>\n      <td>109</td>\n      <td>156</td>\n      <td>0</td>\n      <td>0</td>\n      <td>0</td>\n    </tr>\n    <tr>\n      <th>1</th>\n      <td>Ahmad Ibrahim Primary School</td>\n      <td>160</td>\n      <td>54</td>\n      <td>34</td>\n      <td>10</td>\n      <td>52</td>\n      <td>0</td>\n      <td>0</td>\n      <td>157</td>\n      <td>27</td>\n      <td>17</td>\n      <td>130</td>\n      <td>15</td>\n      <td>12</td>\n    </tr>\n    <tr>\n      <th>2</th>\n      <td>Ai Tong School</td>\n      <td>240</td>\n      <td>114</td>\n      <td>48</td>\n      <td>120</td>\n      <td>22</td>\n      <td>56</td>\n      <td>255</td>\n      <td>45</td>\n      <td>78</td>\n      <td>173</td>\n      <td>0</td>\n      <td>0</td>\n      <td>0</td>\n    </tr>\n    <tr>\n      <th>3</th>\n      <td>Alexandra Primary School</td>\n      <td>140</td>\n      <td>57</td>\n      <td>41</td>\n      <td>13</td>\n      <td>43</td>\n      <td>4</td>\n      <td>9</td>\n      <td>127</td>\n      <td>141</td>\n      <td>111</td>\n      <td>0</td>\n      <td>0</td>\n      <td>0</td>\n    </tr>\n    <tr>\n      <th>4</th>\n      <td>Anchor Green Primary School</td>\n      <td>180</td>\n      <td>85</td>\n      <td>47</td>\n      <td>30</td>\n      <td>42</td>\n      <td>0</td>\n      <td>0</td>\n      <td>128</td>\n      <td>36</td>\n      <td>28</td>\n      <td>93</td>\n      <td>66</td>\n      <td>71</td>\n    </tr>\n  </tbody>\n</table>\n</div>"
     },
     "execution_count": 2,
     "metadata": {},
     "output_type": "execute_result"
    }
   ],
   "source": [
    "df_primary_school = pd.read_csv('./Datasets/auxiliary-data/sg-primary-schools-vacancy-registered.csv')\n",
    "\n",
    "df_primary_school.head()"
   ]
  },
  {
   "cell_type": "markdown",
   "source": [
    "For the features in this dataframe, we can check the corresponding results as following charts:\n",
    "\n",
    "| Phases          | Results announcement dates  |\n",
    "|-----------------|-----------------------------|\n",
    "| 1               | **Tuesday, 11 July 2023**   |\n",
    "| 2A              | **Friday, 21 July 2023**    |\n",
    "| 2B              | **Monday, 31 July 2023**    |\n",
    "| 2C              | **Tuesday, 15 August 2023** |\n",
    "| 2CSupplementary | **Tuesday, 29 August 2023** |\n",
    "\n",
    "For example, the '1_vacancy' feature means the number of vacancy provided by primary schools announced on Tuesday, 11 July 2023;\n",
    "the '2C_registered' feature means the number of registered students announced on Tuesday, 15 August 2023;\n",
    "the '2CS_Registered_Vacancy_Percentage' feature means the oversubscribed percentage(registered divided by vacancy) announced on Tuesday, 29 August 2023."
   ],
   "metadata": {
    "collapsed": false
   },
   "id": "7ddff4de841f09dc"
  },
  {
   "cell_type": "markdown",
   "id": "93d03225-e470-44e9-bbae-175a0afc652a",
   "metadata": {},
   "source": [
    "### Data preprocessing\n",
    "\n",
    "We add the rank from sg-primary-schools_2022_ranking.csv to the dataframe of primary schools.\n",
    "\n",
    "The dataset we extract from the website seems clean and well-structured (no duplicates, no null value, etc). However, there is an issue with it. In our algorithm, low Registered-vacancy-Percentage implies the public has low demand to this school, so this school will get lower rank, but there are some special cases. \n",
    "\n",
    "For example, the values of '2CS_vacancy', '2CS_registered', and '2CS_Registered_Vacancy_Percentage' of Admiralty Primary School are all 0, but this does not mean that the school is not popular. On the contrary, Admiralty Primary School is quite popular based on the data in phases '1', '2B' and '2C', the reason it gets 0 for 2CS_Registered_Vacancy_Percentage is it does not provide any vacancy in phase '2CS' (2CS_vacancy(Admiralty Primary School) = 0). In fact, many schools don't provide any vacancy in phase 2cs.\n",
    "\n",
    "In addition, the data in phase 2cs cannot reflect the true popularity of the school. For example, The percentages of Dazhong Primary School in the first two stages are just at average level: 1 is only 40%, 2b is 0. However, it's percentage in 2c rises to 98%, and 2cs rises to 2050%. However, this could not be the evidence that Dazhong Primary school is popular: Many children are not accepted by their first choice primary school and settle for the other option.\n",
    "\n",
    "Therefore, we can simply remove features of 2CS phases since studying people's first choices could be more meaningful in determining a school's popularity."
   ]
  },
  {
   "cell_type": "code",
   "execution_count": 3,
   "id": "6165fed1-3872-433a-be85-ca8b23185346",
   "metadata": {
    "ExecuteTime": {
     "end_time": "2023-11-01T14:34:45.774291500Z",
     "start_time": "2023-11-01T14:34:45.768767400Z"
    }
   },
   "outputs": [],
   "source": [
    "# df_primary_school = df_primary_school.drop('2CS_vacancy', axis=1)\n",
    "# df_primary_school = df_primary_school.drop('2CS_registered', axis=1)\n",
    "# df_primary_school = df_primary_school.drop('2CS_Registered_Vacancy_Percentage', axis=1)\n",
    "# \n",
    "# df_primary_school.head()"
   ]
  },
  {
   "cell_type": "markdown",
   "id": "f8783c97-8af2-4316-b260-1b96b0b815a7",
   "metadata": {},
   "source": [
    "### Rank the school!\n",
    "#### Things to note:\n",
    "We first tried using the average registered-vacancy-percentage of different phases to calculate "
   ]
  },
  {
   "cell_type": "code",
   "execution_count": 4,
   "outputs": [
    {
     "data": {
      "text/plain": "                           name  latitude   longitude  Ranking 2022\n0      Admiralty Primary School  1.454038  103.817436             8\n1  Ahmad Ibrahim Primary School  1.433153  103.832942           166\n2                Ai Tong School  1.360583  103.833020            10\n3      Alexandra Primary School  1.291334  103.824425           120\n4   Anchor Green Primary School  1.390370  103.887165           100",
      "text/html": "<div>\n<style scoped>\n    .dataframe tbody tr th:only-of-type {\n        vertical-align: middle;\n    }\n\n    .dataframe tbody tr th {\n        vertical-align: top;\n    }\n\n    .dataframe thead th {\n        text-align: right;\n    }\n</style>\n<table border=\"1\" class=\"dataframe\">\n  <thead>\n    <tr style=\"text-align: right;\">\n      <th></th>\n      <th>name</th>\n      <th>latitude</th>\n      <th>longitude</th>\n      <th>Ranking 2022</th>\n    </tr>\n  </thead>\n  <tbody>\n    <tr>\n      <th>0</th>\n      <td>Admiralty Primary School</td>\n      <td>1.454038</td>\n      <td>103.817436</td>\n      <td>8</td>\n    </tr>\n    <tr>\n      <th>1</th>\n      <td>Ahmad Ibrahim Primary School</td>\n      <td>1.433153</td>\n      <td>103.832942</td>\n      <td>166</td>\n    </tr>\n    <tr>\n      <th>2</th>\n      <td>Ai Tong School</td>\n      <td>1.360583</td>\n      <td>103.833020</td>\n      <td>10</td>\n    </tr>\n    <tr>\n      <th>3</th>\n      <td>Alexandra Primary School</td>\n      <td>1.291334</td>\n      <td>103.824425</td>\n      <td>120</td>\n    </tr>\n    <tr>\n      <th>4</th>\n      <td>Anchor Green Primary School</td>\n      <td>1.390370</td>\n      <td>103.887165</td>\n      <td>100</td>\n    </tr>\n  </tbody>\n</table>\n</div>"
     },
     "execution_count": 4,
     "metadata": {},
     "output_type": "execute_result"
    }
   ],
   "source": [
    "schools = pd.read_csv('./Datasets/auxiliary-data/sg-primary-schools.csv')\n",
    "ranking = pd.read_csv('./Datasets/auxiliary-data/sg-primary-schools_2022_ranking.csv')\n",
    "\n",
    "# Merge the rankings into the primary schools list based on school name\n",
    "merged = schools.merge(ranking, left_on='name', right_on='School Name', how='left')\n",
    "\n",
    "# Drop the 'School Name' column as it's redundant\n",
    "merged.drop('School Name', axis=1, inplace=True)\n",
    "\n",
    "# Rename the 'Rank' column to 'Ranking 2022'\n",
    "merged.rename(columns={'Rank': 'Ranking 2022'}, inplace=True)\n",
    "\n",
    "# Assign the last ranking + 1 to empty rankings\n",
    "last_ranking = merged['Ranking 2022'].max()\n",
    "merged['Ranking 2022'].fillna(last_ranking + 1, inplace=True)\n",
    "\n",
    "# Convert the rankings to integers\n",
    "merged['Ranking 2022'] = merged['Ranking 2022'].astype(int)\n",
    "\n",
    "# Display the first few rows of the merged dataframe\n",
    "merged.head()\n",
    "\n",
    "output_path = \"./Datasets/auxiliary-data/sg-primary-schools_with_ranking.csv\"\n",
    "merged.to_csv(output_path, index=False)\n",
    "\n",
    "merged.head()"
   ],
   "metadata": {
    "collapsed": false,
    "ExecuteTime": {
     "end_time": "2023-11-01T14:34:45.903297400Z",
     "start_time": "2023-11-01T14:34:45.777291300Z"
    }
   },
   "id": "5b34cbe9ad051bdc"
  },
  {
   "cell_type": "code",
   "execution_count": 5,
   "id": "e574ece4-ee38-4b93-adb0-48a66a6ce2da",
   "metadata": {
    "ExecuteTime": {
     "end_time": "2023-11-01T14:34:45.904297400Z",
     "start_time": "2023-11-01T14:34:45.855449700Z"
    }
   },
   "outputs": [],
   "source": [
    "# df_school_ranked = get_school_rank(df_primary_school)\n",
    "# \n",
    "# df_school_ranked.head(20)"
   ]
  },
  {
   "cell_type": "markdown",
   "id": "0bfdb61f-1c55-416e-8417-9fcc27a3fd0e",
   "metadata": {},
   "source": [
    "### Calculate the Euclidean distance and get the score\n",
    "The reason we count the euclidean distance between houses and primary school to predict the rent price is the location of the primary school can affect the rent price: The closer the houses are to the school, the more expensive the rent price will be.\n",
    "Here we get two dataframes of primary schools and houses."
   ]
  },
  {
   "cell_type": "code",
   "execution_count": 6,
   "id": "8d16942a-cf9e-4759-b70f-cc9d2de41058",
   "metadata": {
    "ExecuteTime": {
     "end_time": "2023-11-01T14:34:45.932296Z",
     "start_time": "2023-11-01T14:34:45.870033400Z"
    }
   },
   "outputs": [
    {
     "data": {
      "text/plain": "                           name  latitude   longitude  Ranking 2022\n0      Admiralty Primary School  1.454038  103.817436             8\n1  Ahmad Ibrahim Primary School  1.433153  103.832942           166\n2                Ai Tong School  1.360583  103.833020            10\n3      Alexandra Primary School  1.291334  103.824425           120\n4   Anchor Green Primary School  1.390370  103.887165           100",
      "text/html": "<div>\n<style scoped>\n    .dataframe tbody tr th:only-of-type {\n        vertical-align: middle;\n    }\n\n    .dataframe tbody tr th {\n        vertical-align: top;\n    }\n\n    .dataframe thead th {\n        text-align: right;\n    }\n</style>\n<table border=\"1\" class=\"dataframe\">\n  <thead>\n    <tr style=\"text-align: right;\">\n      <th></th>\n      <th>name</th>\n      <th>latitude</th>\n      <th>longitude</th>\n      <th>Ranking 2022</th>\n    </tr>\n  </thead>\n  <tbody>\n    <tr>\n      <th>0</th>\n      <td>Admiralty Primary School</td>\n      <td>1.454038</td>\n      <td>103.817436</td>\n      <td>8</td>\n    </tr>\n    <tr>\n      <th>1</th>\n      <td>Ahmad Ibrahim Primary School</td>\n      <td>1.433153</td>\n      <td>103.832942</td>\n      <td>166</td>\n    </tr>\n    <tr>\n      <th>2</th>\n      <td>Ai Tong School</td>\n      <td>1.360583</td>\n      <td>103.833020</td>\n      <td>10</td>\n    </tr>\n    <tr>\n      <th>3</th>\n      <td>Alexandra Primary School</td>\n      <td>1.291334</td>\n      <td>103.824425</td>\n      <td>120</td>\n    </tr>\n    <tr>\n      <th>4</th>\n      <td>Anchor Green Primary School</td>\n      <td>1.390370</td>\n      <td>103.887165</td>\n      <td>100</td>\n    </tr>\n  </tbody>\n</table>\n</div>"
     },
     "execution_count": 6,
     "metadata": {},
     "output_type": "execute_result"
    }
   ],
   "source": [
    "df_loc_primary_school = pd.read_csv('./datasets/auxiliary-data/sg-primary-schools_with_ranking.csv')\n",
    "\n",
    "df_loc_primary_school.head()"
   ]
  },
  {
   "cell_type": "code",
   "execution_count": 7,
   "id": "15730625-9c16-4169-9d90-4cbc6a2f9ee4",
   "metadata": {
    "ExecuteTime": {
     "end_time": "2023-11-01T14:34:46.048226200Z",
     "start_time": "2023-11-01T14:34:45.895779200Z"
    }
   },
   "outputs": [
    {
     "data": {
      "text/plain": "  rent_approval_date         town block             street_name flat_type  \\\n0            2023-01      hougang   245       hougang street 22    5-room   \n1            2022-09    sembawang   316         sembawang vista    4-room   \n2            2023-07     clementi   708  Clementi West Street 2    4-room   \n3            2021-08  jurong east   351   Jurong East Street 31    3 room   \n4            2022-03  jurong east   305   jurong east street 32    5-room   \n\n       flat_model  floor_area_sqm furnished  lease_commence_date  latitude  \\\n0        improved           121.0       yes                 1984  1.358411   \n1         model a           100.0       yes                 1999  1.446343   \n2  new generation            91.0       yes                 1980  1.305719   \n3         model a            74.0       yes                 1986  1.344832   \n4        improved           121.0       yes                 1983  1.345437   \n\n    longitude  elevation            subzone planning_area             region  \n0  103.891722        0.0      lorong ah soo       hougang  north-east region  \n1  103.820817        0.0  sembawang central     sembawang       north region  \n2  103.762168        0.0      clementi west      clementi        west region  \n3  103.730778        0.0         yuhua west   jurong east        west region  \n4  103.735241        0.0         yuhua west   jurong east        west region  ",
      "text/html": "<div>\n<style scoped>\n    .dataframe tbody tr th:only-of-type {\n        vertical-align: middle;\n    }\n\n    .dataframe tbody tr th {\n        vertical-align: top;\n    }\n\n    .dataframe thead th {\n        text-align: right;\n    }\n</style>\n<table border=\"1\" class=\"dataframe\">\n  <thead>\n    <tr style=\"text-align: right;\">\n      <th></th>\n      <th>rent_approval_date</th>\n      <th>town</th>\n      <th>block</th>\n      <th>street_name</th>\n      <th>flat_type</th>\n      <th>flat_model</th>\n      <th>floor_area_sqm</th>\n      <th>furnished</th>\n      <th>lease_commence_date</th>\n      <th>latitude</th>\n      <th>longitude</th>\n      <th>elevation</th>\n      <th>subzone</th>\n      <th>planning_area</th>\n      <th>region</th>\n    </tr>\n  </thead>\n  <tbody>\n    <tr>\n      <th>0</th>\n      <td>2023-01</td>\n      <td>hougang</td>\n      <td>245</td>\n      <td>hougang street 22</td>\n      <td>5-room</td>\n      <td>improved</td>\n      <td>121.0</td>\n      <td>yes</td>\n      <td>1984</td>\n      <td>1.358411</td>\n      <td>103.891722</td>\n      <td>0.0</td>\n      <td>lorong ah soo</td>\n      <td>hougang</td>\n      <td>north-east region</td>\n    </tr>\n    <tr>\n      <th>1</th>\n      <td>2022-09</td>\n      <td>sembawang</td>\n      <td>316</td>\n      <td>sembawang vista</td>\n      <td>4-room</td>\n      <td>model a</td>\n      <td>100.0</td>\n      <td>yes</td>\n      <td>1999</td>\n      <td>1.446343</td>\n      <td>103.820817</td>\n      <td>0.0</td>\n      <td>sembawang central</td>\n      <td>sembawang</td>\n      <td>north region</td>\n    </tr>\n    <tr>\n      <th>2</th>\n      <td>2023-07</td>\n      <td>clementi</td>\n      <td>708</td>\n      <td>Clementi West Street 2</td>\n      <td>4-room</td>\n      <td>new generation</td>\n      <td>91.0</td>\n      <td>yes</td>\n      <td>1980</td>\n      <td>1.305719</td>\n      <td>103.762168</td>\n      <td>0.0</td>\n      <td>clementi west</td>\n      <td>clementi</td>\n      <td>west region</td>\n    </tr>\n    <tr>\n      <th>3</th>\n      <td>2021-08</td>\n      <td>jurong east</td>\n      <td>351</td>\n      <td>Jurong East Street 31</td>\n      <td>3 room</td>\n      <td>model a</td>\n      <td>74.0</td>\n      <td>yes</td>\n      <td>1986</td>\n      <td>1.344832</td>\n      <td>103.730778</td>\n      <td>0.0</td>\n      <td>yuhua west</td>\n      <td>jurong east</td>\n      <td>west region</td>\n    </tr>\n    <tr>\n      <th>4</th>\n      <td>2022-03</td>\n      <td>jurong east</td>\n      <td>305</td>\n      <td>jurong east street 32</td>\n      <td>5-room</td>\n      <td>improved</td>\n      <td>121.0</td>\n      <td>yes</td>\n      <td>1983</td>\n      <td>1.345437</td>\n      <td>103.735241</td>\n      <td>0.0</td>\n      <td>yuhua west</td>\n      <td>jurong east</td>\n      <td>west region</td>\n    </tr>\n  </tbody>\n</table>\n</div>"
     },
     "execution_count": 7,
     "metadata": {},
     "output_type": "execute_result"
    }
   ],
   "source": [
    "df_loc_house = pd.read_csv('./datasets/test.csv')\n",
    "\n",
    "df_loc_house.head()"
   ]
  },
  {
   "cell_type": "markdown",
   "id": "584a7892-69c7-4f5b-84e9-cca5eeb85009",
   "metadata": {},
   "source": [
    "Given the dataframe of all houses in the training set and all schools location, we can calculate the final score by combining the school rank and euclidean distances between primary schools and houses."
   ]
  },
  {
   "cell_type": "code",
   "execution_count": 8,
   "id": "a49fddd2-343a-4fc4-a8a0-5069909223f3",
   "metadata": {
    "ExecuteTime": {
     "end_time": "2023-11-01T14:35:37.076230300Z",
     "start_time": "2023-11-01T14:34:45.990710400Z"
    }
   },
   "outputs": [
    {
     "data": {
      "text/plain": "   rent_approval_date           town block             street_name  flat_type  \\\n0             2023-01        hougang   245       hougang street 22     5-room   \n1             2022-09      sembawang   316         sembawang vista     4-room   \n2             2023-07       clementi   708  Clementi West Street 2     4-room   \n3             2021-08    jurong east   351   Jurong East Street 31     3 room   \n4             2022-03    jurong east   305   jurong east street 32     5-room   \n5             2022-01       clementi   701         west coast road     3-room   \n6             2021-05        punggol   643         punggol central     5 room   \n7             2022-08       tampines  515b      Tampines Central 7     5-room   \n8             2021-12    jurong west   604   Jurong West Street 62  executive   \n9             2023-07  marine parade    14          marine terrace     5-room   \n10            2021-06      woodlands   793      woodlands avenue 6     4 room   \n11            2023-04      toa payoh   119      lorong 1 toa payoh     3-room   \n12            2022-06    jurong west  196b          boon lay drive     4-room   \n13            2022-05       sengkang  316a         anchorvale link     5-room   \n14            2021-06          bedok   403    bedok north avenue 3     4 room   \n15            2022-06  choa chu kang   634   choa chu kang north 6     4-room   \n16            2021-05       tampines   240      tampines street 21     3 room   \n17            2021-02  marine parade    71            marine drive     5 room   \n18            2021-10        geylang    10          eunos crescent     4 room   \n19            2022-10        punggol  195d            Punggol Road     4-room   \n\n           flat_model  floor_area_sqm furnished  lease_commence_date  \\\n0            improved           121.0       yes                 1984   \n1             model a           100.0       yes                 1999   \n2      new generation            91.0       yes                 1980   \n3             model a            74.0       yes                 1986   \n4            improved           121.0       yes                 1983   \n5      new generation            67.0       yes                 1980   \n6   premium apartment           110.0       yes                 2005   \n7                dbss           108.0       yes                 2008   \n8   premium apartment           133.0       yes                 2001   \n9            standard           120.0       yes                 1975   \n10            model a           102.0       yes                 1997   \n11           improved            65.0       yes                 1968   \n12            model a            93.0       yes                 2015   \n13  premium apartment           110.0       yes                 2003   \n14     new generation            92.0       yes                 1980   \n15  premium apartment           113.0       yes                 1998   \n16            model a            74.0       yes                 1984   \n17           standard           126.0       yes                 1977   \n18     new generation            91.0       yes                 1978   \n19  premium apartment            90.0       yes                 2007   \n\n    latitude   longitude  elevation              subzone  planning_area  \\\n0   1.358411  103.891722        0.0        lorong ah soo        hougang   \n1   1.446343  103.820817        0.0    sembawang central      sembawang   \n2   1.305719  103.762168        0.0        clementi west       clementi   \n3   1.344832  103.730778        0.0           yuhua west    jurong east   \n4   1.345437  103.735241        0.0           yuhua west    jurong east   \n5   1.307637  103.761326        0.0        clementi west       clementi   \n6   1.397319  103.916019        0.0        waterway east        punggol   \n7   1.356968  103.938668        0.0        tampines east       tampines   \n8   1.338605  103.700079        0.0  jurong west central    jurong west   \n9   1.303476  103.915412        0.0        marine parade  marine parade   \n10  1.442394  103.802850        0.0       woodlands east      woodlands   \n11  1.339109  103.844687        0.0       toa payoh west      toa payoh   \n12  1.342789  103.714301        0.0       boon lay place    jurong west   \n13  1.392591  103.889372        0.0           anchorvale       sengkang   \n14  1.329800  103.933844        0.0          bedok north          bedok   \n15  1.396609  103.749729        0.0              yew tee  choa chu kang   \n16  1.355004  103.947121        0.0        tampines east       tampines   \n17  1.304528  103.908944        0.0        marine parade  marine parade   \n18  1.322287  103.902721        0.0         geylang east        geylang   \n19  1.401368  103.907096        0.0        punggol field        punggol   \n\n               region  school_score  school_count  \n0   north-east region         376.7           7.0  \n1        north region         312.0           8.0  \n2         west region         255.4           4.0  \n3         west region         284.8           8.0  \n4         west region         287.8           5.0  \n5         west region         258.4           4.0  \n6   north-east region         325.1          11.0  \n7         east region         336.8          11.0  \n8         west region         300.1           9.0  \n9      central region         240.9           6.0  \n10       north region         258.4           8.0  \n11     central region         371.8           7.0  \n12        west region         337.5          10.0  \n13  north-east region         336.8          15.0  \n14        east region         329.3          10.0  \n15        west region         284.1           8.0  \n16        east region         343.1          15.0  \n17     central region         243.9           5.0  \n18     central region         269.6           6.0  \n19  north-east region         328.1          14.0  ",
      "text/html": "<div>\n<style scoped>\n    .dataframe tbody tr th:only-of-type {\n        vertical-align: middle;\n    }\n\n    .dataframe tbody tr th {\n        vertical-align: top;\n    }\n\n    .dataframe thead th {\n        text-align: right;\n    }\n</style>\n<table border=\"1\" class=\"dataframe\">\n  <thead>\n    <tr style=\"text-align: right;\">\n      <th></th>\n      <th>rent_approval_date</th>\n      <th>town</th>\n      <th>block</th>\n      <th>street_name</th>\n      <th>flat_type</th>\n      <th>flat_model</th>\n      <th>floor_area_sqm</th>\n      <th>furnished</th>\n      <th>lease_commence_date</th>\n      <th>latitude</th>\n      <th>longitude</th>\n      <th>elevation</th>\n      <th>subzone</th>\n      <th>planning_area</th>\n      <th>region</th>\n      <th>school_score</th>\n      <th>school_count</th>\n    </tr>\n  </thead>\n  <tbody>\n    <tr>\n      <th>0</th>\n      <td>2023-01</td>\n      <td>hougang</td>\n      <td>245</td>\n      <td>hougang street 22</td>\n      <td>5-room</td>\n      <td>improved</td>\n      <td>121.0</td>\n      <td>yes</td>\n      <td>1984</td>\n      <td>1.358411</td>\n      <td>103.891722</td>\n      <td>0.0</td>\n      <td>lorong ah soo</td>\n      <td>hougang</td>\n      <td>north-east region</td>\n      <td>376.7</td>\n      <td>7.0</td>\n    </tr>\n    <tr>\n      <th>1</th>\n      <td>2022-09</td>\n      <td>sembawang</td>\n      <td>316</td>\n      <td>sembawang vista</td>\n      <td>4-room</td>\n      <td>model a</td>\n      <td>100.0</td>\n      <td>yes</td>\n      <td>1999</td>\n      <td>1.446343</td>\n      <td>103.820817</td>\n      <td>0.0</td>\n      <td>sembawang central</td>\n      <td>sembawang</td>\n      <td>north region</td>\n      <td>312.0</td>\n      <td>8.0</td>\n    </tr>\n    <tr>\n      <th>2</th>\n      <td>2023-07</td>\n      <td>clementi</td>\n      <td>708</td>\n      <td>Clementi West Street 2</td>\n      <td>4-room</td>\n      <td>new generation</td>\n      <td>91.0</td>\n      <td>yes</td>\n      <td>1980</td>\n      <td>1.305719</td>\n      <td>103.762168</td>\n      <td>0.0</td>\n      <td>clementi west</td>\n      <td>clementi</td>\n      <td>west region</td>\n      <td>255.4</td>\n      <td>4.0</td>\n    </tr>\n    <tr>\n      <th>3</th>\n      <td>2021-08</td>\n      <td>jurong east</td>\n      <td>351</td>\n      <td>Jurong East Street 31</td>\n      <td>3 room</td>\n      <td>model a</td>\n      <td>74.0</td>\n      <td>yes</td>\n      <td>1986</td>\n      <td>1.344832</td>\n      <td>103.730778</td>\n      <td>0.0</td>\n      <td>yuhua west</td>\n      <td>jurong east</td>\n      <td>west region</td>\n      <td>284.8</td>\n      <td>8.0</td>\n    </tr>\n    <tr>\n      <th>4</th>\n      <td>2022-03</td>\n      <td>jurong east</td>\n      <td>305</td>\n      <td>jurong east street 32</td>\n      <td>5-room</td>\n      <td>improved</td>\n      <td>121.0</td>\n      <td>yes</td>\n      <td>1983</td>\n      <td>1.345437</td>\n      <td>103.735241</td>\n      <td>0.0</td>\n      <td>yuhua west</td>\n      <td>jurong east</td>\n      <td>west region</td>\n      <td>287.8</td>\n      <td>5.0</td>\n    </tr>\n    <tr>\n      <th>5</th>\n      <td>2022-01</td>\n      <td>clementi</td>\n      <td>701</td>\n      <td>west coast road</td>\n      <td>3-room</td>\n      <td>new generation</td>\n      <td>67.0</td>\n      <td>yes</td>\n      <td>1980</td>\n      <td>1.307637</td>\n      <td>103.761326</td>\n      <td>0.0</td>\n      <td>clementi west</td>\n      <td>clementi</td>\n      <td>west region</td>\n      <td>258.4</td>\n      <td>4.0</td>\n    </tr>\n    <tr>\n      <th>6</th>\n      <td>2021-05</td>\n      <td>punggol</td>\n      <td>643</td>\n      <td>punggol central</td>\n      <td>5 room</td>\n      <td>premium apartment</td>\n      <td>110.0</td>\n      <td>yes</td>\n      <td>2005</td>\n      <td>1.397319</td>\n      <td>103.916019</td>\n      <td>0.0</td>\n      <td>waterway east</td>\n      <td>punggol</td>\n      <td>north-east region</td>\n      <td>325.1</td>\n      <td>11.0</td>\n    </tr>\n    <tr>\n      <th>7</th>\n      <td>2022-08</td>\n      <td>tampines</td>\n      <td>515b</td>\n      <td>Tampines Central 7</td>\n      <td>5-room</td>\n      <td>dbss</td>\n      <td>108.0</td>\n      <td>yes</td>\n      <td>2008</td>\n      <td>1.356968</td>\n      <td>103.938668</td>\n      <td>0.0</td>\n      <td>tampines east</td>\n      <td>tampines</td>\n      <td>east region</td>\n      <td>336.8</td>\n      <td>11.0</td>\n    </tr>\n    <tr>\n      <th>8</th>\n      <td>2021-12</td>\n      <td>jurong west</td>\n      <td>604</td>\n      <td>Jurong West Street 62</td>\n      <td>executive</td>\n      <td>premium apartment</td>\n      <td>133.0</td>\n      <td>yes</td>\n      <td>2001</td>\n      <td>1.338605</td>\n      <td>103.700079</td>\n      <td>0.0</td>\n      <td>jurong west central</td>\n      <td>jurong west</td>\n      <td>west region</td>\n      <td>300.1</td>\n      <td>9.0</td>\n    </tr>\n    <tr>\n      <th>9</th>\n      <td>2023-07</td>\n      <td>marine parade</td>\n      <td>14</td>\n      <td>marine terrace</td>\n      <td>5-room</td>\n      <td>standard</td>\n      <td>120.0</td>\n      <td>yes</td>\n      <td>1975</td>\n      <td>1.303476</td>\n      <td>103.915412</td>\n      <td>0.0</td>\n      <td>marine parade</td>\n      <td>marine parade</td>\n      <td>central region</td>\n      <td>240.9</td>\n      <td>6.0</td>\n    </tr>\n    <tr>\n      <th>10</th>\n      <td>2021-06</td>\n      <td>woodlands</td>\n      <td>793</td>\n      <td>woodlands avenue 6</td>\n      <td>4 room</td>\n      <td>model a</td>\n      <td>102.0</td>\n      <td>yes</td>\n      <td>1997</td>\n      <td>1.442394</td>\n      <td>103.802850</td>\n      <td>0.0</td>\n      <td>woodlands east</td>\n      <td>woodlands</td>\n      <td>north region</td>\n      <td>258.4</td>\n      <td>8.0</td>\n    </tr>\n    <tr>\n      <th>11</th>\n      <td>2023-04</td>\n      <td>toa payoh</td>\n      <td>119</td>\n      <td>lorong 1 toa payoh</td>\n      <td>3-room</td>\n      <td>improved</td>\n      <td>65.0</td>\n      <td>yes</td>\n      <td>1968</td>\n      <td>1.339109</td>\n      <td>103.844687</td>\n      <td>0.0</td>\n      <td>toa payoh west</td>\n      <td>toa payoh</td>\n      <td>central region</td>\n      <td>371.8</td>\n      <td>7.0</td>\n    </tr>\n    <tr>\n      <th>12</th>\n      <td>2022-06</td>\n      <td>jurong west</td>\n      <td>196b</td>\n      <td>boon lay drive</td>\n      <td>4-room</td>\n      <td>model a</td>\n      <td>93.0</td>\n      <td>yes</td>\n      <td>2015</td>\n      <td>1.342789</td>\n      <td>103.714301</td>\n      <td>0.0</td>\n      <td>boon lay place</td>\n      <td>jurong west</td>\n      <td>west region</td>\n      <td>337.5</td>\n      <td>10.0</td>\n    </tr>\n    <tr>\n      <th>13</th>\n      <td>2022-05</td>\n      <td>sengkang</td>\n      <td>316a</td>\n      <td>anchorvale link</td>\n      <td>5-room</td>\n      <td>premium apartment</td>\n      <td>110.0</td>\n      <td>yes</td>\n      <td>2003</td>\n      <td>1.392591</td>\n      <td>103.889372</td>\n      <td>0.0</td>\n      <td>anchorvale</td>\n      <td>sengkang</td>\n      <td>north-east region</td>\n      <td>336.8</td>\n      <td>15.0</td>\n    </tr>\n    <tr>\n      <th>14</th>\n      <td>2021-06</td>\n      <td>bedok</td>\n      <td>403</td>\n      <td>bedok north avenue 3</td>\n      <td>4 room</td>\n      <td>new generation</td>\n      <td>92.0</td>\n      <td>yes</td>\n      <td>1980</td>\n      <td>1.329800</td>\n      <td>103.933844</td>\n      <td>0.0</td>\n      <td>bedok north</td>\n      <td>bedok</td>\n      <td>east region</td>\n      <td>329.3</td>\n      <td>10.0</td>\n    </tr>\n    <tr>\n      <th>15</th>\n      <td>2022-06</td>\n      <td>choa chu kang</td>\n      <td>634</td>\n      <td>choa chu kang north 6</td>\n      <td>4-room</td>\n      <td>premium apartment</td>\n      <td>113.0</td>\n      <td>yes</td>\n      <td>1998</td>\n      <td>1.396609</td>\n      <td>103.749729</td>\n      <td>0.0</td>\n      <td>yew tee</td>\n      <td>choa chu kang</td>\n      <td>west region</td>\n      <td>284.1</td>\n      <td>8.0</td>\n    </tr>\n    <tr>\n      <th>16</th>\n      <td>2021-05</td>\n      <td>tampines</td>\n      <td>240</td>\n      <td>tampines street 21</td>\n      <td>3 room</td>\n      <td>model a</td>\n      <td>74.0</td>\n      <td>yes</td>\n      <td>1984</td>\n      <td>1.355004</td>\n      <td>103.947121</td>\n      <td>0.0</td>\n      <td>tampines east</td>\n      <td>tampines</td>\n      <td>east region</td>\n      <td>343.1</td>\n      <td>15.0</td>\n    </tr>\n    <tr>\n      <th>17</th>\n      <td>2021-02</td>\n      <td>marine parade</td>\n      <td>71</td>\n      <td>marine drive</td>\n      <td>5 room</td>\n      <td>standard</td>\n      <td>126.0</td>\n      <td>yes</td>\n      <td>1977</td>\n      <td>1.304528</td>\n      <td>103.908944</td>\n      <td>0.0</td>\n      <td>marine parade</td>\n      <td>marine parade</td>\n      <td>central region</td>\n      <td>243.9</td>\n      <td>5.0</td>\n    </tr>\n    <tr>\n      <th>18</th>\n      <td>2021-10</td>\n      <td>geylang</td>\n      <td>10</td>\n      <td>eunos crescent</td>\n      <td>4 room</td>\n      <td>new generation</td>\n      <td>91.0</td>\n      <td>yes</td>\n      <td>1978</td>\n      <td>1.322287</td>\n      <td>103.902721</td>\n      <td>0.0</td>\n      <td>geylang east</td>\n      <td>geylang</td>\n      <td>central region</td>\n      <td>269.6</td>\n      <td>6.0</td>\n    </tr>\n    <tr>\n      <th>19</th>\n      <td>2022-10</td>\n      <td>punggol</td>\n      <td>195d</td>\n      <td>Punggol Road</td>\n      <td>4-room</td>\n      <td>premium apartment</td>\n      <td>90.0</td>\n      <td>yes</td>\n      <td>2007</td>\n      <td>1.401368</td>\n      <td>103.907096</td>\n      <td>0.0</td>\n      <td>punggol field</td>\n      <td>punggol</td>\n      <td>north-east region</td>\n      <td>328.1</td>\n      <td>14.0</td>\n    </tr>\n  </tbody>\n</table>\n</div>"
     },
     "execution_count": 8,
     "metadata": {},
     "output_type": "execute_result"
    }
   ],
   "source": [
    "# df_loc_house = get_score(df_loc_primary_school, df_loc_house)\n",
    "df_loc_house = get_score_optimized(df_loc_primary_school, df_loc_house)\n",
    "\n",
    "df_loc_house.head(20)"
   ]
  },
  {
   "cell_type": "code",
   "execution_count": 9,
   "outputs": [],
   "source": [
    "output_path = \"./Datasets/auxiliary-data/test_with_schoolscore.csv\"\n",
    "df_loc_house.to_csv(output_path, index=False)"
   ],
   "metadata": {
    "collapsed": false,
    "ExecuteTime": {
     "end_time": "2023-11-01T14:35:40.713604600Z",
     "start_time": "2023-11-01T14:35:40.452189800Z"
    }
   },
   "id": "132bad94c057639b"
  }
 ],
 "metadata": {
  "kernelspec": {
   "display_name": "Python 3 (ipykernel)",
   "language": "python",
   "name": "python3"
  },
  "language_info": {
   "codemirror_mode": {
    "name": "ipython",
    "version": 3
   },
   "file_extension": ".py",
   "mimetype": "text/x-python",
   "name": "python",
   "nbconvert_exporter": "python",
   "pygments_lexer": "ipython3",
   "version": "3.11.4"
  }
 },
 "nbformat": 4,
 "nbformat_minor": 5
}
