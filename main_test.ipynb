{
 "cells": [
  {
   "cell_type": "code",
   "execution_count": 13,
   "outputs": [
    {
     "data": {
      "text/plain": "  rent_approval_date         town block             street_name flat_type  \\\n0            2023-01      hougang   245       hougang street 22    5-room   \n1            2022-09    sembawang   316         sembawang vista    4-room   \n2            2023-07     clementi   708  Clementi West Street 2    4-room   \n3            2021-08  jurong east   351   Jurong East Street 31    3 room   \n4            2022-03  jurong east   305   jurong east street 32    5-room   \n\n       flat_model  floor_area_sqm furnished  lease_commence_date  latitude  \\\n0        improved           121.0       yes                 1984  1.358411   \n1         model a           100.0       yes                 1999  1.446343   \n2  new generation            91.0       yes                 1980  1.305719   \n3         model a            74.0       yes                 1986  1.344832   \n4        improved           121.0       yes                 1983  1.345437   \n\n    longitude  elevation            subzone planning_area             region  \n0  103.891722        0.0      lorong ah soo       hougang  north-east region  \n1  103.820817        0.0  sembawang central     sembawang       north region  \n2  103.762168        0.0      clementi west      clementi        west region  \n3  103.730778        0.0         yuhua west   jurong east        west region  \n4  103.735241        0.0         yuhua west   jurong east        west region  ",
      "text/html": "<div>\n<style scoped>\n    .dataframe tbody tr th:only-of-type {\n        vertical-align: middle;\n    }\n\n    .dataframe tbody tr th {\n        vertical-align: top;\n    }\n\n    .dataframe thead th {\n        text-align: right;\n    }\n</style>\n<table border=\"1\" class=\"dataframe\">\n  <thead>\n    <tr style=\"text-align: right;\">\n      <th></th>\n      <th>rent_approval_date</th>\n      <th>town</th>\n      <th>block</th>\n      <th>street_name</th>\n      <th>flat_type</th>\n      <th>flat_model</th>\n      <th>floor_area_sqm</th>\n      <th>furnished</th>\n      <th>lease_commence_date</th>\n      <th>latitude</th>\n      <th>longitude</th>\n      <th>elevation</th>\n      <th>subzone</th>\n      <th>planning_area</th>\n      <th>region</th>\n    </tr>\n  </thead>\n  <tbody>\n    <tr>\n      <th>0</th>\n      <td>2023-01</td>\n      <td>hougang</td>\n      <td>245</td>\n      <td>hougang street 22</td>\n      <td>5-room</td>\n      <td>improved</td>\n      <td>121.0</td>\n      <td>yes</td>\n      <td>1984</td>\n      <td>1.358411</td>\n      <td>103.891722</td>\n      <td>0.0</td>\n      <td>lorong ah soo</td>\n      <td>hougang</td>\n      <td>north-east region</td>\n    </tr>\n    <tr>\n      <th>1</th>\n      <td>2022-09</td>\n      <td>sembawang</td>\n      <td>316</td>\n      <td>sembawang vista</td>\n      <td>4-room</td>\n      <td>model a</td>\n      <td>100.0</td>\n      <td>yes</td>\n      <td>1999</td>\n      <td>1.446343</td>\n      <td>103.820817</td>\n      <td>0.0</td>\n      <td>sembawang central</td>\n      <td>sembawang</td>\n      <td>north region</td>\n    </tr>\n    <tr>\n      <th>2</th>\n      <td>2023-07</td>\n      <td>clementi</td>\n      <td>708</td>\n      <td>Clementi West Street 2</td>\n      <td>4-room</td>\n      <td>new generation</td>\n      <td>91.0</td>\n      <td>yes</td>\n      <td>1980</td>\n      <td>1.305719</td>\n      <td>103.762168</td>\n      <td>0.0</td>\n      <td>clementi west</td>\n      <td>clementi</td>\n      <td>west region</td>\n    </tr>\n    <tr>\n      <th>3</th>\n      <td>2021-08</td>\n      <td>jurong east</td>\n      <td>351</td>\n      <td>Jurong East Street 31</td>\n      <td>3 room</td>\n      <td>model a</td>\n      <td>74.0</td>\n      <td>yes</td>\n      <td>1986</td>\n      <td>1.344832</td>\n      <td>103.730778</td>\n      <td>0.0</td>\n      <td>yuhua west</td>\n      <td>jurong east</td>\n      <td>west region</td>\n    </tr>\n    <tr>\n      <th>4</th>\n      <td>2022-03</td>\n      <td>jurong east</td>\n      <td>305</td>\n      <td>jurong east street 32</td>\n      <td>5-room</td>\n      <td>improved</td>\n      <td>121.0</td>\n      <td>yes</td>\n      <td>1983</td>\n      <td>1.345437</td>\n      <td>103.735241</td>\n      <td>0.0</td>\n      <td>yuhua west</td>\n      <td>jurong east</td>\n      <td>west region</td>\n    </tr>\n  </tbody>\n</table>\n</div>"
     },
     "execution_count": 13,
     "metadata": {},
     "output_type": "execute_result"
    }
   ],
   "source": [
    "import pandas as pd\n",
    "\n",
    "# Load the dataset\n",
    "data = pd.read_csv(\"./Datasets/test.csv\")\n",
    "\n",
    "# Display the first few rows of the dataset\n",
    "data.head()"
   ],
   "metadata": {
    "collapsed": false,
    "ExecuteTime": {
     "end_time": "2023-11-01T14:31:50.248544300Z",
     "start_time": "2023-11-01T14:31:50.177109500Z"
    }
   },
   "id": "d17ac288e75f3286"
  },
  {
   "cell_type": "code",
   "execution_count": 14,
   "id": "initial_id",
   "metadata": {
    "collapsed": true,
    "ExecuteTime": {
     "end_time": "2023-11-01T14:31:50.399347300Z",
     "start_time": "2023-11-01T14:31:50.241544500Z"
    }
   },
   "outputs": [
    {
     "data": {
      "text/plain": "  rent_approval_date         town block             street_name flat_type  \\\n0            2023-01      hougang   245       hougang street 22    5-room   \n1            2022-09    sembawang   316         sembawang vista    4-room   \n2            2023-07     clementi   708  clementi west street 2    4-room   \n3            2021-08  jurong east   351   jurong east street 31    3 room   \n4            2022-03  jurong east   305   jurong east street 32    5-room   \n\n       flat_model  floor_area_sqm furnished  lease_commence_date  latitude  \\\n0        improved           121.0       yes                 1984  1.358411   \n1         model a           100.0       yes                 1999  1.446343   \n2  new generation            91.0       yes                 1980  1.305719   \n3         model a            74.0       yes                 1986  1.344832   \n4        improved           121.0       yes                 1983  1.345437   \n\n    longitude  elevation            subzone planning_area             region  \n0  103.891722        0.0      lorong ah soo       hougang  north-east region  \n1  103.820817        0.0  sembawang central     sembawang       north region  \n2  103.762168        0.0      clementi west      clementi        west region  \n3  103.730778        0.0         yuhua west   jurong east        west region  \n4  103.735241        0.0         yuhua west   jurong east        west region  ",
      "text/html": "<div>\n<style scoped>\n    .dataframe tbody tr th:only-of-type {\n        vertical-align: middle;\n    }\n\n    .dataframe tbody tr th {\n        vertical-align: top;\n    }\n\n    .dataframe thead th {\n        text-align: right;\n    }\n</style>\n<table border=\"1\" class=\"dataframe\">\n  <thead>\n    <tr style=\"text-align: right;\">\n      <th></th>\n      <th>rent_approval_date</th>\n      <th>town</th>\n      <th>block</th>\n      <th>street_name</th>\n      <th>flat_type</th>\n      <th>flat_model</th>\n      <th>floor_area_sqm</th>\n      <th>furnished</th>\n      <th>lease_commence_date</th>\n      <th>latitude</th>\n      <th>longitude</th>\n      <th>elevation</th>\n      <th>subzone</th>\n      <th>planning_area</th>\n      <th>region</th>\n    </tr>\n  </thead>\n  <tbody>\n    <tr>\n      <th>0</th>\n      <td>2023-01</td>\n      <td>hougang</td>\n      <td>245</td>\n      <td>hougang street 22</td>\n      <td>5-room</td>\n      <td>improved</td>\n      <td>121.0</td>\n      <td>yes</td>\n      <td>1984</td>\n      <td>1.358411</td>\n      <td>103.891722</td>\n      <td>0.0</td>\n      <td>lorong ah soo</td>\n      <td>hougang</td>\n      <td>north-east region</td>\n    </tr>\n    <tr>\n      <th>1</th>\n      <td>2022-09</td>\n      <td>sembawang</td>\n      <td>316</td>\n      <td>sembawang vista</td>\n      <td>4-room</td>\n      <td>model a</td>\n      <td>100.0</td>\n      <td>yes</td>\n      <td>1999</td>\n      <td>1.446343</td>\n      <td>103.820817</td>\n      <td>0.0</td>\n      <td>sembawang central</td>\n      <td>sembawang</td>\n      <td>north region</td>\n    </tr>\n    <tr>\n      <th>2</th>\n      <td>2023-07</td>\n      <td>clementi</td>\n      <td>708</td>\n      <td>clementi west street 2</td>\n      <td>4-room</td>\n      <td>new generation</td>\n      <td>91.0</td>\n      <td>yes</td>\n      <td>1980</td>\n      <td>1.305719</td>\n      <td>103.762168</td>\n      <td>0.0</td>\n      <td>clementi west</td>\n      <td>clementi</td>\n      <td>west region</td>\n    </tr>\n    <tr>\n      <th>3</th>\n      <td>2021-08</td>\n      <td>jurong east</td>\n      <td>351</td>\n      <td>jurong east street 31</td>\n      <td>3 room</td>\n      <td>model a</td>\n      <td>74.0</td>\n      <td>yes</td>\n      <td>1986</td>\n      <td>1.344832</td>\n      <td>103.730778</td>\n      <td>0.0</td>\n      <td>yuhua west</td>\n      <td>jurong east</td>\n      <td>west region</td>\n    </tr>\n    <tr>\n      <th>4</th>\n      <td>2022-03</td>\n      <td>jurong east</td>\n      <td>305</td>\n      <td>jurong east street 32</td>\n      <td>5-room</td>\n      <td>improved</td>\n      <td>121.0</td>\n      <td>yes</td>\n      <td>1983</td>\n      <td>1.345437</td>\n      <td>103.735241</td>\n      <td>0.0</td>\n      <td>yuhua west</td>\n      <td>jurong east</td>\n      <td>west region</td>\n    </tr>\n  </tbody>\n</table>\n</div>"
     },
     "execution_count": 14,
     "metadata": {},
     "output_type": "execute_result"
    }
   ],
   "source": [
    "# Convert textual columns to lowercase for normalization\n",
    "textual_columns = ['town', 'block', 'street_name', 'flat_type', 'flat_model', 'furnished', 'subzone', 'planning_area', 'region']\n",
    "\n",
    "data[textual_columns] = data[textual_columns].apply(lambda x: x.str.lower())\n",
    "\n",
    "# Display the first few rows to verify changes\n",
    "data.head()"
   ]
  },
  {
   "cell_type": "code",
   "execution_count": 15,
   "outputs": [
    {
     "data": {
      "text/plain": "          town block             street_name flat_type      flat_model  \\\n0      hougang   245       hougang street 22    5-room        improved   \n1    sembawang   316         sembawang vista    4-room         model a   \n2     clementi   708  clementi west street 2    4-room  new generation   \n3  jurong east   351   jurong east street 31    3 room         model a   \n4  jurong east   305   jurong east street 32    5-room        improved   \n\n   floor_area_sqm furnished  lease_commence_date  latitude   longitude  \\\n0           121.0       yes                 1984  1.358411  103.891722   \n1           100.0       yes                 1999  1.446343  103.820817   \n2            91.0       yes                 1980  1.305719  103.762168   \n3            74.0       yes                 1986  1.344832  103.730778   \n4           121.0       yes                 1983  1.345437  103.735241   \n\n   elevation            subzone planning_area             region  \\\n0        0.0      lorong ah soo       hougang  north-east region   \n1        0.0  sembawang central     sembawang       north region   \n2        0.0      clementi west      clementi        west region   \n3        0.0         yuhua west   jurong east        west region   \n4        0.0         yuhua west   jurong east        west region   \n\n   rent_approval_year  rent_approval_month  \n0                2023                    1  \n1                2022                    9  \n2                2023                    7  \n3                2021                    8  \n4                2022                    3  ",
      "text/html": "<div>\n<style scoped>\n    .dataframe tbody tr th:only-of-type {\n        vertical-align: middle;\n    }\n\n    .dataframe tbody tr th {\n        vertical-align: top;\n    }\n\n    .dataframe thead th {\n        text-align: right;\n    }\n</style>\n<table border=\"1\" class=\"dataframe\">\n  <thead>\n    <tr style=\"text-align: right;\">\n      <th></th>\n      <th>town</th>\n      <th>block</th>\n      <th>street_name</th>\n      <th>flat_type</th>\n      <th>flat_model</th>\n      <th>floor_area_sqm</th>\n      <th>furnished</th>\n      <th>lease_commence_date</th>\n      <th>latitude</th>\n      <th>longitude</th>\n      <th>elevation</th>\n      <th>subzone</th>\n      <th>planning_area</th>\n      <th>region</th>\n      <th>rent_approval_year</th>\n      <th>rent_approval_month</th>\n    </tr>\n  </thead>\n  <tbody>\n    <tr>\n      <th>0</th>\n      <td>hougang</td>\n      <td>245</td>\n      <td>hougang street 22</td>\n      <td>5-room</td>\n      <td>improved</td>\n      <td>121.0</td>\n      <td>yes</td>\n      <td>1984</td>\n      <td>1.358411</td>\n      <td>103.891722</td>\n      <td>0.0</td>\n      <td>lorong ah soo</td>\n      <td>hougang</td>\n      <td>north-east region</td>\n      <td>2023</td>\n      <td>1</td>\n    </tr>\n    <tr>\n      <th>1</th>\n      <td>sembawang</td>\n      <td>316</td>\n      <td>sembawang vista</td>\n      <td>4-room</td>\n      <td>model a</td>\n      <td>100.0</td>\n      <td>yes</td>\n      <td>1999</td>\n      <td>1.446343</td>\n      <td>103.820817</td>\n      <td>0.0</td>\n      <td>sembawang central</td>\n      <td>sembawang</td>\n      <td>north region</td>\n      <td>2022</td>\n      <td>9</td>\n    </tr>\n    <tr>\n      <th>2</th>\n      <td>clementi</td>\n      <td>708</td>\n      <td>clementi west street 2</td>\n      <td>4-room</td>\n      <td>new generation</td>\n      <td>91.0</td>\n      <td>yes</td>\n      <td>1980</td>\n      <td>1.305719</td>\n      <td>103.762168</td>\n      <td>0.0</td>\n      <td>clementi west</td>\n      <td>clementi</td>\n      <td>west region</td>\n      <td>2023</td>\n      <td>7</td>\n    </tr>\n    <tr>\n      <th>3</th>\n      <td>jurong east</td>\n      <td>351</td>\n      <td>jurong east street 31</td>\n      <td>3 room</td>\n      <td>model a</td>\n      <td>74.0</td>\n      <td>yes</td>\n      <td>1986</td>\n      <td>1.344832</td>\n      <td>103.730778</td>\n      <td>0.0</td>\n      <td>yuhua west</td>\n      <td>jurong east</td>\n      <td>west region</td>\n      <td>2021</td>\n      <td>8</td>\n    </tr>\n    <tr>\n      <th>4</th>\n      <td>jurong east</td>\n      <td>305</td>\n      <td>jurong east street 32</td>\n      <td>5-room</td>\n      <td>improved</td>\n      <td>121.0</td>\n      <td>yes</td>\n      <td>1983</td>\n      <td>1.345437</td>\n      <td>103.735241</td>\n      <td>0.0</td>\n      <td>yuhua west</td>\n      <td>jurong east</td>\n      <td>west region</td>\n      <td>2022</td>\n      <td>3</td>\n    </tr>\n  </tbody>\n</table>\n</div>"
     },
     "execution_count": 15,
     "metadata": {},
     "output_type": "execute_result"
    }
   ],
   "source": [
    "# Extract year and month from the 'rent_approval_date' column\n",
    "data['rent_approval_year'] = pd.to_datetime(data['rent_approval_date']).dt.year\n",
    "data['rent_approval_month'] = pd.to_datetime(data['rent_approval_date']).dt.month\n",
    "\n",
    "# Drop the original 'rent_approval_date' column\n",
    "data = data.drop(columns=['rent_approval_date'])\n",
    "\n",
    "# Display the modified dataset\n",
    "data.head()"
   ],
   "metadata": {
    "collapsed": false,
    "ExecuteTime": {
     "end_time": "2023-11-01T14:31:50.447123Z",
     "start_time": "2023-11-01T14:31:50.317829800Z"
    }
   },
   "id": "927a283c446ab1eb"
  },
  {
   "cell_type": "code",
   "execution_count": 16,
   "outputs": [
    {
     "data": {
      "text/plain": "array(['5-room', '4-room', '3-room', 'executive', '2-room'], dtype=object)"
     },
     "execution_count": 16,
     "metadata": {},
     "output_type": "execute_result"
    }
   ],
   "source": [
    "# Standardize the flat_type values by replacing \" room\" with \"-room\"\n",
    "data['flat_type'] = data['flat_type'].str.replace(\" room\", \"-room\")\n",
    "\n",
    "# Check the updated unique values in the 'flat_type' column\n",
    "updated_flat_types = data['flat_type'].unique()\n",
    "\n",
    "updated_flat_types"
   ],
   "metadata": {
    "collapsed": false,
    "ExecuteTime": {
     "end_time": "2023-11-01T14:31:50.447123Z",
     "start_time": "2023-11-01T14:31:50.358952800Z"
    }
   },
   "id": "cdcec8ebdacafdfd"
  },
  {
   "cell_type": "code",
   "execution_count": 17,
   "outputs": [
    {
     "data": {
      "text/plain": "Index(['town', 'block', 'street_name', 'flat_type', 'flat_model',\n       'floor_area_sqm', 'lease_commence_date', 'latitude', 'longitude',\n       'subzone', 'planning_area', 'region', 'rent_approval_year',\n       'rent_approval_month'],\n      dtype='object')"
     },
     "execution_count": 17,
     "metadata": {},
     "output_type": "execute_result"
    }
   ],
   "source": [
    "# Identify columns with only one unique value\n",
    "columns_to_drop = [col for col in data.columns if data[col].nunique() == 1]\n",
    "\n",
    "# Drop these columns from the dataset\n",
    "data = data.drop(columns=columns_to_drop)\n",
    "\n",
    "# Display the updated dataset columns\n",
    "remaining_columns = data.columns\n",
    "remaining_columns"
   ],
   "metadata": {
    "collapsed": false,
    "ExecuteTime": {
     "end_time": "2023-11-01T14:31:50.472261100Z",
     "start_time": "2023-11-01T14:31:50.375648Z"
    }
   },
   "id": "94d1e20f5e603d16"
  },
  {
   "cell_type": "code",
   "execution_count": 18,
   "outputs": [],
   "source": [
    "# Drop the 'block', 'street names' columns as it is too granular and may not generalize well\n",
    "data = data.drop(columns=['block', 'street_name'])"
   ],
   "metadata": {
    "collapsed": false,
    "ExecuteTime": {
     "end_time": "2023-11-01T14:31:50.473258Z",
     "start_time": "2023-11-01T14:31:50.401864800Z"
    }
   },
   "id": "86f566a0d6f622e9"
  },
  {
   "cell_type": "code",
   "execution_count": 19,
   "outputs": [
    {
     "data": {
      "text/plain": "   year category month  bidding  price  quota  bids\n0  2023        a  july        2  95202    581   728\n1  2023        a  july        1  97000    588   756\n2  2023        a  june        2  96206    586   751\n3  2023        a  june        1  98001    581   881\n4  2023        a   may        2  92000    596   936",
      "text/html": "<div>\n<style scoped>\n    .dataframe tbody tr th:only-of-type {\n        vertical-align: middle;\n    }\n\n    .dataframe tbody tr th {\n        vertical-align: top;\n    }\n\n    .dataframe thead th {\n        text-align: right;\n    }\n</style>\n<table border=\"1\" class=\"dataframe\">\n  <thead>\n    <tr style=\"text-align: right;\">\n      <th></th>\n      <th>year</th>\n      <th>category</th>\n      <th>month</th>\n      <th>bidding</th>\n      <th>price</th>\n      <th>quota</th>\n      <th>bids</th>\n    </tr>\n  </thead>\n  <tbody>\n    <tr>\n      <th>0</th>\n      <td>2023</td>\n      <td>a</td>\n      <td>july</td>\n      <td>2</td>\n      <td>95202</td>\n      <td>581</td>\n      <td>728</td>\n    </tr>\n    <tr>\n      <th>1</th>\n      <td>2023</td>\n      <td>a</td>\n      <td>july</td>\n      <td>1</td>\n      <td>97000</td>\n      <td>588</td>\n      <td>756</td>\n    </tr>\n    <tr>\n      <th>2</th>\n      <td>2023</td>\n      <td>a</td>\n      <td>june</td>\n      <td>2</td>\n      <td>96206</td>\n      <td>586</td>\n      <td>751</td>\n    </tr>\n    <tr>\n      <th>3</th>\n      <td>2023</td>\n      <td>a</td>\n      <td>june</td>\n      <td>1</td>\n      <td>98001</td>\n      <td>581</td>\n      <td>881</td>\n    </tr>\n    <tr>\n      <th>4</th>\n      <td>2023</td>\n      <td>a</td>\n      <td>may</td>\n      <td>2</td>\n      <td>92000</td>\n      <td>596</td>\n      <td>936</td>\n    </tr>\n  </tbody>\n</table>\n</div>"
     },
     "execution_count": 19,
     "metadata": {},
     "output_type": "execute_result"
    }
   ],
   "source": [
    "# Load the first dataset\n",
    "sg_coe_prices = pd.read_csv(\"./Datasets/auxiliary-data/sg-coe-prices.csv\")\n",
    "sg_coe_prices.head()"
   ],
   "metadata": {
    "collapsed": false,
    "ExecuteTime": {
     "end_time": "2023-11-01T14:31:50.474259300Z",
     "start_time": "2023-11-01T14:31:50.410022600Z"
    }
   },
   "id": "b1aa47c420402489"
  },
  {
   "cell_type": "code",
   "execution_count": 20,
   "outputs": [
    {
     "data": {
      "text/plain": "          town flat_type      flat_model  floor_area_sqm  lease_commence_date  \\\n0      hougang    5-room        improved           121.0                 1984   \n1    sembawang    4-room         model a           100.0                 1999   \n2     clementi    4-room  new generation            91.0                 1980   \n3  jurong east    3-room         model a            74.0                 1986   \n4  jurong east    5-room        improved           121.0                 1983   \n\n   latitude   longitude            subzone planning_area             region  \\\n0  1.358411  103.891722      lorong ah soo       hougang  north-east region   \n1  1.446343  103.820817  sembawang central     sembawang       north region   \n2  1.305719  103.762168      clementi west      clementi        west region   \n3  1.344832  103.730778         yuhua west   jurong east        west region   \n4  1.345437  103.735241         yuhua west   jurong east        west region   \n\n   rent_approval_year  rent_approval_month   coe_price  \n0                2023                    1   92845.000  \n1                2022                    9   92942.625  \n2                2023                    7  104442.375  \n3                2021                    8   51997.375  \n4                2022                    3   79016.000  ",
      "text/html": "<div>\n<style scoped>\n    .dataframe tbody tr th:only-of-type {\n        vertical-align: middle;\n    }\n\n    .dataframe tbody tr th {\n        vertical-align: top;\n    }\n\n    .dataframe thead th {\n        text-align: right;\n    }\n</style>\n<table border=\"1\" class=\"dataframe\">\n  <thead>\n    <tr style=\"text-align: right;\">\n      <th></th>\n      <th>town</th>\n      <th>flat_type</th>\n      <th>flat_model</th>\n      <th>floor_area_sqm</th>\n      <th>lease_commence_date</th>\n      <th>latitude</th>\n      <th>longitude</th>\n      <th>subzone</th>\n      <th>planning_area</th>\n      <th>region</th>\n      <th>rent_approval_year</th>\n      <th>rent_approval_month</th>\n      <th>coe_price</th>\n    </tr>\n  </thead>\n  <tbody>\n    <tr>\n      <th>0</th>\n      <td>hougang</td>\n      <td>5-room</td>\n      <td>improved</td>\n      <td>121.0</td>\n      <td>1984</td>\n      <td>1.358411</td>\n      <td>103.891722</td>\n      <td>lorong ah soo</td>\n      <td>hougang</td>\n      <td>north-east region</td>\n      <td>2023</td>\n      <td>1</td>\n      <td>92845.000</td>\n    </tr>\n    <tr>\n      <th>1</th>\n      <td>sembawang</td>\n      <td>4-room</td>\n      <td>model a</td>\n      <td>100.0</td>\n      <td>1999</td>\n      <td>1.446343</td>\n      <td>103.820817</td>\n      <td>sembawang central</td>\n      <td>sembawang</td>\n      <td>north region</td>\n      <td>2022</td>\n      <td>9</td>\n      <td>92942.625</td>\n    </tr>\n    <tr>\n      <th>2</th>\n      <td>clementi</td>\n      <td>4-room</td>\n      <td>new generation</td>\n      <td>91.0</td>\n      <td>1980</td>\n      <td>1.305719</td>\n      <td>103.762168</td>\n      <td>clementi west</td>\n      <td>clementi</td>\n      <td>west region</td>\n      <td>2023</td>\n      <td>7</td>\n      <td>104442.375</td>\n    </tr>\n    <tr>\n      <th>3</th>\n      <td>jurong east</td>\n      <td>3-room</td>\n      <td>model a</td>\n      <td>74.0</td>\n      <td>1986</td>\n      <td>1.344832</td>\n      <td>103.730778</td>\n      <td>yuhua west</td>\n      <td>jurong east</td>\n      <td>west region</td>\n      <td>2021</td>\n      <td>8</td>\n      <td>51997.375</td>\n    </tr>\n    <tr>\n      <th>4</th>\n      <td>jurong east</td>\n      <td>5-room</td>\n      <td>improved</td>\n      <td>121.0</td>\n      <td>1983</td>\n      <td>1.345437</td>\n      <td>103.735241</td>\n      <td>yuhua west</td>\n      <td>jurong east</td>\n      <td>west region</td>\n      <td>2022</td>\n      <td>3</td>\n      <td>79016.000</td>\n    </tr>\n  </tbody>\n</table>\n</div>"
     },
     "execution_count": 20,
     "metadata": {},
     "output_type": "execute_result"
    }
   ],
   "source": [
    "# Convert month names in sg_coe_prices to numerical values for merging\n",
    "month_map = {\n",
    "    'january': 1, 'february': 2, 'march': 3, 'april': 4, 'may': 5, 'june': 6,\n",
    "    'july': 7, 'august': 8, 'september': 9, 'october': 10, 'november': 11, 'december': 12\n",
    "}\n",
    "sg_coe_prices['month_num'] = sg_coe_prices['month'].map(month_map)\n",
    "sg_coe_prices.rename(columns={'price': 'coe_price'}, inplace=True)\n",
    "\n",
    "# Aggregate COE prices by taking the average for each month and year across all categories\n",
    "average_coe_prices = sg_coe_prices.groupby(['year', 'month_num'])['coe_price'].mean().reset_index()\n",
    "\n",
    "# Merge the aggregated COE prices back into the rental data\n",
    "data = pd.merge(data, average_coe_prices,\n",
    "                           left_on=['rent_approval_year', 'rent_approval_month'],\n",
    "                           right_on=['year', 'month_num'],\n",
    "                           how='left').drop(columns=['year', 'month_num'])\n",
    "\n",
    "data.head()"
   ],
   "metadata": {
    "collapsed": false,
    "ExecuteTime": {
     "end_time": "2023-11-01T14:31:50.560778200Z",
     "start_time": "2023-11-01T14:31:50.427123400Z"
    }
   },
   "id": "a202f1ad08f46866"
  },
  {
   "cell_type": "code",
   "execution_count": 21,
   "outputs": [
    {
     "data": {
      "text/plain": "         Date      Open      High       Low     Close\n0  10/20/2023  3,076.69  3,100.44  3,074.07  3,076.69\n1  10/19/2023  3,111.78  3,099.60  3,099.60  3,099.60\n2  10/18/2023  3,167.63  3,136.62  3,136.62  3,136.62\n3  10/17/2023  3,185.79  3,171.83  3,171.83  3,171.83\n4  10/16/2023  3,163.89  3,179.39  3,157.63  3,163.89",
      "text/html": "<div>\n<style scoped>\n    .dataframe tbody tr th:only-of-type {\n        vertical-align: middle;\n    }\n\n    .dataframe tbody tr th {\n        vertical-align: top;\n    }\n\n    .dataframe thead th {\n        text-align: right;\n    }\n</style>\n<table border=\"1\" class=\"dataframe\">\n  <thead>\n    <tr style=\"text-align: right;\">\n      <th></th>\n      <th>Date</th>\n      <th>Open</th>\n      <th>High</th>\n      <th>Low</th>\n      <th>Close</th>\n    </tr>\n  </thead>\n  <tbody>\n    <tr>\n      <th>0</th>\n      <td>10/20/2023</td>\n      <td>3,076.69</td>\n      <td>3,100.44</td>\n      <td>3,074.07</td>\n      <td>3,076.69</td>\n    </tr>\n    <tr>\n      <th>1</th>\n      <td>10/19/2023</td>\n      <td>3,111.78</td>\n      <td>3,099.60</td>\n      <td>3,099.60</td>\n      <td>3,099.60</td>\n    </tr>\n    <tr>\n      <th>2</th>\n      <td>10/18/2023</td>\n      <td>3,167.63</td>\n      <td>3,136.62</td>\n      <td>3,136.62</td>\n      <td>3,136.62</td>\n    </tr>\n    <tr>\n      <th>3</th>\n      <td>10/17/2023</td>\n      <td>3,185.79</td>\n      <td>3,171.83</td>\n      <td>3,171.83</td>\n      <td>3,171.83</td>\n    </tr>\n    <tr>\n      <th>4</th>\n      <td>10/16/2023</td>\n      <td>3,163.89</td>\n      <td>3,179.39</td>\n      <td>3,157.63</td>\n      <td>3,163.89</td>\n    </tr>\n  </tbody>\n</table>\n</div>"
     },
     "execution_count": 21,
     "metadata": {},
     "output_type": "execute_result"
    }
   ],
   "source": [
    "# Loading the datasets\n",
    "sg_stock_prices = pd.read_csv('./Datasets/auxiliary-data/INDEX_SG_XSES_STI.csv')\n",
    "\n",
    "# Displaying the first few rows of each dataset\n",
    "sg_stock_prices.head()"
   ],
   "metadata": {
    "collapsed": false,
    "ExecuteTime": {
     "end_time": "2023-11-01T14:31:50.562778400Z",
     "start_time": "2023-11-01T14:31:50.457112Z"
    }
   },
   "id": "b6bd4c227a90a8ef"
  },
  {
   "cell_type": "code",
   "execution_count": 22,
   "outputs": [],
   "source": [
    "# Convert the Date column in the index_data to datetime format\n",
    "sg_stock_prices['Date'] = pd.to_datetime(sg_stock_prices['Date'])\n",
    "\n",
    "# Extract year and month from the Date column in index_data for merging\n",
    "sg_stock_prices['Year'] = sg_stock_prices['Date'].dt.year\n",
    "sg_stock_prices['Month'] = sg_stock_prices['Date'].dt.month\n",
    "\n",
    "# Aggregate the stock index data using mean, min, and max for each month and year\n",
    "for col in ['Open', 'Low', 'Close', 'High']:\n",
    "    sg_stock_prices[col] = sg_stock_prices[col].str.replace(',','').astype(float)\n",
    "\n",
    "# Re-run the aggregation\n",
    "mean_aggregated = sg_stock_prices.groupby(['Year', 'Month']).mean().reset_index()\n",
    "min_aggregated = sg_stock_prices.groupby(['Year', 'Month']).min().reset_index()\n",
    "max_aggregated = sg_stock_prices.groupby(['Year', 'Month']).max().reset_index()"
   ],
   "metadata": {
    "collapsed": false,
    "ExecuteTime": {
     "end_time": "2023-11-01T14:31:53.843018300Z",
     "start_time": "2023-11-01T14:31:53.821289200Z"
    }
   },
   "id": "a813f91495091c19"
  },
  {
   "cell_type": "code",
   "execution_count": 23,
   "outputs": [
    {
     "data": {
      "text/plain": "          town flat_type      flat_model  floor_area_sqm  lease_commence_date  \\\n0      hougang    5-room        improved           121.0                 1984   \n1    sembawang    4-room         model a           100.0                 1999   \n2     clementi    4-room  new generation            91.0                 1980   \n3  jurong east    3-room         model a            74.0                 1986   \n4  jurong east    5-room        improved           121.0                 1983   \n\n   latitude   longitude            subzone planning_area             region  \\\n0  1.358411  103.891722      lorong ah soo       hougang  north-east region   \n1  1.446343  103.820817  sembawang central     sembawang       north region   \n2  1.305719  103.762168      clementi west      clementi        west region   \n3  1.344832  103.730778         yuhua west   jurong east        west region   \n4  1.345437  103.735241         yuhua west   jurong east        west region   \n\n   rent_approval_year  rent_approval_month   coe_price  Year  Month  \\\n0                2023                    1   92845.000  2023      1   \n1                2022                    9   92942.625  2022      9   \n2                2023                    7  104442.375  2023      7   \n3                2021                    8   51997.375  2021      8   \n4                2022                    3   79016.000  2022      3   \n\n   Stock_Price  \n0      3242.46  \n1      3115.08  \n2      3139.47  \n3      3055.05  \n4      3148.86  ",
      "text/html": "<div>\n<style scoped>\n    .dataframe tbody tr th:only-of-type {\n        vertical-align: middle;\n    }\n\n    .dataframe tbody tr th {\n        vertical-align: top;\n    }\n\n    .dataframe thead th {\n        text-align: right;\n    }\n</style>\n<table border=\"1\" class=\"dataframe\">\n  <thead>\n    <tr style=\"text-align: right;\">\n      <th></th>\n      <th>town</th>\n      <th>flat_type</th>\n      <th>flat_model</th>\n      <th>floor_area_sqm</th>\n      <th>lease_commence_date</th>\n      <th>latitude</th>\n      <th>longitude</th>\n      <th>subzone</th>\n      <th>planning_area</th>\n      <th>region</th>\n      <th>rent_approval_year</th>\n      <th>rent_approval_month</th>\n      <th>coe_price</th>\n      <th>Year</th>\n      <th>Month</th>\n      <th>Stock_Price</th>\n    </tr>\n  </thead>\n  <tbody>\n    <tr>\n      <th>0</th>\n      <td>hougang</td>\n      <td>5-room</td>\n      <td>improved</td>\n      <td>121.0</td>\n      <td>1984</td>\n      <td>1.358411</td>\n      <td>103.891722</td>\n      <td>lorong ah soo</td>\n      <td>hougang</td>\n      <td>north-east region</td>\n      <td>2023</td>\n      <td>1</td>\n      <td>92845.000</td>\n      <td>2023</td>\n      <td>1</td>\n      <td>3242.46</td>\n    </tr>\n    <tr>\n      <th>1</th>\n      <td>sembawang</td>\n      <td>4-room</td>\n      <td>model a</td>\n      <td>100.0</td>\n      <td>1999</td>\n      <td>1.446343</td>\n      <td>103.820817</td>\n      <td>sembawang central</td>\n      <td>sembawang</td>\n      <td>north region</td>\n      <td>2022</td>\n      <td>9</td>\n      <td>92942.625</td>\n      <td>2022</td>\n      <td>9</td>\n      <td>3115.08</td>\n    </tr>\n    <tr>\n      <th>2</th>\n      <td>clementi</td>\n      <td>4-room</td>\n      <td>new generation</td>\n      <td>91.0</td>\n      <td>1980</td>\n      <td>1.305719</td>\n      <td>103.762168</td>\n      <td>clementi west</td>\n      <td>clementi</td>\n      <td>west region</td>\n      <td>2023</td>\n      <td>7</td>\n      <td>104442.375</td>\n      <td>2023</td>\n      <td>7</td>\n      <td>3139.47</td>\n    </tr>\n    <tr>\n      <th>3</th>\n      <td>jurong east</td>\n      <td>3-room</td>\n      <td>model a</td>\n      <td>74.0</td>\n      <td>1986</td>\n      <td>1.344832</td>\n      <td>103.730778</td>\n      <td>yuhua west</td>\n      <td>jurong east</td>\n      <td>west region</td>\n      <td>2021</td>\n      <td>8</td>\n      <td>51997.375</td>\n      <td>2021</td>\n      <td>8</td>\n      <td>3055.05</td>\n    </tr>\n    <tr>\n      <th>4</th>\n      <td>jurong east</td>\n      <td>5-room</td>\n      <td>improved</td>\n      <td>121.0</td>\n      <td>1983</td>\n      <td>1.345437</td>\n      <td>103.735241</td>\n      <td>yuhua west</td>\n      <td>jurong east</td>\n      <td>west region</td>\n      <td>2022</td>\n      <td>3</td>\n      <td>79016.000</td>\n      <td>2022</td>\n      <td>3</td>\n      <td>3148.86</td>\n    </tr>\n  </tbody>\n</table>\n</div>"
     },
     "execution_count": 23,
     "metadata": {},
     "output_type": "execute_result"
    }
   ],
   "source": [
    "# From the above correlations, the Close value with the Min aggregation method has the highest correlation with monthly_rent. Therefore, if we were to choose a single aggregated stock index value as a feature, the Close price with the Min aggregation would be the most suitable based on its correlation with the target variable.\n",
    "# Merge the train_data with min_aggregated data using only the 'Close' column\n",
    "data = pd.merge(data, min_aggregated[['Year', 'Month', 'Close']],\n",
    "                            left_on=['rent_approval_year', 'rent_approval_month'],\n",
    "                            right_on=['Year', 'Month'], how='left')\n",
    "\n",
    "# Rename the 'Close' column for clarity\n",
    "data.rename(columns={'Close': 'Stock_Price'}, inplace=True)\n",
    "\n",
    "data.head()"
   ],
   "metadata": {
    "collapsed": false,
    "ExecuteTime": {
     "end_time": "2023-11-01T14:31:59.678164400Z",
     "start_time": "2023-11-01T14:31:59.654729500Z"
    }
   },
   "id": "24bf02346cfcc5dd"
  },
  {
   "cell_type": "code",
   "execution_count": 24,
   "outputs": [
    {
     "data": {
      "text/plain": "(            town  flat_type         flat_model  floor_area_sqm  \\\n 0        hougang     5-room           improved           121.0   \n 1      sembawang     4-room            model a           100.0   \n 2       clementi     4-room     new generation            91.0   \n 3    jurong east     3-room            model a            74.0   \n 4    jurong east     5-room           improved           121.0   \n 5       clementi     3-room     new generation            67.0   \n 6        punggol     5-room  premium apartment           110.0   \n 7       tampines     5-room               dbss           108.0   \n 8    jurong west  executive  premium apartment           133.0   \n 9  marine parade     5-room           standard           120.0   \n \n    lease_commence_date  latitude   longitude              subzone  \\\n 0                 1984  1.358411  103.891722        lorong ah soo   \n 1                 1999  1.446343  103.820817    sembawang central   \n 2                 1980  1.305719  103.762168        clementi west   \n 3                 1986  1.344832  103.730778           yuhua west   \n 4                 1983  1.345437  103.735241           yuhua west   \n 5                 1980  1.307637  103.761326        clementi west   \n 6                 2005  1.397319  103.916019        waterway east   \n 7                 2008  1.356968  103.938668        tampines east   \n 8                 2001  1.338605  103.700079  jurong west central   \n 9                 1975  1.303476  103.915412        marine parade   \n \n    planning_area             region  ...   coe_price  Year  Month  \\\n 0        hougang  north-east region  ...   92845.000  2023      1   \n 1      sembawang       north region  ...   92942.625  2022      9   \n 2       clementi        west region  ...  104442.375  2023      7   \n 3    jurong east        west region  ...   51997.375  2021      8   \n 4    jurong east        west region  ...   79016.000  2022      3   \n 5       clementi        west region  ...   65851.375  2022      1   \n 6        punggol  north-east region  ...   52199.625  2021      5   \n 7       tampines        east region  ...   90883.875  2022      8   \n 8    jurong west        west region  ...   66886.250  2021     12   \n 9  marine parade     central region  ...  104442.375  2023      7   \n \n    Stock_Price  mrt_nearest_distance     mrt_nearest  mrt_count_within_1km  \\\n 0      3242.46                 820.0           Kovan                     1   \n 1      3115.08                 308.0       Sembawang                     1   \n 2      3139.47                1098.0    Commonwealth                     0   \n 3      3055.05                 363.0  Chinese Garden                     1   \n 4      3148.86                 449.0  Chinese Garden                     1   \n 5      3134.25                 936.0    Commonwealth                     2   \n 6      3055.02                1741.0         Punggol                     0   \n 7      3221.67                 523.0        Tampines                     2   \n 8      3072.97                 316.0         Pioneer                     2   \n 9      3139.47                1973.0       Kembangan                     0   \n \n   mall_nearest_distance                  mall_nearest  mall_count_within_1km  \n 0                 739.0                Heartland Mall                      1  \n 1                 255.0                     Sun Plaza                      2  \n 2                 498.0              West Coast Plaza                      1  \n 3                1596.0  Taman Jurong Shopping Centre                      0  \n 4                1461.0                         JCube                      0  \n 5                 696.0              West Coast Plaza                      3  \n 6                 476.0                 Punggol Plaza                      2  \n 7                 419.0              Our Tampines Hub                      4  \n 8                 464.0                  Pioneer Mall                      2  \n 9                1061.0                Parkway Parade                      0  \n \n [10 rows x 22 columns],\n (30000, 22))"
     },
     "execution_count": 24,
     "metadata": {},
     "output_type": "execute_result"
    }
   ],
   "source": [
    "import numpy as np\n",
    "\n",
    "# 直线距离\n",
    "def haversine_distances(df_lats, df_longs, dst_lats, dst_longs):\n",
    "    R = 6371000  # Earth's average radius in meters\n",
    "\n",
    "    lat = np.radians(dst_lats) - np.radians(df_lats[:, np.newaxis])\n",
    "    lon = np.radians(dst_longs) - np.radians(df_longs[:, np.newaxis])\n",
    "\n",
    "    a = np.sin(lat / 2.0) ** 2 + np.cos(np.radians(df_lats[:, np.newaxis])) * np.cos(np.radians(dst_lats)) * np.sin(lon / 2.0) ** 2\n",
    "    c = 2 * np.arctan2(np.sqrt(a), np.sqrt(1 - a))\n",
    "\n",
    "    return R * c\n",
    "\n",
    "def add_distance_features(train_df, poi_df, prefix):\n",
    "    distances = haversine_distances(train_df['latitude'].values, train_df['longitude'].values, poi_df['latitude'].values, poi_df['longitude'].values)\n",
    "\n",
    "    train_df[prefix + '_nearest_distance'] = np.min(distances, axis=1).round()\n",
    "    nearest_index = np.argmin(distances, axis=1)\n",
    "    train_df[prefix + '_nearest'] = poi_df['name'].iloc[nearest_index].values\n",
    "    train_df[prefix + '_count_within_1km'] = np.sum(distances <= 1000, axis=1)\n",
    "\n",
    "# Load data\n",
    "mrt_file = pd.read_csv(\"./Datasets/auxiliary-data/sg-mrt-existing-stations.csv\")\n",
    "shoppingmall_file = pd.read_csv(\"./Datasets/auxiliary-data/sg-shopping-malls.csv\")\n",
    "\n",
    "# Add distance features for MRT stations and shopping malls\n",
    "add_distance_features(data, mrt_file, 'mrt')\n",
    "add_distance_features(data, shoppingmall_file, 'mall')\n",
    "\n",
    "data.head(10), data.shape"
   ],
   "metadata": {
    "collapsed": false,
    "ExecuteTime": {
     "end_time": "2023-11-01T14:32:17.177928300Z",
     "start_time": "2023-11-01T14:32:16.683328600Z"
    }
   },
   "id": "c007bee5273b7f60"
  },
  {
   "cell_type": "code",
   "execution_count": 25,
   "outputs": [
    {
     "data": {
      "text/plain": "             town  flat_type         flat_model  floor_area_sqm  \\\n0         hougang     5-room           improved           121.0   \n1       sembawang     4-room            model a           100.0   \n2        clementi     4-room     new generation            91.0   \n3     jurong east     3-room            model a            74.0   \n4     jurong east     5-room           improved           121.0   \n5        clementi     3-room     new generation            67.0   \n6         punggol     5-room  premium apartment           110.0   \n7        tampines     5-room               dbss           108.0   \n8     jurong west  executive  premium apartment           133.0   \n9   marine parade     5-room           standard           120.0   \n10      woodlands     4-room            model a           102.0   \n11      toa payoh     3-room           improved            65.0   \n12    jurong west     4-room            model a            93.0   \n13       sengkang     5-room  premium apartment           110.0   \n14          bedok     4-room     new generation            92.0   \n15  choa chu kang     4-room  premium apartment           113.0   \n16       tampines     3-room            model a            74.0   \n17  marine parade     5-room           standard           126.0   \n18        geylang     4-room     new generation            91.0   \n19        punggol     4-room  premium apartment            90.0   \n\n    lease_commence_date  latitude   longitude              subzone  \\\n0                  1984  1.358411  103.891722        lorong ah soo   \n1                  1999  1.446343  103.820817    sembawang central   \n2                  1980  1.305719  103.762168        clementi west   \n3                  1986  1.344832  103.730778           yuhua west   \n4                  1983  1.345437  103.735241           yuhua west   \n5                  1980  1.307637  103.761326        clementi west   \n6                  2005  1.397319  103.916019        waterway east   \n7                  2008  1.356968  103.938668        tampines east   \n8                  2001  1.338605  103.700079  jurong west central   \n9                  1975  1.303476  103.915412        marine parade   \n10                 1997  1.442394  103.802850       woodlands east   \n11                 1968  1.339109  103.844687       toa payoh west   \n12                 2015  1.342789  103.714301       boon lay place   \n13                 2003  1.392591  103.889372           anchorvale   \n14                 1980  1.329800  103.933844          bedok north   \n15                 1998  1.396609  103.749729              yew tee   \n16                 1984  1.355004  103.947121        tampines east   \n17                 1977  1.304528  103.908944        marine parade   \n18                 1978  1.322287  103.902721         geylang east   \n19                 2007  1.401368  103.907096        punggol field   \n\n    planning_area             region  ...  Stock_Price  mrt_nearest_distance  \\\n0         hougang  north-east region  ...      3242.46                 820.0   \n1       sembawang       north region  ...      3115.08                 308.0   \n2        clementi        west region  ...      3139.47                1098.0   \n3     jurong east        west region  ...      3055.05                 363.0   \n4     jurong east        west region  ...      3148.86                 449.0   \n5        clementi        west region  ...      3134.25                 936.0   \n6         punggol  north-east region  ...      3055.02                1741.0   \n7        tampines        east region  ...      3221.67                 523.0   \n8     jurong west        west region  ...      3072.97                 316.0   \n9   marine parade     central region  ...      3139.47                1973.0   \n10      woodlands       north region  ...      3089.49                 297.0   \n11      toa payoh     central region  ...      3270.51                 255.0   \n12    jurong west        west region  ...      3092.80                 757.0   \n13       sengkang  north-east region  ...      3165.18                 689.0   \n14          bedok        east region  ...      3089.49                 773.0   \n15  choa chu kang        west region  ...      3092.80                 274.0   \n16       tampines        east region  ...      3055.02                 457.0   \n17  marine parade     central region  ...      2880.64                1812.0   \n18        geylang     central region  ...      3051.11                 284.0   \n19        punggol  north-east region  ...      2969.95                 655.0   \n\n       mrt_nearest  mrt_count_within_1km  mall_nearest_distance  \\\n0            Kovan                     1                  739.0   \n1        Sembawang                     1                  255.0   \n2     Commonwealth                     0                  498.0   \n3   Chinese Garden                     1                 1596.0   \n4   Chinese Garden                     1                 1461.0   \n5     Commonwealth                     2                  696.0   \n6          Punggol                     0                  476.0   \n7         Tampines                     2                  419.0   \n8          Pioneer                     2                  464.0   \n9        Kembangan                     0                 1061.0   \n10       Admiralty                     1                  263.0   \n11        Braddell                     4                  976.0   \n12        Lakeside                     1                  447.0   \n13        Sengkang                     1                  636.0   \n14           Bedok                     2                  628.0   \n15         Yew Tee                     1                  335.0   \n16        Tampines                     3                  373.0   \n17           Eunos                     0                  440.0   \n18           Eunos                     2                  944.0   \n19         Punggol                     1                  726.0   \n\n                    mall_nearest  mall_count_within_1km  \\\n0                 Heartland Mall                      1   \n1                      Sun Plaza                      2   \n2               West Coast Plaza                      1   \n3   Taman Jurong Shopping Centre                      0   \n4                          JCube                      0   \n5               West Coast Plaza                      3   \n6                  Punggol Plaza                      2   \n7               Our Tampines Hub                      4   \n8                   Pioneer Mall                      2   \n9                 Parkway Parade                      0   \n10               Admiralty Place                      2   \n11                       HDB Hub                      1   \n12      Boon Lay Shopping Centre                      2   \n13                   Compass One                      1   \n14            Djitsun Mall Bedok                      2   \n15                Yew Tee Square                      3   \n16                 Tampines Mall                      4   \n17                Parkway Parade                      5   \n18               Singpost Centre                      1   \n19                Oasis Terraces                      2   \n\n   mrt_planned_nearest_distance  mrt_planned_nearest  \\\n0                         820.0                Kovan   \n1                         308.0            Sembawang   \n2                        1098.0         Commonwealth   \n3                         363.0       Chinese Garden   \n4                         449.0       Chinese Garden   \n5                         936.0         Commonwealth   \n6                        1741.0              Punggol   \n7                         523.0             Tampines   \n8                         316.0              Pioneer   \n9                         362.0       Marine Terrace   \n10                        297.0            Admiralty   \n11                        255.0             Braddell   \n12                        757.0             Lakeside   \n13                        689.0             Sengkang   \n14                        773.0                Bedok   \n15                        274.0              Yew Tee   \n16                        457.0             Tampines   \n17                        490.0        Marine Parade   \n18                        284.0                Eunos   \n19                        655.0              Punggol   \n\n    mrt_planned_count_within_1km  \n0                              1  \n1                              1  \n2                              0  \n3                              1  \n4                              1  \n5                              2  \n6                              0  \n7                              2  \n8                              2  \n9                              1  \n10                             1  \n11                             4  \n12                             1  \n13                             1  \n14                             2  \n15                             1  \n16                             3  \n17                             2  \n18                             2  \n19                             1  \n\n[20 rows x 25 columns]",
      "text/html": "<div>\n<style scoped>\n    .dataframe tbody tr th:only-of-type {\n        vertical-align: middle;\n    }\n\n    .dataframe tbody tr th {\n        vertical-align: top;\n    }\n\n    .dataframe thead th {\n        text-align: right;\n    }\n</style>\n<table border=\"1\" class=\"dataframe\">\n  <thead>\n    <tr style=\"text-align: right;\">\n      <th></th>\n      <th>town</th>\n      <th>flat_type</th>\n      <th>flat_model</th>\n      <th>floor_area_sqm</th>\n      <th>lease_commence_date</th>\n      <th>latitude</th>\n      <th>longitude</th>\n      <th>subzone</th>\n      <th>planning_area</th>\n      <th>region</th>\n      <th>...</th>\n      <th>Stock_Price</th>\n      <th>mrt_nearest_distance</th>\n      <th>mrt_nearest</th>\n      <th>mrt_count_within_1km</th>\n      <th>mall_nearest_distance</th>\n      <th>mall_nearest</th>\n      <th>mall_count_within_1km</th>\n      <th>mrt_planned_nearest_distance</th>\n      <th>mrt_planned_nearest</th>\n      <th>mrt_planned_count_within_1km</th>\n    </tr>\n  </thead>\n  <tbody>\n    <tr>\n      <th>0</th>\n      <td>hougang</td>\n      <td>5-room</td>\n      <td>improved</td>\n      <td>121.0</td>\n      <td>1984</td>\n      <td>1.358411</td>\n      <td>103.891722</td>\n      <td>lorong ah soo</td>\n      <td>hougang</td>\n      <td>north-east region</td>\n      <td>...</td>\n      <td>3242.46</td>\n      <td>820.0</td>\n      <td>Kovan</td>\n      <td>1</td>\n      <td>739.0</td>\n      <td>Heartland Mall</td>\n      <td>1</td>\n      <td>820.0</td>\n      <td>Kovan</td>\n      <td>1</td>\n    </tr>\n    <tr>\n      <th>1</th>\n      <td>sembawang</td>\n      <td>4-room</td>\n      <td>model a</td>\n      <td>100.0</td>\n      <td>1999</td>\n      <td>1.446343</td>\n      <td>103.820817</td>\n      <td>sembawang central</td>\n      <td>sembawang</td>\n      <td>north region</td>\n      <td>...</td>\n      <td>3115.08</td>\n      <td>308.0</td>\n      <td>Sembawang</td>\n      <td>1</td>\n      <td>255.0</td>\n      <td>Sun Plaza</td>\n      <td>2</td>\n      <td>308.0</td>\n      <td>Sembawang</td>\n      <td>1</td>\n    </tr>\n    <tr>\n      <th>2</th>\n      <td>clementi</td>\n      <td>4-room</td>\n      <td>new generation</td>\n      <td>91.0</td>\n      <td>1980</td>\n      <td>1.305719</td>\n      <td>103.762168</td>\n      <td>clementi west</td>\n      <td>clementi</td>\n      <td>west region</td>\n      <td>...</td>\n      <td>3139.47</td>\n      <td>1098.0</td>\n      <td>Commonwealth</td>\n      <td>0</td>\n      <td>498.0</td>\n      <td>West Coast Plaza</td>\n      <td>1</td>\n      <td>1098.0</td>\n      <td>Commonwealth</td>\n      <td>0</td>\n    </tr>\n    <tr>\n      <th>3</th>\n      <td>jurong east</td>\n      <td>3-room</td>\n      <td>model a</td>\n      <td>74.0</td>\n      <td>1986</td>\n      <td>1.344832</td>\n      <td>103.730778</td>\n      <td>yuhua west</td>\n      <td>jurong east</td>\n      <td>west region</td>\n      <td>...</td>\n      <td>3055.05</td>\n      <td>363.0</td>\n      <td>Chinese Garden</td>\n      <td>1</td>\n      <td>1596.0</td>\n      <td>Taman Jurong Shopping Centre</td>\n      <td>0</td>\n      <td>363.0</td>\n      <td>Chinese Garden</td>\n      <td>1</td>\n    </tr>\n    <tr>\n      <th>4</th>\n      <td>jurong east</td>\n      <td>5-room</td>\n      <td>improved</td>\n      <td>121.0</td>\n      <td>1983</td>\n      <td>1.345437</td>\n      <td>103.735241</td>\n      <td>yuhua west</td>\n      <td>jurong east</td>\n      <td>west region</td>\n      <td>...</td>\n      <td>3148.86</td>\n      <td>449.0</td>\n      <td>Chinese Garden</td>\n      <td>1</td>\n      <td>1461.0</td>\n      <td>JCube</td>\n      <td>0</td>\n      <td>449.0</td>\n      <td>Chinese Garden</td>\n      <td>1</td>\n    </tr>\n    <tr>\n      <th>5</th>\n      <td>clementi</td>\n      <td>3-room</td>\n      <td>new generation</td>\n      <td>67.0</td>\n      <td>1980</td>\n      <td>1.307637</td>\n      <td>103.761326</td>\n      <td>clementi west</td>\n      <td>clementi</td>\n      <td>west region</td>\n      <td>...</td>\n      <td>3134.25</td>\n      <td>936.0</td>\n      <td>Commonwealth</td>\n      <td>2</td>\n      <td>696.0</td>\n      <td>West Coast Plaza</td>\n      <td>3</td>\n      <td>936.0</td>\n      <td>Commonwealth</td>\n      <td>2</td>\n    </tr>\n    <tr>\n      <th>6</th>\n      <td>punggol</td>\n      <td>5-room</td>\n      <td>premium apartment</td>\n      <td>110.0</td>\n      <td>2005</td>\n      <td>1.397319</td>\n      <td>103.916019</td>\n      <td>waterway east</td>\n      <td>punggol</td>\n      <td>north-east region</td>\n      <td>...</td>\n      <td>3055.02</td>\n      <td>1741.0</td>\n      <td>Punggol</td>\n      <td>0</td>\n      <td>476.0</td>\n      <td>Punggol Plaza</td>\n      <td>2</td>\n      <td>1741.0</td>\n      <td>Punggol</td>\n      <td>0</td>\n    </tr>\n    <tr>\n      <th>7</th>\n      <td>tampines</td>\n      <td>5-room</td>\n      <td>dbss</td>\n      <td>108.0</td>\n      <td>2008</td>\n      <td>1.356968</td>\n      <td>103.938668</td>\n      <td>tampines east</td>\n      <td>tampines</td>\n      <td>east region</td>\n      <td>...</td>\n      <td>3221.67</td>\n      <td>523.0</td>\n      <td>Tampines</td>\n      <td>2</td>\n      <td>419.0</td>\n      <td>Our Tampines Hub</td>\n      <td>4</td>\n      <td>523.0</td>\n      <td>Tampines</td>\n      <td>2</td>\n    </tr>\n    <tr>\n      <th>8</th>\n      <td>jurong west</td>\n      <td>executive</td>\n      <td>premium apartment</td>\n      <td>133.0</td>\n      <td>2001</td>\n      <td>1.338605</td>\n      <td>103.700079</td>\n      <td>jurong west central</td>\n      <td>jurong west</td>\n      <td>west region</td>\n      <td>...</td>\n      <td>3072.97</td>\n      <td>316.0</td>\n      <td>Pioneer</td>\n      <td>2</td>\n      <td>464.0</td>\n      <td>Pioneer Mall</td>\n      <td>2</td>\n      <td>316.0</td>\n      <td>Pioneer</td>\n      <td>2</td>\n    </tr>\n    <tr>\n      <th>9</th>\n      <td>marine parade</td>\n      <td>5-room</td>\n      <td>standard</td>\n      <td>120.0</td>\n      <td>1975</td>\n      <td>1.303476</td>\n      <td>103.915412</td>\n      <td>marine parade</td>\n      <td>marine parade</td>\n      <td>central region</td>\n      <td>...</td>\n      <td>3139.47</td>\n      <td>1973.0</td>\n      <td>Kembangan</td>\n      <td>0</td>\n      <td>1061.0</td>\n      <td>Parkway Parade</td>\n      <td>0</td>\n      <td>362.0</td>\n      <td>Marine Terrace</td>\n      <td>1</td>\n    </tr>\n    <tr>\n      <th>10</th>\n      <td>woodlands</td>\n      <td>4-room</td>\n      <td>model a</td>\n      <td>102.0</td>\n      <td>1997</td>\n      <td>1.442394</td>\n      <td>103.802850</td>\n      <td>woodlands east</td>\n      <td>woodlands</td>\n      <td>north region</td>\n      <td>...</td>\n      <td>3089.49</td>\n      <td>297.0</td>\n      <td>Admiralty</td>\n      <td>1</td>\n      <td>263.0</td>\n      <td>Admiralty Place</td>\n      <td>2</td>\n      <td>297.0</td>\n      <td>Admiralty</td>\n      <td>1</td>\n    </tr>\n    <tr>\n      <th>11</th>\n      <td>toa payoh</td>\n      <td>3-room</td>\n      <td>improved</td>\n      <td>65.0</td>\n      <td>1968</td>\n      <td>1.339109</td>\n      <td>103.844687</td>\n      <td>toa payoh west</td>\n      <td>toa payoh</td>\n      <td>central region</td>\n      <td>...</td>\n      <td>3270.51</td>\n      <td>255.0</td>\n      <td>Braddell</td>\n      <td>4</td>\n      <td>976.0</td>\n      <td>HDB Hub</td>\n      <td>1</td>\n      <td>255.0</td>\n      <td>Braddell</td>\n      <td>4</td>\n    </tr>\n    <tr>\n      <th>12</th>\n      <td>jurong west</td>\n      <td>4-room</td>\n      <td>model a</td>\n      <td>93.0</td>\n      <td>2015</td>\n      <td>1.342789</td>\n      <td>103.714301</td>\n      <td>boon lay place</td>\n      <td>jurong west</td>\n      <td>west region</td>\n      <td>...</td>\n      <td>3092.80</td>\n      <td>757.0</td>\n      <td>Lakeside</td>\n      <td>1</td>\n      <td>447.0</td>\n      <td>Boon Lay Shopping Centre</td>\n      <td>2</td>\n      <td>757.0</td>\n      <td>Lakeside</td>\n      <td>1</td>\n    </tr>\n    <tr>\n      <th>13</th>\n      <td>sengkang</td>\n      <td>5-room</td>\n      <td>premium apartment</td>\n      <td>110.0</td>\n      <td>2003</td>\n      <td>1.392591</td>\n      <td>103.889372</td>\n      <td>anchorvale</td>\n      <td>sengkang</td>\n      <td>north-east region</td>\n      <td>...</td>\n      <td>3165.18</td>\n      <td>689.0</td>\n      <td>Sengkang</td>\n      <td>1</td>\n      <td>636.0</td>\n      <td>Compass One</td>\n      <td>1</td>\n      <td>689.0</td>\n      <td>Sengkang</td>\n      <td>1</td>\n    </tr>\n    <tr>\n      <th>14</th>\n      <td>bedok</td>\n      <td>4-room</td>\n      <td>new generation</td>\n      <td>92.0</td>\n      <td>1980</td>\n      <td>1.329800</td>\n      <td>103.933844</td>\n      <td>bedok north</td>\n      <td>bedok</td>\n      <td>east region</td>\n      <td>...</td>\n      <td>3089.49</td>\n      <td>773.0</td>\n      <td>Bedok</td>\n      <td>2</td>\n      <td>628.0</td>\n      <td>Djitsun Mall Bedok</td>\n      <td>2</td>\n      <td>773.0</td>\n      <td>Bedok</td>\n      <td>2</td>\n    </tr>\n    <tr>\n      <th>15</th>\n      <td>choa chu kang</td>\n      <td>4-room</td>\n      <td>premium apartment</td>\n      <td>113.0</td>\n      <td>1998</td>\n      <td>1.396609</td>\n      <td>103.749729</td>\n      <td>yew tee</td>\n      <td>choa chu kang</td>\n      <td>west region</td>\n      <td>...</td>\n      <td>3092.80</td>\n      <td>274.0</td>\n      <td>Yew Tee</td>\n      <td>1</td>\n      <td>335.0</td>\n      <td>Yew Tee Square</td>\n      <td>3</td>\n      <td>274.0</td>\n      <td>Yew Tee</td>\n      <td>1</td>\n    </tr>\n    <tr>\n      <th>16</th>\n      <td>tampines</td>\n      <td>3-room</td>\n      <td>model a</td>\n      <td>74.0</td>\n      <td>1984</td>\n      <td>1.355004</td>\n      <td>103.947121</td>\n      <td>tampines east</td>\n      <td>tampines</td>\n      <td>east region</td>\n      <td>...</td>\n      <td>3055.02</td>\n      <td>457.0</td>\n      <td>Tampines</td>\n      <td>3</td>\n      <td>373.0</td>\n      <td>Tampines Mall</td>\n      <td>4</td>\n      <td>457.0</td>\n      <td>Tampines</td>\n      <td>3</td>\n    </tr>\n    <tr>\n      <th>17</th>\n      <td>marine parade</td>\n      <td>5-room</td>\n      <td>standard</td>\n      <td>126.0</td>\n      <td>1977</td>\n      <td>1.304528</td>\n      <td>103.908944</td>\n      <td>marine parade</td>\n      <td>marine parade</td>\n      <td>central region</td>\n      <td>...</td>\n      <td>2880.64</td>\n      <td>1812.0</td>\n      <td>Eunos</td>\n      <td>0</td>\n      <td>440.0</td>\n      <td>Parkway Parade</td>\n      <td>5</td>\n      <td>490.0</td>\n      <td>Marine Parade</td>\n      <td>2</td>\n    </tr>\n    <tr>\n      <th>18</th>\n      <td>geylang</td>\n      <td>4-room</td>\n      <td>new generation</td>\n      <td>91.0</td>\n      <td>1978</td>\n      <td>1.322287</td>\n      <td>103.902721</td>\n      <td>geylang east</td>\n      <td>geylang</td>\n      <td>central region</td>\n      <td>...</td>\n      <td>3051.11</td>\n      <td>284.0</td>\n      <td>Eunos</td>\n      <td>2</td>\n      <td>944.0</td>\n      <td>Singpost Centre</td>\n      <td>1</td>\n      <td>284.0</td>\n      <td>Eunos</td>\n      <td>2</td>\n    </tr>\n    <tr>\n      <th>19</th>\n      <td>punggol</td>\n      <td>4-room</td>\n      <td>premium apartment</td>\n      <td>90.0</td>\n      <td>2007</td>\n      <td>1.401368</td>\n      <td>103.907096</td>\n      <td>punggol field</td>\n      <td>punggol</td>\n      <td>north-east region</td>\n      <td>...</td>\n      <td>2969.95</td>\n      <td>655.0</td>\n      <td>Punggol</td>\n      <td>1</td>\n      <td>726.0</td>\n      <td>Oasis Terraces</td>\n      <td>2</td>\n      <td>655.0</td>\n      <td>Punggol</td>\n      <td>1</td>\n    </tr>\n  </tbody>\n</table>\n<p>20 rows × 25 columns</p>\n</div>"
     },
     "execution_count": 25,
     "metadata": {},
     "output_type": "execute_result"
    }
   ],
   "source": [
    "# Load datasets\n",
    "planned_mrt_file = pd.read_csv(\"./Datasets/auxiliary-data/sg-mrt-planned-stations.csv\")\n",
    "\n",
    "# Filter planned MRT stations that will open within the next year\n",
    "upcoming_mrts = planned_mrt_file[planned_mrt_file['opening_year'] == \"2024\"]\n",
    "\n",
    "# Combine the existing MRT data with the upcoming MRT data\n",
    "combined_mrt_file = pd.concat([mrt_file, upcoming_mrts], ignore_index=True)\n",
    "\n",
    "add_distance_features(data, combined_mrt_file, 'mrt_planned')\n",
    "data.head(20)"
   ],
   "metadata": {
    "collapsed": false,
    "ExecuteTime": {
     "end_time": "2023-11-01T14:32:29.051964300Z",
     "start_time": "2023-11-01T14:32:28.593999400Z"
    }
   },
   "id": "40b14ecfc027d229"
  },
  {
   "cell_type": "code",
   "execution_count": 26,
   "outputs": [
    {
     "data": {
      "text/plain": "(30000, 30000)"
     },
     "execution_count": 26,
     "metadata": {},
     "output_type": "execute_result"
    }
   ],
   "source": [
    "# Get the number of rows for each dataset\n",
    "num_rows_train = data.shape[0]\n",
    "num_rows_index = data.shape[0]\n",
    "\n",
    "num_rows_train, num_rows_index"
   ],
   "metadata": {
    "collapsed": false,
    "ExecuteTime": {
     "end_time": "2023-11-01T14:32:32.310059300Z",
     "start_time": "2023-11-01T14:32:32.299680700Z"
    }
   },
   "id": "4926d1881dbd5646"
  },
  {
   "cell_type": "code",
   "execution_count": 27,
   "outputs": [
    {
     "data": {
      "text/plain": "  flat_type  flat_type_ordinal\n0    5-room                  4\n1    4-room                  3\n2    4-room                  3\n3    3-room                  2\n4    5-room                  4",
      "text/html": "<div>\n<style scoped>\n    .dataframe tbody tr th:only-of-type {\n        vertical-align: middle;\n    }\n\n    .dataframe tbody tr th {\n        vertical-align: top;\n    }\n\n    .dataframe thead th {\n        text-align: right;\n    }\n</style>\n<table border=\"1\" class=\"dataframe\">\n  <thead>\n    <tr style=\"text-align: right;\">\n      <th></th>\n      <th>flat_type</th>\n      <th>flat_type_ordinal</th>\n    </tr>\n  </thead>\n  <tbody>\n    <tr>\n      <th>0</th>\n      <td>5-room</td>\n      <td>4</td>\n    </tr>\n    <tr>\n      <th>1</th>\n      <td>4-room</td>\n      <td>3</td>\n    </tr>\n    <tr>\n      <th>2</th>\n      <td>4-room</td>\n      <td>3</td>\n    </tr>\n    <tr>\n      <th>3</th>\n      <td>3-room</td>\n      <td>2</td>\n    </tr>\n    <tr>\n      <th>4</th>\n      <td>5-room</td>\n      <td>4</td>\n    </tr>\n  </tbody>\n</table>\n</div>"
     },
     "execution_count": 27,
     "metadata": {},
     "output_type": "execute_result"
    }
   ],
   "source": [
    "updated_ordinal_mapping = {\n",
    "    '2-room': 1,\n",
    "    '3-room': 2,\n",
    "    '4-room': 3,\n",
    "    '5-room': 4,\n",
    "    'executive': 5\n",
    "}\n",
    "\n",
    "# Re-encode the flat_type column using the updated ordinal mapping\n",
    "data['flat_type_ordinal'] = data['flat_type'].map(updated_ordinal_mapping)\n",
    "\n",
    "# Display the original and updated ordinal encoded 'flat_type' columns for comparison\n",
    "data[['flat_type', 'flat_type_ordinal']].head()"
   ],
   "metadata": {
    "collapsed": false,
    "ExecuteTime": {
     "end_time": "2023-11-01T14:32:36.001678600Z",
     "start_time": "2023-11-01T14:32:35.974796200Z"
    }
   },
   "id": "8ba90121c9beb2f6"
  },
  {
   "cell_type": "code",
   "execution_count": 28,
   "outputs": [
    {
     "data": {
      "text/plain": "          town      flat_model  floor_area_sqm  lease_commence_date  latitude  \\\n0      hougang        improved           121.0                 1984  1.358411   \n1    sembawang         model a           100.0                 1999  1.446343   \n2     clementi  new generation            91.0                 1980  1.305719   \n3  jurong east         model a            74.0                 1986  1.344832   \n4  jurong east        improved           121.0                 1983  1.345437   \n\n    longitude            subzone planning_area             region  \\\n0  103.891722      lorong ah soo       hougang  north-east region   \n1  103.820817  sembawang central     sembawang       north region   \n2  103.762168      clementi west      clementi        west region   \n3  103.730778         yuhua west   jurong east        west region   \n4  103.735241         yuhua west   jurong east        west region   \n\n   rent_approval_year  ...  mrt_nearest_distance     mrt_nearest  \\\n0                2023  ...                 820.0           Kovan   \n1                2022  ...                 308.0       Sembawang   \n2                2023  ...                1098.0    Commonwealth   \n3                2021  ...                 363.0  Chinese Garden   \n4                2022  ...                 449.0  Chinese Garden   \n\n   mrt_count_within_1km  mall_nearest_distance                  mall_nearest  \\\n0                     1                  739.0                Heartland Mall   \n1                     1                  255.0                     Sun Plaza   \n2                     0                  498.0              West Coast Plaza   \n3                     1                 1596.0  Taman Jurong Shopping Centre   \n4                     1                 1461.0                         JCube   \n\n   mall_count_within_1km mrt_planned_nearest_distance  mrt_planned_nearest  \\\n0                      1                        820.0                Kovan   \n1                      2                        308.0            Sembawang   \n2                      1                       1098.0         Commonwealth   \n3                      0                        363.0       Chinese Garden   \n4                      0                        449.0       Chinese Garden   \n\n   mrt_planned_count_within_1km flat_type_ordinal  \n0                             1                 4  \n1                             1                 3  \n2                             0                 3  \n3                             1                 2  \n4                             1                 4  \n\n[5 rows x 25 columns]",
      "text/html": "<div>\n<style scoped>\n    .dataframe tbody tr th:only-of-type {\n        vertical-align: middle;\n    }\n\n    .dataframe tbody tr th {\n        vertical-align: top;\n    }\n\n    .dataframe thead th {\n        text-align: right;\n    }\n</style>\n<table border=\"1\" class=\"dataframe\">\n  <thead>\n    <tr style=\"text-align: right;\">\n      <th></th>\n      <th>town</th>\n      <th>flat_model</th>\n      <th>floor_area_sqm</th>\n      <th>lease_commence_date</th>\n      <th>latitude</th>\n      <th>longitude</th>\n      <th>subzone</th>\n      <th>planning_area</th>\n      <th>region</th>\n      <th>rent_approval_year</th>\n      <th>...</th>\n      <th>mrt_nearest_distance</th>\n      <th>mrt_nearest</th>\n      <th>mrt_count_within_1km</th>\n      <th>mall_nearest_distance</th>\n      <th>mall_nearest</th>\n      <th>mall_count_within_1km</th>\n      <th>mrt_planned_nearest_distance</th>\n      <th>mrt_planned_nearest</th>\n      <th>mrt_planned_count_within_1km</th>\n      <th>flat_type_ordinal</th>\n    </tr>\n  </thead>\n  <tbody>\n    <tr>\n      <th>0</th>\n      <td>hougang</td>\n      <td>improved</td>\n      <td>121.0</td>\n      <td>1984</td>\n      <td>1.358411</td>\n      <td>103.891722</td>\n      <td>lorong ah soo</td>\n      <td>hougang</td>\n      <td>north-east region</td>\n      <td>2023</td>\n      <td>...</td>\n      <td>820.0</td>\n      <td>Kovan</td>\n      <td>1</td>\n      <td>739.0</td>\n      <td>Heartland Mall</td>\n      <td>1</td>\n      <td>820.0</td>\n      <td>Kovan</td>\n      <td>1</td>\n      <td>4</td>\n    </tr>\n    <tr>\n      <th>1</th>\n      <td>sembawang</td>\n      <td>model a</td>\n      <td>100.0</td>\n      <td>1999</td>\n      <td>1.446343</td>\n      <td>103.820817</td>\n      <td>sembawang central</td>\n      <td>sembawang</td>\n      <td>north region</td>\n      <td>2022</td>\n      <td>...</td>\n      <td>308.0</td>\n      <td>Sembawang</td>\n      <td>1</td>\n      <td>255.0</td>\n      <td>Sun Plaza</td>\n      <td>2</td>\n      <td>308.0</td>\n      <td>Sembawang</td>\n      <td>1</td>\n      <td>3</td>\n    </tr>\n    <tr>\n      <th>2</th>\n      <td>clementi</td>\n      <td>new generation</td>\n      <td>91.0</td>\n      <td>1980</td>\n      <td>1.305719</td>\n      <td>103.762168</td>\n      <td>clementi west</td>\n      <td>clementi</td>\n      <td>west region</td>\n      <td>2023</td>\n      <td>...</td>\n      <td>1098.0</td>\n      <td>Commonwealth</td>\n      <td>0</td>\n      <td>498.0</td>\n      <td>West Coast Plaza</td>\n      <td>1</td>\n      <td>1098.0</td>\n      <td>Commonwealth</td>\n      <td>0</td>\n      <td>3</td>\n    </tr>\n    <tr>\n      <th>3</th>\n      <td>jurong east</td>\n      <td>model a</td>\n      <td>74.0</td>\n      <td>1986</td>\n      <td>1.344832</td>\n      <td>103.730778</td>\n      <td>yuhua west</td>\n      <td>jurong east</td>\n      <td>west region</td>\n      <td>2021</td>\n      <td>...</td>\n      <td>363.0</td>\n      <td>Chinese Garden</td>\n      <td>1</td>\n      <td>1596.0</td>\n      <td>Taman Jurong Shopping Centre</td>\n      <td>0</td>\n      <td>363.0</td>\n      <td>Chinese Garden</td>\n      <td>1</td>\n      <td>2</td>\n    </tr>\n    <tr>\n      <th>4</th>\n      <td>jurong east</td>\n      <td>improved</td>\n      <td>121.0</td>\n      <td>1983</td>\n      <td>1.345437</td>\n      <td>103.735241</td>\n      <td>yuhua west</td>\n      <td>jurong east</td>\n      <td>west region</td>\n      <td>2022</td>\n      <td>...</td>\n      <td>449.0</td>\n      <td>Chinese Garden</td>\n      <td>1</td>\n      <td>1461.0</td>\n      <td>JCube</td>\n      <td>0</td>\n      <td>449.0</td>\n      <td>Chinese Garden</td>\n      <td>1</td>\n      <td>4</td>\n    </tr>\n  </tbody>\n</table>\n<p>5 rows × 25 columns</p>\n</div>"
     },
     "execution_count": 28,
     "metadata": {},
     "output_type": "execute_result"
    }
   ],
   "source": [
    "# Drop the 'flat_type' column\n",
    "data = data.drop(columns=['flat_type'])\n",
    "\n",
    "# Display the first few rows of the dataset to confirm\n",
    "data.head()"
   ],
   "metadata": {
    "collapsed": false,
    "ExecuteTime": {
     "end_time": "2023-11-01T14:32:39.540632400Z",
     "start_time": "2023-11-01T14:32:39.517346900Z"
    }
   },
   "id": "437bfa6bb3ad42dc"
  },
  {
   "cell_type": "code",
   "execution_count": 29,
   "outputs": [],
   "source": [
    "# Compute centroid of all properties(marina bay centroid)\n",
    "marina_centroid_lat = 1.287515\n",
    "marina_centroid_lon = 103.866641\n",
    "\n",
    "# Convert the latitudes and longitudes to numpy arrays\n",
    "df_lats = data['latitude'].values\n",
    "df_longs = data['longitude'].values\n",
    "dst_lats = np.array([marina_centroid_lat])\n",
    "dst_longs = np.array([marina_centroid_lon])\n",
    "\n",
    "# Calculate distance of each property to marina bay\n",
    "distances = haversine_distances(df_lats, df_longs, dst_lats, dst_longs)\n",
    "data['distance_to_centroid_marina_bay'] = distances[:, 0] / 1000\n",
    "\n",
    "# Lease Duration\n",
    "current_year = 2023\n",
    "data['lease_duration'] = current_year - data['lease_commence_date']\n",
    "\n",
    "# # 2. Categorical Features\n",
    "# \n",
    "# # 2.1 High Cardinality\n",
    "# # Drop the 'subzone' column\n",
    "# data = data.drop(columns=['subzone'])\n",
    "# \n",
    "# # 2.2 Drop Redundant Columns\n",
    "# # Drop 'mrt_nearest' and other high cardinality columns\n",
    "# data = data.drop(columns=['mrt_nearest', 'mall_nearest', 'mrt_plus_nearest'])"
   ],
   "metadata": {
    "collapsed": false,
    "ExecuteTime": {
     "end_time": "2023-11-01T14:32:46.375790300Z",
     "start_time": "2023-11-01T14:32:46.368298Z"
    }
   },
   "id": "13e82090cd79e434"
  },
  {
   "cell_type": "code",
   "execution_count": 30,
   "outputs": [
    {
     "data": {
      "text/plain": "          town      flat_model  floor_area_sqm  lease_commence_date  latitude  \\\n0      hougang        improved           121.0                 1984  1.358411   \n1    sembawang         model a           100.0                 1999  1.446343   \n2     clementi  new generation            91.0                 1980  1.305719   \n3  jurong east         model a            74.0                 1986  1.344832   \n4  jurong east        improved           121.0                 1983  1.345437   \n\n    longitude            subzone planning_area             region  \\\n0  103.891722      lorong ah soo       hougang  north-east region   \n1  103.820817  sembawang central     sembawang       north region   \n2  103.762168      clementi west      clementi        west region   \n3  103.730778         yuhua west   jurong east        west region   \n4  103.735241         yuhua west   jurong east        west region   \n\n   rent_approval_year  ...  mall_nearest_distance  \\\n0                2023  ...                  739.0   \n1                2022  ...                  255.0   \n2                2023  ...                  498.0   \n3                2021  ...                 1596.0   \n4                2022  ...                 1461.0   \n\n                   mall_nearest  mall_count_within_1km  \\\n0                Heartland Mall                      1   \n1                     Sun Plaza                      2   \n2              West Coast Plaza                      1   \n3  Taman Jurong Shopping Centre                      0   \n4                         JCube                      0   \n\n   mrt_planned_nearest_distance  mrt_planned_nearest  \\\n0                         820.0                Kovan   \n1                         308.0            Sembawang   \n2                        1098.0         Commonwealth   \n3                         363.0       Chinese Garden   \n4                         449.0       Chinese Garden   \n\n   mrt_planned_count_within_1km flat_type_ordinal  \\\n0                             1                 4   \n1                             1                 3   \n2                             0                 3   \n3                             1                 2   \n4                             1                 4   \n\n   distance_to_centroid_marina_bay  lease_duration school_score  \n0                         8.361822              39        376.7  \n1                        18.380806              24        312.0  \n2                        11.788992              43        255.4  \n3                        16.392948              37        284.8  \n4                        15.964070              40        287.8  \n\n[5 rows x 28 columns]",
      "text/html": "<div>\n<style scoped>\n    .dataframe tbody tr th:only-of-type {\n        vertical-align: middle;\n    }\n\n    .dataframe tbody tr th {\n        vertical-align: top;\n    }\n\n    .dataframe thead th {\n        text-align: right;\n    }\n</style>\n<table border=\"1\" class=\"dataframe\">\n  <thead>\n    <tr style=\"text-align: right;\">\n      <th></th>\n      <th>town</th>\n      <th>flat_model</th>\n      <th>floor_area_sqm</th>\n      <th>lease_commence_date</th>\n      <th>latitude</th>\n      <th>longitude</th>\n      <th>subzone</th>\n      <th>planning_area</th>\n      <th>region</th>\n      <th>rent_approval_year</th>\n      <th>...</th>\n      <th>mall_nearest_distance</th>\n      <th>mall_nearest</th>\n      <th>mall_count_within_1km</th>\n      <th>mrt_planned_nearest_distance</th>\n      <th>mrt_planned_nearest</th>\n      <th>mrt_planned_count_within_1km</th>\n      <th>flat_type_ordinal</th>\n      <th>distance_to_centroid_marina_bay</th>\n      <th>lease_duration</th>\n      <th>school_score</th>\n    </tr>\n  </thead>\n  <tbody>\n    <tr>\n      <th>0</th>\n      <td>hougang</td>\n      <td>improved</td>\n      <td>121.0</td>\n      <td>1984</td>\n      <td>1.358411</td>\n      <td>103.891722</td>\n      <td>lorong ah soo</td>\n      <td>hougang</td>\n      <td>north-east region</td>\n      <td>2023</td>\n      <td>...</td>\n      <td>739.0</td>\n      <td>Heartland Mall</td>\n      <td>1</td>\n      <td>820.0</td>\n      <td>Kovan</td>\n      <td>1</td>\n      <td>4</td>\n      <td>8.361822</td>\n      <td>39</td>\n      <td>376.7</td>\n    </tr>\n    <tr>\n      <th>1</th>\n      <td>sembawang</td>\n      <td>model a</td>\n      <td>100.0</td>\n      <td>1999</td>\n      <td>1.446343</td>\n      <td>103.820817</td>\n      <td>sembawang central</td>\n      <td>sembawang</td>\n      <td>north region</td>\n      <td>2022</td>\n      <td>...</td>\n      <td>255.0</td>\n      <td>Sun Plaza</td>\n      <td>2</td>\n      <td>308.0</td>\n      <td>Sembawang</td>\n      <td>1</td>\n      <td>3</td>\n      <td>18.380806</td>\n      <td>24</td>\n      <td>312.0</td>\n    </tr>\n    <tr>\n      <th>2</th>\n      <td>clementi</td>\n      <td>new generation</td>\n      <td>91.0</td>\n      <td>1980</td>\n      <td>1.305719</td>\n      <td>103.762168</td>\n      <td>clementi west</td>\n      <td>clementi</td>\n      <td>west region</td>\n      <td>2023</td>\n      <td>...</td>\n      <td>498.0</td>\n      <td>West Coast Plaza</td>\n      <td>1</td>\n      <td>1098.0</td>\n      <td>Commonwealth</td>\n      <td>0</td>\n      <td>3</td>\n      <td>11.788992</td>\n      <td>43</td>\n      <td>255.4</td>\n    </tr>\n    <tr>\n      <th>3</th>\n      <td>jurong east</td>\n      <td>model a</td>\n      <td>74.0</td>\n      <td>1986</td>\n      <td>1.344832</td>\n      <td>103.730778</td>\n      <td>yuhua west</td>\n      <td>jurong east</td>\n      <td>west region</td>\n      <td>2021</td>\n      <td>...</td>\n      <td>1596.0</td>\n      <td>Taman Jurong Shopping Centre</td>\n      <td>0</td>\n      <td>363.0</td>\n      <td>Chinese Garden</td>\n      <td>1</td>\n      <td>2</td>\n      <td>16.392948</td>\n      <td>37</td>\n      <td>284.8</td>\n    </tr>\n    <tr>\n      <th>4</th>\n      <td>jurong east</td>\n      <td>improved</td>\n      <td>121.0</td>\n      <td>1983</td>\n      <td>1.345437</td>\n      <td>103.735241</td>\n      <td>yuhua west</td>\n      <td>jurong east</td>\n      <td>west region</td>\n      <td>2022</td>\n      <td>...</td>\n      <td>1461.0</td>\n      <td>JCube</td>\n      <td>0</td>\n      <td>449.0</td>\n      <td>Chinese Garden</td>\n      <td>1</td>\n      <td>4</td>\n      <td>15.964070</td>\n      <td>40</td>\n      <td>287.8</td>\n    </tr>\n  </tbody>\n</table>\n<p>5 rows × 28 columns</p>\n</div>"
     },
     "execution_count": 30,
     "metadata": {},
     "output_type": "execute_result"
    }
   ],
   "source": [
    "train_with_schoolscore = pd.read_csv(\"./Datasets/auxiliary-data/test_with_schoolscore.csv\")\n",
    "\n",
    "# Merge based on latitude and longitude\n",
    "are_latitudes_equal = (data['latitude'].values == train_with_schoolscore['latitude'].values).all()\n",
    "are_longitudes_equal = (data['longitude'].values == train_with_schoolscore['longitude'].values).all()\n",
    "\n",
    "if are_latitudes_equal == are_longitudes_equal == False:\n",
    "    raise Exception('The latitude and longitude values are not equal between the two datasets')\n",
    "data['school_score'] = train_with_schoolscore['school_score']\n",
    "\n",
    "# Display the first few rows of the updated train dataset\n",
    "data.head()"
   ],
   "metadata": {
    "collapsed": false,
    "ExecuteTime": {
     "end_time": "2023-11-01T14:35:48.829762200Z",
     "start_time": "2023-11-01T14:35:48.719235500Z"
    }
   },
   "id": "f178b449945401cf"
  },
  {
   "cell_type": "code",
   "execution_count": 31,
   "outputs": [],
   "source": [
    "# Save the cleaned and analyzed dataset to a new CSV file\n",
    "output_filepath = \"./Datasets/cleaned_test.csv\"\n",
    "data.to_csv(output_filepath, index=False)"
   ],
   "metadata": {
    "collapsed": false,
    "ExecuteTime": {
     "end_time": "2023-11-01T14:35:59.752009100Z",
     "start_time": "2023-11-01T14:35:58.779067900Z"
    }
   },
   "id": "328f55f39949587"
  },
  {
   "cell_type": "markdown",
   "source": [],
   "metadata": {
    "collapsed": false
   },
   "id": "46aecfbffb38d339"
  }
 ],
 "metadata": {
  "kernelspec": {
   "display_name": "Python 3",
   "language": "python",
   "name": "python3"
  },
  "language_info": {
   "codemirror_mode": {
    "name": "ipython",
    "version": 2
   },
   "file_extension": ".py",
   "mimetype": "text/x-python",
   "name": "python",
   "nbconvert_exporter": "python",
   "pygments_lexer": "ipython2",
   "version": "2.7.6"
  }
 },
 "nbformat": 4,
 "nbformat_minor": 5
}
